{
 "cells": [
  {
   "cell_type": "markdown",
   "id": "dc9e2649",
   "metadata": {},
   "source": [
    "# Clustering and K-Means"
   ]
  },
  {
   "cell_type": "markdown",
   "id": "883756d3-5347-4927-9efa-4e193cb26cc8",
   "metadata": {},
   "source": [
    "```python\n",
    "from sklearn.cluster import KMeans\n",
    "```\n",
    "\n",
    "Clustering adalah teknik pengelompokan data tanpa label (**unsupervised learning**) di mana objek dalam kelompok (cluster) memiliki kesamaan sifat yang tinggi, sementara objek antar-cluster memiliki perbedaan yang signifikan, Tujuannya:\n",
    "- Memahami struktur data.\n",
    "- Mengidentifikasi pola tersembunyi.\n",
    "- Segmentasi (pelanggan, dokumen, gambar).\n",
    "\n",
    "**Jenis Clustering**:\n",
    "- **Centroid-based**: K-Means, K-Medoids.\n",
    "- **Density-based**: DBSCAN.\n",
    "- **Hierarchical**: Agglomerative Clustering.\n",
    "- **Distribution-based**: Gaussian Mixture Models (GMM)."
   ]
  },
  {
   "cell_type": "markdown",
   "id": "57f015ce",
   "metadata": {},
   "source": [
    "## K-Means Clustering"
   ]
  },
  {
   "cell_type": "markdown",
   "id": "074f243e",
   "metadata": {},
   "source": [
    "```python\n",
    "from sklearn.cluster import KMeans\n",
    "```\n",
    "\n",
    "- Setiap cluster direpresentasikan oleh **centroid** (titik pusat).\n",
    "- Algoritma berusaha meminimalkan **inertia** (jumlah kuadrat jarak tiap titik ke centroid).\n",
    "\n",
    "1. **Pilih Jumlah Cluster (K)**: Misal, K=3.\n",
    "2. **Inisialisasi Centroid**: Pilih K titik acak sebagai centroid awal.\n",
    "3. **Assignment Phase**:\n",
    "   - Setiap titik data dihitung jaraknya ke semua centroid.\n",
    "   - Titik dialokasikan ke cluster dengan centroid **terdekat** (biasanya *jarak Euclidean*).\n",
    "   - **Rumus Jarak Euclidean**:\n",
    "     $$\n",
    "     d(x, \\mu_k) = \\sqrt{\\sum_{i=1}^n (x_i - \\mu_{ki})^2}\n",
    "     $$\n",
    "4. **Update Phase**:\n",
    "   - Hitung ulang centroid sebagai rata-rata semua titik dalam cluster:\n",
    "     $$\n",
    "     \\mu_k^{(new)} = \\frac{1}{|C_k|} \\sum_{x \\in C_k} x\n",
    "     $$\n",
    "5. **Iterasi**: Ulangi langkah 2 sampai n-1 atau:\n",
    "   - Centroid tidak berubah.\n",
    "   - Maksimum iterasi tercapai."
   ]
  },
  {
   "cell_type": "markdown",
   "id": "e8877f90",
   "metadata": {},
   "source": [
    "### Inertia (Cluster Quality)"
   ]
  },
  {
   "cell_type": "markdown",
   "id": "58c87b2d",
   "metadata": {},
   "source": [
    "Inertia adalah total **jumlah kuadrat jarak** setiap titik data ke centroid clusternya. Semakin kecil inertia, semakin \"padat\" cluster.\n",
    "\n",
    "**Rumus**:\n",
    "\n",
    "$$\n",
    "\\text{Inertia} = \\sum_{i=1}^n \\min_{\\mu_k} ||x_i - \\mu_k||^2\n",
    "$$\n",
    "\n",
    "**Interpretasi**:\n",
    "- Inertia rendah → Cluster rapat (titik dekat dengan centroid).\n",
    "- Inertia tinggi → Cluster renggang.\n",
    "\n",
    "**Paradoks Inertia**:\n",
    "- Jika K = jumlah data → Inertia = 0 (semua titik adalah centroid).\n",
    "- **Masalah**: Bagaimana memilih K yang optimal?"
   ]
  },
  {
   "cell_type": "markdown",
   "id": "98a87377",
   "metadata": {},
   "source": [
    "### Elbow Method"
   ]
  },
  {
   "cell_type": "markdown",
   "id": "670292a8",
   "metadata": {},
   "source": [
    "1. Hitung inertia untuk berbagai nilai K (misal: K = 1 hingga K = n-1).\n",
    "2. Plot **Inertia vs. K**.\n",
    "3. Cari \"siku\" (*elbow*) di mana penurunan inertia melambat drastis.\n",
    "\n",
    "Jika Grafik menurun tajam saat K=1→3, lalu landai saat K>3 → Pilih K=3.\n",
    "\n",
    "**Keterbatasan**:\n",
    "- Tidak selalu jelas di mana \"siku\" berada.\n",
    "- Subjektif → Butuh metode pelengkap seperti **Silhouette Analysis**."
   ]
  },
  {
   "cell_type": "markdown",
   "id": "e1ef72d6",
   "metadata": {},
   "source": [
    "### Silhouette Analysis"
   ]
  },
  {
   "cell_type": "markdown",
   "id": "3d6e0daf",
   "metadata": {},
   "source": [
    "**A. Konsep Cohesion & Separation**\n",
    "- **Cohesion (a(i))**: Rata-rata jarak titik ke sesama anggota cluster.\n",
    "  - *Semakin kecil a(i)* → Cluster semakin padat.\n",
    "- **Separation (b(i))**: Rata-rata jarak titik ke cluster terdekat.\n",
    "  - *Semakin besar b(i)* → Cluster terpisah dengan baik.\n",
    "\n",
    "**B. Rumus Silhouette Score**\n",
    "Untuk satu titik data $ x_i $:\n",
    "\n",
    "$$\n",
    "s(i) = \\frac{b(i) - a(i)}{\\max\\{a(i), b(i)\\}}\n",
    "$$\n",
    "\n",
    "- **Rentang**: $-1 \\leq s(i) \\leq 1$.\n",
    "- **Interpretasi**:\n",
    "  - $ s(i) \\approx 1 $: Titik cocok dengan clusternya.\n",
    "  - $ s(i) \\approx 0 $: Titik berada di perbatasan dua cluster.\n",
    "  - $ s(i) \\approx -1 $: Titik salah cluster.\n",
    "\n",
    "**Silhouette Score Global**:\n",
    "Rata-rata $ s(i) $ untuk semua titik.\n",
    "\n",
    "**C. Analisis Silhouette Plot**\n",
    "- **Bilah Horizontal**: Menunjukkan distribusi $ s(i) $ tiap cluster.\n",
    "- **Lebar Bilah**: Semakin lebar → Cluster lebih homogen.\n",
    "- **Tinggi Rata-Rata**: Semakin tinggi → Kualitas cluster lebih baik."
   ]
  },
  {
   "cell_type": "markdown",
   "id": "aad65a45",
   "metadata": {},
   "source": [
    "### Table Evaluation"
   ]
  },
  {
   "cell_type": "markdown",
   "id": "d50894c7",
   "metadata": {},
   "source": [
    "| Keyword | Definisi | Purpose | Rumus |\n",
    "|---------|----------|---------|-------|\n",
    "| **Clustering**| Teknik `unsupervised learning` untuk mengelompokkan data berdasarkan kesamaan. | Memahami struktur data, segmentasi, identifikasi pola.| Tidak ada rumus tunggal; bergantung pada algoritma (K-Means, DBSCAN, Hierarchical).|\n",
    "| **K-Means** | Algoritma clustering berbasis centroid dengan meminimalkan inertia.| Membagi data ke dalam K cluster yang homogen. | $\\mu_k^{(new)} = \\frac{1}{\\|C_k\\|} \\sum_{x \\in C_k} x$ |\n",
    "| **Centroid** | Titik pusat cluster (rata-rata semua titik dalam cluster). | Menjadi representasi pusat cluster untuk perhitungan jarak. | $\\mu_k = \\text{rata-rata titik dalam cluster}$ |\n",
    "| **Inertia** | Total jumlah kuadrat jarak titik ke centroid clusternya.| Mengukur kepadatan cluster (semakin kecil, semakin baik). | $\\text{Inertia} = \\sum_{i=1}^n \\min_{\\mu_k} \\|x_i - \\mu_k\\|^2$  |\n",
    "| **Silhouette**| Skor yang mengukur seberapa baik titik cocok dengan clusternya. | Menilai kualitas cluster dengan mempertimbangkan cohesion dan separation. | $s(i) = \\frac{b(i) - a(i)}{\\max\\{a(i), b(i)\\}}$ |\n",
    "\n",
    "**1. Clustering vs. K-Means**:\n",
    "* Clustering adalah konsep umum.\n",
    "  - Kelebihan:\n",
    "    - Tidak perlu label.\n",
    "    - Cocok untuk eksplorasi data.\n",
    "  - Kekurangan:\n",
    "    - Subjektif dalam pemilihan jumlah cluster.\n",
    "    - Sensitif terhadap noise.\n",
    "* K-Means adalah salah satu algoritmanya.\n",
    "  - Kelebihan:\n",
    "    - Cepat dan efisien.\n",
    "    - Mudah diimplementasikan.\n",
    "  - Kekurangan\n",
    "    - Harus tentukan K manual.\n",
    "    - Sensitif terhadap inisialisasi centroid awal.\n",
    "\n",
    "**2. Inertia vs. Silhouette**:\n",
    "* Inertia fokus pada kepadatan cluster.\n",
    "  - Kelebihan:\n",
    "    -  Metrik kualitas cluster yang sederhana.\n",
    "  - Kekurangan:\n",
    "    -  Tidak bekerja baik untuk cluster non-spherical.\n",
    "    -  Paradoks K = jumlah data.\n",
    "* Silhouette mempertimbangkan pemisahan antar-cluster.\n",
    "  - Kelebihan:\n",
    "    - Objektif (rentang -1 hingga 1).\n",
    "    - Mempertimbangkan struktur cluster.\n",
    "  - Kekurangan\n",
    "    - Komputasi lebih intensif.\n",
    "    - Tidak efektif untuk cluster density-based.\n",
    "\n",
    "**3. Centroid vs. Medoid**:\n",
    "* Centroid adalah titik rata-rata.\n",
    "* medoid adalah titik aktual dalam data."
   ]
  },
  {
   "cell_type": "markdown",
   "id": "eae5a921",
   "metadata": {},
   "source": [
    "## Raw vs Clean Iris"
   ]
  },
  {
   "cell_type": "code",
   "execution_count": 337,
   "id": "9e30c49e",
   "metadata": {},
   "outputs": [],
   "source": [
    "import pandas as pd\n",
    "import matplotlib.pyplot as plt\n",
    "from sklearn.cluster import KMeans\n",
    "from sqlalchemy import create_engine\n",
    "from sklearn.metrics import silhouette_score\n",
    "from sklearn.preprocessing import StandardScaler"
   ]
  },
  {
   "cell_type": "code",
   "execution_count": 338,
   "id": "3e5dee09",
   "metadata": {},
   "outputs": [
    {
     "data": {
      "text/html": [
       "<div>\n",
       "<style scoped>\n",
       "    .dataframe tbody tr th:only-of-type {\n",
       "        vertical-align: middle;\n",
       "    }\n",
       "\n",
       "    .dataframe tbody tr th {\n",
       "        vertical-align: top;\n",
       "    }\n",
       "\n",
       "    .dataframe thead th {\n",
       "        text-align: right;\n",
       "    }\n",
       "</style>\n",
       "<table border=\"1\" class=\"dataframe\">\n",
       "  <thead>\n",
       "    <tr style=\"text-align: right;\">\n",
       "      <th></th>\n",
       "      <th>petal length</th>\n",
       "      <th>petal width</th>\n",
       "      <th>sepal length</th>\n",
       "      <th>sepal width</th>\n",
       "    </tr>\n",
       "  </thead>\n",
       "  <tbody>\n",
       "    <tr>\n",
       "      <th>0</th>\n",
       "      <td>86.4</td>\n",
       "      <td>70.0</td>\n",
       "      <td>20.1</td>\n",
       "      <td>30.5</td>\n",
       "    </tr>\n",
       "    <tr>\n",
       "      <th>1</th>\n",
       "      <td>1.4</td>\n",
       "      <td>0.2</td>\n",
       "      <td>4.9</td>\n",
       "      <td>3.0</td>\n",
       "    </tr>\n",
       "    <tr>\n",
       "      <th>2</th>\n",
       "      <td>1.3</td>\n",
       "      <td>0.2</td>\n",
       "      <td>4.8</td>\n",
       "      <td>3.2</td>\n",
       "    </tr>\n",
       "    <tr>\n",
       "      <th>3</th>\n",
       "      <td>1.5</td>\n",
       "      <td>0.2</td>\n",
       "      <td>4.6</td>\n",
       "      <td>3.1</td>\n",
       "    </tr>\n",
       "    <tr>\n",
       "      <th>4</th>\n",
       "      <td>1.4</td>\n",
       "      <td>0.2</td>\n",
       "      <td>5.0</td>\n",
       "      <td>3.6</td>\n",
       "    </tr>\n",
       "    <tr>\n",
       "      <th>...</th>\n",
       "      <td>...</td>\n",
       "      <td>...</td>\n",
       "      <td>...</td>\n",
       "      <td>...</td>\n",
       "    </tr>\n",
       "    <tr>\n",
       "      <th>145</th>\n",
       "      <td>5.2</td>\n",
       "      <td>2.3</td>\n",
       "      <td>6.7</td>\n",
       "      <td>3.0</td>\n",
       "    </tr>\n",
       "    <tr>\n",
       "      <th>146</th>\n",
       "      <td>5.0</td>\n",
       "      <td>1.9</td>\n",
       "      <td>6.3</td>\n",
       "      <td>2.5</td>\n",
       "    </tr>\n",
       "    <tr>\n",
       "      <th>147</th>\n",
       "      <td>5.2</td>\n",
       "      <td>2.0</td>\n",
       "      <td>6.5</td>\n",
       "      <td>3.0</td>\n",
       "    </tr>\n",
       "    <tr>\n",
       "      <th>148</th>\n",
       "      <td>5.4</td>\n",
       "      <td>2.3</td>\n",
       "      <td>6.2</td>\n",
       "      <td>3.4</td>\n",
       "    </tr>\n",
       "    <tr>\n",
       "      <th>149</th>\n",
       "      <td>5.1</td>\n",
       "      <td>1.8</td>\n",
       "      <td>5.9</td>\n",
       "      <td>3.0</td>\n",
       "    </tr>\n",
       "  </tbody>\n",
       "</table>\n",
       "<p>150 rows × 4 columns</p>\n",
       "</div>"
      ],
      "text/plain": [
       "     petal length  petal width  sepal length  sepal width\n",
       "0            86.4         70.0          20.1         30.5\n",
       "1             1.4          0.2           4.9          3.0\n",
       "2             1.3          0.2           4.8          3.2\n",
       "3             1.5          0.2           4.6          3.1\n",
       "4             1.4          0.2           5.0          3.6\n",
       "..            ...          ...           ...          ...\n",
       "145           5.2          2.3           6.7          3.0\n",
       "146           5.0          1.9           6.3          2.5\n",
       "147           5.2          2.0           6.5          3.0\n",
       "148           5.4          2.3           6.2          3.4\n",
       "149           5.1          1.8           5.9          3.0\n",
       "\n",
       "[150 rows x 4 columns]"
      ]
     },
     "metadata": {},
     "output_type": "display_data"
    }
   ],
   "source": [
    "df_raw = pd.read_csv(\"data/tugas1/iris_combined.csv\")\n",
    "X_raw = df_raw.drop(columns=[\"id\", \"class\"])  # Kolom yang tidak digunakan\n",
    "display(X_raw)"
   ]
  },
  {
   "cell_type": "code",
   "execution_count": 339,
   "id": "c73e9f55",
   "metadata": {},
   "outputs": [
    {
     "data": {
      "text/html": [
       "<div>\n",
       "<style scoped>\n",
       "    .dataframe tbody tr th:only-of-type {\n",
       "        vertical-align: middle;\n",
       "    }\n",
       "\n",
       "    .dataframe tbody tr th {\n",
       "        vertical-align: top;\n",
       "    }\n",
       "\n",
       "    .dataframe thead th {\n",
       "        text-align: right;\n",
       "    }\n",
       "</style>\n",
       "<table border=\"1\" class=\"dataframe\">\n",
       "  <thead>\n",
       "    <tr style=\"text-align: right;\">\n",
       "      <th></th>\n",
       "      <th>petal length</th>\n",
       "      <th>petal width</th>\n",
       "      <th>sepal length</th>\n",
       "      <th>sepal width</th>\n",
       "    </tr>\n",
       "  </thead>\n",
       "  <tbody>\n",
       "    <tr>\n",
       "      <th>0</th>\n",
       "      <td>1.4</td>\n",
       "      <td>0.2</td>\n",
       "      <td>4.9</td>\n",
       "      <td>3.0</td>\n",
       "    </tr>\n",
       "    <tr>\n",
       "      <th>1</th>\n",
       "      <td>1.3</td>\n",
       "      <td>0.2</td>\n",
       "      <td>4.8</td>\n",
       "      <td>3.2</td>\n",
       "    </tr>\n",
       "    <tr>\n",
       "      <th>2</th>\n",
       "      <td>1.5</td>\n",
       "      <td>0.2</td>\n",
       "      <td>4.6</td>\n",
       "      <td>3.1</td>\n",
       "    </tr>\n",
       "    <tr>\n",
       "      <th>3</th>\n",
       "      <td>1.4</td>\n",
       "      <td>0.2</td>\n",
       "      <td>5.0</td>\n",
       "      <td>3.6</td>\n",
       "    </tr>\n",
       "    <tr>\n",
       "      <th>4</th>\n",
       "      <td>1.7</td>\n",
       "      <td>0.4</td>\n",
       "      <td>5.4</td>\n",
       "      <td>3.9</td>\n",
       "    </tr>\n",
       "    <tr>\n",
       "      <th>...</th>\n",
       "      <td>...</td>\n",
       "      <td>...</td>\n",
       "      <td>...</td>\n",
       "      <td>...</td>\n",
       "    </tr>\n",
       "    <tr>\n",
       "      <th>143</th>\n",
       "      <td>5.2</td>\n",
       "      <td>2.3</td>\n",
       "      <td>6.7</td>\n",
       "      <td>3.0</td>\n",
       "    </tr>\n",
       "    <tr>\n",
       "      <th>144</th>\n",
       "      <td>5.0</td>\n",
       "      <td>1.9</td>\n",
       "      <td>6.3</td>\n",
       "      <td>2.5</td>\n",
       "    </tr>\n",
       "    <tr>\n",
       "      <th>145</th>\n",
       "      <td>5.2</td>\n",
       "      <td>2.0</td>\n",
       "      <td>6.5</td>\n",
       "      <td>3.0</td>\n",
       "    </tr>\n",
       "    <tr>\n",
       "      <th>146</th>\n",
       "      <td>5.4</td>\n",
       "      <td>2.3</td>\n",
       "      <td>6.2</td>\n",
       "      <td>3.4</td>\n",
       "    </tr>\n",
       "    <tr>\n",
       "      <th>147</th>\n",
       "      <td>5.1</td>\n",
       "      <td>1.8</td>\n",
       "      <td>5.9</td>\n",
       "      <td>3.0</td>\n",
       "    </tr>\n",
       "  </tbody>\n",
       "</table>\n",
       "<p>148 rows × 4 columns</p>\n",
       "</div>"
      ],
      "text/plain": [
       "     petal length  petal width  sepal length  sepal width\n",
       "0             1.4          0.2           4.9          3.0\n",
       "1             1.3          0.2           4.8          3.2\n",
       "2             1.5          0.2           4.6          3.1\n",
       "3             1.4          0.2           5.0          3.6\n",
       "4             1.7          0.4           5.4          3.9\n",
       "..            ...          ...           ...          ...\n",
       "143           5.2          2.3           6.7          3.0\n",
       "144           5.0          1.9           6.3          2.5\n",
       "145           5.2          2.0           6.5          3.0\n",
       "146           5.4          2.3           6.2          3.4\n",
       "147           5.1          1.8           5.9          3.0\n",
       "\n",
       "[148 rows x 4 columns]"
      ]
     },
     "metadata": {},
     "output_type": "display_data"
    }
   ],
   "source": [
    "df_clean = pd.read_csv(\"data/tugas2/iris_KKN-cleaned.csv\")\n",
    "X_clean = df_clean.drop(columns=[\"id\", \"class\"])\n",
    "display (X_clean)"
   ]
  },
  {
   "cell_type": "markdown",
   "id": "6d471e7b",
   "metadata": {},
   "source": [
    "```python\n",
    "n_clusters=3       # Jumlah cluster\n",
    "n_init=10          # Jumlah inisialisasi centroid untuk hindari local optimum\n",
    "random_state=42    # Untuk reproduktibilitas hasil\n",
    "```"
   ]
  },
  {
   "cell_type": "code",
   "execution_count": 340,
   "id": "30753dce",
   "metadata": {},
   "outputs": [
    {
     "name": "stdout",
     "output_type": "stream",
     "text": [
      "=== Hasil Clustering dengan Outlier ===\n",
      "K=2: SSE = 67.73, Silhouette = 0.96\n",
      "K=3: SSE = 24.86, Silhouette = 0.51\n",
      "K=4: SSE = 14.51, Silhouette = 0.47\n"
     ]
    }
   ],
   "source": [
    "scaler = StandardScaler()\n",
    "X_raw_scaled = scaler.fit_transform(X_raw)\n",
    "\n",
    "results_raw = {}\n",
    "for k in range(2, 5):\n",
    "    kmeans = KMeans(n_clusters=k, n_init=10, random_state=42)\n",
    "    labels = kmeans.fit_predict(X_raw_scaled)\n",
    "    sse = kmeans.inertia_\n",
    "    silhouette = silhouette_score(X_raw_scaled, labels)\n",
    "    results_raw[k] = {\"SSE\": sse, \"Silhouette\": silhouette}\n",
    "\n",
    "print(\"=== Hasil Clustering dengan Outlier ===\")\n",
    "for k, metrics in results_raw.items():\n",
    "    print(f\"K={k}: SSE = {metrics['SSE']:.2f}, Silhouette = {metrics['Silhouette']:.2f}\")"
   ]
  },
  {
   "cell_type": "code",
   "execution_count": 341,
   "id": "b3d796c0",
   "metadata": {},
   "outputs": [
    {
     "name": "stdout",
     "output_type": "stream",
     "text": [
      "\n",
      "=== Hasil Clustering Tanpa Outlier ===\n",
      "K=2: SSE = 219.13, Silhouette = 0.58\n",
      "K=3: SSE = 135.34, Silhouette = 0.46\n",
      "K=4: SSE = 110.68, Silhouette = 0.41\n"
     ]
    }
   ],
   "source": [
    "X_clean_scaled = scaler.fit_transform(X_clean)\n",
    "\n",
    "results_clean = {}\n",
    "for k in range(2, 5):\n",
    "    kmeans = KMeans(n_clusters=k, n_init=10, random_state=42)\n",
    "    labels = kmeans.fit_predict(X_clean_scaled)\n",
    "    sse = kmeans.inertia_\n",
    "    silhouette = silhouette_score(X_clean_scaled, labels)\n",
    "    results_clean[k] = {\"SSE\": sse, \"Silhouette\": silhouette}\n",
    "\n",
    "print(\"\\n=== Hasil Clustering Tanpa Outlier ===\")\n",
    "for k, metrics in results_clean.items():\n",
    "    print(f\"K={k}: SSE = {metrics['SSE']:.2f}, Silhouette = {metrics['Silhouette']:.2f}\")"
   ]
  },
  {
   "cell_type": "code",
   "execution_count": 342,
   "id": "ac12c12d",
   "metadata": {},
   "outputs": [
    {
     "data": {
      "image/png": "[encoded data removed]",
      "text/plain": [
       "<Figure size 1200x500 with 2 Axes>"
      ]
     },
     "metadata": {},
     "output_type": "display_data"
    }
   ],
   "source": [
    "plt.figure(figsize=(12, 5))\n",
    "\n",
    "# Plot Raw Data\n",
    "plt.subplot(1, 2, 1)\n",
    "plt.plot(list(results_raw.keys()), [m[\"SSE\"] for m in results_raw.values()], marker='o')\n",
    "plt.title(\"Elbow Method (Dengan Outlier)\")\n",
    "plt.xlabel(\"Number of Clusters (K)\")\n",
    "plt.ylabel(\"SSE\")\n",
    "\n",
    "# Plot Clean Data\n",
    "plt.subplot(1, 2, 2)\n",
    "plt.plot(list(results_clean.keys()), [m[\"SSE\"] for m in results_clean.values()], marker='o', color='green')\n",
    "plt.title(\"Elbow Method (Tanpa Outlier)\")\n",
    "plt.xlabel(\"Number of Clusters (K)\")\n",
    "\n",
    "plt.tight_layout()\n",
    "plt.savefig(\"data/tugas5/assets/elbow_comparison.png\")\n",
    "plt.show()"
   ]
  },
  {
   "cell_type": "code",
   "execution_count": 343,
   "id": "1d8ce2fc",
   "metadata": {},
   "outputs": [
    {
     "data": {
      "image/png": "[encoded data removed]",
      "text/plain": [
       "<Figure size 1200x500 with 2 Axes>"
      ]
     },
     "metadata": {},
     "output_type": "display_data"
    }
   ],
   "source": [
    "plt.figure(figsize=(12, 5))\n",
    "\n",
    "# Plot Raw Data\n",
    "plt.subplot(1, 2, 1)\n",
    "plt.bar(list(results_raw.keys()), [m[\"Silhouette\"] for m in results_raw.values()])\n",
    "plt.title(\"Silhouette Score (Dengan Outlier)\")\n",
    "plt.xlabel(\"Number of Clusters (K)\")\n",
    "plt.ylim(0, 1)\n",
    "\n",
    "# Plot Clean Data\n",
    "plt.subplot(1, 2, 2)\n",
    "plt.bar(list(results_clean.keys()), [m[\"Silhouette\"] for m in results_clean.values()], color='green')\n",
    "plt.title(\"Silhouette Score (Tanpa Outlier)\")\n",
    "plt.xlabel(\"Number of Clusters (K)\")\n",
    "plt.ylim(0, 1)\n",
    "\n",
    "plt.tight_layout()\n",
    "plt.savefig(\"data/tugas5/assets/silhouette_comparison.png\")\n",
    "plt.show()"
   ]
  },
  {
   "cell_type": "markdown",
   "id": "20b17dff",
   "metadata": {},
   "source": [
    "## Summary"
   ]
  },
  {
   "cell_type": "markdown",
   "id": "2e201782",
   "metadata": {},
   "source": [
    "Dengan Outlier:\n",
    "- SSE lebih tinggi karena outlier meningkatkan jarak ke centroid.\n",
    "- Silhouette lebih rendah karena outlier mengganggu struktur cluster.\n",
    "- K optimal mungkin tidak terdeteksi dengan jelas.\n",
    "\n",
    "Tanpa Outlier:\n",
    "- SSE lebih rendah dan Silhouette lebih tinggi.\n",
    "- Pola cluster lebih jelas (misal: K=2 atau K=3 optimal)."
   ]
  },
  {
   "cell_type": "markdown",
   "id": "c7c3cb17",
   "metadata": {},
   "source": [
    "### **1. Clustering**\n",
    "Clustering menggunakan algoritma **K-Means** (unsupervised learning untuk pengelompokan data).\n",
    "```python\n",
    "from sklearn.cluster import KMeans\n",
    "kmeans = KMeans(n_clusters=k, n_init=10, random_state=42)\n",
    "labels = kmeans.fit_predict(X_scaled)\n",
    "```\n",
    "\n",
    "### **2. K-Means**\n",
    "- Algoritma K-Means dijalankan dengan menentukan jumlah cluster (`n_clusters`),\n",
    "- inisialisasi centroid (`n_init`), dan random state untuk reproduktibilitas.\n",
    "```python\n",
    "kmeans = KMeans(n_clusters=k, n_init=10, random_state=42)\n",
    "labels = kmeans.fit_predict(X_scaled)\n",
    "```\n",
    "\n",
    "\n",
    "### **3. Inertia (SSE)**\n",
    "Inertia `(Sum of Squared Errors)` diakses melalui atribut `inertia_` dari model K-Means.\n",
    "```python\n",
    "sse = kmeans.inertia_  # Inertia = SSE\n",
    "```\n",
    "\n",
    "### **4. Silhouette Score**\n",
    "Skor Silhouette dihitung menggunakan `silhouette_score` dari `sklearn.metrics`.\n",
    "```python\n",
    "from sklearn.metrics import silhouette_score\n",
    "silhouette = silhouette_score(X_scaled, labels)\n",
    "```\n",
    "\n",
    "### **5. Centroid vs Medoid**\n",
    "- **Centroid**:\n",
    "  - K-Means menggunakan **centroid** (rata-rata titik dalam cluster).\n",
    "  - Centroid dapat diakses melalui `cluster_centers_`.\n",
    "```python\n",
    "centroids = kmeans.cluster_centers_  # Contoh: cetak centroid untuk K=3\n",
    "print(centroids)\n",
    "```\n",
    "\n",
    "- **Medoid**:\n",
    "  - Medoid adalah titik *aktual* dalam data yang paling dekat dengan centroid, digunakan di algoritma **K-Medoids**\n",
    "  - Kode menggunakan K-Means (centroid-based), bukan K-Medoids (medoid-based)."
   ]
  },
  {
   "cell_type": "markdown",
   "id": "51931811",
   "metadata": {},
   "source": [
    "## K-Means Accuracy"
   ]
  },
  {
   "cell_type": "code",
   "execution_count": 344,
   "id": "f3125a72",
   "metadata": {},
   "outputs": [],
   "source": [
    "import pandas as pd\n",
    "import seaborn as sns\n",
    "import matplotlib.pyplot as plt\n",
    "from sklearn.cluster import KMeans\n",
    "from sklearn.metrics import confusion_matrix\n",
    "from scipy.optimize import linear_sum_assignment"
   ]
  },
  {
   "cell_type": "code",
   "execution_count": 345,
   "id": "c52e8505",
   "metadata": {},
   "outputs": [
    {
     "name": "stdout",
     "output_type": "stream",
     "text": [
      "<class 'pandas.core.frame.DataFrame'>\n",
      "RangeIndex: 148 entries, 0 to 147\n",
      "Data columns (total 7 columns):\n",
      " #   Column        Non-Null Count  Dtype  \n",
      "---  ------        --------------  -----  \n",
      " 0   id            148 non-null    int64  \n",
      " 1   class         148 non-null    object \n",
      " 2   petal length  148 non-null    float64\n",
      " 3   petal width   148 non-null    float64\n",
      " 4   sepal length  148 non-null    float64\n",
      " 5   sepal width   148 non-null    float64\n",
      " 6   cluster       148 non-null    int32  \n",
      "dtypes: float64(4), int32(1), int64(1), object(1)\n",
      "memory usage: 7.6+ KB\n",
      "None\n"
     ]
    }
   ],
   "source": [
    "df_clean = pd.read_csv(\"data/tugas2/iris_KKN-cleaned.csv\")\n",
    "\n",
    "# Pisahkan fitur dan kolom non-fitur\n",
    "X_raw = df_clean.drop(columns=[\"id\", \"class\"])\n",
    "non_features = df_clean[[\"id\", \"class\"]]\n",
    "\n",
    "# Scaling data\n",
    "X_raw_scaled = scaler.fit_transform(X_raw)\n",
    "\n",
    "# Clustering dengan K=3\n",
    "kmeans = KMeans(n_clusters=3, n_init=10, random_state=42)\n",
    "clusters = kmeans.fit_predict(X_raw_scaled)\n",
    "\n",
    "# Gabungkan semua kolom + cluster\n",
    "final_df = pd.concat([\n",
    "    non_features.reset_index(drop=True),\n",
    "    pd.DataFrame(X_raw, columns=X_raw.columns).reset_index(drop=True),\n",
    "    pd.DataFrame({\"cluster\": clusters})\n",
    "], axis=1)\n",
    "\n",
    "final_df.to_csv(\"data/tugas5/iris_KMeans-3.csv\", index=False)\n",
    "df = final_df\n",
    "print(df.info())"
   ]
  },
  {
   "cell_type": "code",
   "execution_count": 346,
   "id": "373b013e",
   "metadata": {},
   "outputs": [
    {
     "data": {
      "image/png": "[encoded data removed]",
      "text/plain": [
       "<Figure size 1000x600 with 1 Axes>"
      ]
     },
     "metadata": {},
     "output_type": "display_data"
    }
   ],
   "source": [
    "# Plot scatter plot dengan warna cluster\n",
    "plt.figure(figsize=(10, 6))\n",
    "sns.scatterplot(\n",
    "    data=df,\n",
    "    x=\"petal length\",\n",
    "    y=\"petal width\",\n",
    "    hue=\"cluster\",\n",
    "    palette=\"viridis\",\n",
    "    s=100,\n",
    "    edgecolor=\"k\"\n",
    ")\n",
    "\n",
    "# Tambahkan centroid cluster (dalam skala asli)\n",
    "centroids = kmeans.cluster_centers_  # Centroid dalam skala scaled\n",
    "centroids_unscaled = scaler.inverse_transform(centroids)  # Kembalikan ke skala asli\n",
    "plt.scatter(\n",
    "    centroids_unscaled[:, 0], # petal length\n",
    "    centroids_unscaled[:, 1], # petal width\n",
    "    marker=\"X\",\n",
    "    s=200,\n",
    "    c=\"red\",\n",
    "    label=\"Centroid\",\n",
    "    edgecolor=\"k\"\n",
    ")\n",
    "\n",
    "# Label dan judul\n",
    "plt.title(\"Clustering Iris dengan KMeans = 3\", fontsize=14)\n",
    "plt.xlabel(\"Petal Length (cm)\", fontsize=12)\n",
    "plt.ylabel(\"Petal Width (cm)\", fontsize=12)\n",
    "plt.legend(title=\"Cluster\")\n",
    "plt.grid(True, alpha=0.3)\n",
    "plt.savefig(\"data/tugas5/assets/KMeans_cluster\")\n",
    "plt.show()"
   ]
  },
  {
   "cell_type": "code",
   "execution_count": 347,
   "id": "33b25e8e",
   "metadata": {},
   "outputs": [
    {
     "name": "stdout",
     "output_type": "stream",
     "text": [
      "[Perhitungan Akurasi]\n",
      "Total data            : 148\n",
      "Kecocokan optimal     : 122 data\n",
      "Akurasi               : 0.8243\n"
     ]
    }
   ],
   "source": [
    "class_mapping = {\n",
    "    \"Iris-setosa\": 0,\n",
    "    \"Iris-versicolor\": 1,\n",
    "    \"Iris-virginica\": 2\n",
    "}\n",
    "y_true = df['class'].map(class_mapping)\n",
    "y_cluster = df['cluster']\n",
    "\n",
    "contingency = confusion_matrix(y_true, y_cluster)\n",
    "row_ind, col_ind = linear_sum_assignment(-contingency)\n",
    "\n",
    "cluster_to_class = {\n",
    "    cluster: list(class_mapping.keys())[class_idx] \n",
    "    for class_idx, cluster in zip(row_ind, col_ind)\n",
    "}\n",
    "\n",
    "total_samples = len(df)\n",
    "correct_matches = contingency[row_ind, col_ind].sum()\n",
    "\n",
    "print(f\"[Perhitungan Akurasi]\")\n",
    "print(f\"Total data            : {total_samples}\")\n",
    "print(f\"Kecocokan optimal     : {correct_matches} data\")\n",
    "print(f\"Akurasi               : {correct_matches/total_samples:.4f}\")"
   ]
  },
  {
   "cell_type": "code",
   "execution_count": 348,
   "id": "39b1cbdf",
   "metadata": {},
   "outputs": [
    {
     "name": "stdout",
     "output_type": "stream",
     "text": [
      "\n",
      "[Tabel Kontingensi]\n"
     ]
    },
    {
     "data": {
      "text/html": [
       "<div>\n",
       "<style scoped>\n",
       "    .dataframe tbody tr th:only-of-type {\n",
       "        vertical-align: middle;\n",
       "    }\n",
       "\n",
       "    .dataframe tbody tr th {\n",
       "        vertical-align: top;\n",
       "    }\n",
       "\n",
       "    .dataframe thead th {\n",
       "        text-align: right;\n",
       "    }\n",
       "</style>\n",
       "<table border=\"1\" class=\"dataframe\">\n",
       "  <thead>\n",
       "    <tr style=\"text-align: right;\">\n",
       "      <th></th>\n",
       "      <th>Cluster 0</th>\n",
       "      <th>Cluster 1</th>\n",
       "      <th>Cluster 2</th>\n",
       "    </tr>\n",
       "  </thead>\n",
       "  <tbody>\n",
       "    <tr>\n",
       "      <th>True Iris-setosa</th>\n",
       "      <td>0</td>\n",
       "      <td>48</td>\n",
       "      <td>0</td>\n",
       "    </tr>\n",
       "    <tr>\n",
       "      <th>True Iris-versicolor</th>\n",
       "      <td>38</td>\n",
       "      <td>0</td>\n",
       "      <td>12</td>\n",
       "    </tr>\n",
       "    <tr>\n",
       "      <th>True Iris-virginica</th>\n",
       "      <td>14</td>\n",
       "      <td>0</td>\n",
       "      <td>36</td>\n",
       "    </tr>\n",
       "  </tbody>\n",
       "</table>\n",
       "</div>"
      ],
      "text/plain": [
       "                      Cluster 0  Cluster 1  Cluster 2\n",
       "True Iris-setosa              0         48          0\n",
       "True Iris-versicolor         38          0         12\n",
       "True Iris-virginica          14          0         36"
      ]
     },
     "metadata": {},
     "output_type": "display_data"
    }
   ],
   "source": [
    "df[\"predicted_class\"] = df[\"cluster\"].map(cluster_to_class)\n",
    "mismatches = df[df[\"class\"] != df[\"predicted_class\"]]\n",
    "\n",
    "print(\"\\n[Tabel Kontingensi]\")\n",
    "contingency_df = pd.DataFrame(\n",
    "    contingency,\n",
    "    index=[f\"True {name}\" for name in class_mapping.keys()],\n",
    "    columns=[f\"Cluster {i}\" for i in range(3)]\n",
    ")\n",
    "display(contingency_df)"
   ]
  },
  {
   "cell_type": "code",
   "execution_count": 349,
   "id": "9e9b020e",
   "metadata": {},
   "outputs": [
    {
     "name": "stdout",
     "output_type": "stream",
     "text": [
      "[Data yang Salah Klaster]\n"
     ]
    },
    {
     "data": {
      "text/html": [
       "<div>\n",
       "<style scoped>\n",
       "    .dataframe tbody tr th:only-of-type {\n",
       "        vertical-align: middle;\n",
       "    }\n",
       "\n",
       "    .dataframe tbody tr th {\n",
       "        vertical-align: top;\n",
       "    }\n",
       "\n",
       "    .dataframe thead th {\n",
       "        text-align: right;\n",
       "    }\n",
       "</style>\n",
       "<table border=\"1\" class=\"dataframe\">\n",
       "  <thead>\n",
       "    <tr style=\"text-align: right;\">\n",
       "      <th></th>\n",
       "      <th>id</th>\n",
       "      <th>class</th>\n",
       "      <th>cluster</th>\n",
       "      <th>predicted_class</th>\n",
       "    </tr>\n",
       "  </thead>\n",
       "  <tbody>\n",
       "    <tr>\n",
       "      <th>48</th>\n",
       "      <td>51</td>\n",
       "      <td>Iris-versicolor</td>\n",
       "      <td>2</td>\n",
       "      <td>Iris-virginica</td>\n",
       "    </tr>\n",
       "    <tr>\n",
       "      <th>49</th>\n",
       "      <td>52</td>\n",
       "      <td>Iris-versicolor</td>\n",
       "      <td>2</td>\n",
       "      <td>Iris-virginica</td>\n",
       "    </tr>\n",
       "    <tr>\n",
       "      <th>50</th>\n",
       "      <td>53</td>\n",
       "      <td>Iris-versicolor</td>\n",
       "      <td>2</td>\n",
       "      <td>Iris-virginica</td>\n",
       "    </tr>\n",
       "    <tr>\n",
       "      <th>54</th>\n",
       "      <td>57</td>\n",
       "      <td>Iris-versicolor</td>\n",
       "      <td>2</td>\n",
       "      <td>Iris-virginica</td>\n",
       "    </tr>\n",
       "    <tr>\n",
       "      <th>56</th>\n",
       "      <td>59</td>\n",
       "      <td>Iris-versicolor</td>\n",
       "      <td>2</td>\n",
       "      <td>Iris-virginica</td>\n",
       "    </tr>\n",
       "  </tbody>\n",
       "</table>\n",
       "</div>"
      ],
      "text/plain": [
       "    id            class  cluster predicted_class\n",
       "48  51  Iris-versicolor        2  Iris-virginica\n",
       "49  52  Iris-versicolor        2  Iris-virginica\n",
       "50  53  Iris-versicolor        2  Iris-virginica\n",
       "54  57  Iris-versicolor        2  Iris-virginica\n",
       "56  59  Iris-versicolor        2  Iris-virginica"
      ]
     },
     "metadata": {},
     "output_type": "display_data"
    }
   ],
   "source": [
    "print(\"[Data yang Salah Klaster]\")\n",
    "display(mismatches[[\"id\", \"class\", \"cluster\", \"predicted_class\"]].head())"
   ]
  },
  {
   "cell_type": "code",
   "execution_count": 350,
   "id": "b6cda474",
   "metadata": {},
   "outputs": [
    {
     "name": "stdout",
     "output_type": "stream",
     "text": [
      "[Ringkasan Kesalahan]\n"
     ]
    },
    {
     "data": {
      "text/html": [
       "<div>\n",
       "<style scoped>\n",
       "    .dataframe tbody tr th:only-of-type {\n",
       "        vertical-align: middle;\n",
       "    }\n",
       "\n",
       "    .dataframe tbody tr th {\n",
       "        vertical-align: top;\n",
       "    }\n",
       "\n",
       "    .dataframe thead th {\n",
       "        text-align: right;\n",
       "    }\n",
       "</style>\n",
       "<table border=\"1\" class=\"dataframe\">\n",
       "  <thead>\n",
       "    <tr style=\"text-align: right;\">\n",
       "      <th></th>\n",
       "      <th>class</th>\n",
       "      <th>cluster</th>\n",
       "      <th>predicted_class</th>\n",
       "      <th>count</th>\n",
       "    </tr>\n",
       "  </thead>\n",
       "  <tbody>\n",
       "    <tr>\n",
       "      <th>0</th>\n",
       "      <td>Iris-versicolor</td>\n",
       "      <td>2</td>\n",
       "      <td>Iris-virginica</td>\n",
       "      <td>12</td>\n",
       "    </tr>\n",
       "    <tr>\n",
       "      <th>1</th>\n",
       "      <td>Iris-virginica</td>\n",
       "      <td>0</td>\n",
       "      <td>Iris-versicolor</td>\n",
       "      <td>14</td>\n",
       "    </tr>\n",
       "  </tbody>\n",
       "</table>\n",
       "</div>"
      ],
      "text/plain": [
       "             class  cluster  predicted_class  count\n",
       "0  Iris-versicolor        2   Iris-virginica     12\n",
       "1   Iris-virginica        0  Iris-versicolor     14"
      ]
     },
     "metadata": {},
     "output_type": "display_data"
    }
   ],
   "source": [
    "error_summary = mismatches.groupby([\"class\", \"cluster\", \"predicted_class\"]).size().reset_index(name='count')\n",
    "print(\"[Ringkasan Kesalahan]\")\n",
    "display(error_summary)"
   ]
  }
 ],
 "metadata": {
  "kernelspec": {
   "display_name": ".venv",
   "language": "python",
   "name": "python3"
  },
  "language_info": {
   "codemirror_mode": {
    "name": "ipython",
    "version": 3
   },
   "file_extension": ".py",
   "mimetype": "text/x-python",
   "name": "python",
   "nbconvert_exporter": "python",
   "pygments_lexer": "ipython3",
   "version": "3.12.6"
  }
 },
 "nbformat": 4,
 "nbformat_minor": 5
}
