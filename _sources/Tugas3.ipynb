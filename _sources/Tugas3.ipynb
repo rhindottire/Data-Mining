{
 "cells": [
  {
   "cell_type": "markdown",
   "metadata": {},
   "source": [
    "# Local Outlier Factor"
   ]
  },
  {
   "cell_type": "markdown",
   "metadata": {},
   "source": [
    "```python\n",
    "from sklearn.neighbors import LocalOutlierFactor\n",
    "```"
   ]
  },
  {
   "cell_type": "markdown",
   "metadata": {},
   "source": [
    "Local Outlier Factor (LOF) adalah salah satu metode dalam data mining untuk mendeteksi outlier (pencilan) berdasarkan kepadatan lokal (local density) data. Berbeda dengan metode global outlier detection (seperti Z-score atau IQR), LOF mempertimbangkan distribusi data di sekitar suatu titik (neighborhood), sehingga cocok untuk mendeteksi outlier di daerah dengan kepadatan yang tidak seragam."
   ]
  },
  {
   "cell_type": "code",
   "execution_count": 17,
   "metadata": {},
   "outputs": [],
   "source": [
    "import json\n",
    "import pandas as pd\n",
    "import numpy as np\n",
    "import matplotlib.pyplot as plt\n",
    "import seaborn as sns\n",
    "from sklearn.neighbors import LocalOutlierFactor\n",
    "from sklearn.preprocessing import StandardScaler"
   ]
  },
  {
   "cell_type": "markdown",
   "metadata": {},
   "source": [
    "## Get Data from JSON"
   ]
  },
  {
   "cell_type": "code",
   "execution_count": 18,
   "metadata": {},
   "outputs": [],
   "source": [
    "try:\n",
    "  with open('data/tugas3/data.json', 'r', encoding='utf-8') as f:\n",
    "    data = json.load(f)\n",
    "except FileNotFoundError:\n",
    "  print(\"Error: File 'data.json' tidak ditemukan!\")\n",
    "  exit()\n",
    "except json.JSONDecodeError:\n",
    "  print(\"Error: Format file JSON tidak valid!\")\n",
    "  exit()"
   ]
  },
  {
   "cell_type": "markdown",
   "metadata": {},
   "source": [
    "## Data Contents"
   ]
  },
  {
   "cell_type": "code",
   "execution_count": 19,
   "metadata": {},
   "outputs": [
    {
     "name": "stdout",
     "output_type": "stream",
     "text": [
      "Nama            |    BB |    TB\n",
      "------------------------------\n",
      "Achmad          |   150 |  2.71\n",
      "Ridho           |    80 |  1.85\n",
      "Fa'iz           |   100 |  4.60\n",
      "Edho            |    85 |  1.90\n",
      "Nur             |    72 |  1.70\n",
      "Ratu            |    71 |  1.65\n",
      "Berlian         |    70 |  1.60\n",
      "Tri             |    70 |  1.95\n",
      "Kurniawati      |    70 |  1.90\n",
      "Mendrofa        |    70 |  1.85\n"
     ]
    }
   ],
   "source": [
    "with open('data/tugas3/data.json', 'r', encoding='utf-8') as f:\n",
    "  data = json.load(f)\n",
    "\n",
    "# Header\n",
    "print(f\"{'Nama':<15} | {'BB':>5} | {'TB':>5}\")\n",
    "print(\"-\" * 30)\n",
    "\n",
    "# Isi\n",
    "for item in data:\n",
    "  print(f\"{item['Nama']:<15} | {item['BB']:>5} | {item['TB']:>5.2f}\")"
   ]
  },
  {
   "cell_type": "markdown",
   "metadata": {},
   "source": [
    "## ***LOF Calculation Steps***"
   ]
  },
  {
   "cell_type": "markdown",
   "metadata": {},
   "source": [
    "**Data Preprocessing**: Sebelum menghitung **Local Outlier Factor (LOF)**, kita perlu melakukan preprocessing agar data bisa digunakan dengan benar dalam perhitungan berbasis jarak:\n",
    "\n",
    "1. **Menghapus Kolom Nama** → LOF hanya bekerja dengan data numerik.\n",
    "2. **Mengecek Skala Data** → Kolom **BB (Berat Badan)** dan **TB (Tinggi Badan)** memiliki skala berbeda (BB dalam kg dan TB dalam meter). Untuk menghindari dominasi satu fitur, kita perlu **normalisasi** atau **standarisasi** datanya.\n",
    "3. **Normalization or Standardization**\n",
    "  - Normalize menggunakan Min-Max Scaling:\n",
    "\n",
    "    $$\n",
    "    X' = \\frac{X - X_{\\min}}{X_{\\max} - X_{\\min}}\n",
    "    $$\n",
    "\n",
    "    - di mana $ X_{\\min} $ dan $ X_{\\max} $ adalah nilai minimum dan maksimum dari setiap fitur.\n",
    "  - Standardization menggunakan StandardScaler\n",
    "\n",
    "    $$\n",
    "    X' = \\frac{X - \\mu}{\\sigma}\n",
    "    $$\n",
    "\n",
    "    di mana:\n",
    "    - $ X' $ adalah nilai yang sudah dinormalisasi.\n",
    "    - $ X $ adalah nilai asli.\n",
    "    - $ \\mu $ adalah **mean (rata-rata)** dari fitur.\n",
    "    - $ \\sigma $ adalah **standar deviasi** dari fitur."
   ]
  },
  {
   "cell_type": "markdown",
   "metadata": {},
   "source": [
    "### **Calculate StandardScaler**"
   ]
  },
  {
   "cell_type": "markdown",
   "metadata": {},
   "source": [
    "```python\n",
    "from sklearn.preprocessing import StandardScaler\n",
    "```\n",
    "\n",
    "1. **Mean**\n",
    "\n",
    "$$\n",
    "\\mu_{\\text{BB}} = \\frac{150 + 80 + 100 + 85 + 72 + 71 + 70 + 70 + 70 + 70}{10} = \\frac{838}{10} = 83.8\n",
    "$$\n",
    "\n",
    "$$\n",
    "\\mu_{\\text{TB}} = \\frac{2.71 + 1.85 + 4.60 + 1.90 + 1.70 + 1.65 + 1.60 + 1.95 + 1.90 + 1.85}{10} = \\frac{21.71}{10} = 2.171\n",
    "$$\n",
    "\n",
    "2. **Standard Deviation**\n",
    "\n",
    "$$\n",
    "\\sigma_{\\text{BB}} = \\sqrt{\\frac{(150 - 83.8)^2 + (80 - 83.8)^2 + ... + (70 - 83.8)^2}{10}}\n",
    "$$\n",
    "\n",
    "$$\n",
    "\\sigma_{\\text{BB}} \\approx 23.81\n",
    "$$\n",
    "\n",
    "$$\n",
    "\\sigma_{\\text{TB}} = \\sqrt{\\frac{(2.71 - 2.171)^2 + (1.85 - 2.171)^2 + ... + (1.85 - 2.171)^2}{10}}\n",
    "$$\n",
    "\n",
    "$$\n",
    "\\sigma_{\\text{TB}} \\approx 0.886\n",
    "$$\n",
    "\n",
    "1. **StandardScaler**\n",
    "\n",
    "$$\n",
    "X' = \\frac{X - \\mu}{\\sigma}\n",
    "$$\n",
    "\n",
    "| Nama       | BB  | TB   | BB_scaled | TB_scaled |\n",
    "|------------|-----|------|-----------|-----------|\n",
    "| Achmad     | 150 | 2.71 | 2.785     | 0.680     |\n",
    "| Ridho      | 80  | 1.85 | -0.160    | -0.363    |\n",
    "| Fa'iz      | 100 | 4.60 | 0.680     | 2.739     |\n",
    "| Edho       | 85  | 1.90 | -0.105    | -0.307    |\n",
    "| Nur        | 72  | 1.70 | -0.499    | -0.531    |\n",
    "| Ratu       | 71  | 1.65 | -0.541    | -0.588    |\n",
    "| Berlian    | 70  | 1.60 | -0.582    | -0.645    |\n",
    "| Tri        | 70  | 1.95 | -0.582    | -0.252    |\n",
    "| Kurniawati | 70  | 1.90 | -0.582    | -0.307    |\n",
    "| Mendrofa   | 70  | 1.85 | -0.582    | -0.363    |\n",
    "\n",
    "**Standardization Result**\n",
    "| Nama  | BB  | TB   | BB_scaled | TB_scaled |\n",
    "|-------|-----|------|-----------|-----------|\n",
    "| Fa'iz | 100 | 4.60 | 2.785     | 0.680     |\n",
    "\n",
    "Sekarang, kita akan menggunakan nilai **BB_scaled** dan **TB_scaled** untuk perhitungan Euclidean."
   ]
  },
  {
   "cell_type": "markdown",
   "metadata": {},
   "source": [
    "### Euclidean Distance"
   ]
  },
  {
   "cell_type": "markdown",
   "metadata": {},
   "source": [
    "Untuk **k=3**, kita harus mencari 3 tetangga terdekat dari `Fa'iz` berdasarkan jarak Euclidean.\n",
    "\n",
    "**Rumus Euclidean Distance**\n",
    "\n",
    "$$\n",
    "d(A, B) = \\sqrt{(x_1 - x_2)^2 + (y_1 - y_2)^2}\n",
    "$$\n",
    "\n",
    "di mana:\n",
    "- $ x_1, y_1 $ adalah koordinat `Fa'iz` (**2.785, 0.680**).\n",
    "- $ x_2, y_2 $ adalah koordinat dari setiap titik lainnya.\n",
    "\n",
    "**Menghitung jarak `Fa'iz` dengan semua titik lainnya**\n",
    "| Nama           | BB_scaled | TB_scaled | Jarak Euclidean |\n",
    "|----------------|-----------|-----------|-----------------|\n",
    "| **Achmad**     | **2.785** | **0.680** | **2.733**       |\n",
    "| **Ridho**      | - 0.160   | - 0.363   | 3.425           |\n",
    "| **Edho**       | - 0.105   | - 0.307   | 3.380           |\n",
    "| **Nur**        | - 0.499   | - 0.531   | 3.680           |\n",
    "| **Ratu**       | - 0.541   | - 0.588   | 3.770           |\n",
    "| **Berlian**    | - 0.582   | - 0.645   | 3.860           |\n",
    "| **Tri**        | - 0.582   | - 0.252   | 3.278           |\n",
    "| **Kurniawati** | - 0.582   | - 0.307   | 3.318           |\n",
    "| **Mendrofa**   | - 0.582   | - 0.363   | 3.367           |\n",
    "\n",
    "**Tiga tetangga terdekat Fa'iz adalah:**\n",
    "1. Achmad (2.733)\n",
    "2. Edho (3.380)\n",
    "3. Ridho (3.425)"
   ]
  },
  {
   "cell_type": "markdown",
   "metadata": {},
   "source": [
    "### Reachability Distance (RD)"
   ]
  },
  {
   "cell_type": "markdown",
   "metadata": {},
   "source": [
    "$$\n",
    "RD(A, B) = \\max \\left( d(A, B), \\text{k-distance}(B) \\right)\n",
    "$$\n",
    "\n",
    "Note:\n",
    "- k-distance(B): Jarak dari titik B ke tetangga ke-k terdekatnya (bukan LRD!).\n",
    "- d(A, B): Jarak Euclidean antara titik A dan B.\n",
    "\n",
    "Langkah untuk Data `Fa'iz` (BB=100, TB=4.60)\n",
    "\n",
    "1. Hitung k-distance untuk Setiap Titik\n",
    "Untuk k=3, hitung jarak dari setiap titik ke tetangga ke-3 terdekatnya:\n",
    "\n",
    "| Nama   | 3-Tetangga Terdekat                            | k-distance |\n",
    "|--------|------------------------------------------------|------------|\n",
    "| Fa'iz  | Achmad (2.733), Edho (3.380), Ridho (3.425)    | 3.425      |\n",
    "| Achmad | Fa'iz (2.733), Edho (3.380), Ridho (3.425)     | 3.425      |\n",
    "| Edho   | Fa'iz (3.380), Ridho (3.425), Mendrofa (3.367) | 3.425      |\n",
    "\n",
    "2. Hitung RD `Fa'iz` ke Tetangganya\n",
    "\n",
    "| Tetangga | d(Fa'iz, B) | k-distance(B) | RD(Fa'iz, B) |\n",
    "|----------|-------------|---------------|--------------|\n",
    "| Achmad   | 2.733       | 3.425         | 3.425        |\n",
    "| Edho     | 3.380       | 3.425         | 3.425        |\n",
    "| Ridho    | 3.425       | 3.425         | 3.425        |"
   ]
  },
  {
   "cell_type": "markdown",
   "metadata": {},
   "source": [
    "### Local Reachability Density (LRD)"
   ]
  },
  {
   "cell_type": "markdown",
   "metadata": {},
   "source": [
    "$$\n",
    "LRD(A) = \\frac{k}{\\sum RD(A, B)}\n",
    "$$\n",
    "\n",
    "Nilai **RD untuk tiap tetangga** yang telah dihitung sebagai berikut:\n",
    "\n",
    "| Tetangga | RD(A, B) |\n",
    "|----------|----------|\n",
    "| Achmad   | 2.733    |\n",
    "| Edho     | 3.380    |\n",
    "| Ridho    | 3.425    |\n",
    "\n",
    "$$\n",
    "LRD_{\\text{Fa'iz}} = \\frac{3}{(2.733 + 3.380 + 3.425)}\n",
    "$$\n",
    "\n",
    "$$\n",
    "LRD_{\\text{Fa'iz}} = \\frac{3}{9.538} = 0.314\n",
    "$$"
   ]
  },
  {
   "cell_type": "markdown",
   "metadata": {},
   "source": [
    "### ***Local Outlier Factor***\n",
    "Untuk menghitung LOF, kita harus melalui langkah berikut:\n",
    "1. Hitung Jarak ke Tetangga Terdekat (k-NN Search)\n",
    "2. Hitung Reachability Distance\n",
    "3. Hitung Local Reachability Density (LRD)\n",
    "4. Hitung Local Outlier Factor (LOF)\n",
    "\n",
    "_Rumus LOF_:\n",
    "\n",
    "$$\n",
    "LOF(A) = \\frac{\\sum \\frac{LRD(B)}{LRD(A)}}{k}\n",
    "$$\n",
    "\n",
    "Diketahui:\n",
    "| Tetangga  | LRD(B) |\n",
    "|-----------|--------|\n",
    "| Achmad    | 1.263  |\n",
    "| Edho      | 0.550  |\n",
    "| Ridho     | 0.567  |\n",
    "\n",
    "$$\n",
    "LOF_{\\text{Fa'iz}} = \\frac{\\frac{1.263}{0.314} + \\frac{0.550}{0.314} + \\frac{0.567}{0.314}}{3}\n",
    "$$\n",
    "\n",
    "$$\n",
    "LOF_{\\text{Fa'iz}} = \\frac{4.023 + 1.752 + 1.806}{3}\n",
    "$$\n",
    "\n",
    "$$\n",
    "LOF_{\\text{Fa'iz}} = \\frac{7.581}{3} = 4.548\n",
    "$$\n",
    "\n",
    "| Nama       | BB  | TB   | LOF Score | Status  |\n",
    "|------------|-----|------|-----------|---------|\n",
    "| Fa'iz      | 100 | 4.60 | 4.548231  | Outlier |\n",
    "| Achmad     | 150 | 2.71 | 4.383601  | Outlier |\n",
    "| Edho       | 85  | 1.90 | 1.875557  | Normal  |\n",
    "| Ridho      | 80  | 1.85 | 1.586740  | Normal  |\n",
    "| Kurniawati | 70  | 1.90 | 1.010486  | Normal  |\n",
    "| Tri        | 70  | 1.95 | 1.010486  | Normal  |\n",
    "| Mendrofa   | 70  | 1.85 | 1.010486  | Normal  |\n",
    "| Nur        | 72  | 1.70 | 0.989834  | Normal  |\n",
    "| Ratu       | 71  | 1.65 | 0.989834  | Normal  |\n",
    "| Berlian    | 70  | 1.60 | 0.989834  | Normal  |\n",
    "\n",
    "### Summary LOF\n",
    "1. **Perhitungan manual membuktikan bahwa Fa'iz memiliki LOF Score = 4.548**, yang menunjukkan dia adalah **outlier**.\n",
    "2. **Tahapan perhitungan LOF sangat panjang** karena melibatkan:\n",
    "   - Normalisasi / Standarisasi Data (StandardScaler)\n",
    "   - Perhitungan Euclidean Distance\n",
    "   - Reachability Distance\n",
    "   - Local Reachability Density\n",
    "   - LOF Score\n",
    "3. **Pemilihan K akan sangat berpengaruh dengan hasil akhir**"
   ]
  },
  {
   "cell_type": "markdown",
   "metadata": {},
   "source": [
    "## Preprocessing Data"
   ]
  },
  {
   "cell_type": "code",
   "execution_count": 20,
   "metadata": {},
   "outputs": [],
   "source": [
    "df = pd.DataFrame(data)\n",
    "scaler = StandardScaler()\n",
    "X_scaled = scaler.fit_transform(df[[\"BB\", \"TB\"]])"
   ]
  },
  {
   "cell_type": "markdown",
   "metadata": {},
   "source": [
    "### Outlier Detection"
   ]
  },
  {
   "cell_type": "code",
   "execution_count": 21,
   "metadata": {},
   "outputs": [],
   "source": [
    "lof = LocalOutlierFactor(n_neighbors=3, contamination=0.2) # 20% data fix outlier\n",
    "outlier_labels = lof.fit_predict(X_scaled)"
   ]
  },
  {
   "cell_type": "markdown",
   "metadata": {},
   "source": [
    "### Result to DataFrame"
   ]
  },
  {
   "cell_type": "code",
   "execution_count": 22,
   "metadata": {},
   "outputs": [],
   "source": [
    "df[\"LOF_Score\"] = -lof.negative_outlier_factor_\n",
    "df[\"Status\"] = np.where(outlier_labels == -1, \"Outlier\", \"Normal\")\n",
    "df[\"ID\"] = df.index + 1\n",
    "df = df[[\"ID\", \"Nama\", \"BB\", \"TB\", \"LOF_Score\", \"Status\"]]"
   ]
  },
  {
   "cell_type": "markdown",
   "metadata": {},
   "source": [
    "### Print Result by LOF Score"
   ]
  },
  {
   "cell_type": "code",
   "execution_count": 23,
   "metadata": {},
   "outputs": [
    {
     "name": "stdout",
     "output_type": "stream",
     "text": [
      "Hasil Deteksi Outlier:\n",
      " ID       Nama  BB   TB  LOF_Score  Status\n",
      "  3      Fa'iz 100 4.60   4.548231 Outlier\n",
      "  1     Achmad 150 2.71   4.383601 Outlier\n",
      "  4       Edho  85 1.90   1.875557  Normal\n",
      "  2      Ridho  80 1.85   1.586740  Normal\n",
      "  8        Tri  70 1.95   1.010486  Normal\n",
      "  9 Kurniawati  70 1.90   1.010486  Normal\n",
      " 10   Mendrofa  70 1.85   1.010486  Normal\n",
      "  5        Nur  72 1.70   0.989834  Normal\n",
      "  6       Ratu  71 1.65   0.989834  Normal\n",
      "  7    Berlian  70 1.60   0.989834  Normal\n"
     ]
    }
   ],
   "source": [
    "print(\"Hasil Deteksi Outlier:\")\n",
    "print(df.sort_values(\"LOF_Score\", ascending=False).to_string(index=False))"
   ]
  },
  {
   "cell_type": "markdown",
   "metadata": {},
   "source": [
    "## Data Visualization"
   ]
  },
  {
   "cell_type": "code",
   "execution_count": 24,
   "metadata": {},
   "outputs": [
    {
     "data": {
      "image/png": "[encoded data removed]",
      "text/plain": [
       "<Figure size 1400x800 with 1 Axes>"
      ]
     },
     "metadata": {},
     "output_type": "display_data"
    }
   ],
   "source": [
    "plt.figure(figsize=(14, 8))\n",
    "sns.set_style(\"darkgrid\")\n",
    "\n",
    "scatter = sns.scatterplot(\n",
    "    data=df,\n",
    "    x=\"BB\",\n",
    "    y=\"TB\",\n",
    "    hue=\"Status\",\n",
    "    style=\"Status\",\n",
    "    palette={\"Normal\": \"dodgerblue\", \"Outlier\": \"red\"},\n",
    "    markers={\"Normal\": \"o\", \"Outlier\": \"X\"},\n",
    "    s=100,\n",
    "    edgecolor=\"black\",\n",
    "    alpha=0.9\n",
    ")\n",
    "\n",
    "for _, row in df.iterrows():\n",
    "    scatter.text(\n",
    "        row[\"BB\"] + 1.5,\n",
    "        row[\"TB\"],\n",
    "        row[\"Nama\"],\n",
    "        ha='left',\n",
    "        va='center',\n",
    "        fontsize=10,\n",
    "        bbox=dict(facecolor='white', alpha=0.8, boxstyle=\"round,pad=0.3\")\n",
    "    )\n",
    "\n",
    "plt.axvspan(60, 80, color='lime', alpha=0.1, label='BB Normal (60-80 kg)')\n",
    "plt.axhspan(1.7, 2.0, color='orange', alpha=0.1, label='TB Normal (1.7-2.0 m)')\n",
    "\n",
    "plt.title(\"Analisis Outlier Profil Karakter\", fontsize=16, pad=20)\n",
    "plt.xlabel(\"Berat Badan (kg)\", fontsize=12)\n",
    "plt.ylabel(\"Tinggi Badan (m)\", fontsize=12)\n",
    "plt.legend(title=\"Keterangan\", loc='upper right')\n",
    "plt.xticks(np.arange(0, 160, 20))\n",
    "plt.grid(alpha=0.2)\n",
    "plt.tight_layout()\n",
    "plt.savefig(\"data/tugas3/assets/LOF-Cleaned\", dpi=300)\n",
    "plt.show()\n",
    "\n",
    "df.to_json('data/tugas3/result.json', orient='records', indent=2, force_ascii=False)"
   ]
  }
 ],
 "metadata": {
  "kernelspec": {
   "display_name": ".venv",
   "language": "python",
   "name": "python3"
  },
  "language_info": {
   "codemirror_mode": {
    "name": "ipython",
    "version": 3
   },
   "file_extension": ".py",
   "mimetype": "text/x-python",
   "name": "python",
   "nbconvert_exporter": "python",
   "pygments_lexer": "ipython3",
   "version": "3.12.6"
  }
 },
 "nbformat": 4,
 "nbformat_minor": 2
}
