{
 "cells": [
  {
   "cell_type": "markdown",
   "id": "4173bc10",
   "metadata": {},
   "source": [
    "## Euclidean Distance\n",
    "Euclidean Distance adalah ukuran jarak atau garis lurus antara dua titik dalam suatu ruang.\n",
    "Bisa di ruang 2 dimensi (seperti bidang), 3 dimensi (seperti ruang nyata), atau bahkan n dimensi (untuk data)\n",
    "\n",
    "Untuk dua titik $ \\mathbf{p} = (p_1, p_2, ..., p_n) $ dan $ \\mathbf{q} = (q_1, q_2, ..., q_n) $ dalam ruang $ n $-dimensi:\n",
    "$$ d(\\mathbf{p}, \\mathbf{q}) = \\sqrt{\\sum_{i=1}^n (q_i - p_i)^2} $$\n",
    "\n",
    "### Manual Calculation Example (2D)\n",
    "- $ \\mathbf{p} = (2, 3) $\n",
    "- $ \\mathbf{q} = (5, 7) $\n",
    "\n",
    "Step 1: Hitung selisih tiap komponen\n",
    "$$ p_1 - q_1 = 2 - 5 = 3 \\\\ p_2 - q_2 = 3 - 7 = 4 $$\n",
    "\n",
    "Step 2: Kuadratkan selisih\n",
    "$$ 3^2 = 9 \\\\ 4^2 = 16 $$\n",
    "\n",
    "Step 3: Jumlahkan\n",
    "$$ 9 + 16= 25 $$\n",
    "\n",
    "Step 4: Akar kuadrat\n",
    "$$ \\sqrt{25} = 5 $$\n",
    "\n",
    "Jarak Euclidean: 5.0\n",
    "\n",
    "---\n",
    "\n",
    "### Python Libary\n",
    "```python\n",
    "from scipy.spatial import distance\n",
    "\n",
    "print(\"Euclidean Distance:\", distance.euclidean(p, q))\n",
    "```\n",
    "\n",
    "#### What Is `scipy`?\n",
    "`scipy` (dibaca: *\"sai-pai\"*) adalah **library ilmiah untuk Python**. Ia menyediakan banyak fungsi matematika dan teknik (engineering), khususnya untuk:\n",
    "- Matematika lanjutan\n",
    "- Statistik\n",
    "- Optimisasi\n",
    "- Sinyal & gambar\n",
    "- Interpolasi\n",
    "- Dan termasuk juga: **jarak antar vektor**\n",
    "\n",
    "#### What is `scipy.spatial.distance`?\n",
    "Submodul dalam `scipy` yang menyediakan berbagai **fungsi pengukuran jarak atau kemiripan** antara vektor, contohnya:\n",
    "- `euclidean()` → Euclidean distance\n",
    "- `cityblock()` → Manhattan distance\n",
    "- `minkowski()` → Minkowski distance\n",
    "- `cosine()` → Cosine similarity\n",
    "\n",
    "#### What is `distance.euclidean(p, q)`?\n",
    "Fungsi ini menghitung **jarak Euclidean** antara dua titik (vektor) `p` dan `q`.\n",
    "Formula matematisnya:\n",
    "$$ d(\\mathbf{p}, \\mathbf{q}) = \\sqrt{\\sum_{i=1}^n (q_i - p_i)^2} $$"
   ]
  },
  {
   "cell_type": "code",
   "execution_count": 6,
   "id": "f984c44b",
   "metadata": {},
   "outputs": [
    {
     "name": "stdout",
     "output_type": "stream",
     "text": [
      "Euclidean Distance: 5.0\n"
     ]
    }
   ],
   "source": [
    "from scipy.spatial import distance\n",
    "\n",
    "# Definition of two vectors (points in 2 dimensions)\n",
    "p = [2, 3]\n",
    "q = [5, 7]\n",
    "\n",
    "# Calculate the Euclidean distance between p and q\n",
    "print(\"Euclidean Distance:\", distance.euclidean(p, q))  # Output: 5.0"
   ]
  },
  {
   "cell_type": "markdown",
   "id": "0df28297",
   "metadata": {},
   "source": [
    "### Manual Code Implementation "
   ]
  },
  {
   "cell_type": "code",
   "execution_count": 7,
   "id": "63e782c4",
   "metadata": {},
   "outputs": [
    {
     "name": "stdout",
     "output_type": "stream",
     "text": [
      "Euclidean Distance: 5.0\n"
     ]
    }
   ],
   "source": [
    "def euclidean_distance(p, q):\n",
    "  if len(p) != len(q):\n",
    "    raise ValueError(\"Vektor harus memiliki dimensi yang sama.\")\n",
    "  return sum((qi - pi) ** 2 for pi, qi in zip(p, q)) ** 0.5\n",
    "\n",
    "p = [2, 3]\n",
    "q = [5, 7]\n",
    "\n",
    "print(\"Euclidean Distance:\", euclidean_distance(p, q))"
   ]
  }
 ],
 "metadata": {
  "kernelspec": {
   "display_name": ".venv",
   "language": "python",
   "name": "python3"
  },
  "language_info": {
   "codemirror_mode": {
    "name": "ipython",
    "version": 3
   },
   "file_extension": ".py",
   "mimetype": "text/x-python",
   "name": "python",
   "nbconvert_exporter": "python",
   "pygments_lexer": "ipython3",
   "version": "3.12.6"
  }
 },
 "nbformat": 4,
 "nbformat_minor": 5
}
