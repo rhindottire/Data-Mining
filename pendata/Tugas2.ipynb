{
 "cells": [
  {
   "cell_type": "markdown",
   "metadata": {},
   "source": [
    "# Outlier and K-NN"
   ]
  },
  {
   "cell_type": "markdown",
   "metadata": {},
   "source": [
    "**Outlier** adalah data yang memiliki nilai yang jauh berbeda dari sebagian besar data lainnya dalam sebuah dataset, yang dapat disebabkan oleh kesalahan pengukuran, variasi alami, atau faktor eksternal lainnya. Identifikasi outlier penting dalam analisis data karena dapat memengaruhi hasil _pemodelan_ dan _pengambilan keputusan_. Sementara itu, **K-Nearest Neighbors (KNN)** adalah algoritma pembelajaran mesin berbasis instance yang digunakan untuk klasifikasi dan regresi dengan menentukan kelas atau nilai suatu data berdasarkan mayoritas dari k tetangga terdekatnya. KNN sangat bergantung pada metrik jarak, seperti **Euclidean Distance**."
   ]
  },
  {
   "cell_type": "markdown",
   "metadata": {},
   "source": [
    "## Outlier Detection"
   ]
  },
  {
   "cell_type": "markdown",
   "metadata": {},
   "source": [
    "Outlier adalah titik data yang berbeda secara signifikan dari sebagian besar data. Faktor penyebab:\n",
    "\n",
    "- **Data entry errors**: Nilai yang dicatat salah.\n",
    "- **Measurement errors**: Sensor atau instrumen rusak.\n",
    "- **Natural variability**: Pengamatan yang ekstrim namun valid (pendapatan seorang miliarder dalam kumpulan data pendapatan rata-rata).\n",
    "\n",
    "\n",
    "***Why is it Important?***\n",
    "\n",
    "- Outliers dapat mendistorsi analisis statistik (mean, deviasi standar).\n",
    "- Hal ini dapat berdampak negatif terhadap performa model pembelajaran mesin.\n",
    "- Dalam beberapa kasus, outlier mungkin mewakili informasi penting (deteksi penipuan)."
   ]
  },
  {
   "cell_type": "markdown",
   "metadata": {},
   "source": [
    "### Methods for Outlier Detection"
   ]
  },
  {
   "cell_type": "markdown",
   "metadata": {},
   "source": [
    "1. **Statistical Methods**:\n",
    "   - _Z-Score_: Mengukur berapa banyak standar deviasi suatu titik data dari mean. Titik data dengan skor Z lebih besar dari 3 atau kurang dari -3 sering kali dianggap outlier.\n",
    "   - _IQR (Interquartile Range)_: Mengidentifikasi outlier sebagai titik data di bawah Q1 - 1,5IQR atau di atas Q3 + 1,5IQR, dengan Q1 dan Q3 masing-masing adalah kuartil pertama dan ketiga.\n",
    "2. **Visual Methods**:\n",
    "   - _Box Plots_: Representasi grafis dari distribusi data (ditampilkan sebagai titik di luar \"whiskers\").\n",
    "   - _Scatter Plots_: Berguna untuk mengidentifikasi outlier dalam data bivariat (dua variabel).\n",
    "3. **Machine Learning Methods**:\n",
    "   - _Clustering_: Outliers mungkin muncul sebagai titik data yang bukan milik cluster mana pun.\n",
    "   - _Isolation Forest_: Algoritm dirancang khusus agar mendeteksi outlier dengan mengisolasi titik data.\n",
    "   - _DBSCAN (Density-Based Spatial Clustering of Applications with Noise)_: Mengidentifikasi outlier sebagai titik di wilayah dengan kepadatan rendah.\n",
    "   - **KNN (K-Nearest Neighbors)**: Menggunakan jarak ke tetangga terdekat untuk mengidentifikasi outlier.\n",
    "4. **Domain-Specific Methods**:\n",
    "   - Gunakan pengetahuan domain untuk mengidentifikasi outlier. Misalnya, dalam layanan kesehatan, usia pasien 150 tahun merupakan hal yang berbeda."
   ]
  },
  {
   "cell_type": "markdown",
   "metadata": {},
   "source": [
    "### Handling Outliers"
   ]
  },
  {
   "cell_type": "markdown",
   "metadata": {},
   "source": [
    "Setelah outlier terdeteksi, Anda perlu memutuskan cara menanganinya:\n",
    "\n",
    "- **Remove**: Jika outlier disebabkan oleh kesalahan atau **noise**.\n",
    "- **Transform**: Menerapkan transformasi (transformasi log) untuk mengurangi dampak outlier.\n",
    "- **Cap/Floor**: Ganti outlier dengan nilai ambang batas maksimum atau minimum.\n",
    "- **Keep**: Jika outlier tersebut valid dan bermakna (kasus penipuan).\n",
    "\n",
    "***Summary of Outlier Detection***\n",
    "- Outlier adalah titik data yang menyimpang secara signifikan dari data lainnya.\n",
    "- Mendeteksi dan menangani outlier sangat penting untuk memastikan kualitas data.\n",
    "- Metode untuk mendeteksi outlier mencakup teknik statistik (Z-score, IQR), metode visual (box plots, scatter plots), dan algoritma pembelajaran mesin (Isolation Forest, DBSCAN).\n",
    "- Outlier dievaluasi secara hati-hati untuk menentukan apakah itu kesalahan atau pengamatan yang bermakna."
   ]
  },
  {
   "cell_type": "markdown",
   "metadata": {},
   "source": [
    "## K-Nearest Neighbors (KNN)"
   ]
  },
  {
   "cell_type": "markdown",
   "metadata": {},
   "source": [
    "```python\n",
    "from sklearn.neighbors import NearestNeighbors\n",
    "```\n",
    "\n",
    "KNN mengidentifikasi outlier dengan menghitung jarak suatu titik ke K tetangga terdekatnya. Titik dengan rata-rata/total jarak signifikan lebih besar dianggap outlier, karena berada di area kepadatan rendah.\n",
    "\n",
    "Parameter Krusial:\n",
    "1. Nilai K:\n",
    "      - K terlalu kecil: Rentan noise (false positive).\n",
    "      - K terlalu besar: Risiko melewatkan outlier (false negative).\n",
    "2. Metrik Jarak: _Euclidean_ (skala seragam) atau _Manhattan_ (robust terhadap outlier).\n",
    "3. Normalisasi: Wajib untuk data berskala berbeda (e.g., Z-score).\n",
    "\n",
    "Perkembangan KNN:\n",
    "   * _Local Outlier Factor (LOF)_: Memperhitungkan kepadatan lokal, lebih akurat untuk anomali kompleks.\n",
    "   * Kelebihan: Sederhana, intuitif, dan efektif untuk identifikasi data tidak konsisten."
   ]
  },
  {
   "cell_type": "markdown",
   "metadata": {},
   "source": [
    "### How KNN Works?"
   ]
  },
  {
   "cell_type": "markdown",
   "metadata": {},
   "source": [
    "1. **Step 1: Choose a Value for K**\n",
    "   - Pilih jumlah tetangga (K) yang akan dipertimbangkan. Misalnya, K=3 berarti algoritma akan melihat 3 tetangga terdekat untuk setiap titik data.\n",
    "2. **Step 2: Calculate Distances**\n",
    "   - Hitung jarak (**Euclidean distance**, Manhattan distance, dan Minkowski distance) antara setiap titik data dan K tetangga terdekatnya.\n",
    "3. **Step 3: Identify Outliers**\n",
    "   - Titik data dengan jarak yang lebih jauh ke tetangganya dianggap outlier. Misalnya, jika jarak rata-rata ke K tetangga terdekat jauh lebih besar dibandingkan sebagian besar data, maka titik tersebut ditandai sebagai outlier."
   ]
  },
  {
   "cell_type": "markdown",
   "metadata": {},
   "source": [
    "### What is Euclidean Distance?"
   ]
  },
  {
   "cell_type": "markdown",
   "metadata": {},
   "source": [
    "Euclidean distance adalah salah satu metrik jarak yang paling umum digunakan dalam ilmu data dan pembelajaran mesin. Ini mengukur jarak garis lurus antara dua titik dalam ruang multidimensi. Ini berasal dari teorema Pythagoras dan digunakan secara luas karena kesederhanaan dan interpretasi intuitifnya.\n",
    "\n",
    "***Euclidean Distance Formula***\n",
    "Untuk dua titik $ x = (x_1, x_2, \\dots, x_n) $ dan $ y = (y_1, y_2, \\dots, y_n) $ dalam ruang $ n $-dimensi:\n",
    "\n",
    "$$\n",
    "d(x, y) = \\sqrt{\\sum_{i=1}^n (x_i - y_i)^2}\n",
    "$$\n",
    "\n",
    "***Sample Case***\n",
    "Misalkan ada dua titik dalam ruang 2D:\n",
    "- Titik A: $ (1, 2) $\n",
    "- Titik B: $ (4, 6) $\n",
    "\n",
    "1. Hitung selisih tiap komponen:\n",
    "\n",
    "$$\n",
    "\\begin{align*}\n",
    "x_2 - x_1 &= 4 - 1 = 3 \\\\\n",
    "y_2 - y_1 &= 6 - 2 = 4 \\\\\n",
    "\\end{align*}\n",
    "$$\n",
    "\n",
    "2. Kuadratkan selisih:\n",
    "\n",
    "$$\n",
    "\\begin{align*}\n",
    "(3)^2 &= 9 \\\\\n",
    "(4)^2 &= 16 \\\\\n",
    "\\end{align*}\n",
    "$$\n",
    "\n",
    "3. Jumlahkan hasil kuadrat:\n",
    "\n",
    "$$\n",
    "9 + 16 = 25\n",
    "$$\n",
    "\n",
    "4. Akar kuadratkan hasil penjumlahan:\n",
    "\n",
    "$$\n",
    "d(A, B) = \\sqrt{25} = 3\n",
    "$$\n",
    "\n",
    "**Hasil**: Jarak Euclidean antara A dan B adalah **5 unit**."
   ]
  },
  {
   "cell_type": "markdown",
   "metadata": {},
   "source": [
    "### Why do we use KNN?"
   ]
  },
  {
   "cell_type": "markdown",
   "metadata": {},
   "source": [
    "KNN (K-Nearest Neighbors) digunakan untuk mendeteksi outlier karena kemampuannya mengukur tingkat isolasi suatu titik data berdasarkan kedekatannya dengan tetangga terdekat dalam ruang fitur. Prinsip dasarnya adalah: data normal cenderung berada di wilayah dengan kepadatan tinggi, sedangkan outlier terletak jauh dari kelompok data mayoritas. Dengan menghitung rata-rata jarak suatu titik ke K tetangga terdekatnya, KNN memberikan anomaly score yang mencerminkan seberapa \"tidak biasa\" titik tersebut. Misalnya, jika suatu titik memiliki jarak rata-rata ke 5 tetangga terdekat yang 10 kali lebih besar dari titik lain, kemungkinan besar itu adalah outlier. Kelebihan KNN adalah sederhana secara konseptual, tidak memerlukan asumsi distribusi data, dan efektif untuk data multidimensi. Namun, pemilihan nilai K yang tepat krusial nilai terlalu kecil membuat deteksi rentan noise, sementara nilai terlalu besar berisiko mengabaikan outlier yang halus."
   ]
  },
  {
   "cell_type": "markdown",
   "metadata": {},
   "source": [
    "### Why should Euclidean Distance?"
   ]
  },
  {
   "cell_type": "markdown",
   "metadata": {},
   "source": [
    "Euclidean distance dipilih karena memberikan interpretasi geometris yang intuitif sebagai jarak garis lurus antara dua titik dalam ruang multidimensi, yang sesuai dengan cara manusia mempersepsikan jarak dalam dunia fisik. Metrik ini menghitung akar kuadrat dari jumlah kuadrat selisih tiap komponen fitur, sehingga secara matematis mudah diimplementasikan dan efisien untuk data dengan skala seragam. Contohnya, pada dataset pengukuran fisik (sepanjang, lebar, tinggi), Euclidean distance secara alami mencerminkan perbedaan ukuran sebenarnya. Namun, kelemahannya adalah sensitivitas terhadap skala fitur-fitur dengan rentang nilai besar (misal: pendapatan dalam jutaan) akan mendominasi perhitungan. Oleh karena itu, normalisasi data (seperti Z-score) wajib dilakukan sebelum menggunakan Euclidean distance. Meskipun ada metrik lain seperti Manhattan atau Mahalanobis, Euclidean tetap populer karena kesederhanaan dan kinerjanya yang baik pada data rendah dimensi."
   ]
  },
  {
   "cell_type": "markdown",
   "metadata": {},
   "source": [
    "## MinMaxScaler"
   ]
  },
  {
   "cell_type": "markdown",
   "metadata": {},
   "source": [
    "```python\n",
    "from sklearn.preprocessing import MinMaxScaler\n",
    "```\n",
    "\n",
    "`MinMaxScaler` adalah alat dalam pustaka Scikit-learn yang digunakan untuk menormalkan data numerik sehingga nilai-nilai dalam setiap fitur (kolom) berada dalam rentang tertentu, secara default antara 0 dan 1. Normalisasi ini penting untuk algoritma pembelajaran mesin yang sensitif terhadap skala data, seperti K-Nearest Neighbors (KNN), karena memastikan bahwa semua fitur memiliki kontribusi yang seimbang dalam perhitungan, misalnya, saat menghitung jarak antar titik data.\n",
    "\n",
    "Tujuan utama `MinMaxScaler` adalah:\n",
    "- Mengubah data ke rentang yang ditentukan (misalnya, [0, 1]).\n",
    "- Menghilangkan perbedaan skala antar fitur, sehingga fitur dengan rentang besar (misalnya, 0-1000) tidak mendominasi fitur dengan rentang kecil (misalnya, 0-1).\n",
    "- Menjaga hubungan relatif antar nilai dalam fitur, tanpa mengasumsikan distribusi data tertentu (seperti distribusi normal)."
   ]
  },
  {
   "cell_type": "markdown",
   "metadata": {},
   "source": [
    "### MinMaxScaler Formula"
   ]
  },
  {
   "cell_type": "markdown",
   "metadata": {},
   "source": [
    "**Kasus Default**:\n",
    "Jika rentang tujuan adalah [0, 1] (pengaturan default), rumus disederhanakan menjadi:\n",
    "\n",
    "$$\n",
    "X_{\\text{scaled}} = \\frac{X - X_{\\text{min}}}{X_{\\text{max}} - X_{\\text{min}}}\n",
    "$$\n",
    "\n",
    "Rumus ini memetakan:\n",
    "- $X_{\\text{min}}$ ke 0.\n",
    "- $X_{\\text{max}}$ ke 1.\n",
    "- Nilai di antara $X_{\\text{min}}$ dan $X_{\\text{max}}$ ke nilai antara 0 dan 1 secara linier.\n",
    "\n",
    "---\n",
    "\n",
    "$$\n",
    "X_{\\text{scaled}} = \\frac{X - X_{\\text{min}}}{X_{\\text{max}} - X_{\\text{min}}} \\cdot (fr_{\\max} - fr_{\\min}) + fr_{\\min}\n",
    "$$\n",
    "\n",
    "**Penjelasan komponen rumus**:\n",
    "- $X$: Nilai asli dari fitur untuk suatu titik data.\n",
    "- $X_{\\text{min}}$: Nilai minimum dari fitur tersebut di seluruh dataset.\n",
    "- $X_{\\text{max}}$: Nilai maksimum dari fitur tersebut di seluruh dataset.\n",
    "- $fr_{\\min}$: Batas bawah rentang tujuan (default: 0).\n",
    "- $fr_{\\max}$: Batas atas rentang tujuan (default: 1).\n",
    "- $X_{\\text{scaled}}$: Nilai yang telah dinormalkan ke rentang tujuan.\n",
    "\n",
    "**Catatan**: $fr_{\\min}$ dan $fr_{\\max}$ merupakan notasi singkat untuk `feature_range_min` dan `feature_range_max`.\n",
    "\n",
    "---\n",
    "\n",
    "**Contoh Manual**:\n",
    "Misalkan fitur memiliki nilai [10, 20, 30, 40], dengan $X_{\\text{min}} = 10$ dan $X_{\\text{max}} = 40$. Untuk nilai $X = 20$:\n",
    "\n",
    "$$\n",
    "X_{\\text{scaled}} = \\frac{20 - 10}{40 - 10} = \\frac{10}{30} \\approx 0.333\n",
    "$$\n",
    "\n",
    "Jadi, nilai 20 menjadi sekitar 0.333 dalam skala [0, 1]."
   ]
  },
  {
   "cell_type": "markdown",
   "metadata": {},
   "source": [
    "### How MinMaxScaler Works?"
   ]
  },
  {
   "cell_type": "markdown",
   "metadata": {},
   "source": [
    "1. **Menghitung Parameter (Fit)**:\n",
    "   - Scaler menganalisis data untuk menemukan nilai minimum ($X_{\\text{min}}$) dan maksimum ($X_{\\text{max}}$) dari setiap fitur.\n",
    "   - Informasi ini disimpan untuk digunakan dalam transformasi.\n",
    "2. **Menskalakan Data (Transform)**:\n",
    "   - Menggunakan $X_{\\text{min}}$ dan $X_{\\text{max}}$ yang telah dihitung, setiap nilai dalam fitur diubah ke rentang tujuan (misalnya, [0, 1]) dengan rumus di atas.\n",
    "3. **Mengembalikan Skala Asli (Inverse Transform)**:\n",
    "   - Scaler dapat mengembalikan data yang telah dinormalkan ke skala aslinya, berguna untuk interpretasi hasil.\n",
    "4. **Pembaruan Bertahap (Partial Fit)**:\n",
    "   - Scaler dapat memperbarui $X_{\\text{min}}$ dan $X_{\\text{max}}$ secara bertahap jika data baru ditambahkan, cocok untuk data streaming.\n",
    "\n",
    "**Catatan Penting**:\n",
    "- Parameter $X_{\\text{min}}$ dan $X_{\\text{max}}$ dihitung dari data pelatihan (training data) untuk menghindari kebocoran data (data leakage).\n",
    "- Data uji (test data) hanya ditransformasi menggunakan parameter yang sama dari data pelatihan, tanpa menghitung ulang $X_{\\text{min}}$ dan $X_{\\text{max}}$."
   ]
  },
  {
   "cell_type": "markdown",
   "metadata": {},
   "source": [
    "### MinMaxScaler Parameters"
   ]
  },
  {
   "cell_type": "markdown",
   "metadata": {},
   "source": [
    "`MinMaxScaler` memiliki beberapa parameter yang dapat disesuaikan saat membuat instance:\n",
    "- **feature_range**: Tuple berisi dua nilai `(min, max)` yang menentukan rentang tujuan untuk data yang dinormalkan.\n",
    "  - Default: `(0, 1)`, artinya data diskalakan ke [0, 1].\n",
    "  - Contoh: Jika `feature_range=(-1, 1)`, data diskalakan ke [-1, 1].\n",
    "- **copy**: Nilai boolean yang menentukan apakah data asli akan disalin sebelum transformasi.\n",
    "  - Default: `True`, artinya salinan dibuat untuk mencegah modifikasi data asli.\n",
    "  - Jika `False`, transformasi dilakukan langsung pada data asli untuk menghemat memori (jarang digunakan).\n",
    "- **clip**: Nilai boolean yang menentukan apakah nilai di luar rentang $X_{\\text{min}}$ dan $X_{\\text{max}}$ akan dipotong ke batas rentang tujuan saat transformasi.\n",
    "  - Default: `False`, artinya nilai di luar rentang tetap dihitung sesuai rumus (bisa menghasilkan nilai di luar `feature_range`).\n",
    "  - Jika `True`, nilai lebih kecil dari $X_{\\text{min}}$ menjadi `feature_range_min`, dan nilai lebih besar dari $X_{\\text{max}}$ menjadi `feature_range_max`.\n",
    "  - Fitur ini diperkenalkan di Scikit-learn versi 1.1.\n",
    "\n",
    "**Contoh Penggunaan Parameter**:\n",
    "- Jika `feature_range=(-1, 1)`, nilai $X_{\\text{min}}$ dipetakan ke -1, dan $X_{\\text{max}}$ ke 1.\n",
    "- Jika `clip=True` dan data baru memiliki nilai di luar $X_{\\text{min}}$ atau $X_{\\text{max}}$, nilai tersebut akan dipaksa masuk ke rentang tujuan."
   ]
  },
  {
   "cell_type": "markdown",
   "metadata": {},
   "source": [
    "### MinMaxScaler Attribute"
   ]
  },
  {
   "cell_type": "markdown",
   "metadata": {},
   "source": [
    "Setelah scaler di-fit ke data, beberapa atribut tersedia untuk memberikan informasi tentang proses normalisasi:\n",
    "\n",
    "- **min_**: Nilai minimum per fitur setelah penskalaan, dihitung sebagai offset untuk transformasi.  \n",
    "  - Rumus:  \n",
    "    $$\n",
    "    \\text{min\\_} = -\\frac{X_{\\text{min}} \\cdot (fr_{\\max} - fr_{\\min})}{X_{\\text{max}} - X_{\\text{min}}} + fr_{\\min}\n",
    "    $$\n",
    "\n",
    "- **scale_**: Faktor skala per fitur, yang menunjukkan seberapa besar data asli diskalakan.  \n",
    "  - Rumus:  \n",
    "    $$\n",
    "    \\text{scale\\_} = \\frac{fr_{\\max} - fr_{\\min}}{X_{\\text{max}} - X_{\\text{min}}}\n",
    "    $$\n",
    "\n",
    "- **data_min_**: Nilai minimum asli per fitur ($X_{\\text{min}}$).  \n",
    "- **data_max_**: Nilai maksimum asli per fitur ($X_{\\text{max}}$).  \n",
    "- **data_range_**: Rentang asli per fitur ($X_{\\text{max}} - X_{\\text{min}}$).  \n",
    "- **n_features_in_**: Jumlah fitur yang ditemukan dalam data saat proses *fit*.  \n",
    "- **feature_names_in_**: Nama fitur jika data input berupa DataFrame (hanya tersedia jika input adalah DataFrame).\n",
    "\n",
    "Atribut ini berguna untuk memeriksa bagaimana scaler telah menyesuaikan diri dengan data, misalnya, untuk memverifikasi rentang asli fitur atau faktor skala yang digunakan."
   ]
  },
  {
   "cell_type": "markdown",
   "metadata": {},
   "source": [
    "### MinMaxScaler Operational Process"
   ]
  },
  {
   "cell_type": "markdown",
   "metadata": {},
   "source": [
    "1. **Fit**: Scaler mempelajari $X_{\\text{min}}$ dan $X_{\\text{max}}$ dari data yang diberikan untuk setiap fitur.\n",
    "2. **Transform**: Scaler menerapkan rumus normalisasi untuk mengubah data ke rentang tujuan.\n",
    "3. **Fit-Transform**: Kombinasi fit dan transform dalam satu langkah, sering digunakan untuk data pelatihan.\n",
    "4. **Inverse Transform**: Mengembalikan data yang telah dinormalkan ke skala aslinya menggunakan parameter yang tersimpan.\n",
    "5. **Partial Fit**: Memperbarui $X_{\\text{min}}$ dan $X_{\\text{max}}$ secara bertahap untuk data baru, berguna dalam skenario data streaming.\n",
    "\n",
    "**Contoh Alur Kerja**:\n",
    "- Dataset memiliki fitur \"usia\" dengan nilai [20, 30, 40, 50].\n",
    "- Saat fit, scaler menemukan $X_{\\text{min}} = 20$ dan $X_{\\text{max}} = 50$.\n",
    "- Saat transform, nilai 30 menjadi:\n",
    "  $$\n",
    "  X_{\\text{scaled}} = \\frac{30 - 20}{50 - 20} = \\frac{10}{30} \\approx 0.333\n",
    "  $$\n",
    "- Saat inverse transform, nilai 0.333 dikembalikan ke:\n",
    "  $$\n",
    "  X = 0.333 \\cdot (50 - 20) + 20 = 10 + 20 = 30\n",
    "  $$\n"
   ]
  },
  {
   "cell_type": "markdown",
   "metadata": {},
   "source": [
    "### MinMaxScaler Sample Case"
   ]
  },
  {
   "cell_type": "markdown",
   "metadata": {},
   "source": [
    "#### Dataset"
   ]
  },
  {
   "cell_type": "markdown",
   "metadata": {},
   "source": [
    "| Usia | Gaji   | Skor Tes |\n",
    "|------|--------|----------|\n",
    "| 20   | 20000  | 50       |\n",
    "| 30   | 40000  | 60       |\n",
    "| 40   | 60000  | 70       |\n",
    "| 50   | 100000 | 80       |"
   ]
  },
  {
   "cell_type": "markdown",
   "metadata": {},
   "source": [
    "#### Langkah 1: Menghitung Parameter\n",
    "- Untuk fitur **Usia**: $X_{\\text{min}} = 20$, $X_{\\text{max}} = 50$, rentang = $50 - 20 = 30$.\n",
    "- Untuk fitur **Gaji**: $X_{\\text{min}} = 20000$, $X_{\\text{max}} = 100000$, rentang = $100000 - 20000 = 80000$.\n",
    "- Untuk fitur **Skor Tes**: $X_{\\text{min}} = 50$, $X_{\\text{max}} = 80$, rentang = $80 - 50 = 30$.\n",
    "\n",
    "#### Langkah 2: Normalisasi ke [0, 1]\n",
    "Menggunakan rumus default:\n",
    "- **Usia** (misalnya, nilai 30):\n",
    "  $$\n",
    "  X_{\\text{scaled}} = \\frac{30 - 20}{50 - 20} = \\frac{10}{30} \\approx 0.333\n",
    "  $$\n",
    "- **Gaji** (misalnya, nilai 40000):\n",
    "  $$\n",
    "  X_{\\text{scaled}} = \\frac{40000 - 20000}{100000 - 20000} = \\frac{20000}{80000} = 0.25\n",
    "  $$\n",
    "- **Skor Tes** (misalnya, nilai 60):\n",
    "  $$\n",
    "  X_{\\text{scaled}} = \\frac{60 - 50}{80 - 50} = \\frac{10}{30} \\approx 0.333\n",
    "  $$\n",
    "\n",
    "Hasil normalisasi untuk seluruh dataset:\n",
    "| Usia  | Gaji   | Skor Tes |\n",
    "|-------|--------|----------|\n",
    "| 0.000 | 0.000  | 0.000    |\n",
    "| 0.333 | 0.250  | 0.333    |\n",
    "| 0.667 | 0.500  | 0.667    |\n",
    "| 1.000 | 1.000  | 1.000    |\n",
    "\n",
    "#### Langkah 3: Efek Parameter `clip=True`\n",
    "Misalkan ada data baru: [15, 15000, 90] (usia < min, gaji < min, skor tes > max).\n",
    "- Dengan `clip=False`, nilai dihitung sesuai rumus, menghasilkan nilai di luar [0, 1] (misalnya, usia menjadi negatif).\n",
    "- Dengan `clip=True`:\n",
    "  - Usia: 15 < 20, dipotong menjadi 0.\n",
    "  - Gaji: 15000 < 20000, dipotong menjadi 0.\n",
    "  - Skor Tes: 90 > 80, dipotong menjadi 1.\n",
    "  - Hasil: [0, 0, 1].\n",
    "\n",
    "#### Langkah 4: Inverse Transform\n",
    "Untuk nilai normalisasi [0.333, 0.250, 0.333]:\n",
    "- **Usia**: $0.333 \\cdot 30 + 20 = 10 + 20 = 30$.\n",
    "- **Gaji**: $0.250 \\cdot 80000 + 20000 = 20000 + 20000 = 40000$.\n",
    "- **Skor Tes**: $0.333 \\cdot 30 + 50 = 10 + 50 = 60$.\n",
    "Hasilnya kembali ke nilai asli: [30, 40000, 60]."
   ]
  },
  {
   "cell_type": "markdown",
   "metadata": {},
   "source": [
    "## Data Gathering"
   ]
  },
  {
   "cell_type": "code",
   "execution_count": null,
   "metadata": {},
   "outputs": [
    {
     "data": {
      "text/plain": [
       "True"
      ]
     },
     "execution_count": 41,
     "metadata": {},
     "output_type": "execute_result"
    }
   ],
   "source": [
    "import os\n",
    "import numpy as np\n",
    "import pandas as pd\n",
    "import matplotlib.pyplot as plt\n",
    "from dotenv import load_dotenv\n",
    "from sqlalchemy import create_engine\n",
    "from sklearn.neighbors import NearestNeighbors\n",
    "from sklearn.preprocessing import MinMaxScaler\n",
    "\n",
    "load_dotenv()"
   ]
  },
  {
   "cell_type": "code",
   "execution_count": 42,
   "metadata": {},
   "outputs": [
    {
     "data": {
      "text/html": [
       "<div>\n",
       "<style scoped>\n",
       "    .dataframe tbody tr th:only-of-type {\n",
       "        vertical-align: middle;\n",
       "    }\n",
       "\n",
       "    .dataframe tbody tr th {\n",
       "        vertical-align: top;\n",
       "    }\n",
       "\n",
       "    .dataframe thead th {\n",
       "        text-align: right;\n",
       "    }\n",
       "</style>\n",
       "<table border=\"1\" class=\"dataframe\">\n",
       "  <thead>\n",
       "    <tr style=\"text-align: right;\">\n",
       "      <th></th>\n",
       "      <th>id</th>\n",
       "      <th>class</th>\n",
       "      <th>petal length</th>\n",
       "      <th>petal width</th>\n",
       "      <th>sepal length</th>\n",
       "      <th>sepal width</th>\n",
       "    </tr>\n",
       "  </thead>\n",
       "  <tbody>\n",
       "    <tr>\n",
       "      <th>0</th>\n",
       "      <td>1</td>\n",
       "      <td>Iris-setosa</td>\n",
       "      <td>86.4</td>\n",
       "      <td>70.0</td>\n",
       "      <td>20.1</td>\n",
       "      <td>30.5</td>\n",
       "    </tr>\n",
       "    <tr>\n",
       "      <th>1</th>\n",
       "      <td>2</td>\n",
       "      <td>Iris-setosa</td>\n",
       "      <td>1.4</td>\n",
       "      <td>0.2</td>\n",
       "      <td>4.9</td>\n",
       "      <td>3.0</td>\n",
       "    </tr>\n",
       "    <tr>\n",
       "      <th>2</th>\n",
       "      <td>3</td>\n",
       "      <td>Iris-setosa</td>\n",
       "      <td>1.3</td>\n",
       "      <td>0.2</td>\n",
       "      <td>4.8</td>\n",
       "      <td>3.2</td>\n",
       "    </tr>\n",
       "    <tr>\n",
       "      <th>3</th>\n",
       "      <td>4</td>\n",
       "      <td>Iris-setosa</td>\n",
       "      <td>1.5</td>\n",
       "      <td>0.2</td>\n",
       "      <td>4.6</td>\n",
       "      <td>3.1</td>\n",
       "    </tr>\n",
       "    <tr>\n",
       "      <th>4</th>\n",
       "      <td>5</td>\n",
       "      <td>Iris-setosa</td>\n",
       "      <td>1.4</td>\n",
       "      <td>0.2</td>\n",
       "      <td>5.0</td>\n",
       "      <td>3.6</td>\n",
       "    </tr>\n",
       "    <tr>\n",
       "      <th>...</th>\n",
       "      <td>...</td>\n",
       "      <td>...</td>\n",
       "      <td>...</td>\n",
       "      <td>...</td>\n",
       "      <td>...</td>\n",
       "      <td>...</td>\n",
       "    </tr>\n",
       "    <tr>\n",
       "      <th>145</th>\n",
       "      <td>146</td>\n",
       "      <td>Iris-virginica</td>\n",
       "      <td>5.2</td>\n",
       "      <td>2.3</td>\n",
       "      <td>6.7</td>\n",
       "      <td>3.0</td>\n",
       "    </tr>\n",
       "    <tr>\n",
       "      <th>146</th>\n",
       "      <td>147</td>\n",
       "      <td>Iris-virginica</td>\n",
       "      <td>5.0</td>\n",
       "      <td>1.9</td>\n",
       "      <td>6.3</td>\n",
       "      <td>2.5</td>\n",
       "    </tr>\n",
       "    <tr>\n",
       "      <th>147</th>\n",
       "      <td>148</td>\n",
       "      <td>Iris-virginica</td>\n",
       "      <td>5.2</td>\n",
       "      <td>2.0</td>\n",
       "      <td>6.5</td>\n",
       "      <td>3.0</td>\n",
       "    </tr>\n",
       "    <tr>\n",
       "      <th>148</th>\n",
       "      <td>149</td>\n",
       "      <td>Iris-virginica</td>\n",
       "      <td>5.4</td>\n",
       "      <td>2.3</td>\n",
       "      <td>6.2</td>\n",
       "      <td>3.4</td>\n",
       "    </tr>\n",
       "    <tr>\n",
       "      <th>149</th>\n",
       "      <td>150</td>\n",
       "      <td>Iris-virginica</td>\n",
       "      <td>5.1</td>\n",
       "      <td>1.8</td>\n",
       "      <td>5.9</td>\n",
       "      <td>3.0</td>\n",
       "    </tr>\n",
       "  </tbody>\n",
       "</table>\n",
       "<p>150 rows × 6 columns</p>\n",
       "</div>"
      ],
      "text/plain": [
       "      id           class  petal length  petal width  sepal length  sepal width\n",
       "0      1     Iris-setosa          86.4         70.0          20.1         30.5\n",
       "1      2     Iris-setosa           1.4          0.2           4.9          3.0\n",
       "2      3     Iris-setosa           1.3          0.2           4.8          3.2\n",
       "3      4     Iris-setosa           1.5          0.2           4.6          3.1\n",
       "4      5     Iris-setosa           1.4          0.2           5.0          3.6\n",
       "..   ...             ...           ...          ...           ...          ...\n",
       "145  146  Iris-virginica           5.2          2.3           6.7          3.0\n",
       "146  147  Iris-virginica           5.0          1.9           6.3          2.5\n",
       "147  148  Iris-virginica           5.2          2.0           6.5          3.0\n",
       "148  149  Iris-virginica           5.4          2.3           6.2          3.4\n",
       "149  150  Iris-virginica           5.1          1.8           5.9          3.0\n",
       "\n",
       "[150 rows x 6 columns]"
      ]
     },
     "metadata": {},
     "output_type": "display_data"
    }
   ],
   "source": [
    "try:\n",
    "  mysql_url = os.getenv(\"MYSQL_URL\")\n",
    "  postgres_url = os.getenv(\"POSTGRES_URL\")\n",
    "  mysql_engine = create_engine(mysql_url)\n",
    "  postgres_engine = create_engine(postgres_url)\n",
    "  df_mysql = pd.read_sql(\"SELECT * FROM iris_mysql\",mysql_engine)\n",
    "  df_postgres = pd.read_sql(\"SELECT * FROM iris_postgre ORDER BY id\",postgres_engine)\n",
    "\n",
    "  df_postgres = df_postgres.drop(columns=[\"class\"])\n",
    "  df_iris = df_mysql.merge(df_postgres, on=\"id\")\n",
    "  df_iris.to_csv(\"iris_combined.csv\", index=False)\n",
    "  display(df_iris)\n",
    "\n",
    "except Exception as e:\n",
    "  print(f\"Error message: {e}\")\n",
    "\n",
    "finally:\n",
    "  mysql_engine.dispose()\n",
    "  postgres_engine.dispose()"
   ]
  },
  {
   "cell_type": "markdown",
   "metadata": {},
   "source": [
    "## Data Preparation"
   ]
  },
  {
   "cell_type": "markdown",
   "metadata": {},
   "source": [
    "### Preprocessing"
   ]
  },
  {
   "cell_type": "code",
   "execution_count": 43,
   "metadata": {},
   "outputs": [],
   "source": [
    "# Drop kolom non-numerik\n",
    "df_numeric = df_iris.drop(columns=['id', 'class'])\n",
    "\n",
    "# Normalisasi data menggunakan MinMaxScaler\n",
    "scaler = MinMaxScaler()\n",
    "df_scaled = scaler.fit_transform(df_numeric)\n",
    "\n",
    "# Normalisasi data (krusial untuk KNN)\n",
    "df_scaled = scaler.fit_transform(df_numeric)"
   ]
  },
  {
   "cell_type": "code",
   "execution_count": 44,
   "metadata": {},
   "outputs": [],
   "source": [
    "# Pilih K = 3 tetangga terdekat\n",
    "k = 3\n",
    "nbrs = NearestNeighbors(n_neighbors=k)\n",
    "nbrs.fit(df_scaled)\n",
    "\n",
    "# Hitung jarak ke K tetangga terdekat\n",
    "distances, indices = nbrs.kneighbors(df_scaled)\n",
    "\n",
    "# Hitung anomaly score (rata-rata jarak ke K tetangga)\n",
    "anomaly_scores = distances.mean(axis=1)\n",
    "\n",
    "# Tentukan threshold outlier (misal: persentil 95)\n",
    "threshold = np.percentile(anomaly_scores, 99)\n",
    "outliers = df_iris[anomaly_scores > threshold]"
   ]
  },
  {
   "cell_type": "markdown",
   "metadata": {},
   "source": [
    "### Eliminated Outliers"
   ]
  },
  {
   "cell_type": "code",
   "execution_count": 45,
   "metadata": {},
   "outputs": [],
   "source": [
    "# Untuk menghapus outlier\n",
    "df_clean = df_iris[anomaly_scores <= threshold]\n",
    "\n",
    "# Untuk menghapus permanen outlier\n",
    "df_clean = df_clean.reset_index(drop=True)\n",
    "df_clean.to_csv(\"data/tugas2/iris_KKN-cleaned.csv\", index=False)"
   ]
  },
  {
   "cell_type": "code",
   "execution_count": 46,
   "metadata": {},
   "outputs": [
    {
     "name": "stdout",
     "output_type": "stream",
     "text": [
      "=== Outlier (Total: 2 baris) ===\n"
     ]
    },
    {
     "data": {
      "text/html": [
       "<div>\n",
       "<style scoped>\n",
       "    .dataframe tbody tr th:only-of-type {\n",
       "        vertical-align: middle;\n",
       "    }\n",
       "\n",
       "    .dataframe tbody tr th {\n",
       "        vertical-align: top;\n",
       "    }\n",
       "\n",
       "    .dataframe thead th {\n",
       "        text-align: right;\n",
       "    }\n",
       "</style>\n",
       "<table border=\"1\" class=\"dataframe\">\n",
       "  <thead>\n",
       "    <tr style=\"text-align: right;\">\n",
       "      <th></th>\n",
       "      <th>id</th>\n",
       "      <th>class</th>\n",
       "      <th>sepal length</th>\n",
       "      <th>sepal width</th>\n",
       "      <th>petal length</th>\n",
       "      <th>petal width</th>\n",
       "    </tr>\n",
       "  </thead>\n",
       "  <tbody>\n",
       "    <tr>\n",
       "      <th>0</th>\n",
       "      <td>1</td>\n",
       "      <td>Iris-setosa</td>\n",
       "      <td>20.1</td>\n",
       "      <td>30.5</td>\n",
       "      <td>86.4</td>\n",
       "      <td>70.0</td>\n",
       "    </tr>\n",
       "    <tr>\n",
       "      <th>41</th>\n",
       "      <td>42</td>\n",
       "      <td>Iris-setosa</td>\n",
       "      <td>4.5</td>\n",
       "      <td>2.3</td>\n",
       "      <td>1.3</td>\n",
       "      <td>0.3</td>\n",
       "    </tr>\n",
       "  </tbody>\n",
       "</table>\n",
       "</div>"
      ],
      "text/plain": [
       "    id        class  sepal length  sepal width  petal length  petal width\n",
       "0    1  Iris-setosa          20.1         30.5          86.4         70.0\n",
       "41  42  Iris-setosa           4.5          2.3           1.3          0.3"
      ]
     },
     "metadata": {},
     "output_type": "display_data"
    }
   ],
   "source": [
    "print(\"=== Outlier (Total: {} baris) ===\".format(len(outliers)))\n",
    "display(outliers[['id', 'class', 'sepal length', 'sepal width', 'petal length', 'petal width']])"
   ]
  },
  {
   "cell_type": "markdown",
   "metadata": {},
   "source": [
    "## Data Modeling"
   ]
  },
  {
   "cell_type": "code",
   "execution_count": 47,
   "metadata": {},
   "outputs": [
    {
     "name": "stdout",
     "output_type": "stream",
     "text": [
      "=== Data Bersih (Total: 148 baris) ===\n"
     ]
    },
    {
     "data": {
      "text/html": [
       "<div>\n",
       "<style scoped>\n",
       "    .dataframe tbody tr th:only-of-type {\n",
       "        vertical-align: middle;\n",
       "    }\n",
       "\n",
       "    .dataframe tbody tr th {\n",
       "        vertical-align: top;\n",
       "    }\n",
       "\n",
       "    .dataframe thead th {\n",
       "        text-align: right;\n",
       "    }\n",
       "</style>\n",
       "<table border=\"1\" class=\"dataframe\">\n",
       "  <thead>\n",
       "    <tr style=\"text-align: right;\">\n",
       "      <th></th>\n",
       "      <th>id</th>\n",
       "      <th>class</th>\n",
       "      <th>petal length</th>\n",
       "      <th>petal width</th>\n",
       "      <th>sepal length</th>\n",
       "      <th>sepal width</th>\n",
       "    </tr>\n",
       "  </thead>\n",
       "  <tbody>\n",
       "    <tr>\n",
       "      <th>0</th>\n",
       "      <td>2</td>\n",
       "      <td>Iris-setosa</td>\n",
       "      <td>1.4</td>\n",
       "      <td>0.2</td>\n",
       "      <td>4.9</td>\n",
       "      <td>3.0</td>\n",
       "    </tr>\n",
       "    <tr>\n",
       "      <th>1</th>\n",
       "      <td>3</td>\n",
       "      <td>Iris-setosa</td>\n",
       "      <td>1.3</td>\n",
       "      <td>0.2</td>\n",
       "      <td>4.8</td>\n",
       "      <td>3.2</td>\n",
       "    </tr>\n",
       "    <tr>\n",
       "      <th>2</th>\n",
       "      <td>4</td>\n",
       "      <td>Iris-setosa</td>\n",
       "      <td>1.5</td>\n",
       "      <td>0.2</td>\n",
       "      <td>4.6</td>\n",
       "      <td>3.1</td>\n",
       "    </tr>\n",
       "    <tr>\n",
       "      <th>3</th>\n",
       "      <td>5</td>\n",
       "      <td>Iris-setosa</td>\n",
       "      <td>1.4</td>\n",
       "      <td>0.2</td>\n",
       "      <td>5.0</td>\n",
       "      <td>3.6</td>\n",
       "    </tr>\n",
       "    <tr>\n",
       "      <th>4</th>\n",
       "      <td>6</td>\n",
       "      <td>Iris-setosa</td>\n",
       "      <td>1.7</td>\n",
       "      <td>0.4</td>\n",
       "      <td>5.4</td>\n",
       "      <td>3.9</td>\n",
       "    </tr>\n",
       "    <tr>\n",
       "      <th>5</th>\n",
       "      <td>...</td>\n",
       "      <td>...</td>\n",
       "      <td>...</td>\n",
       "      <td>...</td>\n",
       "      <td>...</td>\n",
       "      <td>...</td>\n",
       "    </tr>\n",
       "    <tr>\n",
       "      <th>6</th>\n",
       "      <td>146</td>\n",
       "      <td>Iris-virginica</td>\n",
       "      <td>5.2</td>\n",
       "      <td>2.3</td>\n",
       "      <td>6.7</td>\n",
       "      <td>3.0</td>\n",
       "    </tr>\n",
       "    <tr>\n",
       "      <th>7</th>\n",
       "      <td>147</td>\n",
       "      <td>Iris-virginica</td>\n",
       "      <td>5.0</td>\n",
       "      <td>1.9</td>\n",
       "      <td>6.3</td>\n",
       "      <td>2.5</td>\n",
       "    </tr>\n",
       "    <tr>\n",
       "      <th>8</th>\n",
       "      <td>148</td>\n",
       "      <td>Iris-virginica</td>\n",
       "      <td>5.2</td>\n",
       "      <td>2.0</td>\n",
       "      <td>6.5</td>\n",
       "      <td>3.0</td>\n",
       "    </tr>\n",
       "    <tr>\n",
       "      <th>9</th>\n",
       "      <td>149</td>\n",
       "      <td>Iris-virginica</td>\n",
       "      <td>5.4</td>\n",
       "      <td>2.3</td>\n",
       "      <td>6.2</td>\n",
       "      <td>3.4</td>\n",
       "    </tr>\n",
       "    <tr>\n",
       "      <th>10</th>\n",
       "      <td>150</td>\n",
       "      <td>Iris-virginica</td>\n",
       "      <td>5.1</td>\n",
       "      <td>1.8</td>\n",
       "      <td>5.9</td>\n",
       "      <td>3.0</td>\n",
       "    </tr>\n",
       "  </tbody>\n",
       "</table>\n",
       "</div>"
      ],
      "text/plain": [
       "     id           class petal length petal width sepal length sepal width\n",
       "0     2     Iris-setosa          1.4         0.2          4.9         3.0\n",
       "1     3     Iris-setosa          1.3         0.2          4.8         3.2\n",
       "2     4     Iris-setosa          1.5         0.2          4.6         3.1\n",
       "3     5     Iris-setosa          1.4         0.2          5.0         3.6\n",
       "4     6     Iris-setosa          1.7         0.4          5.4         3.9\n",
       "5   ...             ...          ...         ...          ...         ...\n",
       "6   146  Iris-virginica          5.2         2.3          6.7         3.0\n",
       "7   147  Iris-virginica          5.0         1.9          6.3         2.5\n",
       "8   148  Iris-virginica          5.2         2.0          6.5         3.0\n",
       "9   149  Iris-virginica          5.4         2.3          6.2         3.4\n",
       "10  150  Iris-virginica          5.1         1.8          5.9         3.0"
      ]
     },
     "metadata": {},
     "output_type": "display_data"
    }
   ],
   "source": [
    "head = df_clean.head()\n",
    "tail = df_clean.tail()\n",
    "\n",
    "separator = pd.DataFrame(\n",
    "    [['...', '...', '...', '...', '...', '...']],\n",
    "    columns=['id', 'class', 'sepal length', 'sepal width', 'petal length', 'petal width']\n",
    ")\n",
    "\n",
    "combined = pd.concat([head, separator, tail], ignore_index=True)\n",
    "\n",
    "print(\"=== Data Bersih (Total: {} baris) ===\".format(len(df_clean)))\n",
    "display(combined)"
   ]
  },
  {
   "cell_type": "markdown",
   "metadata": {},
   "source": [
    "## Data Visualization"
   ]
  },
  {
   "cell_type": "code",
   "execution_count": 48,
   "metadata": {},
   "outputs": [
    {
     "data": {
      "image/png": "[encoded data removed]",
      "text/plain": [
       "<Figure size 1400x500 with 2 Axes>"
      ]
     },
     "metadata": {},
     "output_type": "display_data"
    }
   ],
   "source": [
    "plt.figure(figsize=(14,5))\n",
    "\n",
    "# Plot Data Bersih\n",
    "plt.subplot(1,2,1)\n",
    "plt.scatter(df_clean['sepal length'], df_clean['petal length'], \n",
    "            c='limegreen', alpha=0.7, label='Bersih')\n",
    "plt.xlabel('Sepal Length (cm)')\n",
    "plt.ylabel('Petal Length (cm)')\n",
    "plt.title('Data Bersih (n={})'.format(len(df_clean)))\n",
    "plt.grid(alpha=0.3)\n",
    "\n",
    "# Plot Outlier\n",
    "plt.subplot(1,2,2)\n",
    "plt.scatter(df_clean['sepal length'], df_clean['petal length'], \n",
    "            c='lightgrey', alpha=0.3, label='Bersih')\n",
    "plt.scatter(outliers['sepal length'], outliers['petal length'], \n",
    "            c='red', s=100, marker='X', label='Outlier')\n",
    "plt.xlabel('Sepal Length (cm)')\n",
    "plt.ylabel('Petal Length (cm)')\n",
    "plt.title('Outlier (n={})'.format(len(outliers)))\n",
    "plt.grid(alpha=0.3)\n",
    "plt.legend()\n",
    "\n",
    "plt.tight_layout()\n",
    "plt.savefig(\"data/tugas2/assets/KNN-Cleaned\", dpi=300)\n",
    "plt.show()"
   ]
  }
 ],
 "metadata": {
  "kernelspec": {
   "display_name": ".venv",
   "language": "python",
   "name": "python3"
  },
  "language_info": {
   "codemirror_mode": {
    "name": "ipython",
    "version": 3
   },
   "file_extension": ".py",
   "mimetype": "text/x-python",
   "name": "python",
   "nbconvert_exporter": "python",
   "pygments_lexer": "ipython3",
   "version": "3.12.6"
  }
 },
 "nbformat": 4,
 "nbformat_minor": 2
}
