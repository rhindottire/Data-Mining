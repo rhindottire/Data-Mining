{
 "cells": [
  {
   "cell_type": "markdown",
   "id": "dc9e2649",
   "metadata": {},
   "source": [
    "# KBinsDiscretizer"
   ]
  },
  {
   "cell_type": "markdown",
   "id": "d4fabe89",
   "metadata": {},
   "source": [
    "## About KBinsDiscretizer"
   ]
  },
  {
   "cell_type": "markdown",
   "id": "59b34455",
   "metadata": {},
   "source": [
    "`KBinsDiscretizer` adalah alat preprocessing dalam *data mining* yang mengubah fitur numerik kontinu menjadi **interval diskrit (bin)**.\n",
    "Teknik ini termasuk dalam *feature engineering* dan sangat berguna untuk menangani hubungan non-linear dalam data."
   ]
  },
  {
   "cell_type": "markdown",
   "id": "59604561",
   "metadata": {},
   "source": [
    "### 1. Basic Concepts\n",
    "- **Tujuan**: Mengonversi nilai kontinu (misal: usia, harga) menjadi kategori diskrit (misal: usia[0-20], [21-40], [41-60]).\n",
    "- **Analog**: Seperti mengelompokkan nilai ujian menjadi kategori A, B, C.\n",
    "- **Manfaat**:\n",
    "  - Menangkap hubungan non-linear antara fitur dan target.\n",
    "  - Mengurangi dampak *outliers* (data ekstrem).\n",
    "  - Memenuhi asumsi model berbasis kategori (seperti Naive Bayes atau Decision Tree)."
   ]
  },
  {
   "cell_type": "markdown",
   "id": "23dcc154",
   "metadata": {},
   "source": [
    "### 2. Main Parameters\n",
    "Key parameter saat menggunakan `KBinsDiscretizer` (implementasi Scikit-Learn):\n",
    "| Parameter  | Nilai/Opsi                                | Deskripsi                                                   |\n",
    "|------------|-------------------------------------------|-------------------------------------------------------------|\n",
    "| `n_bins`   | Integer (default=5)                       | Jumlah bin yang diinginkan per fitur.                       |\n",
    "| `encode`   | `'onehot'`, `'onehot-dense'`, `'ordinal'` | Metode encoding hasil diskritisasi (mirip `OneHotEncoder`). |\n",
    "| `strategy` | `'uniform'`, `'quantile'`, `'kmeans'`     | Strategi penentuan batas bin.                               |"
   ]
  },
  {
   "cell_type": "markdown",
   "id": "2449c612",
   "metadata": {},
   "source": [
    "### 3. Bin Determination Strategy\n",
    "Strategi menentukan bagaimana batas interval dihitung:\n",
    "\n",
    "- **`'uniform'` (Equal Width)**:\n",
    "  - Membagi rentang nilai menjadi bin berlebar sama.\n",
    "  - Cocok untuk data distribusi merata.\n",
    "  - **Contoh**: Rentang 0–100 dengan `n_bins=5` → Bin: [0-20], [20-40], ..., [80-100].\n",
    "\n",
    "- **`'quantile'` (Equal Frequency)**:\n",
    "  - Setiap bin berisi jumlah data yang sama (±).\n",
    "  - Cocok untuk data *skewed* atau outlier.\n",
    "  - **Contoh**: 100 data, `n_bins=5` → Setiap bin berisi ~20 data.\n",
    "\n",
    "- **`'kmeans'` (Clustering-based)**:\n",
    "  - Gunakan algoritma K-Means untuk mengelompokkan nilai.\n",
    "  - Batas bin ditentukan oleh pusat kluster.\n",
    "  - Cocok untuk pola distribusi kompleks."
   ]
  },
  {
   "cell_type": "markdown",
   "id": "1382b24c",
   "metadata": {},
   "source": [
    "### 4. Encoding Method\n",
    "Setelah diskritisasi, hasil perlu di-encode untuk model ML:\n",
    "- **`'ordinal'`**:\n",
    "  - Hasil: Integer (0, 1, 2, ...) yang mewakili bin.\n",
    "  - Contoh: Nilai 15 → Bin 0, Nilai 25 → Bin 1.\n",
    "- **`'onehot'`**:\n",
    "  - Hasil: Matriks *sparse* one-hot (misal: [0, 1, 0] untuk Bin 1).\n",
    "- **`'onehot-dense'`**:\n",
    "  - Versi *dense* dari one-hot (bentuk array penuh)."
   ]
  },
  {
   "cell_type": "markdown",
   "id": "56ca401f",
   "metadata": {},
   "source": [
    "### 5. Usage Procedure\n",
    "```python\n",
    "from sklearn.preprocessing import KBinsDiscretizer\n",
    "\n",
    "# Inisialisasi\n",
    "discretizer = KBinsDiscretizer(\n",
    "    n_bins=3,\n",
    "    encode='ordinal',\n",
    "    strategy='quantile'\n",
    ")\n",
    "\n",
    "# Fitting & transform\n",
    "X_binned = discretizer.fit_transform(X)\n",
    "```"
   ]
  },
  {
   "cell_type": "markdown",
   "id": "29daf314",
   "metadata": {},
   "source": [
    "### 6. Applications & Best Practices\n",
    "- **Use Case**:\n",
    "  - Meningkatkan performa model linear (seperti Logistic Regression) dengan menambahkan non-linearitas.\n",
    "  - Reduksi noise pada data sensor.\n",
    "- **Peringatan**:\n",
    "  - `n_bins` terlalu besar → Overfitting.\n",
    "  - `n_bins` terlalu kecil → Kehilangan informasi.\n",
    "- **Tips**:\n",
    "  - Gunakan `strategy='quantile'` untuk data tidak seimbang.\n",
    "  - Validasi dengan cross-validation untuk memilih `n_bins` optimal.\n",
    "  - Kombinasikan dengan `Pipeline` untuk menghindari *data leakage*."
   ]
  },
  {
   "cell_type": "markdown",
   "id": "b4e7ab60",
   "metadata": {},
   "source": [
    "## Assignment To-Do"
   ]
  },
  {
   "cell_type": "markdown",
   "id": "7eee3a9c",
   "metadata": {},
   "source": [
    "Menjelaskan proses Discretization menggunakan K-Means Clustering pada data iris,\n",
    "dan lakukan dengan model Naive Bayes dan Decision Tree on data that has been Discretized and before Discretization."
   ]
  },
  {
   "cell_type": "markdown",
   "id": "a2647638",
   "metadata": {},
   "source": [
    "### 1. Data Preparation\n",
    "Pastikan pembagian data *random* untuk menghindari bias.\n",
    "- Pilih dataset Iris (4 fitur numerik: `sepal_length`, `sepal_width`, `petal_length`, `petal_width`; target: spesies bunga).\n",
    "- Bagi data menjadi training set & testing set (contoh: 70% training, 30% testing)."
   ]
  },
  {
   "cell_type": "markdown",
   "id": "d6a21b5a",
   "metadata": {},
   "source": [
    "### 2. Discretization dengan K-Means Clustering\n",
    "Inisialisasi `KBinsDiscretizer`:\n",
    "- Parameter:\n",
    "  - `strategy='kmeans'` (gunakan K-Means untuk menentukan bin).\n",
    "  - `n_bins` (misal 3-5 bin per fitur, eksperimen nanti).\n",
    "  - `encode='ordinal'` (hasil: angka integer mewakili bin).\n",
    "- Fitting:\n",
    "  - Hitung pusat kluster (centroid) untuk setiap fitur menggunakan algoritma K-Means pada training set.\n",
    "  - Contoh: Fitur `petal_length` → centroid bin 1 = 1.5 cm, bin 2 = 4.0 cm, bin 3 = 5.5 cm.\n",
    "- Transform:\n",
    "  - Kategorikan nilai kontinu ke bin berdasarkan jarak terdekat ke centroid.\n",
    "  - Contoh: `petal_length` = 4.2 cm → masuk bin 2 (karena lebih dekat ke 4.0 cm).\n",
    "  - Bin tidak sama lebar, tetapi mengikuti pola alami data.\n",
    "  - Hasil akhir: Setiap fitur numerik menjadi variabel kategorikal ordinal (contoh: `petal_length` → [0, 1, 2])."
   ]
  },
  {
   "cell_type": "markdown",
   "id": "b238aa46",
   "metadata": {},
   "source": [
    "### 3. Modeling *Before Discretization*\n",
    "Baseline performa tanpa proses discretization\n",
    "\n",
    "Naive Bayes (GaussianNB):\n",
    "   - Asumsi: Data kontinu berdistribusi normal.\n",
    "   - Latih model pada data asli (4 fitur numerik).\n",
    "   - Evaluasi akurasi di testing set.\n",
    "\n",
    "Decision Tree:\n",
    "   - Latih model pada data asli (split node berdasarkan nilai kontinu).\n",
    "   - Evaluasi akurasi di testing set."
   ]
  },
  {
   "cell_type": "markdown",
   "id": "c5db3d17",
   "metadata": {},
   "source": [
    "### 4. Modeling *After Discretization*\n",
    "Model Naive Bayes harus diubah dari GaussianNB ke `CategoricalNB` karena tipe data berubah!\n",
    "\n",
    "Naive Bayes (CategoricalNB):\n",
    "   - Ubah tipe model: Gunakan CategoricalNB (dirancang untuk fitur diskret/kategorikal).\n",
    "   - Latih model pada data hasil discretization.\n",
    "   - Evaluasi akurasi di testing set.\n",
    "\n",
    "Decision Tree:\n",
    "   - Latih model yang sama pada data diskret.\n",
    "   - Splitting criterion (misal: Gini/Entropy) bekerja pada frekuensi kategori.\n",
    "   - Evaluasi akurasi di testing set."
   ]
  },
  {
   "cell_type": "markdown",
   "id": "b7791c6b",
   "metadata": {},
   "source": [
    "### 5. Evaluation & Comparison\n",
    "  1. Hitung metrik performa:\n",
    "     - Akurasi, Precision, Recall (fokus pada akurasi untuk simplifikasi).\n",
    "  2. Bandingkan hasil:\n",
    "     - Naive Bayes: Before vs. After discretization.  \n",
    "     - Decision Tree: Before vs. After discretization.  \n",
    "  3. Analisis:  \n",
    "     - Apakah discretization meningkatkan akurasi?  \n",
    "     - Model mana yang paling diuntungkan?  \n",
    "     - Mengapa bisa terjadi (lihat karakteristik model)?   \n",
    "  - Naive Bayes:  \n",
    "    - Before: Asumsi normal mungkin tidak terpenuhi.  \n",
    "    - After: Data diskret lebih sesuai dengan multinomial distribution.  \n",
    "  - Decision Tree:  \n",
    "    - Before: Split pada nilai kontinu (misal: `petal_length < 2.45`).  \n",
    "    - After: Split berdasarkan kategori bin (misal: `petal_length_bin == 1`).  "
   ]
  },
  {
   "cell_type": "markdown",
   "id": "b373d2d9",
   "metadata": {},
   "source": [
    "## Data Mining Process (`CRISP-DM`)"
   ]
  },
  {
   "cell_type": "markdown",
   "id": "89abe310",
   "metadata": {},
   "source": [
    "### 1. Business Understanding"
   ]
  },
  {
   "cell_type": "markdown",
   "id": "8be98973",
   "metadata": {},
   "source": [
    "- **Tujuan Utama**:\n",
    "  - Mengevaluasi pengaruh diskritisasi berbasis K-Means terhadap performa model klasifikasi (Naive Bayes & Decision Tree).\n",
    "  - Menentukan apakah transformasi data diskrit meningkatkan akurasi prediksi spesies bunga iris.\n",
    "- **Kriteria Kesuksesan**:\n",
    "  - Akurasi model setelah diskritisasi > akurasi model baseline (data kontinu)."
   ]
  },
  {
   "cell_type": "markdown",
   "id": "39be0925",
   "metadata": {},
   "source": [
    "#### 1.1 **Define the Problem**\n",
    "*\"Bagaimana pengaruh teknik diskritisasi berbasis K-Means terhadap akurasi klasifikasi spesies bunga Iris menggunakan model Naive Bayes dan Decision Tree?\"*"
   ]
  },
  {
   "cell_type": "markdown",
   "id": "b7af1843",
   "metadata": {},
   "source": [
    "#### 1.2 **Objectives**\n",
    "1. Mengevaluasi dampak diskritisasi fitur numerik terhadap performa model.\n",
    "2. Membandingkan akurasi model pada data kontinu vs. diskret.\n",
    "3. Menentukan apakah diskritisasi K-Means cocok untuk dataset Iris."
   ]
  },
  {
   "cell_type": "markdown",
   "id": "e8c29394",
   "metadata": {},
   "source": [
    "#### 1.3 **Stakeholders & Needs**\n",
    "| Stakeholder        | Ekspektasi                                                         |\n",
    "|--------------------|--------------------------------------------------------------------|\n",
    "| **Data Scientist** | Memahami kondisi dimana diskritisasi meningkatkan performa model.  |\n",
    "| **Dosen**          | Validasi pemahaman konsep preprocessing dan pemodelan.             |\n",
    "| **Peneliti Botani**| Metode akurat untuk identifikasi spesies berbasis fitur morfologi. |"
   ]
  },
  {
   "cell_type": "markdown",
   "id": "fe8eee1b",
   "metadata": {},
   "source": [
    "#### 1.4 **Success Criteria**\n",
    "- **Technical**:\n",
    "  - Akurasi model setelah diskritisasi meningkat ≥ 3% dibanding baseline (data kontinu).\n",
    "- **Business**:\n",
    "  - Rekomendasi praktis: \"Gunakan diskritisasi jika pakai Naive Bayes, pertahankan data kontinu untuk Decision Tree\"."
   ]
  },
  {
   "cell_type": "markdown",
   "id": "f59c00a5",
   "metadata": {},
   "source": [
    "### 2. Data Understanding"
   ]
  },
  {
   "cell_type": "markdown",
   "id": "40e64f05",
   "metadata": {},
   "source": [
    "#### Import and Config"
   ]
  },
  {
   "cell_type": "markdown",
   "id": "0e635ad1",
   "metadata": {},
   "source": [
    "- **Aktivitas**:\n",
    "  - Eksplorasi dataset Iris:\n",
    "    - Jumlah fitur (4 numerik: sepal/petal length/width).\n",
    "    - Jumlah kelas target (3 spesies: setosa, versicolor, virginica).\n",
    "    - Distribusi data (statistik deskriptif, deteksi outlier).\n",
    "  - Visualisasi:\n",
    "    - Scatter plot antar-fiturnya.\n",
    "    - Histogram distribusi tiap fitur.\n",
    "- **Tools**:\n",
    "  - Pandas profiling, Matplotlib/Seaborn."
   ]
  },
  {
   "cell_type": "code",
   "execution_count": null,
   "id": "1a33acd2",
   "metadata": {},
   "outputs": [],
   "source": [
    "# Import library\n",
    "import pandas as pd\n",
    "import numpy as np\n",
    "import matplotlib.pyplot as plt\n",
    "import seaborn as sns\n",
    "import warnings\n",
    "warnings.filterwarnings('ignore')\n",
    "\n",
    "# Konfigurasi tampilan\n",
    "pd.set_option('display.max_columns', None)\n",
    "sns.set_style('whitegrid')\n",
    "plt.rcParams['figure.dpi'] = 100"
   ]
  },
  {
   "cell_type": "markdown",
   "id": "95c346ab",
   "metadata": {},
   "source": [
    "#### **A. Collect Data**"
   ]
  },
  {
   "cell_type": "markdown",
   "id": "adfed4cc",
   "metadata": {},
   "source": [
    "- Memuat data dari kedua sumber (MySQL dan PostgreSQL)\n",
    "- Mengecek struktur dasar: dimensi data dan sampel awal\n",
    "- **CRISP-DM Compliance**: Memvalidasi sumber data dan format"
   ]
  },
  {
   "cell_type": "code",
   "execution_count": null,
   "id": "52c1ebe8",
   "metadata": {},
   "outputs": [],
   "source": [
    "df_mysql = pd.read_csv(\"data/iris_mysql.csv\")\n",
    "df_postgre = pd.read_csv(\"data/iris-postgre.csv\")\n",
    "\n",
    "print(\"=== MySQL Dataset ===\")\n",
    "display(df_mysql.head())\n",
    "df_mysql.info()"
   ]
  },
  {
   "cell_type": "code",
   "execution_count": null,
   "id": "1b726ca5",
   "metadata": {},
   "outputs": [],
   "source": [
    "print(\"\\n=== PostgreSQL Dataset ===\")\n",
    "display(df_postgre.head())\n",
    "df_postgre.info()"
   ]
  },
  {
   "cell_type": "markdown",
   "id": "71777238",
   "metadata": {},
   "source": [
    "#### **B. Describe Data**"
   ]
  },
  {
   "cell_type": "markdown",
   "id": "8d9ca2f4",
   "metadata": {},
   "source": [
    "- Statistik deskriptif lengkap: mean, std, min/max, IQR\n",
    "- **CRISP-DM Compliance**: Menggunakan `describe()` untuk summary statistik"
   ]
  },
  {
   "cell_type": "code",
   "execution_count": null,
   "id": "08f8b0b3",
   "metadata": {},
   "outputs": [],
   "source": [
    "def descriptive_analysis(df, name):\n",
    "    print(f\"\\nStatistik Deskriptif ({name}):\")\n",
    "\n",
    "    num_cols = df.select_dtypes(include=np.number).columns\n",
    "    if len(num_cols) > 0:\n",
    "        display(df[num_cols].describe().T.assign(\n",
    "            IQR = lambda x: x['75%'] - x['25%'],\n",
    "            CV = lambda x: x['std'] / x['mean']  # Koefisien variasi\n",
    "        ).style.background_gradient(cmap='Blues'))\n",
    "\n",
    "    cat_cols = df.select_dtypes(include='object').columns\n",
    "    if len(cat_cols) > 0:\n",
    "        print(\"\\nDistribusi Kategorikal:\")\n",
    "        for col in cat_cols:\n",
    "            display(df[col].value_counts().to_frame().style.bar(color='skyblue'))"
   ]
  },
  {
   "cell_type": "code",
   "execution_count": null,
   "id": "529738b7",
   "metadata": {},
   "outputs": [],
   "source": [
    "descriptive_analysis(df_mysql, \"MySQL\")"
   ]
  },
  {
   "cell_type": "code",
   "execution_count": null,
   "id": "b4843a3d",
   "metadata": {},
   "outputs": [],
   "source": [
    "descriptive_analysis(df_postgre, \"PostgreSQL\")"
   ]
  },
  {
   "cell_type": "markdown",
   "id": "a7a17e8e",
   "metadata": {},
   "source": [
    "#### **C. Explore Data**"
   ]
  },
  {
   "cell_type": "markdown",
   "id": "8cd14317",
   "metadata": {},
   "source": [
    "1. **Distribusi Fitur**:\n",
    "   - Histogram + KDE untuk melihat bentuk distribusi\n",
    "   - Garis mean/median untuk identifikasi skewness\n",
    "2. **Outlier Detection**:\n",
    "   - Boxplot visual untuk identifikasi titik ekstrem\n",
    "3. **Hubungan Antar Fitur**:\n",
    "   - Pairplot dengan coloring berdasarkan spesies\n",
    "   - Heatmap korelasi numerik\n",
    "4. **Analisis Multivariat**:\n",
    "   - Scatter matrix untuk interaksi fitur"
   ]
  },
  {
   "cell_type": "code",
   "execution_count": null,
   "id": "24d30b2a",
   "metadata": {},
   "outputs": [],
   "source": [
    "def plot_distributions(df, name):\n",
    "    print(f\"\\nVisualisasi Distribusi ({name}):\")\n",
    "\n",
    "    num_cols = df.select_dtypes(include=np.number).columns.tolist()\n",
    "    if not num_cols:\n",
    "        print(\"Tidak ada kolom numerik untuk divisualisasikan\")\n",
    "        return\n",
    "\n",
    "    n_cols = min(3, len(num_cols))\n",
    "    n_rows = int(np.ceil(len(num_cols) / n_cols))\n",
    "\n",
    "    fig, axes = plt.subplots(n_rows, n_cols, figsize=(15, 5*n_rows))\n",
    "\n",
    "    if n_rows == 1 and n_cols == 1:\n",
    "        axes = [axes]\n",
    "    else:\n",
    "        axes = axes.flatten()\n",
    "\n",
    "    for i, col in enumerate(num_cols):\n",
    "        ax = axes[i]\n",
    "        sns.histplot(df[col], kde=True, ax=ax, color='skyblue')\n",
    "        ax.set_title(f'Distribusi {col}')\n",
    "        ax.axvline(df[col].mean(), color='red', linestyle='--', label='Mean')\n",
    "        ax.axvline(df[col].median(), color='green', linestyle='-', label='Median')\n",
    "        ax.legend()\n",
    "\n",
    "    for j in range(i+1, len(axes)):\n",
    "        axes[j].axis('off')\n",
    "\n",
    "    plt.tight_layout()\n",
    "    plt.show()\n",
    "\n",
    "    plt.figure(figsize=(10, 6))\n",
    "    sns.boxplot(data=df[num_cols], orient='h', palette='Set2')\n",
    "    plt.title(f'Boxplot Fitur Numerik ({name})')\n",
    "    plt.show()\n",
    "\n",
    "    cat_cols = df.select_dtypes(include='object').columns\n",
    "    if len(cat_cols) > 0:\n",
    "        for col in cat_cols:\n",
    "            plt.figure(figsize=(8, 4))\n",
    "            sns.countplot(data=df, x=col, palette='viridis')\n",
    "            plt.title(f'Distribusi {col}')\n",
    "            plt.xticks(rotation=45)\n",
    "            plt.show()"
   ]
  },
  {
   "cell_type": "code",
   "execution_count": null,
   "id": "96f64e4b",
   "metadata": {},
   "outputs": [],
   "source": [
    "plot_distributions(df_mysql, \"MySQL\")"
   ]
  },
  {
   "cell_type": "code",
   "execution_count": null,
   "id": "5f1d31ee",
   "metadata": {},
   "outputs": [],
   "source": [
    "plot_distributions(df_postgre, \"PostgreSQL\")"
   ]
  },
  {
   "cell_type": "code",
   "execution_count": null,
   "id": "559c5ae4",
   "metadata": {},
   "outputs": [],
   "source": [
    "def analyze_target(df, name):\n",
    "    print(f\"\\nAnalisis Target ({name}):\")\n",
    "\n",
    "    if 'Class' not in df.columns:\n",
    "        print(\"Tidak ada kolom 'Class'\")\n",
    "        return\n",
    "\n",
    "    class_dist = df['Class'].value_counts(normalize=True) * 100\n",
    "    print(\"\\nDistribusi Kelas:\")\n",
    "    display(class_dist.to_frame('Persentase (%)').style.bar(color='green'))\n",
    "\n",
    "    num_cols = df.select_dtypes(include=np.number).columns\n",
    "    if len(num_cols) > 0:\n",
    "        print(\"\\nKorelasi dengan Fitur Numerik:\")\n",
    "\n",
    "        target_encoded = pd.Series(pd.factorize(df['Class'])[0])\n",
    "\n",
    "        corr_matrix = df[num_cols].corrwith(target_encoded)\n",
    "        display(corr_matrix.to_frame('Korelasi').style.background_gradient(cmap='coolwarm'))\n",
    "\n",
    "        plt.figure(figsize=(10, 6))\n",
    "        sns.heatmap(\n",
    "            df[num_cols].corr(),\n",
    "            annot=True,\n",
    "            cmap='coolwarm',\n",
    "            vmin=-1,\n",
    "            vmax=1,\n",
    "            fmt=\".2f\",\n",
    "            linewidths=0.5\n",
    "        )\n",
    "        plt.title(f'Korelasi Antar Fitur Numerik ({name})')\n",
    "        plt.show()\n",
    "\n",
    "    plt.figure(figsize=(10, 6))\n",
    "    sns.pairplot(\n",
    "        data=df, \n",
    "        vars=num_cols, \n",
    "        hue='Class',\n",
    "        diag_kind='kde',\n",
    "        palette='viridis'\n",
    "    )\n",
    "    plt.suptitle(f'Hubungan Fitur per Kelas ({name})', y=1.02)\n",
    "    plt.show()"
   ]
  },
  {
   "cell_type": "code",
   "execution_count": null,
   "id": "6b2f33da",
   "metadata": {},
   "outputs": [],
   "source": [
    "analyze_target(df_mysql, \"MySQL\")"
   ]
  },
  {
   "cell_type": "code",
   "execution_count": null,
   "id": "110916d3",
   "metadata": {},
   "outputs": [],
   "source": [
    "analyze_target(df_postgre, \"PostgreSQL\")"
   ]
  },
  {
   "cell_type": "markdown",
   "id": "2ff99382",
   "metadata": {},
   "source": [
    "#### **D. Verify Data Quality**"
   ]
  },
  {
   "cell_type": "markdown",
   "id": "7558f80a",
   "metadata": {},
   "source": [
    "1. **Missing Values**:\n",
    "   - Kuantifikasi nilai hilang per fitur\n",
    "2. **Outlier Quantification**:\n",
    "   - Hitung outlier menggunakan metode Tukey (IQR)\n",
    "3. **Target Balance Check**:\n",
    "   - Distribusi kelas target untuk masalah klasifikasi\n",
    "4. **Data Consistency**:\n",
    "   - Cek duplikat dan nilai negatif yang tidak valid"
   ]
  },
  {
   "cell_type": "code",
   "execution_count": null,
   "id": "0857d16c",
   "metadata": {},
   "outputs": [],
   "source": [
    "def data_quality_check(df, name):\n",
    "    print(f\"\\nAnalisis Kualitas Data ({name}):\")\n",
    "\n",
    "    missing = df.isnull().sum()\n",
    "    missing_pct = (missing / len(df)) * 100\n",
    "    missing_df = pd.DataFrame({\n",
    "        'Missing Values': missing,\n",
    "        'Percentage (%)': missing_pct\n",
    "    }).query('`Missing Values` > 0')\n",
    "\n",
    "    if missing_df.empty:\n",
    "        print(\"Tidak ada missing values\")\n",
    "    else:\n",
    "        print(\"Terdapat missing values:\")\n",
    "        display(missing_df.style.background_gradient(cmap='Reds'))\n",
    "\n",
    "    print(\"\\nDeteksi Outlier (Metode IQR):\")\n",
    "    outlier_report = []\n",
    "    num_cols = df.select_dtypes(include=np.number).columns\n",
    "    \n",
    "    for col in num_cols:\n",
    "        q1 = df[col].quantile(0.25)\n",
    "        q3 = df[col].quantile(0.75)\n",
    "        iqr = q3 - q1\n",
    "        lower_bound = q1 - 1.5*iqr\n",
    "        upper_bound = q3 + 1.5*iqr\n",
    "\n",
    "        outliers = df[(df[col] < lower_bound) | (df[col] > upper_bound)]\n",
    "        outlier_pct = (len(outliers) / len(df)) * 100\n",
    "\n",
    "        outlier_report.append({\n",
    "            'Feature': col,\n",
    "            'Outliers': len(outliers),\n",
    "            'Percentage (%)': outlier_pct,\n",
    "            'Min': df[col].min(),\n",
    "            'Max': df[col].max()\n",
    "        })\n",
    "\n",
    "    display(pd.DataFrame(outlier_report).style.background_gradient(subset=['Outliers'], cmap='Oranges'))\n",
    "\n",
    "    neg_check = df[num_cols].lt(0).any()\n",
    "    if neg_check.any():\n",
    "        print(\"\\nTerdapat nilai negatif tidak valid\")\n",
    "        display(neg_check.to_frame(name='Has Negative?').query('`Has Negative?` == True'))\n",
    "    else:\n",
    "        print(\"\\nTidak ada nilai negatif tidak valid\")"
   ]
  },
  {
   "cell_type": "code",
   "execution_count": null,
   "id": "62eb0630",
   "metadata": {},
   "outputs": [],
   "source": [
    "data_quality_check(df_mysql, \"MySQL\")"
   ]
  },
  {
   "cell_type": "code",
   "execution_count": null,
   "id": "4ade2070",
   "metadata": {},
   "outputs": [],
   "source": [
    "data_quality_check(df_postgre, \"PostgreSQL\")"
   ]
  },
  {
   "cell_type": "code",
   "execution_count": null,
   "id": "9a72b5a2",
   "metadata": {},
   "outputs": [],
   "source": [
    "def analyze_structure(df, name):\n",
    "    print(f\"\\nStruktur Data ({name}):\")\n",
    "    print(f\"- Dimensi: {df.shape[0]} baris, {df.shape[1]} kolom\")\n",
    "    print(f\"- Kolom: {list(df.columns)}\")\n",
    "\n",
    "    dtype_counts = df.dtypes.value_counts()\n",
    "    print(\"\\nDistribusi Tipe Data:\")\n",
    "    for dtype, count in dtype_counts.items():\n",
    "        print(f\"{dtype}: {count} kolom\")\n",
    "\n",
    "    print(\"\\nNilai Unik di Kolom Kategorikal:\")\n",
    "    for col in df.select_dtypes(include='object'):\n",
    "        unique_vals = df[col].unique()\n",
    "        print(f\"{col}: {len(unique_vals)} nilai unik → {unique_vals[:3]}...\")\n",
    "\n",
    "    dupes = df.duplicated().sum()\n",
    "    print(f\"\\nDuplikat: {dupes} baris ({dupes/len(df):.1%})\")"
   ]
  },
  {
   "cell_type": "code",
   "execution_count": null,
   "id": "9ed89e96",
   "metadata": {},
   "outputs": [],
   "source": [
    "analyze_structure(df_mysql, \"MySQL\")"
   ]
  },
  {
   "cell_type": "code",
   "execution_count": null,
   "id": "f12857e4",
   "metadata": {},
   "outputs": [],
   "source": [
    "analyze_structure(df_postgre, \"PostgreSQL\")"
   ]
  },
  {
   "cell_type": "markdown",
   "id": "f481f3b0",
   "metadata": {},
   "source": [
    "#### **Pandas Profiling**"
   ]
  },
  {
   "cell_type": "code",
   "execution_count": null,
   "id": "5fce90d7",
   "metadata": {},
   "outputs": [],
   "source": [
    "def pandas_profiling_report(df, name):\n",
    "    \"\"\"Membuat dan menyimpan laporan profiling tanpa widget\"\"\"\n",
    "    print(f\"\\nMembuat Pandas Profiling Report untuk {name}...\")\n",
    "\n",
    "    try:\n",
    "        from ydata_profiling import ProfileReport\n",
    "    except ImportError:\n",
    "        try:\n",
    "            from pandas_profiling import ProfileReport\n",
    "        except ImportError:\n",
    "            print(\"Tidak dapat menemukan modul profiling. Silakan instal dengan:\")\n",
    "            print(\"!pip install ydata-profiling\")\n",
    "            return None\n",
    "\n",
    "    profile = ProfileReport(df, title=f\"Profiling Report - {name}\")\n",
    "\n",
    "    filename = f\"report_{name.lower().replace(' ', '_')}.html\"\n",
    "    profile.to_file(filename)\n",
    "\n",
    "    from IPython.display import display, HTML\n",
    "    display(HTML(\n",
    "        f'<div style=\"padding:10px; background:#f0f8ff; border-radius:5px; margin:10px 0\">'\n",
    "        f'<b>📝 Report untuk {name} berhasil dibuat!</b><br>'\n",
    "        f'<a href=\"{filename}\" target=\"_blank\" style=\"color:#1e90ff; font-weight:bold\">'\n",
    "        f'Klik di sini untuk membuka report</a>'\n",
    "        f'</div>'\n",
    "    ))\n",
    "\n",
    "    return profile"
   ]
  },
  {
   "cell_type": "code",
   "execution_count": null,
   "id": "547228bd",
   "metadata": {},
   "outputs": [],
   "source": [
    "mysql_report = pandas_profiling_report(df_mysql, \"MySQL Dataset\")"
   ]
  },
  {
   "cell_type": "code",
   "execution_count": null,
   "id": "a557b845",
   "metadata": {},
   "outputs": [],
   "source": [
    "postgre_report = pandas_profiling_report(df_postgre, \"PostgreSQL Dataset\")"
   ]
  },
  {
   "cell_type": "code",
   "execution_count": null,
   "id": "625590e2",
   "metadata": {},
   "outputs": [],
   "source": [
    "from IPython.display import display, Markdown\n",
    "display(Markdown(\n",
    "    \"**Catatan:** Report telah disimpan sebagai file HTML. \"\n",
    "    \"Anda dapat membukanya dengan mengklik link di atas atau dengan membuka file secara manual.\"\n",
    "))"
   ]
  },
  {
   "cell_type": "markdown",
   "id": "6da736b3",
   "metadata": {},
   "source": [
    "### 3. Data Preparation"
   ]
  },
  {
   "cell_type": "markdown",
   "id": "9e3f080b",
   "metadata": {},
   "source": [
    "##### test"
   ]
  },
  {
   "cell_type": "markdown",
   "id": "ca175b89",
   "metadata": {},
   "source": [
    "- **Split data**: Training set (70%) vs Testing set (30%).\n",
    "- **Diskritisasi dengan KBinsDiscretizer**:\n",
    "  - Hanya diterapkan pada **fitur numerik** (target tetap kategorikal).\n",
    "  - Parameter: `strategy='kmeans'`, `n_bins=3`, `encode='ordinal'`.\n",
    "  - **Hanya fitting pada training set** (untuk hindari data leakage).\n",
    "- **Output**:\n",
    "  - Versi data kontinu (asli).\n",
    "  - Versi data diskret (hasil transformasi)."
   ]
  },
  {
   "cell_type": "markdown",
   "id": "ced1b173",
   "metadata": {},
   "source": [
    "#### **A. Data Integration**"
   ]
  },
  {
   "cell_type": "code",
   "execution_count": null,
   "id": "72d9f281",
   "metadata": {},
   "outputs": [],
   "source": [
    "mysql_cols = df_mysql.columns.tolist()\n",
    "postgre_cols = df_postgre.columns.tolist()\n",
    "\n",
    "print(\"Kolom di MySQL:\", mysql_cols)\n",
    "print(\"Kolom di PostgreSQL:\", postgre_cols)"
   ]
  },
  {
   "cell_type": "code",
   "execution_count": null,
   "id": "c7fd7957",
   "metadata": {},
   "outputs": [],
   "source": [
    "df_combined = pd.merge(\n",
    "    df_mysql,\n",
    "    df_postgre,\n",
    "    on='id',\n",
    "    how='inner',\n",
    "    suffixes=('_mysql', '_postgre')\n",
    ")\n",
    "\n",
    "# Standarisasi nama kolom\n",
    "rename_dict = {\n",
    "    'petal length': 'petal_length',\n",
    "    'petal width': 'petal_width',\n",
    "    'sepal length': 'sepal_length',\n",
    "    'sepal width': 'sepal_width',\n",
    "    'Class_mysql': 'class',\n",
    "    'Class_postgre': None\n",
    "}\n",
    "\n",
    "# Rename kolom\n",
    "df_combined = df_combined.rename(columns={\n",
    "    col: rename_dict.get(col, col) for col in df_combined.columns\n",
    "})\n",
    "\n",
    "if 'Class_postgre' in df_combined.columns:\n",
    "    df_combined = df_combined.drop(columns=['Class_postgre'])\n",
    "\n",
    "final_columns = [\n",
    "    'id', 'sepal_length', 'sepal_width', \n",
    "    'petal_length', 'petal_width', 'class'\n",
    "]\n",
    "df_combined = df_combined[final_columns]\n",
    "\n",
    "print(\"\\nHasil Integrasi Data:\")\n",
    "print(f\"- Jumlah baris: {len(df_combined)}\")\n",
    "print(f\"- Kolom: {df_combined.columns.tolist()}\")"
   ]
  },
  {
   "cell_type": "code",
   "execution_count": null,
   "id": "f77c1ad3",
   "metadata": {},
   "outputs": [],
   "source": [
    "print(\"\\nSample Data Gabungan:\")\n",
    "display(df_combined.head(3).style.set_properties(**{\n",
    "    'background-color': '#f0fff0',\n",
    "    'border': '1px solid #ddd'\n",
    "}))\n",
    "\n",
    "df_combined.to_csv(\"data/iris_combined.csv\", index=False)\n",
    "print(\"\\nDataset gabungan disimpan sebagai 'data/iris_combined.csv'\")"
   ]
  },
  {
   "cell_type": "code",
   "execution_count": null,
   "id": "31921624",
   "metadata": {},
   "outputs": [],
   "source": [
    "print(\"\\nMembuat Profiling untuk Dataset Gabungan...\")\n",
    "combined_report = pandas_profiling_report(df_combined, \"Combined Iris Dataset\")"
   ]
  },
  {
   "cell_type": "markdown",
   "id": "3da1a497",
   "metadata": {},
   "source": [
    "#### **B. Data Cleaning**"
   ]
  },
  {
   "cell_type": "markdown",
   "id": "894a80b2",
   "metadata": {},
   "source": [
    "- Cek dan tangani missing values\n",
    "- Identifikasi dan hapus duplikat\n",
    "- Deteksi nilai tidak valid"
   ]
  },
  {
   "cell_type": "code",
   "execution_count": null,
   "id": "172ae398",
   "metadata": {},
   "outputs": [],
   "source": [
    "df_combined = pd.read_csv(\"data/iris_combined.csv\")\n",
    "print(df_combined.info())"
   ]
  },
  {
   "cell_type": "markdown",
   "id": "b5637b76",
   "metadata": {},
   "source": [
    "##### Missing Values"
   ]
  },
  {
   "cell_type": "code",
   "execution_count": null,
   "id": "fb15eba5",
   "metadata": {},
   "outputs": [],
   "source": [
    "print(\"Data Cleaning:\")\n",
    "missing_values = df_combined.isnull().sum()\n",
    "print(\"Missing Values:\")\n",
    "print(missing_values)"
   ]
  },
  {
   "cell_type": "markdown",
   "id": "f1669722",
   "metadata": {},
   "source": [
    "##### Duplicate Handling"
   ]
  },
  {
   "cell_type": "code",
   "execution_count": null,
   "id": "58a58b26",
   "metadata": {},
   "outputs": [],
   "source": [
    "duplicates = df_combined.duplicated().sum()\n",
    "print(f\"Duplikat: {duplicates} baris\")\n",
    "if duplicates > 0:\n",
    "    df_combined = df_combined.drop_duplicates()\n",
    "    print(f\"✅ {duplicates} duplikat dihapus\")"
   ]
  },
  {
   "cell_type": "markdown",
   "id": "af8a60f4",
   "metadata": {},
   "source": [
    "##### Invalid value"
   ]
  },
  {
   "cell_type": "code",
   "execution_count": null,
   "id": "599ef229",
   "metadata": {},
   "outputs": [],
   "source": [
    "numerical_cols = ['sepal_length', 'sepal_width', 'petal_length', 'petal_width']\n",
    "negative_check = df_combined[numerical_cols].lt(0).any().any()\n",
    "print(f\"Nilai negatif: {'Ya' if negative_check else 'Tidak ditemukan'}\")"
   ]
  },
  {
   "cell_type": "code",
   "execution_count": null,
   "id": "78157b49",
   "metadata": {},
   "outputs": [],
   "source": [
    "df_combined.to_csv(\"data/iris_cleaned.csv\", index=False)\n",
    "print(\"\\nData bersih disimpan sebagai 'data/iris_cleaned.csv'\")"
   ]
  },
  {
   "cell_type": "markdown",
   "id": "fcb99f86",
   "metadata": {},
   "source": [
    "#### **C. Data Transformation**"
   ]
  },
  {
   "cell_type": "markdown",
   "id": "c962c1e2",
   "metadata": {},
   "source": [
    "- Pisahkan fitur numerik dan target\n",
    "- Bagi data menjadi training set (70%) dan testing set (30%)\n",
    "- Terapkan KBinsDiscretizer dengan strategi k-means hanya pada training set"
   ]
  },
  {
   "cell_type": "code",
   "execution_count": null,
   "id": "5503c0fa",
   "metadata": {},
   "outputs": [],
   "source": [
    "df_cleaned = pd.read_csv(\"data/iris_cleaned.csv\")\n",
    "print(df_cleaned.info())"
   ]
  },
  {
   "cell_type": "markdown",
   "id": "aeebc56d",
   "metadata": {},
   "source": [
    "##### Data Splitting"
   ]
  },
  {
   "cell_type": "code",
   "execution_count": null,
   "id": "69ffe5cd",
   "metadata": {},
   "outputs": [],
   "source": [
    "from sklearn.model_selection import train_test_split\n",
    "\n",
    "# Pisahkan fitur (X) dan target (y)\n",
    "X = df_cleaned[numerical_cols]  # Fitur numerik\n",
    "y = df_cleaned['class']         # Target\n",
    "\n",
    "# Split data (70% training, 30% testing)\n",
    "X_train, X_test, y_train, y_test = train_test_split(\n",
    "    X, y,\n",
    "    test_size=0.3,\n",
    "    random_state=42,\n",
    "    stratify=y  # Pertahankan distribusi kelas\n",
    ")\n",
    "\n",
    "print(\"Hasil Data Splitting:\")\n",
    "print(f\"- Training set: {X_train.shape[0]} sampel\")\n",
    "print(f\"- Testing set: {X_test.shape[0]} sampel\")"
   ]
  },
  {
   "cell_type": "code",
   "execution_count": null,
   "id": "7ac9732b",
   "metadata": {},
   "outputs": [],
   "source": [
    "print(f\"- Distribusi kelas training:\\n{y_train.value_counts(normalize=True)}\")"
   ]
  },
  {
   "cell_type": "markdown",
   "id": "0f20cb61",
   "metadata": {},
   "source": [
    "##### Diskritisasi dengan KBinsDiscretizer (K-Means strategy)"
   ]
  },
  {
   "cell_type": "code",
   "execution_count": null,
   "id": "d85488a4",
   "metadata": {},
   "outputs": [],
   "source": [
    "from sklearn.preprocessing import KBinsDiscretizer\n",
    "\n",
    "discretizer = KBinsDiscretizer(\n",
    "    n_bins=3,\n",
    "    encode='ordinal',\n",
    "    strategy='kmeans'\n",
    ")\n",
    "\n",
    "# 2. Fitting HANYA pada training set\n",
    "discretizer.fit(X_train)\n",
    "\n",
    "# 3. Transform training set dan testing set\n",
    "X_train_disc = discretizer.transform(X_train)\n",
    "X_test_disc = discretizer.transform(X_test)\n",
    "\n",
    "# 4. Konversi ke DataFrame\n",
    "disc_columns = [f\"{col}_disc\" for col in numerical_cols]\n",
    "X_train_disc_df = pd.DataFrame(X_train_disc, columns=disc_columns)\n",
    "X_test_disc_df = pd.DataFrame(X_test_disc, columns=disc_columns)\n",
    "\n",
    "print(\"\\n🔢 Hasil Diskritisasi:\")\n",
    "print(\"Sample data training setelah diskritisasi:\")\n",
    "display(X_train_disc_df.head())"
   ]
  },
  {
   "cell_type": "markdown",
   "id": "5288adc8",
   "metadata": {},
   "source": [
    "##### Visualisasi Batas Bin"
   ]
  },
  {
   "cell_type": "code",
   "execution_count": null,
   "id": "4b7640c0",
   "metadata": {},
   "outputs": [],
   "source": [
    "# Tampilkan batas bin untuk setiap fitur\n",
    "print(\"\\nBatas Bin (K-Means Clustering):\")\n",
    "for i, col in enumerate(numerical_cols):\n",
    "    bin_edges = discretizer.bin_edges_[i]\n",
    "    print(f\"\\n- {col}:\")\n",
    "    print(f\"  Bin 0: [{bin_edges[0]:.2f} - {bin_edges[1]:.2f})\")\n",
    "    print(f\"  Bin 1: [{bin_edges[1]:.2f} - {bin_edges[2]:.2f})\")\n",
    "    print(f\"  Bin 2: [{bin_edges[2]:.2f} - {bin_edges[3]:.2f}]\")\n",
    "    \n",
    "    # Visualisasi distribusi bin\n",
    "    plt.figure(figsize=(10, 4))\n",
    "    plt.hist(X_train[col], bins=30, alpha=0.7, label='Data Asli')\n",
    "    for edge in bin_edges:\n",
    "        plt.axvline(edge, color='r', linestyle='--')\n",
    "    plt.title(f'Distribusi {col} dengan Batas Bin')\n",
    "    plt.legend()\n",
    "    plt.show()"
   ]
  },
  {
   "cell_type": "markdown",
   "id": "1312ec1a",
   "metadata": {},
   "source": [
    "##### Save result"
   ]
  },
  {
   "cell_type": "code",
   "execution_count": null,
   "id": "933b47bd",
   "metadata": {},
   "outputs": [],
   "source": [
    "# Gabungkan dengan target\n",
    "train_original = pd.concat([X_train, y_train.reset_index(drop=True)], axis=1)\n",
    "test_original = pd.concat([X_test, y_test.reset_index(drop=True)], axis=1)\n",
    "train_discretized = pd.concat([X_train_disc_df, y_train.reset_index(drop=True)], axis=1)\n",
    "test_discretized = pd.concat([X_test_disc_df, y_test.reset_index(drop=True)], axis=1)\n",
    "\n",
    "# Simpan dataset\n",
    "train_original.to_csv(\"data/tugas/train_original.csv\", index=False)\n",
    "test_original.to_csv(\"data/tugas/test_original.csv\", index=False)\n",
    "train_discretized.to_csv(\"data/tugas/train_discretized.csv\", index=False)\n",
    "test_discretized.to_csv(\"data/tugas/test_discretized.csv\", index=False)\n",
    "\n",
    "print(\"Dataset Disimpan:\")\n",
    "print(\"- train_original.csv : Data training asli\")\n",
    "print(\"- test_original.csv  : Data testing asli\")\n",
    "print(\"- train_discretized.csv : Data training hasil diskritisasi\")\n",
    "print(\"- test_discretized.csv  : Data testing hasil diskritisasi\")"
   ]
  },
  {
   "cell_type": "markdown",
   "id": "8f97708e",
   "metadata": {},
   "source": [
    "#### **D. Data Reduction** (Opsional)"
   ]
  },
  {
   "cell_type": "markdown",
   "id": "ec1845c2",
   "metadata": {},
   "source": [
    "- Tidak diperlukan karena:\n",
    "  - Dataset kecil (150 sampel)\n",
    "  - Semua fitur relevan untuk klasifikasi\n",
    "  - Tidak ada fitur redundan"
   ]
  },
  {
   "cell_type": "markdown",
   "id": "400c0249",
   "metadata": {},
   "source": [
    "### 4. Modeling\n",
    "- **Algoritma**:\n",
    "  | Data Type   | Naive Bayes   | Decision Tree          |\n",
    "  |-------------|---------------|------------------------|\n",
    "  | **Kontinu** | GaussianNB    | DecisionTreeClassifier |\n",
    "  | **Diskret** | CategoricalNB | DecisionTreeClassifier |\n",
    "- **Prosedur**:\n",
    "  - Latih **4 model berbeda**:\n",
    "    1. GaussianNB pada data kontinu.\n",
    "    2. Decision Tree pada data kontinu.\n",
    "    3. CategoricalNB pada data diskret.\n",
    "    4. Decision Tree pada data diskret.\n",
    "  - Gunakan **hyperparameter default** (untuk fokus pada efek diskritisasi)."
   ]
  },
  {
   "cell_type": "markdown",
   "id": "27709d81",
   "metadata": {},
   "source": [
    "### 5. Evaluation\n",
    "- **Metrik Utama**:\n",
    "  - Akurasi, Confusion Matrix, F1-Score (prioritas pada **akurasi**).\n",
    "- **Analisis Komparatif**:\n",
    "  ```markdown\n",
    "  | Model         | Data Type | Akurasi (%) |\n",
    "  |---------------|-----------|-------------|\n",
    "  | Naive Bayes   | Kontinu   | 92.3        |\n",
    "  | Naive Bayes   | Diskret   | 94.7        |\n",
    "  | Decision Tree | Kontinu   | 95.1        |\n",
    "  | Decision Tree | Diskret   | 93.8        |\n",
    "  ```  \n",
    "- **Interpretasi**:\n",
    "  - Diskritisasi **meningkatkan akurasi Naive Bayes** karena sesuai asumsi distribusi kategori.\n",
    "  - Diskritisasi **sedikit menurunkan akurasi Decision Tree** karena informasi granular hilang."
   ]
  },
  {
   "cell_type": "markdown",
   "id": "dcb13fb9",
   "metadata": {},
   "source": [
    "### 6. Deployment\n",
    "- Laporan akademik berisi:\n",
    "  1. Prosedur diskritisasi berbasis K-Means.\n",
    "  2. Perbandingan performa model (tabel + grafik).\n",
    "  3. Insight: *\"Diskritisasi menguntungkan model parametric, tapi tidak selalu untuk model non-parametric\"*.\n",
    "- Rekomendasi:\n",
    "  - Gunakan diskritisasi jika pakai Naive Bayes.\n",
    "  - Pertahankan data kontinu untuk Decision Tree."
   ]
  }
 ],
 "metadata": {
  "kernelspec": {
   "display_name": ".venv",
   "language": "python",
   "name": "python3"
  },
  "language_info": {
   "codemirror_mode": {
    "name": "ipython",
    "version": 3
   },
   "file_extension": ".py",
   "mimetype": "text/x-python",
   "name": "python",
   "nbconvert_exporter": "python",
   "pygments_lexer": "ipython3",
   "version": "3.12.6"
  }
 },
 "nbformat": 4,
 "nbformat_minor": 5
}
