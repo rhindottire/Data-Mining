{
  "cells": [
    {
      "cell_type": "markdown",
      "metadata": {
        "id": "9LHWTDGv5zhh"
      },
      "source": [
        "# Data Understanding\n",
        "Data Understanding adalah fase awal dalam proses data mining _(model CRISP-DM)_ yang bertujuan untuk mengenal data secara mendalam sebelum melakukan pemrosesan atau analisis lebih lanjut. Fase ini melibatkan identifikasi karakteristik data, kualitas data, pola, anomali, serta hubungan antar variabel untuk membentuk landasan yang kokoh sebelum membangun model atau algoritma.\n",
        "\n",
        "## Data Collection\n",
        "Memperoleh data mentah dari berbagai sumber (database, API, spreadsheet)\n",
        "Details:\n",
        "  - Identifikasi dan akses sumber data (structured, unstructured, atau semi-structured)\n",
        "  - Gabungkan data dari berbagai sumber (MySQL & PostgreSQL)\n",
        "  - Dokumentasikan asal, format, dan batasan data.\n",
        "\n",
        "**Why it matters**: Pengumpulan data yang buruk mengarah pada ***garbage-in-garbage-out (GIGO) scenarios***.\n",
        "\n",
        "### Data Source\n",
        "**1. Sumber Data Internal (Private)**\n",
        "  * File Spreadsheet (Excel, CSV, JSON)\n",
        "    - Excel: File .xlsx untuk analisis sederhana (laporan penjualan bulanan)\n",
        "    - CSV: File teks dengan pemisah koma (ideal untuk pertukaran data antar sistem)\n",
        "    - JSON: Format semi-terstruktur untuk data hierarkis (konfigurasi aplikasi)\n",
        "  * Database (MySQL, PostgreSQL, Oracle)\n",
        "    - MySQL: RDBMS (relasional) untuk data struktur (laporan penjualan)\n",
        "    - PostgreSQL: RDBMS (relasional) untuk data struktur (laporan keuangan)\n",
        "    - Oracle: Database enterprise untuk sistem besar (transaksi bank)\n",
        "  * File Teks (Documents)\n",
        "    - Data tidak terstruktur dalam format .txt, .docx, .pdf, atau log file\n",
        "  * Multimedia (Gambar, Video)\n",
        "    - Data non-teks seperti gambar (.jpg, .png), audio (.mp3), atau video (.mp4)\n",
        "**2. Sumber Data Eksternal (Public)**\n",
        "  * Public Data Repository\n",
        "    - [Portal Satu Data Indonesia](https://data.go.id)\n",
        "    - [Portal Data Jakarta](https://data.jakarta.go.id)\n",
        "    - [Portal Data Bandung](https://data.bandung.go.id)\n",
        "    - [Badan Pusat Statistik](https://www.bps.go.id)\n",
        "    - [Badan Informasi Geospasial](https://tanahair.indonesia.go.id/)\n",
        "    - [UCI Machine Learning repository](https://archive.ics.uci.edu/ml/index.php)\n",
        "    - [Kaggle](https://www.kaggle.com/datasets)\n",
        "    - [World Bank Open Data](https://data.worldbank.org)\n",
        "    - [UNICEF Data](https://data.unicef.org)\n",
        "    - [WHO Open Data](https://www.who.int/data)\n",
        "    - [IBM Data Asset eXchange](https://developer.ibm.com/exchanges/data)\n",
        "    - [DBPedia](https://www.dbpedia.org/resources/)\n",
        "    - [Wikidata](https://www.wikidata.org)\n",
        "  * Public Web (Situs Web Publik)\n",
        "    - Media Sosial: Tweet dari Twitter, posting Instagram\n",
        "    - E-commerce: Harga produk dari Amazon/Tokopedia\n",
        "    - Berita: Artikel dari situs berita\n",
        "  * [Google Dataset Search](https://datasetsearch.research.google.com)\n",
        "\n",
        "**Pertimbangan Utama**:\n",
        "Pertimbangan utama mencakup aspek data internal dan eksternal. Untuk data internal, keamanan menjadi hal krusial dengan penerapan enkripsi dan pembatasan akses, contohnya mengikuti _GDPR_ untuk data EU, serta integrasi data menghindari _silo_ dengan menggabungkan sumber-sumber internal seperti _CRM_ dan database transaksi. Sementara itu, data eksternal perlu perhatian terhadap legalitas, seperti kepatuhan terhadap aturan web scraping ***(robots.txt)*** dan hak cipta, serta kualitas data harus diverifikasi, di mana data dari instansi pemerintah umumnya lebih terpercaya dibandingkan dengan blog pribadi\n",
        "\n",
        "### Data Types\n",
        "* Nominal Data / Categorical Data: Data kategori tanpa urutan (jenis kota, warna).\n",
        "* Ordinal Data: Data kategori berurutan (rating 1-5).\n",
        "* Binary Data / Dikotomi: Data kategori dengan 2 nilai (Yes/No).\n",
        "* Numerical Data / Quantitative Data:\n",
        "    - Discrete: Bilangan bulat (jumlah anak).\n",
        "    - Continuous: Bilangan desimal (suhu).\n",
        "* Text Data / String: Data teks tidak terstruktur.\n",
        "* Temporal Data / Time Series: Data terkait waktu.\n",
        "* Geospatial Data: Data geografis (koordinat).\n",
        "\n",
        "![dataTypes](img/dataTypes.webp)\n",
        "\n",
        "### Data Structure\n",
        "<pre>\n",
        "* Record / Tuple / Instance / Row / Baris              : Satu entri/data point dalam dataset.\n",
        "* Attribute / Feature / Variable / Column / Kolom      : Karakteristik atau properti dari data.\n",
        "* Dataset / Data Frame / Table / Matriks               : Kumpulan record dan attribute yang terstruktur.\n",
        "* Target Variable / Dependent Variable / Label / Class : Variabel yang ingin diprediksi atau dianalisis.\n",
        "* Schema / Metadata                                    : Deskripsi struktur data (tipe data, constraint).\n",
        "</pre>\n",
        "\n",
        "#### Structured Data:\n",
        "Data terstruktur adalah data yang memiliki format tetap dan terorganisir dalam skema yang jelas, seperti tabel dalam basis data relasional dan disimpan dalam format terorganisir dengan skema tetap, berupa tabel dengan baris (record) dan kolom (field). Data ini disimpan dalam baris dan kolom, di mana setiap kolom merepresentasikan atribut tertentu dan setiap baris adalah satu entitas data. Contoh umum dari data terstruktur termasuk data transaksi di sistem perbankan, daftar pelanggan dalam CRM, dan informasi produk dalam katalog e-commerce. Karena sifatnya yang terstruktur, data ini mudah diproses menggunakan SQL dan alat analisis data lainnya.\n",
        "  - Model data terdefinisikan sebelumnya\n",
        "  - Format item data berupa text\n",
        "  - Antar item data terbedakan dengan jelas\n",
        "  - Ekstraksi dan query langsung cukup mudah\n",
        "  * Contoh: Data tabular, data berorientasi object, time series\n",
        "#### Unstructured Data:\n",
        "  Data yang tidak memiliki format atau struktur yang terdefinisi\n",
        "  - Model data tidak terdefinisikan sebelumnya\n",
        "  - Format item data berupa text, citra, suara, video dan format lainnya\n",
        "  - Antar item data tidak cukup jelas terbedakan karena ketidak terstrukturnya\n",
        "  - Ekstraksi dan query langsung cukup sulit\n",
        "  * Contoh: Dokumen, gambar, video, audio, email, chat, dan lain-lain\n",
        "#### Semi-Structured Data:\n",
        "  Data semi-terstruktur adalah jenis data yang memiliki struktur, namun tidak diatur dalam format tabel seperti pada basis data relasional. Meskipun begitu, data ini menggunakan tag atau penanda lain untuk memisahkan dan mengidentifikasi elemen-elemennya serta mengatur hubungan hierarkis di antara elemen tersebut, sehingga informasi yang terkandung dapat diinterpretasikan dengan jelas.\n",
        "\n",
        "![dataTypes](img/dataStructure.jpeg)\n",
        "\n",
        "### Data Mining Concepts\n",
        "| **Method**                         | **Description**                                    |\n",
        "|------------------------------------|----------------------------------------------------|\n",
        "| Classification                     | Klasifikasi data ke dalam kategori.                |\n",
        "| Regression                         | Prediksi nilai numerik kontinu.                    |\n",
        "| Clustering                         | Pengelompokan data tanpa label.                    |\n",
        "| Association Rule Mining            | Menemukan pola hubungan antar-item.                |\n",
        "| Outlier Detection                  | Identifikasi data tidak wajar.                     |\n",
        "| Dimensionality Reduction           | Mengurangi jumlah fitur (PCA).                     |\n",
        "\n",
        "#### Supervised Learning\n",
        "Supervised Learning adalah metode pembelajaran mesin di mana model dilatih menggunakan data yang memiliki label atau output yang sudah diketahui sebelumnya. Model belajar dengan cara mengasosiasikan pola dari data input dengan output yang diberikan, sehingga dapat digunakan untuk membuat prediksi terhadap data baru.\n",
        "\n",
        "Ciri utama dari Supervised Learning:\n",
        "  - Menggunakan pasangan data input-output selama proses pelatihan.\n",
        "  - Model belajar dari hubungan antara fitur input dan output yang telah ditentukan.\n",
        "  - Biasanya digunakan untuk tugas prediksi atau klasifikasi.\n",
        "\n",
        "Contoh Aplikasi:\n",
        "  - Klasifikasi: Mendeteksi apakah email adalah spam atau bukan berdasarkan fitur kata-kata dalam email.\n",
        "  - Regresi: Memprediksi harga rumah berdasarkan faktor seperti luas tanah, jumlah kamar, dan lokasi.\n",
        "\n",
        "#### Unsupervised Learning\n",
        "Unsupervised Learning adalah metode pembelajaran mesin di mana model dilatih menggunakan data yang tidak memiliki label. Tujuan utama dari metode ini adalah untuk menemukan pola atau struktur tersembunyi dalam data tanpa bimbingan eksplisit.\n",
        "\n",
        "Ciri utama dari Unsupervised Learning:\n",
        "  - Tidak menggunakan label atau output yang diketahui.\n",
        "  - Model harus menemukan pola atau struktur dalam data secara mandiri.\n",
        "  - Digunakan untuk analisis data eksploratif dan pengelompokan.\n",
        "\n",
        "Contoh Aplikasi:\n",
        "  - Clustering: Mengelompokkan pelanggan berdasarkan pola belanja mereka untuk strategi pemasaran yang lebih efektif.\n",
        "  - Association Rule Mining: Menganalisis data transaksi untuk menemukan pola hubungan antar-item dalam belanja, seperti \"Pelanggan yang membeli roti cenderung membeli susu.\"\n",
        "\n",
        "| **Aspect**    | **Supervised Learning**              | **Unsupervised Learning**                |\n",
        "|---------------|--------------------------------------|------------------------------------------|\n",
        "| Data Label    | Ada label (output diketahui)         | Tidak ada label (output tidak diketahui) |\n",
        "| Tujuan        | Memprediksi nilai atau kategori baru | Menemukan pola tersembunyi dalam data    |\n",
        "| Contoh Metode | Classification, Regression           | Clustering, Association Rule Mining      |\n",
        "| Contoh Kasus  | Deteksi penipuan kartu kredit        | Segmentasi pelanggan, rekomendasi produk |\n"
      ]
    },
    {
      "cell_type": "markdown",
      "metadata": {},
      "source": [
        "## Installation Requirements\n",
        "\n",
        "1. `pymysql`\n",
        "   * Tujuan: Konektor database MySQL untuk Python.\n",
        "   * Use Case: Sambungkan ke database MySQL, jalankan query SQL, dan ambil hasilnya.\n",
        "2. `psycopg2-binary`\n",
        "   * Tujuan: Adaptor database PostgreSQL untuk Python.\n",
        "   * Use Case: Berinteraksi dengan database PostgreSQL.\n",
        "3. `sqlalchemy`\n",
        "   * Tujuan: Toolkit SQL dan pustaka Object-Relational Mapping (ORM).\n",
        "   * Use Case :\n",
        "      - Tulis kode database-agnostik (berfungsi dengan MySQL, PostgreSQL, SQLite, dll.).\n",
        "      - Tentukan tabel dan hubungan menggunakan kelas Python.\n",
        "      - Gunakan mesin SQLAlchemy untuk terhubung ke database (sering dipasangkan dengan panda).\n",
        "4. `pandas`\n",
        "   * Tujuan: Perpustakaan manipulasi dan analisis data.\n",
        "   * Use Case :\n",
        "      - Memuat data dari database CSV/Excel/SQL ke objek DataFrame.\n",
        "      - Bersihkan, ubah, dan analisis data terstruktur.\n",
        "5. `python-dotenv`\n",
        "   * Tujuan: Memuat variabel lingkungan dari file .env\n",
        "   * Use Case: Menyimpan kredensial database, kunci API, atau rahasia lainnya dengan aman.\n",
        "6. `matplotlib`\n",
        "   * Tujuan: Perpustakaan plot dan visualisasi.\n",
        "   * Use Case: Membuat grafik (diagram garis, histogram, plot sebar) untuk menjelajahi dan menyajikan data.\n",
        "\n",
        "### Why These Packages Together?\n",
        "1. Terhubung ke database (MySQL/PostgreSQL) melalui pymysql/psycopg2.\n",
        "2. Menggunakan sqlalchemy untuk interaksi database yang fleksibel.\n",
        "3. Menggunakan panda untuk manipulasi data.\n",
        "4. Mengamankan kredensial dengan python-dotenv.\n",
        "5. Memvisualisasikan hasil dengan matplotlib."
      ]
    },
    {
      "cell_type": "code",
      "execution_count": 1,
      "metadata": {},
      "outputs": [
        {
          "name": "stdout",
          "output_type": "stream",
          "text": [
            "Requirement already satisfied: pymysql in d:\\github\\lecture-projects\\data-mining\\.venv\\lib\\site-packages (1.1.1)\n",
            "Requirement already satisfied: psycopg2-binary in d:\\github\\lecture-projects\\data-mining\\.venv\\lib\\site-packages (2.9.10)\n",
            "Requirement already satisfied: sqlalchemy in d:\\github\\lecture-projects\\data-mining\\.venv\\lib\\site-packages (2.0.38)\n",
            "Requirement already satisfied: pandas in d:\\github\\lecture-projects\\data-mining\\.venv\\lib\\site-packages (2.2.3)\n",
            "Requirement already satisfied: python-dotenv in d:\\github\\lecture-projects\\data-mining\\.venv\\lib\\site-packages (1.0.1)\n",
            "Requirement already satisfied: matplotlib in d:\\github\\lecture-projects\\data-mining\\.venv\\lib\\site-packages (3.10.0)\n",
            "Requirement already satisfied: greenlet!=0.4.17 in d:\\github\\lecture-projects\\data-mining\\.venv\\lib\\site-packages (from sqlalchemy) (3.1.1)\n",
            "Requirement already satisfied: typing-extensions>=4.6.0 in d:\\github\\lecture-projects\\data-mining\\.venv\\lib\\site-packages (from sqlalchemy) (4.12.2)\n",
            "Requirement already satisfied: numpy>=1.26.0 in d:\\github\\lecture-projects\\data-mining\\.venv\\lib\\site-packages (from pandas) (2.1.3)\n",
            "Requirement already satisfied: python-dateutil>=2.8.2 in d:\\github\\lecture-projects\\data-mining\\.venv\\lib\\site-packages (from pandas) (2.9.0.post0)\n",
            "Requirement already satisfied: pytz>=2020.1 in d:\\github\\lecture-projects\\data-mining\\.venv\\lib\\site-packages (from pandas) (2025.1)\n",
            "Requirement already satisfied: tzdata>=2022.7 in d:\\github\\lecture-projects\\data-mining\\.venv\\lib\\site-packages (from pandas) (2025.1)\n",
            "Requirement already satisfied: contourpy>=1.0.1 in d:\\github\\lecture-projects\\data-mining\\.venv\\lib\\site-packages (from matplotlib) (1.3.1)\n",
            "Requirement already satisfied: cycler>=0.10 in d:\\github\\lecture-projects\\data-mining\\.venv\\lib\\site-packages (from matplotlib) (0.12.1)\n",
            "Requirement already satisfied: fonttools>=4.22.0 in d:\\github\\lecture-projects\\data-mining\\.venv\\lib\\site-packages (from matplotlib) (4.56.0)\n",
            "Requirement already satisfied: kiwisolver>=1.3.1 in d:\\github\\lecture-projects\\data-mining\\.venv\\lib\\site-packages (from matplotlib) (1.4.8)\n",
            "Requirement already satisfied: packaging>=20.0 in d:\\github\\lecture-projects\\data-mining\\.venv\\lib\\site-packages (from matplotlib) (24.2)\n",
            "Requirement already satisfied: pillow>=8 in d:\\github\\lecture-projects\\data-mining\\.venv\\lib\\site-packages (from matplotlib) (11.1.0)\n",
            "Requirement already satisfied: pyparsing>=2.3.1 in d:\\github\\lecture-projects\\data-mining\\.venv\\lib\\site-packages (from matplotlib) (3.2.1)\n",
            "Requirement already satisfied: six>=1.5 in d:\\github\\lecture-projects\\data-mining\\.venv\\lib\\site-packages (from python-dateutil>=2.8.2->pandas) (1.17.0)\n",
            "Note: you may need to restart the kernel to use updated packages.\n"
          ]
        }
      ],
      "source": [
        "%pip install pymysql psycopg2-binary sqlalchemy pandas python-dotenv matplotlib"
      ]
    },
    {
      "cell_type": "code",
      "execution_count": 2,
      "metadata": {
        "colab": {
          "base_uri": "https://localhost:8080/"
        },
        "collapsed": true,
        "id": "xfakTrvlEHLN",
        "outputId": "1f55d516-360d-43ef-a53c-d1d647d2f16d"
      },
      "outputs": [
        {
          "data": {
            "text/plain": [
              "True"
            ]
          },
          "execution_count": 2,
          "metadata": {},
          "output_type": "execute_result"
        }
      ],
      "source": [
        "import os\n",
        "import pandas as pd\n",
        "from sqlalchemy import create_engine\n",
        "from dotenv import load_dotenv\n",
        "import matplotlib.pyplot as plt\n",
        "\n",
        "load_dotenv()"
      ]
    },
    {
      "cell_type": "markdown",
      "metadata": {
        "id": "K46iT3t67gM_"
      },
      "source": [
        "## Data Gathering\n",
        "\n",
        "Dataset Iris merupakan kumpulan data yang mencakup tiga spesies bunga _iris setosa, versicolor, dan virginica_ dengan empat fitur utama, yaitu sepal_length, sepal_width, petal_length, dan petal_width. Data ini dihosting di platform [aiven.io](https://aiven.io/), dengan penyimpanan terpisah antara data petal yang berada di database **MySQL** dan data sepal yang tersimpan di database **PostgreSQL**."
      ]
    },
    {
      "cell_type": "code",
      "execution_count": 3,
      "metadata": {
        "id": "U69vNeHzanEd"
      },
      "outputs": [],
      "source": [
        "mysql_url = os.getenv(\"MYSQL_URL\")\n",
        "postgres_url = os.getenv(\"POSTGRES_URL\")\n",
        "\n",
        "# DB connection\n",
        "mysql_engine = create_engine(mysql_url)\n",
        "postgres_engine = create_engine(postgres_url)\n",
        "\n",
        "# Get Data from sql and postgres\n",
        "df_mysql = pd.read_sql(\"SELECT * FROM iris_mysql\",mysql_engine)\n",
        "df_postgres = pd.read_sql(\"SELECT * FROM iris_postgre\",postgres_engine)"
      ]
    },
    {
      "cell_type": "code",
      "execution_count": 4,
      "metadata": {
        "colab": {
          "base_uri": "https://localhost:8080/",
          "height": 206
        },
        "id": "TCIC9n4VX265",
        "outputId": "ede3ea53-d285-463b-b654-824148720602"
      },
      "outputs": [
        {
          "data": {
            "text/html": [
              "<div>\n",
              "<style scoped>\n",
              "    .dataframe tbody tr th:only-of-type {\n",
              "        vertical-align: middle;\n",
              "    }\n",
              "\n",
              "    .dataframe tbody tr th {\n",
              "        vertical-align: top;\n",
              "    }\n",
              "\n",
              "    .dataframe thead th {\n",
              "        text-align: right;\n",
              "    }\n",
              "</style>\n",
              "<table border=\"1\" class=\"dataframe\">\n",
              "  <thead>\n",
              "    <tr style=\"text-align: right;\">\n",
              "      <th></th>\n",
              "      <th>id</th>\n",
              "      <th>class</th>\n",
              "      <th>petal length</th>\n",
              "      <th>petal width</th>\n",
              "    </tr>\n",
              "  </thead>\n",
              "  <tbody>\n",
              "    <tr>\n",
              "      <th>0</th>\n",
              "      <td>1</td>\n",
              "      <td>Iris-setosa</td>\n",
              "      <td>1.4</td>\n",
              "      <td>0.2</td>\n",
              "    </tr>\n",
              "    <tr>\n",
              "      <th>1</th>\n",
              "      <td>2</td>\n",
              "      <td>Iris-setosa</td>\n",
              "      <td>1.4</td>\n",
              "      <td>0.2</td>\n",
              "    </tr>\n",
              "    <tr>\n",
              "      <th>2</th>\n",
              "      <td>3</td>\n",
              "      <td>Iris-setosa</td>\n",
              "      <td>1.3</td>\n",
              "      <td>0.2</td>\n",
              "    </tr>\n",
              "    <tr>\n",
              "      <th>3</th>\n",
              "      <td>4</td>\n",
              "      <td>Iris-setosa</td>\n",
              "      <td>1.5</td>\n",
              "      <td>0.2</td>\n",
              "    </tr>\n",
              "    <tr>\n",
              "      <th>4</th>\n",
              "      <td>5</td>\n",
              "      <td>Iris-setosa</td>\n",
              "      <td>1.4</td>\n",
              "      <td>0.2</td>\n",
              "    </tr>\n",
              "  </tbody>\n",
              "</table>\n",
              "</div>"
            ],
            "text/plain": [
              "   id        class  petal length  petal width\n",
              "0   1  Iris-setosa           1.4          0.2\n",
              "1   2  Iris-setosa           1.4          0.2\n",
              "2   3  Iris-setosa           1.3          0.2\n",
              "3   4  Iris-setosa           1.5          0.2\n",
              "4   5  Iris-setosa           1.4          0.2"
            ]
          },
          "execution_count": 4,
          "metadata": {},
          "output_type": "execute_result"
        }
      ],
      "source": [
        "df_mysql.head()"
      ]
    },
    {
      "cell_type": "code",
      "execution_count": 5,
      "metadata": {
        "colab": {
          "base_uri": "https://localhost:8080/",
          "height": 206
        },
        "id": "jCWjfr7QX9Qb",
        "outputId": "f5d7ccb8-3bc0-413d-ebec-b2ec9693de6b"
      },
      "outputs": [
        {
          "data": {
            "text/html": [
              "<div>\n",
              "<style scoped>\n",
              "    .dataframe tbody tr th:only-of-type {\n",
              "        vertical-align: middle;\n",
              "    }\n",
              "\n",
              "    .dataframe tbody tr th {\n",
              "        vertical-align: top;\n",
              "    }\n",
              "\n",
              "    .dataframe thead th {\n",
              "        text-align: right;\n",
              "    }\n",
              "</style>\n",
              "<table border=\"1\" class=\"dataframe\">\n",
              "  <thead>\n",
              "    <tr style=\"text-align: right;\">\n",
              "      <th></th>\n",
              "      <th>id</th>\n",
              "      <th>class</th>\n",
              "      <th>sepal length</th>\n",
              "      <th>sepal width</th>\n",
              "    </tr>\n",
              "  </thead>\n",
              "  <tbody>\n",
              "    <tr>\n",
              "      <th>0</th>\n",
              "      <td>1</td>\n",
              "      <td>Iris-setosa</td>\n",
              "      <td>5.1</td>\n",
              "      <td>3.5</td>\n",
              "    </tr>\n",
              "    <tr>\n",
              "      <th>1</th>\n",
              "      <td>2</td>\n",
              "      <td>Iris-setosa</td>\n",
              "      <td>4.9</td>\n",
              "      <td>3.0</td>\n",
              "    </tr>\n",
              "    <tr>\n",
              "      <th>2</th>\n",
              "      <td>3</td>\n",
              "      <td>Iris-setosa</td>\n",
              "      <td>4.7</td>\n",
              "      <td>3.2</td>\n",
              "    </tr>\n",
              "    <tr>\n",
              "      <th>3</th>\n",
              "      <td>4</td>\n",
              "      <td>Iris-setosa</td>\n",
              "      <td>4.6</td>\n",
              "      <td>3.1</td>\n",
              "    </tr>\n",
              "    <tr>\n",
              "      <th>4</th>\n",
              "      <td>5</td>\n",
              "      <td>Iris-setosa</td>\n",
              "      <td>5.0</td>\n",
              "      <td>3.6</td>\n",
              "    </tr>\n",
              "  </tbody>\n",
              "</table>\n",
              "</div>"
            ],
            "text/plain": [
              "   id        class  sepal length  sepal width\n",
              "0   1  Iris-setosa           5.1          3.5\n",
              "1   2  Iris-setosa           4.9          3.0\n",
              "2   3  Iris-setosa           4.7          3.2\n",
              "3   4  Iris-setosa           4.6          3.1\n",
              "4   5  Iris-setosa           5.0          3.6"
            ]
          },
          "execution_count": 5,
          "metadata": {},
          "output_type": "execute_result"
        }
      ],
      "source": [
        "df_postgres.head()"
      ]
    },
    {
      "cell_type": "markdown",
      "metadata": {
        "id": "e4uq_HU47wAO"
      },
      "source": [
        "## Data Profilling\n",
        "\n",
        "Dalam tahap data profiling, data dari kedua sumber—MySQL untuk data petal dan PostgreSQL untuk data sepal—digabungkan guna memperoleh gambaran menyeluruh mengenai kualitas, konsistensi, dan distribusi fitur dalam dataset Iris. Penggabungan ini memungkinkan analisis lebih mendalam, seperti identifikasi outlier dan evaluasi korelasi antar fitur, serta memastikan integritas data yang telah dikumpulkan. Dengan demikian, pendekatan integrasi data ini sangat tepat untuk mendapatkan insight yang komprehensif dan mendukung pengambilan keputusan berbasis data."
      ]
    },
    {
      "cell_type": "code",
      "execution_count": 6,
      "metadata": {
        "colab": {
          "base_uri": "https://localhost:8080/",
          "height": 423
        },
        "id": "v-rZCynFYbUU",
        "outputId": "55ecddf5-e32c-4de6-d78b-28f46ec1515b"
      },
      "outputs": [
        {
          "data": {
            "text/html": [
              "<div>\n",
              "<style scoped>\n",
              "    .dataframe tbody tr th:only-of-type {\n",
              "        vertical-align: middle;\n",
              "    }\n",
              "\n",
              "    .dataframe tbody tr th {\n",
              "        vertical-align: top;\n",
              "    }\n",
              "\n",
              "    .dataframe thead th {\n",
              "        text-align: right;\n",
              "    }\n",
              "</style>\n",
              "<table border=\"1\" class=\"dataframe\">\n",
              "  <thead>\n",
              "    <tr style=\"text-align: right;\">\n",
              "      <th></th>\n",
              "      <th>id</th>\n",
              "      <th>class</th>\n",
              "      <th>petal length</th>\n",
              "      <th>petal width</th>\n",
              "      <th>sepal length</th>\n",
              "      <th>sepal width</th>\n",
              "    </tr>\n",
              "  </thead>\n",
              "  <tbody>\n",
              "    <tr>\n",
              "      <th>0</th>\n",
              "      <td>1</td>\n",
              "      <td>Iris-setosa</td>\n",
              "      <td>1.4</td>\n",
              "      <td>0.2</td>\n",
              "      <td>5.1</td>\n",
              "      <td>3.5</td>\n",
              "    </tr>\n",
              "    <tr>\n",
              "      <th>1</th>\n",
              "      <td>2</td>\n",
              "      <td>Iris-setosa</td>\n",
              "      <td>1.4</td>\n",
              "      <td>0.2</td>\n",
              "      <td>4.9</td>\n",
              "      <td>3.0</td>\n",
              "    </tr>\n",
              "    <tr>\n",
              "      <th>2</th>\n",
              "      <td>3</td>\n",
              "      <td>Iris-setosa</td>\n",
              "      <td>1.3</td>\n",
              "      <td>0.2</td>\n",
              "      <td>4.7</td>\n",
              "      <td>3.2</td>\n",
              "    </tr>\n",
              "    <tr>\n",
              "      <th>3</th>\n",
              "      <td>4</td>\n",
              "      <td>Iris-setosa</td>\n",
              "      <td>1.5</td>\n",
              "      <td>0.2</td>\n",
              "      <td>4.6</td>\n",
              "      <td>3.1</td>\n",
              "    </tr>\n",
              "    <tr>\n",
              "      <th>4</th>\n",
              "      <td>5</td>\n",
              "      <td>Iris-setosa</td>\n",
              "      <td>1.4</td>\n",
              "      <td>0.2</td>\n",
              "      <td>5.0</td>\n",
              "      <td>3.6</td>\n",
              "    </tr>\n",
              "    <tr>\n",
              "      <th>...</th>\n",
              "      <td>...</td>\n",
              "      <td>...</td>\n",
              "      <td>...</td>\n",
              "      <td>...</td>\n",
              "      <td>...</td>\n",
              "      <td>...</td>\n",
              "    </tr>\n",
              "    <tr>\n",
              "      <th>145</th>\n",
              "      <td>146</td>\n",
              "      <td>Iris-virginica</td>\n",
              "      <td>5.2</td>\n",
              "      <td>2.3</td>\n",
              "      <td>6.7</td>\n",
              "      <td>3.0</td>\n",
              "    </tr>\n",
              "    <tr>\n",
              "      <th>146</th>\n",
              "      <td>147</td>\n",
              "      <td>Iris-virginica</td>\n",
              "      <td>5.0</td>\n",
              "      <td>1.9</td>\n",
              "      <td>6.3</td>\n",
              "      <td>2.5</td>\n",
              "    </tr>\n",
              "    <tr>\n",
              "      <th>147</th>\n",
              "      <td>148</td>\n",
              "      <td>Iris-virginica</td>\n",
              "      <td>5.2</td>\n",
              "      <td>2.0</td>\n",
              "      <td>6.5</td>\n",
              "      <td>3.0</td>\n",
              "    </tr>\n",
              "    <tr>\n",
              "      <th>148</th>\n",
              "      <td>149</td>\n",
              "      <td>Iris-virginica</td>\n",
              "      <td>5.4</td>\n",
              "      <td>2.3</td>\n",
              "      <td>6.2</td>\n",
              "      <td>3.4</td>\n",
              "    </tr>\n",
              "    <tr>\n",
              "      <th>149</th>\n",
              "      <td>150</td>\n",
              "      <td>Iris-virginica</td>\n",
              "      <td>5.1</td>\n",
              "      <td>1.8</td>\n",
              "      <td>5.9</td>\n",
              "      <td>3.0</td>\n",
              "    </tr>\n",
              "  </tbody>\n",
              "</table>\n",
              "<p>150 rows × 6 columns</p>\n",
              "</div>"
            ],
            "text/plain": [
              "      id           class  petal length  petal width  sepal length  sepal width\n",
              "0      1     Iris-setosa           1.4          0.2           5.1          3.5\n",
              "1      2     Iris-setosa           1.4          0.2           4.9          3.0\n",
              "2      3     Iris-setosa           1.3          0.2           4.7          3.2\n",
              "3      4     Iris-setosa           1.5          0.2           4.6          3.1\n",
              "4      5     Iris-setosa           1.4          0.2           5.0          3.6\n",
              "..   ...             ...           ...          ...           ...          ...\n",
              "145  146  Iris-virginica           5.2          2.3           6.7          3.0\n",
              "146  147  Iris-virginica           5.0          1.9           6.3          2.5\n",
              "147  148  Iris-virginica           5.2          2.0           6.5          3.0\n",
              "148  149  Iris-virginica           5.4          2.3           6.2          3.4\n",
              "149  150  Iris-virginica           5.1          1.8           5.9          3.0\n",
              "\n",
              "[150 rows x 6 columns]"
            ]
          },
          "execution_count": 6,
          "metadata": {},
          "output_type": "execute_result"
        }
      ],
      "source": [
        "df_postgres = df_postgres.drop(columns=[\"class\"]) # remove \"class\" col in dataframe postgreSQL\n",
        "df_iris = df_mysql.merge(df_postgres, on=\"id\")\n",
        "df_iris.to_csv(\"iris_combined.csv\", index=False) # convert file to scv\n",
        "df_iris"
      ]
    },
    {
      "cell_type": "markdown",
      "metadata": {
        "id": "dLCEDG7cudSa"
      },
      "source": [
        "## Descriptive Statistics\n",
        "\n",
        "![dataTypes](img/dataStatis.webp)"
      ]
    },
    {
      "cell_type": "code",
      "execution_count": 7,
      "metadata": {
        "colab": {
          "base_uri": "https://localhost:8080/"
        },
        "id": "5DFP0PhvuJ2k",
        "outputId": "5feff71c-67f5-453e-a372-758019088bee"
      },
      "outputs": [
        {
          "name": "stdout",
          "output_type": "stream",
          "text": [
            "        sepal length  sepal width  petal length  petal width\n",
            "mean        5.843333        3.054      3.758667     1.198667\n",
            "median      5.800000        3.000      4.350000     1.300000\n",
            "min         4.300000        2.000      1.000000     0.100000\n",
            "max         7.900000        4.400      6.900000     2.500000\n",
            "mode        5.000000        3.000      1.500000     0.200000\n"
          ]
        }
      ],
      "source": [
        "fitur = [\"sepal length\", \"sepal width\", \"petal length\", \"petal width\"]\n",
        "stats = df_iris[fitur].agg(['mean', 'median', 'min', 'max'])\n",
        "mode_values = df_iris[fitur].mode().iloc[0]\n",
        "\n",
        "stats.loc['mode'] = mode_values\n",
        "print(stats)"
      ]
    },
    {
      "cell_type": "markdown",
      "metadata": {
        "id": "sY39rDShu0vh"
      },
      "source": [
        "## Data Visualization\n",
        "\n",
        "![dataTypes](img/dataViz.png)"
      ]
    },
    {
      "cell_type": "code",
      "execution_count": 8,
      "metadata": {
        "colab": {
          "base_uri": "https://localhost:8080/",
          "height": 754
        },
        "id": "ftvVgbFZuz2p",
        "outputId": "fbe15174-8779-4437-d23a-23e75893ee11"
      },
      "outputs": [
        {
          "data": {
            "image/png": "[encoded data removed]",
            "text/plain": [
              "<Figure size 1200x800 with 4 Axes>"
            ]
          },
          "metadata": {},
          "output_type": "display_data"
        }
      ],
      "source": [
        "fitur = [\"sepal length\", \"sepal width\", \"petal length\", \"petal width\"]\n",
        "fig, axes = plt.subplots(2, 2, figsize=(12, 8))\n",
        "fig.suptitle(\"Distribusi Data Iris\", fontsize=16)\n",
        "\n",
        "for ax, col in zip(axes.flat, fitur):\n",
        "    df_iris[col].hist(bins=20, ax=ax, color='skyblue', edgecolor='black')\n",
        "    ax.set_title(f\"Distribusi {col}\")\n",
        "    ax.set_xlabel(col)\n",
        "    ax.set_ylabel(\"Frekuensi\")\n",
        "\n",
        "plt.tight_layout(rect=[0, 0, 1, 0.96])\n",
        "plt.show()\n"
      ]
    }
  ],
  "metadata": {
    "colab": {
      "provenance": [],
      "toc_visible": true
    },
    "kernelspec": {
      "display_name": ".venv",
      "language": "python",
      "name": "python3"
    },
    "language_info": {
      "codemirror_mode": {
        "name": "ipython",
        "version": 3
      },
      "file_extension": ".py",
      "mimetype": "text/x-python",
      "name": "python",
      "nbconvert_exporter": "python",
      "pygments_lexer": "ipython3",
      "version": "3.12.6"
    }
  },
  "nbformat": 4,
  "nbformat_minor": 0
}
