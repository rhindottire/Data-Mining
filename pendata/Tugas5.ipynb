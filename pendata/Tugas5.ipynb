{
 "cells": [
  {
   "cell_type": "markdown",
   "id": "dc9e2649",
   "metadata": {},
   "source": [
    "# Clustering and K-Means\n",
    "\n",
    "## What is Clustering?\n",
    "Clustering adalah teknik pengelompokan data tanpa label (**unsupervised learning**) di mana objek dalam kelompok (cluster) memiliki kesamaan sifat yang tinggi, sementara objek antar-cluster memiliki perbedaan yang signifikan, Tujuannya:\n",
    "- Memahami struktur data.\n",
    "- Mengidentifikasi pola tersembunyi.\n",
    "- Segmentasi (pelanggan, dokumen, gambar).\n",
    "\n",
    "**Jenis Clustering**:\n",
    "- **Centroid-based**: K-Means, K-Medoids.\n",
    "- **Density-based**: DBSCAN.\n",
    "- **Hierarchical**: Agglomerative Clustering.\n",
    "- **Distribution-based**: Gaussian Mixture Models (GMM)."
   ]
  },
  {
   "cell_type": "markdown",
   "id": "074f243e",
   "metadata": {},
   "source": [
    "## K-Means Clustering\n",
    "- Setiap cluster direpresentasikan oleh **centroid** (titik pusat).\n",
    "- Algoritma berusaha meminimalkan **inertia** (jumlah kuadrat jarak tiap titik ke centroid).\n",
    "\n",
    "1. **Pilih Jumlah Cluster (K)**: Misal, K=3.\n",
    "2. **Inisialisasi Centroid**: Pilih K titik acak sebagai centroid awal.\n",
    "3. **Assignment Phase**:\n",
    "   - Setiap titik data dihitung jaraknya ke semua centroid.\n",
    "   - Titik dialokasikan ke cluster dengan centroid **terdekat** (biasanya *jarak Euclidean*).\n",
    "   - **Rumus Jarak Euclidean**:\n",
    "     $$\n",
    "     d(x, \\mu_k) = \\sqrt{\\sum_{i=1}^n (x_i - \\mu_{ki})^2}\n",
    "     $$\n",
    "4. **Update Phase**:\n",
    "   - Hitung ulang centroid sebagai rata-rata semua titik dalam cluster:\n",
    "     $$\n",
    "     \\mu_k^{(new)} = \\frac{1}{|C_k|} \\sum_{x \\in C_k} x\n",
    "     $$\n",
    "5. **Iterasi**: Ulangi langkah 2 sampai n-1 atau:\n",
    "   - Centroid tidak berubah.\n",
    "   - Maksimum iterasi tercapai."
   ]
  },
  {
   "cell_type": "markdown",
   "id": "670292a8",
   "metadata": {},
   "source": [
    "## Inertia (Cluster Quality)\n",
    "Inertia adalah total **jumlah kuadrat jarak** setiap titik data ke centroid clusternya. Semakin kecil inertia, semakin \"padat\" cluster.\n",
    "\n",
    "**Rumus**:\n",
    "\n",
    "$$\n",
    "\\text{Inertia} = \\sum_{i=1}^n \\min_{\\mu_k} ||x_i - \\mu_k||^2\n",
    "$$\n",
    "\n",
    "**Interpretasi**:\n",
    "- Inertia rendah → Cluster rapat (titik dekat dengan centroid).\n",
    "- Inertia tinggi → Cluster renggang.\n",
    "\n",
    "**Paradoks Inertia**:\n",
    "- Jika K = jumlah data → Inertia = 0 (semua titik adalah centroid).\n",
    "- **Masalah**: Bagaimana memilih K yang optimal?\n",
    "\n",
    "## Elbow Method\n",
    "1. Hitung inertia untuk berbagai nilai K (misal: K = 1 hingga K = n-1).\n",
    "2. Plot **Inertia vs. K**.\n",
    "3. Cari \"siku\" (*elbow*) di mana penurunan inertia melambat drastis.\n",
    "\n",
    "Jika Grafik menurun tajam saat K=1→3, lalu landai saat K>3 → Pilih K=3.\n",
    "\n",
    "**Keterbatasan**:\n",
    "- Tidak selalu jelas di mana \"siku\" berada.\n",
    "- Subjektif → Butuh metode pelengkap seperti **Silhouette Analysis**."
   ]
  },
  {
   "cell_type": "markdown",
   "id": "3d6e0daf",
   "metadata": {},
   "source": [
    "## Silhouette Analysis\n",
    "**A. Konsep Cohesion & Separation**\n",
    "- **Cohesion (a(i))**: Rata-rata jarak titik ke sesama anggota cluster.\n",
    "  - *Semakin kecil a(i)* → Cluster semakin padat.\n",
    "- **Separation (b(i))**: Rata-rata jarak titik ke cluster terdekat.\n",
    "  - *Semakin besar b(i)* → Cluster terpisah dengan baik.\n",
    "\n",
    "**B. Rumus Silhouette Score**\n",
    "Untuk satu titik data $ x_i $:\n",
    "\n",
    "$$\n",
    "s(i) = \\frac{b(i) - a(i)}{\\max\\{a(i), b(i)\\}}\n",
    "$$\n",
    "\n",
    "- **Rentang**: $-1 \\leq s(i) \\leq 1$.\n",
    "- **Interpretasi**:\n",
    "  - $ s(i) \\approx 1 $: Titik cocok dengan clusternya.\n",
    "  - $ s(i) \\approx 0 $: Titik berada di perbatasan dua cluster.\n",
    "  - $ s(i) \\approx -1 $: Titik salah cluster.\n",
    "\n",
    "**Silhouette Score Global**:\n",
    "Rata-rata $ s(i) $ untuk semua titik.\n",
    "\n",
    "**C. Analisis Silhouette Plot**\n",
    "- **Bilah Horizontal**: Menunjukkan distribusi $ s(i) $ tiap cluster.\n",
    "- **Lebar Bilah**: Semakin lebar → Cluster lebih homogen.\n",
    "- **Tinggi Rata-Rata**: Semakin tinggi → Kualitas cluster lebih baik."
   ]
  },
  {
   "cell_type": "markdown",
   "id": "d50894c7",
   "metadata": {},
   "source": [
    "## Evaluasi Tabel\n",
    "\n",
    "| Keyword | Definisi | Purpose | Rumus |\n",
    "|---------|----------|---------|-------|\n",
    "| **Clustering**| Teknik `unsupervised learning` untuk mengelompokkan data berdasarkan kesamaan. | Memahami struktur data, segmentasi, identifikasi pola.| Tidak ada rumus tunggal; bergantung pada algoritma (K-Means, DBSCAN, Hierarchical).|\n",
    "| **K-Means** | Algoritma clustering berbasis centroid dengan meminimalkan inertia.| Membagi data ke dalam K cluster yang homogen. | $\\mu_k^{(new)} = \\frac{1}{\\|C_k\\|} \\sum_{x \\in C_k} x$ |\n",
    "| **Centroid** | Titik pusat cluster (rata-rata semua titik dalam cluster). | Menjadi representasi pusat cluster untuk perhitungan jarak. | $\\mu_k = \\text{rata-rata titik dalam cluster}$ |\n",
    "| **Inertia** | Total jumlah kuadrat jarak titik ke centroid clusternya.| Mengukur kepadatan cluster (semakin kecil, semakin baik). | $\\text{Inertia} = \\sum_{i=1}^n \\min_{\\mu_k} \\|x_i - \\mu_k\\|^2$  |\n",
    "| **Silhouette**| Skor yang mengukur seberapa baik titik cocok dengan clusternya. | Menilai kualitas cluster dengan mempertimbangkan cohesion dan separation. | $s(i) = \\frac{b(i) - a(i)}{\\max\\{a(i), b(i)\\}}$ |\n",
    "\n",
    "**1. Clustering vs. K-Means**:\n",
    "* Clustering adalah konsep umum.\n",
    "  - Kelebihan:\n",
    "    - Tidak perlu label.\n",
    "    - Cocok untuk eksplorasi data.\n",
    "  - Kekurangan:\n",
    "    - Subjektif dalam pemilihan jumlah cluster.\n",
    "    - Sensitif terhadap noise.\n",
    "* K-Means adalah salah satu algoritmanya.\n",
    "  - Kelebihan:\n",
    "    - Cepat dan efisien.\n",
    "    - Mudah diimplementasikan.\n",
    "  - Kekurangan\n",
    "    - Harus tentukan K manual.\n",
    "    - Sensitif terhadap inisialisasi centroid awal.\n",
    "\n",
    "**2. Inertia vs. Silhouette**:\n",
    "* Inertia fokus pada kepadatan cluster.\n",
    "  - Kelebihan:\n",
    "    -  Metrik kualitas cluster yang sederhana.\n",
    "  - Kekurangan:\n",
    "    -  Tidak bekerja baik untuk cluster non-spherical.\n",
    "    -  Paradoks K = jumlah data.\n",
    "* Silhouette mempertimbangkan pemisahan antar-cluster.\n",
    "  - Kelebihan:\n",
    "    - Objektif (rentang -1 hingga 1).\n",
    "    - Mempertimbangkan struktur cluster.\n",
    "  - Kekurangan\n",
    "    - Komputasi lebih intensif.\n",
    "    - Tidak efektif untuk cluster density-based.\n",
    "\n",
    "**3. Centroid vs. Medoid**:\n",
    "* Centroid adalah titik rata-rata.\n",
    "* medoid adalah titik aktual dalam data."
   ]
  },
  {
   "cell_type": "code",
   "execution_count": 44,
   "id": "50c17e06",
   "metadata": {},
   "outputs": [],
   "source": [
    "import os\n",
    "import pandas as pd\n",
    "import numpy as np\n",
    "from sklearn.cluster import KMeans\n",
    "from sqlalchemy import create_engine\n",
    "from sklearn.metrics import silhouette_score\n",
    "from sklearn.preprocessing import StandardScaler\n",
    "import matplotlib.pyplot as plt"
   ]
  },
  {
   "cell_type": "code",
   "execution_count": 45,
   "id": "dda72308",
   "metadata": {},
   "outputs": [
    {
     "name": "stdout",
     "output_type": "stream",
     "text": [
      "      id           class  petal length  petal width  sepal length  sepal width\n",
      "0      1     Iris-setosa          86.4         70.0          20.1         30.5\n",
      "1      2     Iris-setosa           1.4          0.2           4.9          3.0\n",
      "2      3     Iris-setosa           1.3          0.2           4.8          3.2\n",
      "3      4     Iris-setosa           1.5          0.2           4.6          3.1\n",
      "4      5     Iris-setosa           1.4          0.2           5.0          3.6\n",
      "..   ...             ...           ...          ...           ...          ...\n",
      "145  146  Iris-virginica           5.2          2.3           6.7          3.0\n",
      "146  147  Iris-virginica           5.0          1.9           6.3          2.5\n",
      "147  148  Iris-virginica           5.2          2.0           6.5          3.0\n",
      "148  149  Iris-virginica           5.4          2.3           6.2          3.4\n",
      "149  150  Iris-virginica           5.1          1.8           5.9          3.0\n",
      "\n",
      "[150 rows x 6 columns]\n"
     ]
    }
   ],
   "source": [
    "try:\n",
    "  mysql_url = os.getenv(\"MYSQL_URL\")\n",
    "  postgres_url = os.getenv(\"POSTGRES_URL\")\n",
    "  mysql_engine = create_engine(mysql_url)\n",
    "  postgres_engine = create_engine(postgres_url)\n",
    "  df_mysql = pd.read_sql(\"SELECT * FROM iris_mysql\",mysql_engine)\n",
    "  df_postgres = pd.read_sql(\"SELECT * FROM iris_postgre ORDER BY id\",postgres_engine)\n",
    "\n",
    "  df_postgres = df_postgres.drop(columns=[\"class\"])\n",
    "  df_iris = df_mysql.merge(df_postgres, on=\"id\")\n",
    "  df_iris.to_csv(\"iris_combined.csv\", index=False)\n",
    "  print(df_iris)\n",
    "\n",
    "except Exception as e:\n",
    "  print(f\"Error message: {e}\")\n",
    "\n",
    "finally:\n",
    "  mysql_engine.dispose()\n",
    "  postgres_engine.dispose()"
   ]
  },
  {
   "cell_type": "code",
   "execution_count": 46,
   "id": "3e5dee09",
   "metadata": {},
   "outputs": [
    {
     "name": "stdout",
     "output_type": "stream",
     "text": [
      "     petal length  petal width  sepal length  sepal width\n",
      "0            86.4         70.0          20.1         30.5\n",
      "1             1.4          0.2           4.9          3.0\n",
      "2             1.3          0.2           4.8          3.2\n",
      "3             1.5          0.2           4.6          3.1\n",
      "4             1.4          0.2           5.0          3.6\n",
      "..            ...          ...           ...          ...\n",
      "145           5.2          2.3           6.7          3.0\n",
      "146           5.0          1.9           6.3          2.5\n",
      "147           5.2          2.0           6.5          3.0\n",
      "148           5.4          2.3           6.2          3.4\n",
      "149           5.1          1.8           5.9          3.0\n",
      "\n",
      "[150 rows x 4 columns]\n"
     ]
    }
   ],
   "source": [
    "# Data dengan outlier (seperti petal length = 86.4)\n",
    "df_raw = pd.read_csv(\"iris_combined.csv\")\n",
    "X_raw = df_raw.drop(columns=[\"id\", \"class\"])  # Kolom yang tidak digunakan\n",
    "print(X_raw)"
   ]
  },
  {
   "cell_type": "code",
   "execution_count": 47,
   "id": "c73e9f55",
   "metadata": {},
   "outputs": [
    {
     "name": "stdout",
     "output_type": "stream",
     "text": [
      "     petal length  petal width  sepal length  sepal width\n",
      "0             1.4          0.2           4.9          3.0\n",
      "1             1.3          0.2           4.8          3.2\n",
      "2             1.5          0.2           4.6          3.1\n",
      "3             1.4          0.2           5.0          3.6\n",
      "4             1.7          0.4           5.4          3.9\n",
      "..            ...          ...           ...          ...\n",
      "137           5.2          2.3           6.7          3.0\n",
      "138           5.0          1.9           6.3          2.5\n",
      "139           5.2          2.0           6.5          3.0\n",
      "140           5.4          2.3           6.2          3.4\n",
      "141           5.1          1.8           5.9          3.0\n",
      "\n",
      "[142 rows x 4 columns]\n"
     ]
    }
   ],
   "source": [
    "df_clean = pd.read_csv(\"iris_cleaned.csv\") # Tugas 4 Naive Bayes\n",
    "X_clean = df_clean.drop(columns=[\"id\", \"class\"])\n",
    "print(X_clean)"
   ]
  },
  {
   "cell_type": "code",
   "execution_count": 48,
   "id": "30753dce",
   "metadata": {},
   "outputs": [
    {
     "name": "stdout",
     "output_type": "stream",
     "text": [
      "=== Hasil Clustering dengan Outlier ===\n",
      "K=2: SSE = 67.73, Silhouette = 0.96\n",
      "K=3: SSE = 24.86, Silhouette = 0.51\n",
      "K=4: SSE = 14.51, Silhouette = 0.47\n"
     ]
    }
   ],
   "source": [
    "scaler = StandardScaler()\n",
    "X_raw_scaled = scaler.fit_transform(X_raw)\n",
    "\n",
    "results_raw = {}\n",
    "for k in range(2, 5):\n",
    "    kmeans = KMeans(n_clusters=k, n_init=10, random_state=42)\n",
    "    labels = kmeans.fit_predict(X_raw_scaled)\n",
    "    sse = kmeans.inertia_\n",
    "    silhouette = silhouette_score(X_raw_scaled, labels)\n",
    "    results_raw[k] = {\"SSE\": sse, \"Silhouette\": silhouette}\n",
    "\n",
    "print(\"=== Hasil Clustering dengan Outlier ===\")\n",
    "for k, metrics in results_raw.items():\n",
    "    print(f\"K={k}: SSE = {metrics['SSE']:.2f}, Silhouette = {metrics['Silhouette']:.2f}\")"
   ]
  },
  {
   "cell_type": "code",
   "execution_count": 49,
   "id": "b3d796c0",
   "metadata": {},
   "outputs": [
    {
     "name": "stdout",
     "output_type": "stream",
     "text": [
      "\n",
      "=== Hasil Clustering Tanpa Outlier ===\n",
      "K=2: SSE = 195.83, Silhouette = 0.60\n",
      "K=3: SSE = 124.29, Silhouette = 0.46\n",
      "K=4: SSE = 98.43, Silhouette = 0.41\n"
     ]
    }
   ],
   "source": [
    "X_clean_scaled = scaler.fit_transform(X_clean)\n",
    "results_clean = {}\n",
    "for k in range(2, 5):\n",
    "    kmeans = KMeans(n_clusters=k, n_init=10, random_state=42)\n",
    "    labels = kmeans.fit_predict(X_clean_scaled)\n",
    "    sse = kmeans.inertia_\n",
    "    silhouette = silhouette_score(X_clean_scaled, labels)\n",
    "    results_clean[k] = {\"SSE\": sse, \"Silhouette\": silhouette}\n",
    "\n",
    "print(\"\\n=== Hasil Clustering Tanpa Outlier ===\")\n",
    "for k, metrics in results_clean.items():\n",
    "    print(f\"K={k}: SSE = {metrics['SSE']:.2f}, Silhouette = {metrics['Silhouette']:.2f}\")"
   ]
  },
  {
   "cell_type": "code",
   "execution_count": 50,
   "id": "ac12c12d",
   "metadata": {},
   "outputs": [
    {
     "data": {
      "image/png": "[encoded data removed]",
      "text/plain": [
       "<Figure size 1200x500 with 2 Axes>"
      ]
     },
     "metadata": {},
     "output_type": "display_data"
    }
   ],
   "source": [
    "plt.figure(figsize=(12, 5))\n",
    "\n",
    "# Plot Raw Data\n",
    "plt.subplot(1, 2, 1)\n",
    "plt.plot(list(results_raw.keys()), [m[\"SSE\"] for m in results_raw.values()], marker='o')\n",
    "plt.title(\"Elbow Method (Dengan Outlier)\")\n",
    "plt.xlabel(\"Number of Clusters (K)\")\n",
    "plt.ylabel(\"SSE\")\n",
    "\n",
    "# Plot Clean Data\n",
    "plt.subplot(1, 2, 2)\n",
    "plt.plot(list(results_clean.keys()), [m[\"SSE\"] for m in results_clean.values()], marker='o', color='green')\n",
    "plt.title(\"Elbow Method (Tanpa Outlier)\")\n",
    "plt.xlabel(\"Number of Clusters (K)\")\n",
    "\n",
    "plt.tight_layout()\n",
    "# plt.savefig(\"elbow_comparison.png\")\n",
    "plt.show()"
   ]
  },
  {
   "cell_type": "code",
   "execution_count": 51,
   "id": "1d8ce2fc",
   "metadata": {},
   "outputs": [
    {
     "data": {
      "image/png": "[encoded data removed]",
      "text/plain": [
       "<Figure size 1200x500 with 2 Axes>"
      ]
     },
     "metadata": {},
     "output_type": "display_data"
    }
   ],
   "source": [
    "plt.figure(figsize=(12, 5))\n",
    "\n",
    "# Plot Raw Data\n",
    "plt.subplot(1, 2, 1)\n",
    "plt.bar(list(results_raw.keys()), [m[\"Silhouette\"] for m in results_raw.values()])\n",
    "plt.title(\"Silhouette Score (Dengan Outlier)\")\n",
    "plt.xlabel(\"Number of Clusters (K)\")\n",
    "plt.ylim(0, 1)\n",
    "\n",
    "# Plot Clean Data\n",
    "plt.subplot(1, 2, 2)\n",
    "plt.bar(list(results_clean.keys()), [m[\"Silhouette\"] for m in results_clean.values()], color='green')\n",
    "plt.title(\"Silhouette Score (Tanpa Outlier)\")\n",
    "plt.xlabel(\"Number of Clusters (K)\")\n",
    "plt.ylim(0, 1)\n",
    "\n",
    "plt.tight_layout()\n",
    "# plt.savefig(\"silhouette_comparison.png\")\n",
    "plt.show()"
   ]
  },
  {
   "cell_type": "markdown",
   "id": "20b17dff",
   "metadata": {},
   "source": [
    "## Summary\n",
    "\n",
    "Dengan Outlier:\n",
    "- SSE lebih tinggi karena outlier meningkatkan jarak ke centroid.\n",
    "- Silhouette lebih rendah karena outlier mengganggu struktur cluster.\n",
    "- K optimal mungkin tidak terdeteksi dengan jelas.\n",
    "\n",
    "Tanpa Outlier:\n",
    "- SSE lebih rendah dan Silhouette lebih tinggi.\n",
    "- Pola cluster lebih jelas (misal: K=2 atau K=3 optimal).\n",
    "\n",
    "---"
   ]
  },
  {
   "cell_type": "markdown",
   "id": "c7c3cb17",
   "metadata": {},
   "source": [
    "### **1. Clustering**\n",
    "Clustering menggunakan algoritma **K-Means** (unsupervised learning untuk pengelompokan data).\n",
    "```python\n",
    "from sklearn.cluster import KMeans\n",
    "kmeans = KMeans(n_clusters=k, n_init=10, random_state=42)\n",
    "labels = kmeans.fit_predict(X_scaled)\n",
    "```\n",
    "\n",
    "### **2. K-Means**\n",
    "- Algoritma K-Means dijalankan dengan menentukan jumlah cluster (`n_clusters`),\n",
    "- inisialisasi centroid (`n_init`), dan random state untuk reproduktibilitas.\n",
    "```python\n",
    "kmeans = KMeans(n_clusters=k, n_init=10, random_state=42)\n",
    "labels = kmeans.fit_predict(X_scaled)\n",
    "```\n",
    "\n",
    "\n",
    "### **3. Inertia (SSE)**\n",
    "Inertia `(Sum of Squared Errors)` diakses melalui atribut `inertia_` dari model K-Means.\n",
    "```python\n",
    "sse = kmeans.inertia_  # Inertia = SSE\n",
    "```\n",
    "\n",
    "### **4. Silhouette Score**\n",
    "Skor Silhouette dihitung menggunakan `silhouette_score` dari `sklearn.metrics`.\n",
    "```python\n",
    "from sklearn.metrics import silhouette_score\n",
    "silhouette = silhouette_score(X_scaled, labels)\n",
    "```\n",
    "\n",
    "### **5. Centroid vs Medoid**\n",
    "- **Centroid**:\n",
    "  - K-Means menggunakan **centroid** (rata-rata titik dalam cluster).\n",
    "  - Centroid dapat diakses melalui `cluster_centers_`.\n",
    "```python\n",
    "centroids = kmeans.cluster_centers_  # Contoh: cetak centroid untuk K=3\n",
    "print(centroids)\n",
    "```\n",
    "\n",
    "- **Medoid**:\n",
    "  - Medoid adalah titik *aktual* dalam data yang paling dekat dengan centroid, digunakan di algoritma **K-Medoids**\n",
    "  - Kode menggunakan K-Means (centroid-based), bukan K-Medoids (medoid-based)."
   ]
  }
 ],
 "metadata": {
  "kernelspec": {
   "display_name": ".venv",
   "language": "python",
   "name": "python3"
  },
  "language_info": {
   "codemirror_mode": {
    "name": "ipython",
    "version": 3
   },
   "file_extension": ".py",
   "mimetype": "text/x-python",
   "name": "python",
   "nbconvert_exporter": "python",
   "pygments_lexer": "ipython3",
   "version": "3.12.6"
  }
 },
 "nbformat": 4,
 "nbformat_minor": 5
}
