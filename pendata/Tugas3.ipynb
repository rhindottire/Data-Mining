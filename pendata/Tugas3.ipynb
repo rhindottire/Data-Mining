{
 "cells": [
  {
   "cell_type": "code",
   "execution_count": null,
   "metadata": {},
   "outputs": [
    {
     "name": "stdout",
     "output_type": "stream",
     "text": [
      "Requirement already satisfied: psycopg2 in d:\\github\\lecture-projects\\data-mining\\.venv\\lib\\site-packages (2.9.10)Note: you may need to restart the kernel to use updated packages.\n",
      "\n",
      "Requirement already satisfied: pymysql in d:\\github\\lecture-projects\\data-mining\\.venv\\lib\\site-packages (1.1.1)\n",
      "Requirement already satisfied: numpy in d:\\github\\lecture-projects\\data-mining\\.venv\\lib\\site-packages (2.1.3)\n",
      "Requirement already satisfied: pandas in d:\\github\\lecture-projects\\data-mining\\.venv\\lib\\site-packages (2.2.3)\n",
      "Requirement already satisfied: seaborn in d:\\github\\lecture-projects\\data-mining\\.venv\\lib\\site-packages (0.13.2)\n",
      "Requirement already satisfied: matplotlib in d:\\github\\lecture-projects\\data-mining\\.venv\\lib\\site-packages (3.10.0)\n",
      "Requirement already satisfied: scipy in d:\\github\\lecture-projects\\data-mining\\.venv\\lib\\site-packages (1.15.2)\n",
      "Requirement already satisfied: scikit-learn in d:\\github\\lecture-projects\\data-mining\\.venv\\lib\\site-packages (1.6.1)\n",
      "Requirement already satisfied: plotly in d:\\github\\lecture-projects\\data-mining\\.venv\\lib\\site-packages (6.0.1)\n",
      "Requirement already satisfied: python-dateutil>=2.8.2 in d:\\github\\lecture-projects\\data-mining\\.venv\\lib\\site-packages (from pandas) (2.9.0.post0)\n",
      "Requirement already satisfied: pytz>=2020.1 in d:\\github\\lecture-projects\\data-mining\\.venv\\lib\\site-packages (from pandas) (2025.1)\n",
      "Requirement already satisfied: tzdata>=2022.7 in d:\\github\\lecture-projects\\data-mining\\.venv\\lib\\site-packages (from pandas) (2025.1)\n",
      "Requirement already satisfied: contourpy>=1.0.1 in d:\\github\\lecture-projects\\data-mining\\.venv\\lib\\site-packages (from matplotlib) (1.3.1)\n",
      "Requirement already satisfied: cycler>=0.10 in d:\\github\\lecture-projects\\data-mining\\.venv\\lib\\site-packages (from matplotlib) (0.12.1)\n",
      "Requirement already satisfied: fonttools>=4.22.0 in d:\\github\\lecture-projects\\data-mining\\.venv\\lib\\site-packages (from matplotlib) (4.56.0)\n",
      "Requirement already satisfied: kiwisolver>=1.3.1 in d:\\github\\lecture-projects\\data-mining\\.venv\\lib\\site-packages (from matplotlib) (1.4.8)\n",
      "Requirement already satisfied: packaging>=20.0 in d:\\github\\lecture-projects\\data-mining\\.venv\\lib\\site-packages (from matplotlib) (24.2)\n",
      "Requirement already satisfied: pillow>=8 in d:\\github\\lecture-projects\\data-mining\\.venv\\lib\\site-packages (from matplotlib) (11.1.0)\n",
      "Requirement already satisfied: pyparsing>=2.3.1 in d:\\github\\lecture-projects\\data-mining\\.venv\\lib\\site-packages (from matplotlib) (3.2.1)\n",
      "Requirement already satisfied: joblib>=1.2.0 in d:\\github\\lecture-projects\\data-mining\\.venv\\lib\\site-packages (from scikit-learn) (1.4.2)\n",
      "Requirement already satisfied: threadpoolctl>=3.1.0 in d:\\github\\lecture-projects\\data-mining\\.venv\\lib\\site-packages (from scikit-learn) (3.5.0)\n",
      "Requirement already satisfied: narwhals>=1.15.1 in d:\\github\\lecture-projects\\data-mining\\.venv\\lib\\site-packages (from plotly) (1.31.0)\n",
      "Requirement already satisfied: six>=1.5 in d:\\github\\lecture-projects\\data-mining\\.venv\\lib\\site-packages (from python-dateutil>=2.8.2->pandas) (1.17.0)\n"
     ]
    }
   ],
   "source": [
    "%pip install psycopg2 pymysql numpy pandas seaborn matplotlib scipy scikit-learn"
   ]
  },
  {
   "cell_type": "code",
   "execution_count": 168,
   "metadata": {},
   "outputs": [],
   "source": [
    "import os\n",
    "import pymysql\n",
    "import psycopg2\n",
    "import numpy as np\n",
    "import pandas as pd\n",
    "import seaborn as sns\n",
    "import matplotlib.pyplot as plt\n",
    "from sqlalchemy import create_engine\n",
    "from dotenv import load_dotenv\n",
    "from sklearn.datasets import load_iris\n",
    "from scipy.spatial.distance import euclidean\n",
    "from sklearn.neighbors import NearestNeighbors\n",
    "from sklearn.neighbors import LocalOutlierFactor\n",
    "\n",
    "load_dotenv()\n",
    "iris = load_iris()\n",
    "df = pd.DataFrame(iris.data, columns=iris.feature_names)\n",
    "df.columns = ['sepal length', 'sepal width', 'petal length', 'petal width']"
   ]
  },
  {
   "cell_type": "code",
   "execution_count": 169,
   "metadata": {},
   "outputs": [],
   "source": [
    "def getMySQL():\n",
    "    mysql_url = os.getenv(\"MYSQL_URL\")\n",
    "    engine = create_engine(mysql_url)\n",
    "    with engine.connect() as conn:\n",
    "        df = pd.read_sql(\"SELECT * FROM iris_mysql\", conn)\n",
    "    return df\n",
    "\n",
    "def getPostgre():\n",
    "    postgres_url = os.getenv(\"POSTGRES_URL\")\n",
    "    engine = create_engine(postgres_url)\n",
    "    with engine.connect() as conn:\n",
    "        df = pd.read_sql(\"SELECT * FROM iris_postgre ORDER BY id\", conn)\n",
    "    return df"
   ]
  },
  {
   "cell_type": "code",
   "execution_count": 170,
   "metadata": {},
   "outputs": [
    {
     "name": "stdout",
     "output_type": "stream",
     "text": [
      "     petal length  petal width  sepal length  sepal width\n",
      "0            86.4         70.0          20.1         30.5\n",
      "1             1.4          0.2           4.9          3.0\n",
      "2             1.3          0.2           4.8          3.2\n",
      "3             1.5          0.2           4.6          3.1\n",
      "4             1.4          0.2           5.0          3.6\n",
      "..            ...          ...           ...          ...\n",
      "145           5.2          2.3           6.7          3.0\n",
      "146           5.0          1.9           6.3          2.5\n",
      "147           5.2          2.0           6.5          3.0\n",
      "148           5.4          2.3           6.2          3.4\n",
      "149           5.1          1.8           5.9          3.0\n",
      "\n",
      "[150 rows x 4 columns]\n"
     ]
    }
   ],
   "source": [
    "df_mysql = getMySQL()\n",
    "df_postgresql = getPostgre()\n",
    "\n",
    "# Gabungkan berdasarkan kolom 'id' dan 'Class'\n",
    "df_merged = pd.merge(df_mysql, df_postgresql, on=[\"id\", \"class\"], how=\"inner\")\n",
    "df_contoh = df_merged.drop(columns=[\"id\", \"class\"])\n",
    "print(df_contoh)\n",
    "df = df_contoh\n",
    "\n",
    "# Ambil data fitur numerik\n",
    "feature_columns = [\"petal length\", \"petal width\", \"sepal length\", \"sepal width\"]\n",
    "data_values = df_merged[feature_columns].values\n",
    "\n",
    "K = 3  # Jumlah tetangga terdekat\n",
    "nbrs = NearestNeighbors(n_neighbors=K+1, metric='euclidean').fit(data_values)\n",
    "distances, indices = nbrs.kneighbors(data_values)\n",
    "\n",
    "# Ambil rata-rata jarak ke K tetangga terdekat (tidak termasuk jarak ke dirinya sendiri)\n",
    "df_merged[\"knn_distance\"] = np.mean(distances[:, 1:], axis=1)\n",
    "\n",
    "# Tentukan threshold outlier berdasarkan persentil ke-95\n",
    "threshold = np.percentile(df_merged[\"knn_distance\"], 95)\n",
    "df_merged[\"outlier\"] = df_merged[\"knn_distance\"] > threshold\n"
   ]
  },
  {
   "cell_type": "code",
   "execution_count": 171,
   "metadata": {},
   "outputs": [
    {
     "name": "stdout",
     "output_type": "stream",
     "text": [
      "10 Data Sepal:\n",
      " id       class  sepal length  sepal width  outlier\n",
      "  1 Iris-setosa          20.1         30.5     True\n",
      "  2 Iris-setosa           4.9          3.0    False\n",
      "  3 Iris-setosa           4.8          3.2    False\n",
      "  4 Iris-setosa           4.6          3.1    False\n",
      "  5 Iris-setosa           5.0          3.6    False\n",
      "  6 Iris-setosa           5.4          3.9    False\n",
      "  7 Iris-setosa           4.6          3.4    False\n",
      "  8 Iris-setosa           5.0          3.4    False\n",
      "  9 Iris-setosa           4.4          2.9    False\n",
      " 10 Iris-setosa           4.9          3.1    False\n",
      "\n",
      "10 Data Petal:\n",
      " id       class  petal length  petal width  outlier\n",
      "  1 Iris-setosa          86.4         70.0     True\n",
      "  2 Iris-setosa           1.4          0.2    False\n",
      "  3 Iris-setosa           1.3          0.2    False\n",
      "  4 Iris-setosa           1.5          0.2    False\n",
      "  5 Iris-setosa           1.4          0.2    False\n",
      "  6 Iris-setosa           1.7          0.4    False\n",
      "  7 Iris-setosa           1.4          0.3    False\n",
      "  8 Iris-setosa           1.5          0.2    False\n",
      "  9 Iris-setosa           1.4          0.2    False\n",
      " 10 Iris-setosa           1.5          0.1    False\n"
     ]
    }
   ],
   "source": [
    "print(\"10 Data Sepal:\")\n",
    "print(df_merged[[\"id\", \"class\", \"sepal length\", \"sepal width\", \"outlier\"]].head(10).to_string(index=False))\n",
    "\n",
    "print(\"\\n10 Data Petal:\")\n",
    "print(df_merged[[\"id\", \"class\", \"petal length\", \"petal width\", \"outlier\"]].head(10).to_string(index=False))"
   ]
  },
  {
   "cell_type": "code",
   "execution_count": 172,
   "metadata": {},
   "outputs": [
    {
     "name": "stdout",
     "output_type": "stream",
     "text": [
      "Index(['id', 'class', 'petal length', 'petal width', 'sepal length',\n",
      "       'sepal width', 'knn_distance', 'outlier', 'knn_outlier', 'lof_score',\n",
      "       'lof_outlier'],\n",
      "      dtype='object')\n"
     ]
    }
   ],
   "source": [
    "from sklearn.neighbors import NearestNeighbors, LocalOutlierFactor\n",
    "\n",
    "# Ambil data fitur numerik\n",
    "feature_columns = [\"petal length\", \"petal width\", \"sepal length\", \"sepal width\"]\n",
    "data_values = df_merged[feature_columns].values\n",
    "\n",
    "# KNN Outlier Detection\n",
    "K = 3\n",
    "nbrs = NearestNeighbors(n_neighbors=K+1, metric='euclidean').fit(data_values)\n",
    "distances, _ = nbrs.kneighbors(data_values)\n",
    "df_merged[\"knn_distance\"] = np.mean(distances[:, 1:], axis=1)  # Rata-rata jarak ke tetangga\n",
    "threshold = np.percentile(df_merged[\"knn_distance\"], 95)\n",
    "df_merged[\"knn_outlier\"] = df_merged[\"knn_distance\"] > threshold\n",
    "\n",
    "# LOF Outlier Detection\n",
    "clf = LocalOutlierFactor(n_neighbors=3)\n",
    "df_merged[\"lof_score\"] = -clf.fit_predict(data_values)\n",
    "df_merged[\"lof_outlier\"] = df_merged[\"lof_score\"] > np.percentile(df_merged[\"lof_score\"], 95)\n",
    "\n",
    "# Gabungkan hasil deteksi outlier\n",
    "df_merged[\"outlier\"] = df_merged[\"knn_outlier\"] | df_merged[\"lof_outlier\"]\n",
    "\n",
    "\n",
    "\n",
    "print(df_merged.columns)  # Untuk melihat semua kolom yang tersedia"
   ]
  },
  {
   "cell_type": "code",
   "execution_count": 173,
   "metadata": {},
   "outputs": [
    {
     "data": {
      "image/png": "[encoded data removed]",
      "text/plain": [
       "<Figure size 1400x600 with 2 Axes>"
      ]
     },
     "metadata": {},
     "output_type": "display_data"
    }
   ],
   "source": [
    "import matplotlib.pyplot as plt\n",
    "import seaborn as sns\n",
    "\n",
    "fig, axes = plt.subplots(1, 2, figsize=(14, 6))\n",
    "\n",
    "# Scatter plot Sepal\n",
    "sns.scatterplot(\n",
    "    ax=axes[0], x=df_merged[\"sepal length\"], y=df_merged[\"sepal width\"],\n",
    "    hue=df_merged[\"outlier\"], palette={False: \"blue\", True: \"red\"}, alpha=0.7, edgecolor=\"k\"\n",
    ")\n",
    "axes[0].set_title(\"Outlier Detection with KNN & LOF (Sepal)\")\n",
    "axes[0].set_xlabel(\"Sepal Length\")\n",
    "axes[0].set_ylabel(\"Sepal Width\")\n",
    "\n",
    "# Scatter plot Petal\n",
    "sns.scatterplot(\n",
    "    ax=axes[1], x=df_merged[\"petal length\"], y=df_merged[\"petal width\"],\n",
    "    hue=df_merged[\"outlier\"], palette={False: \"blue\", True: \"red\"}, alpha=0.7, edgecolor=\"k\"\n",
    ")\n",
    "axes[1].set_title(\"Outlier Detection with KNN & LOF (Petal)\")\n",
    "axes[1].set_xlabel(\"Petal Length\")\n",
    "axes[1].set_ylabel(\"Petal Width\")\n",
    "\n",
    "plt.tight_layout()\n",
    "plt.show()"
   ]
  },
  {
   "cell_type": "code",
   "execution_count": null,
   "metadata": {},
   "outputs": [
    {
     "name": "stdout",
     "output_type": "stream",
     "text": [
      "\n",
      "Data Outlier:\n",
      " No  id          class  knn_distance\n",
      "  1   1    Iris-setosa    108.837746\n",
      "  2  42    Iris-setosa      0.702252\n",
      "  3 107 Iris-virginica      0.763383\n",
      "  4 109 Iris-virginica      0.591073\n",
      "  5 110 Iris-virginica      0.670128\n",
      "  6 118 Iris-virginica      0.697026\n",
      "  7 119 Iris-virginica      0.618153\n",
      "  8 132 Iris-virginica      0.740949\n"
     ]
    }
   ],
   "source": [
    "outliers = df_merged[df_merged[\"outlier\"] == True][[\"id\", \"class\", \"knn_distance\"]].reset_index(drop=True)\n",
    "outliers.insert(0, \"No\", range(1, len(outliers) + 1))\n",
    "print(\"\\nData Outlier:\")\n",
    "print(outliers.to_string(index=False))"
   ]
  },
  {
   "cell_type": "code",
   "execution_count": null,
   "metadata": {},
   "outputs": [
    {
     "name": "stdout",
     "output_type": "stream",
     "text": [
      "[-1  1  1  1  1  1  1  1  1  1  1  1  1  1  1  1  1  1  1  1 -1  1 -1  1\n",
      "  1  1  1  1  1  1  1 -1  1  1  1  1  1  1  1  1  1 -1  1  1  1  1  1  1\n",
      "  1  1  1  1  1  1  1  1  1  1  1 -1  1  1 -1  1 -1  1  1  1  1  1  1  1\n",
      "  1  1  1  1  1  1  1  1  1  1  1  1  1  1  1  1  1  1  1  1  1  1  1  1\n",
      "  1  1  1  1  1  1  1  1  1  1 -1  1 -1 -1  1  1  1  1 -1  1  1  1  1  1\n",
      "  1  1  1  1  1  1  1  1  1  1  1  1  1  1 -1  1  1  1  1  1  1  1  1  1\n",
      "  1  1  1  1  1  1]\n"
     ]
    }
   ],
   "source": [
    "x = df[['petal length', 'petal width', 'sepal length', 'sepal width']]\n",
    "# print(df)\n",
    "clf = LocalOutlierFactor(n_neighbors=3)\n",
    "y_pred = clf.fit_predict(x)\n",
    "print(y_pred)"
   ]
  },
  {
   "cell_type": "code",
   "execution_count": null,
   "metadata": {},
   "outputs": [
    {
     "name": "stdout",
     "output_type": "stream",
     "text": [
      "Total Outlier (KNN): 8\n",
      "Total Outlier (LOF): 13\n"
     ]
    }
   ],
   "source": [
    "df_merged[\"lof_outlier\"] = y_pred  # LOF: -1 = outlier, 1 = inlier\n",
    "\n",
    "# Cek jumlah outlier di setiap metode\n",
    "knn_outliers = df_merged[\"outlier\"].sum()\n",
    "lof_outliers = (df_merged[\"lof_outlier\"] == -1).sum()\n",
    "\n",
    "print(f\"Total Outlier (KNN): {knn_outliers}\")\n",
    "print(f\"Total Outlier (LOF): {lof_outliers}\")"
   ]
  },
  {
   "cell_type": "code",
   "execution_count": null,
   "metadata": {},
   "outputs": [
    {
     "name": "stdout",
     "output_type": "stream",
     "text": [
      "\n",
      "Outlier berdasarkan KNN:\n",
      " No  id          class  knn_distance\n",
      "  1   1    Iris-setosa    108.837746\n",
      "  2  42    Iris-setosa      0.702252\n",
      "  3 107 Iris-virginica      0.763383\n",
      "  4 109 Iris-virginica      0.591073\n",
      "  5 110 Iris-virginica      0.670128\n",
      "  6 118 Iris-virginica      0.697026\n",
      "  7 119 Iris-virginica      0.618153\n",
      "  8 132 Iris-virginica      0.740949\n",
      "\n",
      "Outlier berdasarkan LOF:\n",
      " No  id           class\n",
      "  1   1     Iris-setosa\n",
      "  2  21     Iris-setosa\n",
      "  3  23     Iris-setosa\n",
      "  4  32     Iris-setosa\n",
      "  5  42     Iris-setosa\n",
      "  6  60 Iris-versicolor\n",
      "  7  63 Iris-versicolor\n",
      "  8  65 Iris-versicolor\n",
      "  9 107  Iris-virginica\n",
      " 10 109  Iris-virginica\n",
      " 11 110  Iris-virginica\n",
      " 12 115  Iris-virginica\n",
      " 13 135  Iris-virginica\n"
     ]
    }
   ],
   "source": [
    "outliers_knn = df_merged[df_merged[\"outlier\"] == True][[\"id\", \"class\", \"knn_distance\"]].reset_index(drop=True)\n",
    "outliers_knn.insert(0, \"No\", range(1, len(outliers_knn) + 1))\n",
    "\n",
    "outliers_lof = df_merged[df_merged[\"lof_outlier\"] == -1][[\"id\", \"class\"]].reset_index(drop=True)\n",
    "outliers_lof.insert(0, \"No\", range(1, len(outliers_lof) + 1))\n",
    "\n",
    "print(\"\\nOutlier berdasarkan KNN:\")\n",
    "print(outliers_knn.to_string(index=False))\n",
    "\n",
    "print(\"\\nOutlier berdasarkan LOF:\")\n",
    "print(outliers_lof.to_string(index=False))"
   ]
  },
  {
   "cell_type": "code",
   "execution_count": null,
   "metadata": {},
   "outputs": [
    {
     "name": "stdout",
     "output_type": "stream",
     "text": [
      "\n",
      "Data Gabungan (Merge) dengan Class:\n",
      "   petal length  petal width  sepal length  sepal width\n",
      "0          86.4         70.0          20.1         30.5\n",
      "1           1.4          0.2           4.9          3.0\n",
      "2           1.3          0.2           4.8          3.2\n",
      "3           1.5          0.2           4.6          3.1\n",
      "4           1.4          0.2           5.0          3.6\n"
     ]
    }
   ],
   "source": [
    "df_merged = pd.merge(df_mysql, df_postgresql, on=[\"id\", \"class\"], how=\"inner\")\n",
    "df_contoh = df_merged.drop(columns=[\"id\", \"class\"])\n",
    "\n",
    "print(\"\\nData Gabungan (Merge) dengan Class:\")\n",
    "print(df_contoh.head())"
   ]
  },
  {
   "cell_type": "code",
   "execution_count": null,
   "metadata": {},
   "outputs": [
    {
     "name": "stdout",
     "output_type": "stream",
     "text": [
      "[108.74577168   0.14142136   0.2236068    0.15731322   0.17320508\n",
      "   0.33903632   0.2618034    0.12071068   0.22071068   0.\n",
      "   0.19142136   0.2236068    0.15731322   0.28058837   0.44067607\n",
      "   0.45413884   0.35348264   0.15731322   0.35948041   0.14142136\n",
      "   0.29142136   0.19318517   0.48893641   0.23228757   0.33708287\n",
      "   0.2          0.2118034    0.14142136   0.14142136   0.15731322\n",
      "   0.15731322   0.29142136   0.34641016   0.35348264   0.\n",
      "   0.2236068    0.30811388   0.           0.17071068   0.12071068\n",
      "   0.15731322   0.66932132   0.2118034    0.24409096   0.36736043\n",
      "   0.17071068   0.19318517   0.18251408   0.1618034    0.15731322\n",
      "   0.29811881   0.29040145   0.27370892   0.25         0.28058837\n",
      "   0.30811388   0.31937043   0.26435985   0.24494897   0.44860014\n",
      "   0.40940635   0.31583124   0.5047566    0.18251408   0.43573883\n",
      "   0.22882456   0.25         0.26389584   0.38723854   0.20907703\n",
      "   0.2618034    0.33903632   0.36055513   0.2618034    0.23228757\n",
      "   0.19318517   0.33131896   0.34519675   0.22247449   0.38533712\n",
      "   0.15731322   0.20299824   0.20299824   0.3461088    0.30615528\n",
      "   0.3992149    0.29953524   0.4195157    0.17320508   0.22247449\n",
      "   0.29040145   0.17071068   0.19318517   0.25098824   0.19840594\n",
      "   0.15731322   0.14142136   0.26583124   0.38729833   0.15731322\n",
      "   0.46213203   0.13228757   0.39364917   0.24494897   0.30811388\n",
      "   0.3968627    0.74821212   0.35023251   0.57838822   0.65163796\n",
      "   0.29888627   0.36028795   0.25980762   0.26457513   0.49989995\n",
      "   0.33708287   0.19318517   0.61542292   0.48001656   0.47775257\n",
      "   0.24409096   0.31622777   0.33844285   0.20907703   0.30811388\n",
      "   0.36685425   0.20907703   0.19318517   0.20811388   0.42815606\n",
      "   0.36141635   0.64774332   0.2          0.3461088    0.54764646\n",
      "   0.54311952   0.31612365   0.19318517   0.18251408   0.2668801\n",
      "   0.25476205   0.30275205   0.13228757   0.26991728   0.27247449\n",
      "   0.30275205   0.30955736   0.28500848   0.27247449   0.29953524]\n"
     ]
    }
   ],
   "source": [
    "data = df_contoh\n",
    "id_column = data['id'] if 'id' in data.columns else None\n",
    "\n",
    "selected_columns = ['sepal length', 'sepal width', 'petal length', 'petal width']\n",
    "data = data[selected_columns]\n",
    "\n",
    "X = data.values\n",
    "\n",
    "from sklearn.neighbors import NearestNeighbors\n",
    "\n",
    "knn = NearestNeighbors(n_neighbors=3, metric='euclidean')\n",
    "knn.fit(X)\n",
    "\n",
    "distances_knn, _ = knn.kneighbors(X)\n",
    "mean_knn_distances = np.mean(distances_knn[:, 1:], axis=1)  # Rata-rata jarak ke tetangga\n",
    "\n",
    "print(mean_knn_distances)"
   ]
  },
  {
   "cell_type": "code",
   "execution_count": null,
   "metadata": {},
   "outputs": [
    {
     "name": "stdout",
     "output_type": "stream",
     "text": [
      "   petal length  petal width  sepal length  sepal width\n",
      "0          86.4         70.0          20.1         30.5\n",
      "1           1.4          0.2           4.9          3.0\n",
      "2           1.3          0.2           4.8          3.2\n",
      "3           1.5          0.2           4.6          3.1\n",
      "4           1.4          0.2           5.0          3.6\n",
      "(150, 4)\n",
      "     petal length  petal width  sepal length  sepal width\n",
      "0            86.4         70.0          20.1         30.5\n",
      "1             1.4          0.2           4.9          3.0\n",
      "2             1.3          0.2           4.8          3.2\n",
      "3             1.5          0.2           4.6          3.1\n",
      "4             1.4          0.2           5.0          3.6\n",
      "..            ...          ...           ...          ...\n",
      "145           5.2          2.3           6.7          3.0\n",
      "146           5.0          1.9           6.3          2.5\n",
      "147           5.2          2.0           6.5          3.0\n",
      "148           5.4          2.3           6.2          3.4\n",
      "149           5.1          1.8           5.9          3.0\n",
      "\n",
      "[150 rows x 4 columns]\n"
     ]
    }
   ],
   "source": [
    "X = df[['petal length', 'petal width', 'sepal length', 'sepal width']]\n",
    "\n",
    "print(X.head()) # Cek hasil\n",
    "print(X.shape)\n",
    "print(X)"
   ]
  }
 ],
 "metadata": {
  "kernelspec": {
   "display_name": ".venv",
   "language": "python",
   "name": "python3"
  },
  "language_info": {
   "codemirror_mode": {
    "name": "ipython",
    "version": 3
   },
   "file_extension": ".py",
   "mimetype": "text/x-python",
   "name": "python",
   "nbconvert_exporter": "python",
   "pygments_lexer": "ipython3",
   "version": "3.12.6"
  }
 },
 "nbformat": 4,
 "nbformat_minor": 2
}
