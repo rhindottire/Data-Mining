{
  "nbformat": 4,
  "nbformat_minor": 0,
  "metadata": {
    "colab": {
      "provenance": []
    },
    "kernelspec": {
      "name": "python3",
      "display_name": "Python 3"
    },
    "language_info": {
      "name": "python"
    }
  },
  "cells": [
    {
      "cell_type": "markdown",
      "source": [
        "# k_mean clustering"
      ],
      "metadata": {
        "id": "jdA48ImHoedQ"
      }
    },
    {
      "cell_type": "code",
      "execution_count": 9,
      "metadata": {
        "colab": {
          "base_uri": "https://localhost:8080/"
        },
        "id": "cn6D8UIuoYmc",
        "outputId": "28647666-b876-4b4b-b7b5-7fc0ac90845d"
      },
      "outputs": [
        {
          "output_type": "stream",
          "name": "stdout",
          "text": [
            "   id        Class  sepal length  sepal width  petal length  petal width\n",
            "0   1  Iris-setosa           5.1          3.5           1.4          0.2\n",
            "1   2  Iris-setosa           4.9          3.0           1.4          0.2\n",
            "2   3  Iris-setosa           4.7          3.2           1.3          0.2\n",
            "3   4  Iris-setosa           4.6          3.1           1.5          0.2\n",
            "4   5  Iris-setosa           5.0          3.6           1.4          0.2\n"
          ]
        }
      ],
      "source": [
        "import pandas as pd\n",
        "\n",
        "# Baca file CSV\n",
        "df = pd.read_csv('iris-full.csv')\n",
        "\n",
        "#menghapus klom selain sepal lenght\n",
        "df_filtered = df[['Class', 'sepal length']]\n",
        "\n",
        "# Tampilkan 5 baris awal\n",
        "print(df.head())\n"
      ]
    },
    {
      "cell_type": "code",
      "source": [
        "import pandas as pd\n",
        "from sklearn.cluster import KMeans\n",
        "from sklearn.preprocessing import MinMaxScaler\n",
        "\n",
        "# Load data dari CSV\n",
        "df = pd.read_csv(\"iris-full.csv\")  # Ganti dengan nama file kamu\n",
        "\n",
        "# Simpan kolom ID dan Class\n",
        "df_id_class = df[['id', 'Class']].copy()\n",
        "\n",
        "# Ambil fitur numerik\n",
        "X = df[['petal length', 'petal width']]\n",
        "\n",
        "# Normalisasi dengan MinMaxScaler\n",
        "scaler = MinMaxScaler()\n",
        "X_scaled = scaler.fit_transform(X)\n",
        "\n",
        "# KMeans Clustering\n",
        "kmeans = KMeans(n_clusters=3, random_state=42)\n",
        "kmeans.fit(X_scaled)\n",
        "\n",
        "# Tambahkan hasil klaster ke dataframe\n",
        "df_id_class['Cluster'] = kmeans.labels_\n",
        "\n",
        "# Mapping klaster ke label kelas berdasarkan majority vote\n",
        "cluster_to_class = {}\n",
        "for i in range(3):\n",
        "    mode_class = df_id_class[df_id_class['Cluster'] == i]['Class'].mode()\n",
        "    if not mode_class.empty:\n",
        "        cluster_to_class[i] = mode_class[0]\n",
        "\n",
        "# Buat kolom prediksi berdasarkan cluster\n",
        "df_id_class['PredictedClass'] = df_id_class['Cluster'].map(cluster_to_class)\n",
        "\n",
        "# Tandai data yang salah klasifikasi\n",
        "df_id_class['Misclassified'] = df_id_class['Class'] != df_id_class['PredictedClass']\n",
        "\n",
        "# -------------------------------\n",
        "# Tampilkan semua data (ID 1–150)\n",
        "print(\"=== Seluruh hasil clustering K-Means ===\")\n",
        "print(df_id_class.sort_values(by='id').to_string(index=False))\n",
        "\n",
        "# -------------------------------\n",
        "# Tampilkan data yang salah klasifikasi\n",
        "salah = df_id_class[df_id_class['Misclassified']]\n",
        "print(\"\\n=== Data yang salah klasifikasi ===\")\n",
        "print(salah[['id', 'Class', 'Cluster', 'PredictedClass']].to_string(index=False))\n",
        "\n",
        "# -------------------------------\n",
        "# Tambahan: jumlah salah\n",
        "print(f\"\\nTotal salah klasifikasi: {len(salah)} dari {len(df_id_class)} data\")\n"
      ],
      "metadata": {
        "colab": {
          "base_uri": "https://localhost:8080/"
        },
        "id": "PgBE3PwIo6V3",
        "outputId": "ce77b720-dd3a-4e4a-8a0b-0dba5c92aaed"
      },
      "execution_count": 5,
      "outputs": [
        {
          "output_type": "stream",
          "name": "stdout",
          "text": [
            "=== Seluruh hasil clustering K-Means ===\n",
            " id           Class  Cluster  PredictedClass  Misclassified\n",
            "  1     Iris-setosa        1     Iris-setosa          False\n",
            "  2     Iris-setosa        1     Iris-setosa          False\n",
            "  3     Iris-setosa        1     Iris-setosa          False\n",
            "  4     Iris-setosa        1     Iris-setosa          False\n",
            "  5     Iris-setosa        1     Iris-setosa          False\n",
            "  6     Iris-setosa        1     Iris-setosa          False\n",
            "  7     Iris-setosa        1     Iris-setosa          False\n",
            "  8     Iris-setosa        1     Iris-setosa          False\n",
            "  9     Iris-setosa        1     Iris-setosa          False\n",
            " 10     Iris-setosa        1     Iris-setosa          False\n",
            " 11     Iris-setosa        1     Iris-setosa          False\n",
            " 12     Iris-setosa        1     Iris-setosa          False\n",
            " 13     Iris-setosa        1     Iris-setosa          False\n",
            " 14     Iris-setosa        1     Iris-setosa          False\n",
            " 15     Iris-setosa        1     Iris-setosa          False\n",
            " 16     Iris-setosa        1     Iris-setosa          False\n",
            " 17     Iris-setosa        1     Iris-setosa          False\n",
            " 18     Iris-setosa        1     Iris-setosa          False\n",
            " 19     Iris-setosa        1     Iris-setosa          False\n",
            " 20     Iris-setosa        1     Iris-setosa          False\n",
            " 21     Iris-setosa        1     Iris-setosa          False\n",
            " 22     Iris-setosa        1     Iris-setosa          False\n",
            " 23     Iris-setosa        1     Iris-setosa          False\n",
            " 24     Iris-setosa        1     Iris-setosa          False\n",
            " 25     Iris-setosa        1     Iris-setosa          False\n",
            " 26     Iris-setosa        1     Iris-setosa          False\n",
            " 27     Iris-setosa        1     Iris-setosa          False\n",
            " 28     Iris-setosa        1     Iris-setosa          False\n",
            " 29     Iris-setosa        1     Iris-setosa          False\n",
            " 30     Iris-setosa        1     Iris-setosa          False\n",
            " 31     Iris-setosa        1     Iris-setosa          False\n",
            " 32     Iris-setosa        1     Iris-setosa          False\n",
            " 33     Iris-setosa        1     Iris-setosa          False\n",
            " 34     Iris-setosa        1     Iris-setosa          False\n",
            " 35     Iris-setosa        1     Iris-setosa          False\n",
            " 36     Iris-setosa        1     Iris-setosa          False\n",
            " 37     Iris-setosa        1     Iris-setosa          False\n",
            " 38     Iris-setosa        1     Iris-setosa          False\n",
            " 39     Iris-setosa        1     Iris-setosa          False\n",
            " 40     Iris-setosa        1     Iris-setosa          False\n",
            " 41     Iris-setosa        1     Iris-setosa          False\n",
            " 42     Iris-setosa        1     Iris-setosa          False\n",
            " 43     Iris-setosa        1     Iris-setosa          False\n",
            " 44     Iris-setosa        1     Iris-setosa          False\n",
            " 45     Iris-setosa        1     Iris-setosa          False\n",
            " 46     Iris-setosa        1     Iris-setosa          False\n",
            " 47     Iris-setosa        1     Iris-setosa          False\n",
            " 48     Iris-setosa        1     Iris-setosa          False\n",
            " 49     Iris-setosa        1     Iris-setosa          False\n",
            " 50     Iris-setosa        1     Iris-setosa          False\n",
            " 51 Iris-versicolor        2 Iris-versicolor          False\n",
            " 52 Iris-versicolor        2 Iris-versicolor          False\n",
            " 53 Iris-versicolor        2 Iris-versicolor          False\n",
            " 54 Iris-versicolor        2 Iris-versicolor          False\n",
            " 55 Iris-versicolor        2 Iris-versicolor          False\n",
            " 56 Iris-versicolor        2 Iris-versicolor          False\n",
            " 57 Iris-versicolor        2 Iris-versicolor          False\n",
            " 58 Iris-versicolor        2 Iris-versicolor          False\n",
            " 59 Iris-versicolor        2 Iris-versicolor          False\n",
            " 60 Iris-versicolor        2 Iris-versicolor          False\n",
            " 61 Iris-versicolor        2 Iris-versicolor          False\n",
            " 62 Iris-versicolor        2 Iris-versicolor          False\n",
            " 63 Iris-versicolor        2 Iris-versicolor          False\n",
            " 64 Iris-versicolor        2 Iris-versicolor          False\n",
            " 65 Iris-versicolor        2 Iris-versicolor          False\n",
            " 66 Iris-versicolor        2 Iris-versicolor          False\n",
            " 67 Iris-versicolor        2 Iris-versicolor          False\n",
            " 68 Iris-versicolor        2 Iris-versicolor          False\n",
            " 69 Iris-versicolor        2 Iris-versicolor          False\n",
            " 70 Iris-versicolor        2 Iris-versicolor          False\n",
            " 71 Iris-versicolor        0  Iris-virginica           True\n",
            " 72 Iris-versicolor        2 Iris-versicolor          False\n",
            " 73 Iris-versicolor        2 Iris-versicolor          False\n",
            " 74 Iris-versicolor        2 Iris-versicolor          False\n",
            " 75 Iris-versicolor        2 Iris-versicolor          False\n",
            " 76 Iris-versicolor        2 Iris-versicolor          False\n",
            " 77 Iris-versicolor        2 Iris-versicolor          False\n",
            " 78 Iris-versicolor        0  Iris-virginica           True\n",
            " 79 Iris-versicolor        2 Iris-versicolor          False\n",
            " 80 Iris-versicolor        2 Iris-versicolor          False\n",
            " 81 Iris-versicolor        2 Iris-versicolor          False\n",
            " 82 Iris-versicolor        2 Iris-versicolor          False\n",
            " 83 Iris-versicolor        2 Iris-versicolor          False\n",
            " 84 Iris-versicolor        2 Iris-versicolor          False\n",
            " 85 Iris-versicolor        2 Iris-versicolor          False\n",
            " 86 Iris-versicolor        2 Iris-versicolor          False\n",
            " 87 Iris-versicolor        2 Iris-versicolor          False\n",
            " 88 Iris-versicolor        2 Iris-versicolor          False\n",
            " 89 Iris-versicolor        2 Iris-versicolor          False\n",
            " 90 Iris-versicolor        2 Iris-versicolor          False\n",
            " 91 Iris-versicolor        2 Iris-versicolor          False\n",
            " 92 Iris-versicolor        2 Iris-versicolor          False\n",
            " 93 Iris-versicolor        2 Iris-versicolor          False\n",
            " 94 Iris-versicolor        2 Iris-versicolor          False\n",
            " 95 Iris-versicolor        2 Iris-versicolor          False\n",
            " 96 Iris-versicolor        2 Iris-versicolor          False\n",
            " 97 Iris-versicolor        2 Iris-versicolor          False\n",
            " 98 Iris-versicolor        2 Iris-versicolor          False\n",
            " 99 Iris-versicolor        2 Iris-versicolor          False\n",
            "100 Iris-versicolor        2 Iris-versicolor          False\n",
            "101  Iris-virginica        0  Iris-virginica          False\n",
            "102  Iris-virginica        0  Iris-virginica          False\n",
            "103  Iris-virginica        0  Iris-virginica          False\n",
            "104  Iris-virginica        0  Iris-virginica          False\n",
            "105  Iris-virginica        0  Iris-virginica          False\n",
            "106  Iris-virginica        0  Iris-virginica          False\n",
            "107  Iris-virginica        2 Iris-versicolor           True\n",
            "108  Iris-virginica        0  Iris-virginica          False\n",
            "109  Iris-virginica        0  Iris-virginica          False\n",
            "110  Iris-virginica        0  Iris-virginica          False\n",
            "111  Iris-virginica        0  Iris-virginica          False\n",
            "112  Iris-virginica        0  Iris-virginica          False\n",
            "113  Iris-virginica        0  Iris-virginica          False\n",
            "114  Iris-virginica        0  Iris-virginica          False\n",
            "115  Iris-virginica        0  Iris-virginica          False\n",
            "116  Iris-virginica        0  Iris-virginica          False\n",
            "117  Iris-virginica        0  Iris-virginica          False\n",
            "118  Iris-virginica        0  Iris-virginica          False\n",
            "119  Iris-virginica        0  Iris-virginica          False\n",
            "120  Iris-virginica        2 Iris-versicolor           True\n",
            "121  Iris-virginica        0  Iris-virginica          False\n",
            "122  Iris-virginica        0  Iris-virginica          False\n",
            "123  Iris-virginica        0  Iris-virginica          False\n",
            "124  Iris-virginica        0  Iris-virginica          False\n",
            "125  Iris-virginica        0  Iris-virginica          False\n",
            "126  Iris-virginica        0  Iris-virginica          False\n",
            "127  Iris-virginica        0  Iris-virginica          False\n",
            "128  Iris-virginica        0  Iris-virginica          False\n",
            "129  Iris-virginica        0  Iris-virginica          False\n",
            "130  Iris-virginica        0  Iris-virginica          False\n",
            "131  Iris-virginica        0  Iris-virginica          False\n",
            "132  Iris-virginica        0  Iris-virginica          False\n",
            "133  Iris-virginica        0  Iris-virginica          False\n",
            "134  Iris-virginica        2 Iris-versicolor           True\n",
            "135  Iris-virginica        2 Iris-versicolor           True\n",
            "136  Iris-virginica        0  Iris-virginica          False\n",
            "137  Iris-virginica        0  Iris-virginica          False\n",
            "138  Iris-virginica        0  Iris-virginica          False\n",
            "139  Iris-virginica        0  Iris-virginica          False\n",
            "140  Iris-virginica        0  Iris-virginica          False\n",
            "141  Iris-virginica        0  Iris-virginica          False\n",
            "142  Iris-virginica        0  Iris-virginica          False\n",
            "143  Iris-virginica        0  Iris-virginica          False\n",
            "144  Iris-virginica        0  Iris-virginica          False\n",
            "145  Iris-virginica        0  Iris-virginica          False\n",
            "146  Iris-virginica        0  Iris-virginica          False\n",
            "147  Iris-virginica        0  Iris-virginica          False\n",
            "148  Iris-virginica        0  Iris-virginica          False\n",
            "149  Iris-virginica        0  Iris-virginica          False\n",
            "150  Iris-virginica        0  Iris-virginica          False\n",
            "\n",
            "=== Data yang salah klasifikasi ===\n",
            " id           Class  Cluster  PredictedClass\n",
            " 71 Iris-versicolor        0  Iris-virginica\n",
            " 78 Iris-versicolor        0  Iris-virginica\n",
            "107  Iris-virginica        2 Iris-versicolor\n",
            "120  Iris-virginica        2 Iris-versicolor\n",
            "134  Iris-virginica        2 Iris-versicolor\n",
            "135  Iris-virginica        2 Iris-versicolor\n",
            "\n",
            "Total salah klasifikasi: 6 dari 150 data\n"
          ]
        }
      ]
    },
    {
      "cell_type": "code",
      "source": [
        "# Drop kolom class\n",
        "df_no_label = df.drop(columns=['Class'])\n"
      ],
      "metadata": {
        "id": "-6_Cg0G6p6U6"
      },
      "execution_count": 10,
      "outputs": []
    },
    {
      "cell_type": "markdown",
      "source": [
        "## clistering"
      ],
      "metadata": {
        "id": "40wZOfTXr2Z1"
      }
    },
    {
      "cell_type": "code",
      "source": [
        "import pandas as pd\n",
        "import numpy as np\n",
        "from sklearn.cluster import KMeans\n",
        "import matplotlib.pyplot as plt\n",
        "\n",
        "# 1. Load data\n",
        "df = pd.read_csv('iris-full.csv')\n",
        "\n",
        "# 2. Ekstrak hanya kolom 'sepal length' sebagai array 2D\n",
        "X = df[['sepal length']].values\n",
        "\n",
        "# 3. Menentukan jumlah cluster = 4\n",
        "n_clusters = 4\n",
        "\n",
        "# 4. Membuat model K-Means\n",
        "kmeans = KMeans(n_clusters=n_clusters, random_state=42, n_init=10)\n",
        "kmeans.fit(X)\n",
        "\n",
        "# 5. Mendapatkan label cluster dan konversi ke huruf (A, B, C, D)\n",
        "numeric_labels = kmeans.labels_\n",
        "letter_labels = [chr(65 + label) for label in numeric_labels]  # 65 = 'A' dalam ASCII\n",
        "\n",
        "# 6. Menambahkan hasil clustering ke dataframe\n",
        "df['Cluster'] = letter_labels\n",
        "\n",
        "# 7. Visualisasi hasil clustering\n",
        "plt.figure(figsize=(12, 6))\n",
        "\n",
        "# Warna untuk setiap cluster\n",
        "colors = ['red', 'blue', 'green', 'purple']\n",
        "\n",
        "# Plot data points untuk setiap cluster\n",
        "for i in range(n_clusters):\n",
        "    cluster_data = X[numeric_labels == i]\n",
        "    plt.scatter(cluster_data, np.zeros_like(cluster_data),\n",
        "                color=colors[i], label=f'Cluster {chr(65 + i)}', alpha=0.7)\n",
        "\n",
        "# Plot centroids\n",
        "plt.scatter(kmeans.cluster_centers_, np.zeros(n_clusters),\n",
        "            marker='X', s=200, c='black', label='Centroids')\n",
        "\n",
        "plt.title('K-Means Clustering pada Sepal Length (4 Cluster)')\n",
        "plt.xlabel('Sepal Length (cm)')\n",
        "plt.yticks([])\n",
        "plt.legend()\n",
        "plt.grid(True)\n",
        "plt.show()\n",
        "\n",
        "# 8. Menampilkan statistik deskriptif per cluster\n",
        "cluster_stats = df.groupby('Cluster')['sepal length'].describe()\n",
        "print(\"\\nStatistik Deskriptif per Cluster:\")\n",
        "print(cluster_stats)\n",
        "\n",
        "# 9. Menampilkan 10 data pertama dengan label cluster\n",
        "print(\"\\nContoh Data dengan Label Cluster:\")\n",
        "print(df[['sepal length', 'Cluster']].head(10))"
      ],
      "metadata": {
        "colab": {
          "base_uri": "https://localhost:8080/",
          "height": 928
        },
        "id": "TkoHJJPfrx50",
        "outputId": "d98e9e06-6440-4e0a-acb4-a44a077bc092"
      },
      "execution_count": 13,
      "outputs": [
        {
          "output_type": "display_data",
          "data": {
            "text/plain": [
              "<Figure size 1200x600 with 1 Axes>"
            ],
            "image/png": "[encoded data removed]"
          },
          "metadata": {}
        },
        {
          "output_type": "stream",
          "name": "stdout",
          "text": [
            "\n",
            "Statistik Deskriptif per Cluster:\n",
            "         count      mean       std  min  25%  50%  75%  max\n",
            "Cluster                                                    \n",
            "A         49.0  5.734694  0.228720  5.4  5.5  5.7  5.9  6.1\n",
            "B         12.0  7.475000  0.270101  7.1  7.2  7.5  7.7  7.9\n",
            "C         46.0  4.895652  0.246718  4.3  4.8  5.0  5.1  5.3\n",
            "D         43.0  6.525581  0.232064  6.2  6.3  6.5  6.7  7.0\n",
            "\n",
            "Contoh Data dengan Label Cluster:\n",
            "   sepal length Cluster\n",
            "0           5.1       C\n",
            "1           4.9       C\n",
            "2           4.7       C\n",
            "3           4.6       C\n",
            "4           5.0       C\n",
            "5           5.4       A\n",
            "6           4.6       C\n",
            "7           5.0       C\n",
            "8           4.4       C\n",
            "9           4.9       C\n"
          ]
        }
      ]
    },
    {
      "cell_type": "markdown",
      "source": [
        "## menggabungkan data hasil cluster dengan data original"
      ],
      "metadata": {
        "id": "bRj5mPeBtqAG"
      }
    },
    {
      "cell_type": "code",
      "source": [
        "import pandas as pd\n",
        "from sklearn.cluster import KMeans\n",
        "\n",
        "# 1. Load data\n",
        "df = pd.read_csv('iris-full.csv')\n",
        "\n",
        "# 2. Ekstrak kolom 'sepal length'\n",
        "X = df[['sepal length']].values\n",
        "\n",
        "# 3. Clustering dengan 4 cluster\n",
        "kmeans = KMeans(n_clusters=4, random_state=42, n_init=10)\n",
        "kmeans.fit(X)\n",
        "df['Cluster'] = [chr(65 + label) for label in kmeans.labels_]  # Konversi ke A,B,C,D\n",
        "\n",
        "# 4. GANTI kolom 'sepal length' asli dengan label cluster\n",
        "df['sepal length'] = df['Cluster']  # Overwrite nilai numerik dengan kategori\n",
        "\n",
        "# 5. Hapus kolom Cluster tambahan (opsional)\n",
        "df.drop('Cluster', axis=1, inplace=True)\n",
        "\n",
        "# 6. Simpan hasil (opsional)\n",
        "df.to_csv('iris_sepal_length_categorical.csv', index=False)\n",
        "\n",
        "# 7. Tampilkan hasil\n",
        "print(\"Data setelah transformasi:\")\n",
        "print(df.head(10))"
      ],
      "metadata": {
        "colab": {
          "base_uri": "https://localhost:8080/"
        },
        "id": "hGzZEbj1toiK",
        "outputId": "e84d8963-fa82-4008-f3e0-fa73bda8e9ae"
      },
      "execution_count": 23,
      "outputs": [
        {
          "output_type": "stream",
          "name": "stdout",
          "text": [
            "Data setelah transformasi:\n",
            "   id        Class sepal length  sepal width  petal length  petal width\n",
            "0   1  Iris-setosa            C          3.5           1.4          0.2\n",
            "1   2  Iris-setosa            C          3.0           1.4          0.2\n",
            "2   3  Iris-setosa            C          3.2           1.3          0.2\n",
            "3   4  Iris-setosa            C          3.1           1.5          0.2\n",
            "4   5  Iris-setosa            C          3.6           1.4          0.2\n",
            "5   6  Iris-setosa            A          3.9           1.7          0.4\n",
            "6   7  Iris-setosa            C          3.4           1.4          0.3\n",
            "7   8  Iris-setosa            C          3.4           1.5          0.2\n",
            "8   9  Iris-setosa            C          2.9           1.4          0.2\n",
            "9  10  Iris-setosa            C          3.1           1.5          0.1\n"
          ]
        }
      ]
    },
    {
      "cell_type": "markdown",
      "source": [
        "## clustering untuk clas sisa"
      ],
      "metadata": {
        "id": "KmnbdwzHwKlE"
      }
    },
    {
      "cell_type": "code",
      "source": [
        "import pandas as pd\n",
        "from sklearn.cluster import KMeans\n",
        "\n",
        "# 1. Load data\n",
        "df = pd.read_csv('iris-full.csv')\n",
        "\n",
        "# 2. Daftar kolom yang akan di-cluster\n",
        "features = ['sepal length', 'sepal width', 'petal length', 'petal width']\n",
        "n_clusters = 4  # Jumlah cluster untuk setiap fitur\n",
        "\n",
        "# 3. Lakukan clustering untuk setiap fitur\n",
        "for feature in features:\n",
        "    # Ekstrak data\n",
        "    X = df[[feature]].values\n",
        "\n",
        "    # Clustering\n",
        "    kmeans = KMeans(n_clusters=n_clusters, random_state=42, n_init=10)\n",
        "    kmeans.fit(X)\n",
        "\n",
        "    # Konversi label ke huruf (A, B, C, D)\n",
        "    cluster_labels = [chr(65 + label) for label in kmeans.labels_]\n",
        "\n",
        "    # Ganti kolom numerik dengan kategori cluster\n",
        "    df[feature] = cluster_labels\n",
        "\n",
        "# 4. Simpan hasil (opsional)\n",
        "df.to_csv('iris_all_features_clustered.csv', index=False)\n",
        "\n",
        "# 5. Tampilkan hasil\n",
        "print(\"Data setelah transformasi:\")\n",
        "print(df.head(20))\n",
        "print(\"\\nDistribusi nilai per fitur:\")\n",
        "for feature in features:\n",
        "    print(f\"\\n{feature}:\")\n",
        "    print(df[feature].value_counts())"
      ],
      "metadata": {
        "colab": {
          "base_uri": "https://localhost:8080/"
        },
        "id": "eTjwwFP7wOzF",
        "outputId": "a58737d3-86d9-4275-e9d1-2bae17c8b530"
      },
      "execution_count": 26,
      "outputs": [
        {
          "output_type": "stream",
          "name": "stdout",
          "text": [
            "Data setelah transformasi:\n",
            "    id        Class sepal length sepal width petal length petal width\n",
            "0    1  Iris-setosa            C           D            B           A\n",
            "1    2  Iris-setosa            C           A            B           A\n",
            "2    3  Iris-setosa            C           D            B           A\n",
            "3    4  Iris-setosa            C           A            B           A\n",
            "4    5  Iris-setosa            C           B            B           A\n",
            "5    6  Iris-setosa            A           B            B           A\n",
            "6    7  Iris-setosa            C           D            B           A\n",
            "7    8  Iris-setosa            C           D            B           A\n",
            "8    9  Iris-setosa            C           A            B           A\n",
            "9   10  Iris-setosa            C           A            B           A\n",
            "10  11  Iris-setosa            A           B            B           A\n",
            "11  12  Iris-setosa            C           D            B           A\n",
            "12  13  Iris-setosa            C           A            B           A\n",
            "13  14  Iris-setosa            C           A            B           A\n",
            "14  15  Iris-setosa            A           B            B           A\n",
            "15  16  Iris-setosa            A           B            B           A\n",
            "16  17  Iris-setosa            A           B            B           A\n",
            "17  18  Iris-setosa            C           D            B           A\n",
            "18  19  Iris-setosa            A           B            B           A\n",
            "19  20  Iris-setosa            C           B            B           A\n",
            "\n",
            "Distribusi nilai per fitur:\n",
            "\n",
            "sepal length:\n",
            "sepal length\n",
            "A    49\n",
            "C    46\n",
            "D    43\n",
            "B    12\n",
            "Name: count, dtype: int64\n",
            "\n",
            "sepal width:\n",
            "sepal width\n",
            "A    71\n",
            "D    37\n",
            "C    24\n",
            "B    18\n",
            "Name: count, dtype: int64\n",
            "\n",
            "petal length:\n",
            "petal length\n",
            "B    50\n",
            "A    45\n",
            "D    30\n",
            "C    25\n",
            "Name: count, dtype: int64\n",
            "\n",
            "petal width:\n",
            "petal width\n",
            "A    50\n",
            "B    48\n",
            "C    29\n",
            "D    23\n",
            "Name: count, dtype: int64\n"
          ]
        }
      ]
    },
    {
      "cell_type": "markdown",
      "source": [
        "## klasifikasi data kategori\n",
        "\n",
        "menjelaskan proses diskritisasi menggunakan kmean pada data iris dan lakukan klasifikasi dengan model naive baiyes dan decision tree pada data yang sudah di diskritisasi dan data yang sebelum di diskritisasi"
      ],
      "metadata": {
        "id": "c0o9q7_7yZkY"
      }
    }
  ]
}