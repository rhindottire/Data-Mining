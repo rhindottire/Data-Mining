{
 "cells": [
  {
   "cell_type": "markdown",
   "id": "f6615540",
   "metadata": {},
   "source": [
    "# Analisis Performa Metode Naive Bayes dan Artificial Neural Networks dalam Deteksi Dini Kanker Serviks\n",
    "\n",
    "Kelompok ???\n",
    "- Muhammad Syaifudin Zuhri\n",
    "- Adzin Naufal\n",
    "- ???\n",
    "- [ACHMAD RIDHO FA'IZ](https://rhindottire.github.io/Data-Mining/intro.html) (230411100197)"
   ]
  },
  {
   "cell_type": "markdown",
   "id": "709e5351",
   "metadata": {},
   "source": [
    "## Introduction"
   ]
  },
  {
   "cell_type": "markdown",
   "id": "6ee12ff5",
   "metadata": {},
   "source": [
    "### Naive Bayes"
   ]
  },
  {
   "cell_type": "markdown",
   "id": "3b9f4fd2",
   "metadata": {},
   "source": [
    "![Naive Bayes](KK/img/naive-bayes.png)"
   ]
  },
  {
   "cell_type": "markdown",
   "id": "cdf8fecd",
   "metadata": {},
   "source": [
    "**Naive Bayes** adalah algoritma klasifikasi probabilistik yang didasarkan pada `teorema Bayes` dengan asumsi bahwa setiap fitur dalam data saling independen satu sama lain, diberikan kelas tertentu. Asumsi independensi ini, meskipun sering kali tidak realistis, membuat algoritma ini sederhana, cepat, dan efektif untuk berbagai aplikasi, terutama dalam klasifikasi teks dan diagnosis medis.\n",
    "\n",
    "- **Definisi**: Naive Bayes adalah algoritma klasifikasi berbasis probabilitas yang menggunakan teorema Bayes dengan asumsi bahwa fitur-fitur dalam data saling independen. Meskipun asumsi ini sederhana, algoritma ini sering kali efektif untuk berbagai tugas klasifikasi.\n",
    "- **Cara Kerja**: Algoritma ini menghitung probabilitas setiap kelas berdasarkan fitur-fitur yang diberikan, lalu memilih kelas dengan probabilitas tertinggi. Ini dilakukan dengan menggabungkan probabilitas prior (berdasarkan frekuensi kelas) dan likelihood (probabilitas fitur diberikan kelas).\n",
    "    - **Langkah 1**: Hitung probabilitas awal (prior) untuk setiap kelas, misalnya, persentase kasus biopsi positif (1) dan negatif (0).\n",
    "    - **Langkah 2**: Hitung probabilitas fitur (likelihood) untuk setiap kelas, seperti probabilitas usia \"Muda\" pada kasus biopsi positif.\n",
    "    - **Langkah 3**: Kombinasikan prior dan likelihood untuk menghitung probabilitas posterior, lalu pilih kelas dengan nilai tertinggi.\n",
    "    - **Langkah 4**: Untuk data baru, gunakan probabilitas ini untuk memprediksi kelas.\n",
    "- **Aplikasi**: Digunakan dalam klasifikasi teks (misalnya, filter spam email), analisis sentimen, dan diagnosis medis, seperti memprediksi hasil biopsi berdasarkan data kesehatan.\n",
    "- **Kelebihan dan Kekurangan**: Naive Bayes cepat dan efisien untuk data berdimensi tinggi, tetapi asumsi independensi fitur dapat membatasi akurasi jika fitur-fitur saling berkorelasi."
   ]
  },
  {
   "cell_type": "markdown",
   "id": "f5ac7b82",
   "metadata": {},
   "source": [
    "#### Dasar Matematis: Teorema Bayes"
   ]
  },
  {
   "cell_type": "markdown",
   "id": "ac41425e",
   "metadata": {},
   "source": [
    "$$\n",
    "P(C_k | x) = \\frac{P(C_k) \\cdot P(x | C_k)}{P(x)}\n",
    "$$\n",
    "\n",
    "Di mana:\n",
    "- $ C_k $: Kelas ke-$ k $ (misalnya, Biopsy=1 atau Biopsy=0).\n",
    "- $ x $: Vektor fitur (misalnya, Age, Number of sexual partners, dll.).\n",
    "- $ P(C_k | x) $: Probabilitas posterior, yaitu probabilitas kelas $ C_k $ diberikan fitur $ x $.\n",
    "- $ P(C_k) $: Probabilitas prior, yaitu probabilitas kelas $ C_k $ sebelum melihat data.\n",
    "- $ P(x | C_k) $: Probabilitas likelihood, yaitu probabilitas fitur $ x $ diberikan kelas $ C_k $.\n",
    "- $ P(x) $: Probabilitas evidence, yaitu probabilitas fitur $ x $ secara keseluruhan.\n",
    "\n",
    "Karena $ P(x) $ konstan untuk semua kelas, kita dapat menyederhanakan perbandingan probabilitas posterior menjadi:\n",
    "\n",
    "$$\n",
    "\\hat{y} = \\arg\\max_{k} P(C_k) \\cdot P(x | C_k)\n",
    "$$"
   ]
  },
  {
   "cell_type": "markdown",
   "id": "6e712c6d",
   "metadata": {},
   "source": [
    "#### Asumsi Independensi"
   ]
  },
  {
   "cell_type": "markdown",
   "id": "a3b14509",
   "metadata": {},
   "source": [
    "Asumsi utama Naive Bayes adalah bahwa fitur-fitur saling independen diberikan kelas. Dengan demikian, likelihood dapat dihitung sebagai:\n",
    "\n",
    "$$\n",
    "P(x | C_k) = \\prod_{i=1}^{n} P(x_i | C_k)\n",
    "$$\n",
    "\n",
    "Di mana:\n",
    "- $ x_i $: Fitur ke-$ i $.\n",
    "- $ n $: Jumlah fitur.\n",
    "- $ P(x_i | C_k) $: Probabilitas fitur ke-$ i $ diberikan kelas $ C_k $.\n",
    "\n",
    "Untuk menghindari underflow (karena perkalian banyak probabilitas kecil dapat menghasilkan nilai yang sangat kecil), sering kali digunakan logaritma:\n",
    "\n",
    "$$\n",
    "\\log P(x | C_k) = \\sum_{i=1}^{n} \\log P(x_i | C_k)\n",
    "$$"
   ]
  },
  {
   "cell_type": "markdown",
   "id": "5385ca50",
   "metadata": {},
   "source": [
    "#### Perhitungan Probabilitas"
   ]
  },
  {
   "cell_type": "markdown",
   "id": "18d8f916",
   "metadata": {},
   "source": [
    "- **Prior Probability ($ P(C_k) $)**: Dihitung sebagai frekuensi relatif kelas dalam data pelatihan. Misalnya, dalam file Anda:\n",
    "  - $ P(\\text{Biopsy=1}) = 0.125 $ (12.5% kasus positif).\n",
    "  - $ P(\\text{Biopsy=0}) = 0.875 $ (87.5% kasus negatif).\n",
    "- **Likelihood ($ P(x_i | C_k) $)**: Tergantung pada jenis fitur:\n",
    "  - **Fitur Kategorikal**: Dihitung sebagai frekuensi relatif. Misalnya, dalam file Anda:\n",
    "    - $ P(\\text{Age='Muda'} | \\text{Biopsy=1}) = 0.25 $.\n",
    "    - $ P(\\text{Age='Muda'} | \\text{Biopsy=0}) = 0.3 $.\n",
    "  - **Fitur Kontinu**: Sering diasumsikan mengikuti distribusi Gaussian:\n",
    "\n",
    "    $$\n",
    "    P(x_i | C_k) = \\frac{1}{\\sqrt{2\\pi \\sigma_{k,i}^2}} \\exp\\left( -\\frac{(x_i - \\mu_{k,i})^2}{2\\sigma_{k,i}^2} \\right)\n",
    "    $$\n",
    "\n",
    "    Di mana $ \\mu_{k,i} $ adalah rata-rata dan $ \\sigma_{k,i} $ adalah standar deviasi fitur $ i $ dalam kelas $ k $. Dalam file Anda, fitur numerik diubah menjadi kategorikal, sehingga perhitungan Gaussian tidak digunakan."
   ]
  },
  {
   "cell_type": "markdown",
   "id": "8cd7eabd",
   "metadata": {},
   "source": [
    "#### Penanganan Probabilitas Nol"
   ]
  },
  {
   "cell_type": "markdown",
   "id": "c47b3267",
   "metadata": {},
   "source": [
    "Jika sebuah fitur tidak muncul dalam data pelatihan untuk suatu kelas, probabilitasnya akan menjadi nol, yang dapat menyebabkan $ P(x | C_k) = 0 $. Untuk mengatasi ini, digunakan teknik **smoothing**, seperti **Laplace smoothing**:\n",
    "\n",
    "$$\n",
    "P(x_i | C_k) = \\frac{\\text{count}(x_i, C_k) + 1}{\\text{total count}(C_k) + \\text{jumlah kategori}}\n",
    "$$\n",
    "\n",
    "Ini memastikan bahwa tidak ada probabilitas yang bernilai nol."
   ]
  },
  {
   "cell_type": "markdown",
   "id": "40d8f5e9",
   "metadata": {},
   "source": [
    "#### Advantages and Disadvantages"
   ]
  },
  {
   "cell_type": "markdown",
   "id": "fe6097f2",
   "metadata": {},
   "source": [
    "**Kelebihan**:\n",
    "- Cepat dan efisien untuk data berdimensi tinggi.\n",
    "- Mudah diimplementasikan dan diinterpretasikan.\n",
    "- Berkinerja baik pada data kategorikal.\n",
    "- Membutuhkan sedikit data pelatihan dibandingkan model kompleks.\n",
    "\n",
    "**Kekurangan**:\n",
    "- Asumsi independensi fitur sering kali tidak realistis, yang dapat menurunkan akurasi jika fitur berkorelasi.\n",
    "- Dapat dikalahkan oleh model seperti regresi logistik atau ANN dalam kasus kompleks [Naive Bayes Classifier - Wikipedia](https://en.wikipedia.org/wiki/Naive_Bayes_classifier).\n",
    "- Memerlukan penanganan probabilitas nol dengan teknik seperti Laplace smoothing.\n",
    "- **Likelihood**: Probabilitas fitur diberikan kelas."
   ]
  },
  {
   "cell_type": "markdown",
   "id": "6e4ae703",
   "metadata": {},
   "source": [
    "#### Naive Bayes Variants and App"
   ]
  },
  {
   "cell_type": "markdown",
   "id": "75759b57",
   "metadata": {},
   "source": [
    "Naive Bayes memiliki beberapa varian yang disesuaikan dengan jenis data:\n",
    "- **Multinomial Naive Bayes**: Digunakan untuk data diskret, seperti jumlah kemunculan kata dalam klasifikasi teks. Cocok untuk fitur dengan frekuensi atau hitungan.\n",
    "- **Bernoulli Naive Bayes**: Digunakan untuk data biner (hadir/tidak hadir), seperti keberadaan kata dalam dokumen.\n",
    "- **Gaussian Naive Bayes**: Digunakan untuk data kontinu dengan asumsi distribusi Gaussian.\n",
    "\n",
    "**Konsep Terkait**:\n",
    "- **Teorema Bayes**: Dasar matematis untuk menghitung probabilitas bersyarat.\n",
    "- **Probabilitas Bersyarat**: Probabilitas suatu peristiwa diberikan peristiwa lain telah terjadi.\n",
    "- **Asumsi Independensi**: Asumsi bahwa fitur tidak saling memengaruhi, yang membuat Naive Bayes sederhana.\n",
    "- **Smoothing**: Teknik seperti Laplace smoothing untuk menghindari probabilitas nol.\n",
    "- **Prior dan Posterior**: Probabilitas sebelum dan setelah melihat data.\n",
    "\n",
    "Naive Bayes sering digunakan dalam:\n",
    "- **Filter Spam**: Mengklasifikasikan email sebagai spam atau bukan berdasarkan kata-kata yang ada [Naive Bayes Classifier Explained](https://www.analyticsvidhya.com/blog/2017/09/naive-bayes-explained/).\n",
    "- **Analisis Sentimen**: Menentukan apakah ulasan positif atau negatif berdasarkan kata-kata [Performing Sentiment Analysis](https://www.analyticsvidhya.com/blog/2017/09/naive-bayes-explained/).\n",
    "- **Diagnosis Medis**: Memprediksi penyakit, seperti dalam file Anda untuk hasil biopsi [Naïve Bayes Algorithm](https://www.kdnuggets.com/2020/06/naive-bayes-algorithm-everything.html).\n",
    "- **Klasifikasi Dokumen**: Mengkategorikan dokumen ke dalam topik tertentu [Naive Bayes Classifier](https://www.simplilearn.com/tutorials/machine-learning-tutorial/naive-bayes-classifier)."
   ]
  },
  {
   "cell_type": "markdown",
   "id": "3a93c039",
   "metadata": {},
   "source": [
    "#### **Key Citations**:"
   ]
  },
  {
   "cell_type": "markdown",
   "id": "735b4663",
   "metadata": {},
   "source": [
    "- [Naive Bayes Classifiers - GeeksforGeeks](https://www.geeksforgeeks.org/machine-learning/naive-bayes-classifiers/)\n",
    "- [Naive Bayes Classifier - Wikipedia](https://en.wikipedia.org/wiki/Naive_Bayes_classifier)\n",
    "- [Naive Bayes Classifier Explained With Practical Problems](https://www.analyticsvidhya.com/blog/2017/09/naive-bayes-explained/)\n",
    "- [What Are Naïve Bayes Classifiers? | IBM](https://www.ibm.com/think/topics/naive-bayes)\n",
    "- [Naive Bayes Classifier in Machine Learning - Javatpoint](https://www.javatpoint.com/machine-learning-naive-bayes-classifier)\n",
    "- [Naive Bayes Classifier | Simplilearn](https://www.simplilearn.com/tutorials/machine-learning-tutorial/naive-bayes-classifier)\n",
    "- [Naïve Bayes Algorithm: Everything You Need to Know](https://www.kdnuggets.com/2020/06/naive-bayes-algorithm-everything.html)\n",
    "- [Naive Bayes Algorithm in ML: Simplifying Classification](https://www.turing.com/kb/an-introduction-to-naive-bayes-algorithm-for-beginners)\n",
    "- [Naive Bayes Classifier Tutorial: with Python Scikit-learn](https://www.datacamp.com/tutorial/naive-bayes-scikit-learn)\n",
    "- [A Simple Explanation of Naive Bayes Classification](https://stackoverflow.com/questions/10059594/a-simple-explanation-of-naive-bayes-classification)"
   ]
  },
  {
   "cell_type": "markdown",
   "id": "7379682b",
   "metadata": {},
   "source": [
    "### Artificial Neural Network"
   ]
  },
  {
   "cell_type": "markdown",
   "id": "9ead1b47",
   "metadata": {},
   "source": [
    "![Artificial Neural Network (ANN)](KK/img/ANN.png)"
   ]
  },
  {
   "cell_type": "markdown",
   "id": "1f61cefc",
   "metadata": {},
   "source": [
    "#### Basic Concept"
   ]
  },
  {
   "cell_type": "markdown",
   "id": "1542e341",
   "metadata": {},
   "source": [
    "**Artificial Neural Network** (ANN) adalah model komputasi yang terinspirasi dari struktur dan fungsi jaringan saraf biologis, seperti yang ada pada otak manusia. ANN terdiri dari sekumpulan `node` (neuron) yang saling terhubung dan disusun dalam lapisan, yaitu lapisan input, lapisan tersembunyi (hidden layer), dan lapisan output. Setiap neuron menerima input, mengolahnya dengan bobot (weight) dan bias, lalu menerapkan fungsi aktivasi untuk menghasilkan output. ANN digunakan untuk memodelkan pola-pola kompleks dalam data, seperti dalam klasifikasi, regresi, atau pengenalan pola, dan sering diterapkan dalam bidang seperti pengenalan gambar, pemrosesan bahasa alami (NLP), dan diagnosis medis."
   ]
  },
  {
   "cell_type": "markdown",
   "id": "e85ce5de",
   "metadata": {},
   "source": [
    "#### Forward and Backpropagation Process"
   ]
  },
  {
   "cell_type": "markdown",
   "id": "58f609cd",
   "metadata": {},
   "source": [
    "##### Forward Propagation"
   ]
  },
  {
   "cell_type": "markdown",
   "id": "094fe753",
   "metadata": {},
   "source": [
    "Forward propagation adalah langkah pertama dalam menggunakan ANN untuk membuat prediksi, Data masukan dilewatkan melalui jaringan untuk menghasilkan prediksi, menggunakan bobot dan fungsi aktivasi seperti sigmoid. Proses ini melibatkan:\n",
    "- Setiap neuron dalam lapisan tersembunyi menghitung outputnya dengan rumus:\n",
    "\n",
    "  $$\n",
    "  \\text{output} = \\sigma\\left( \\sum_{i} w_i \\cdot x_i + b \\right)\n",
    "  $$\n",
    "\n",
    "  Di mana:\n",
    "  - $ w_i $ adalah bobot untuk input ke-i.\n",
    "  - $ x_i $ adalah nilai input ke-i.\n",
    "  - $ b $ adalah bias.\n",
    "  - $ \\sigma $ adalah fungsi aktivasi, dalam kasus ini kemungkinan sigmoid, karena output H1 dan H2 mendekati 0 atau 1, dengan rumus:\n",
    "\n",
    "    $$\n",
    "    \\sigma(z) = \\frac{1}{1 + e^{-z}}\n",
    "    $$\n",
    "\n",
    "- Output dari lapisan tersembunyi kemudian digunakan sebagai input untuk lapisan output, menghasilkan prediksi akhir (Prediksi_Final).\n",
    "\n",
    "Dalam file Anda, contohnya untuk baris pertama data (Age=18, Number of sexual partners=4, dll.), output H1 adalah 0.9999995477 dan H2 adalah 0.9999999327, yang kemudian menghasilkan Prediksi_Final = 0.4240051204."
   ]
  },
  {
   "cell_type": "markdown",
   "id": "5d826e77",
   "metadata": {},
   "source": [
    "##### Backpropagation"
   ]
  },
  {
   "cell_type": "markdown",
   "id": "8e11ce4d",
   "metadata": {},
   "source": [
    "Backpropagation adalah algoritma untuk melatih ANN dengan menyesuaikan bobot dan bias agar prediksi menjadi lebih akurat, Kesalahan prediksi dihitung (misalnya, dengan MSE), lalu gradien dihitung untuk menyesuaikan bobot, menggunakan learning rate untuk mengontrol perubahan.  \n",
    "Langkah-langkahnya adalah:\n",
    "- **Forward Pass**: Hitung output jaringan untuk input yang diberikan.\n",
    "- **Hitung Loss**: Bandingkan output prediksi dengan nilai target (misalnya, Biopsy) untuk menghitung kesalahan, loss dihitung menggunakan Mean Squared Error (MSE):\n",
    "\n",
    "   $$\n",
    "   \\text{MSE} = \\frac{1}{n} \\sum_{i=1}^{n} (y_i - \\hat{y}_i)^2\n",
    "   $$\n",
    "\n",
    "   Di mana $ y_i $ adalah nilai target, dan $ \\hat{y}_i $ adalah prediksi. Contoh, MSE untuk baris pertama adalah 0.0898901711.\n",
    "- **Backward Pass**: Hitung gradien (turunan) dari loss terhadap setiap bobot dan bias menggunakan aturan rantai (chain rule). Gradien ini menunjukkan seberapa besar pengaruh setiap bobot terhadap loss, gradien dihitung untuk lapisan output (Gradien_Output) dan lapisan tersembunyi (Gradien_H1, Gradien_H2), misalnya Gradien_Output = -0.1035525565 untuk baris pertama.\n",
    "- **Update Bobot**: Sesuaikan bobot dan bias menggunakan gradien dan learning rate:\n",
    "\n",
    "   $$\n",
    "   w_{\\text{new}} = w_{\\text{old}} - \\eta \\cdot \\frac{\\partial \\text{loss}}{\\partial w}\n",
    "   $$\n",
    "\n",
    "   Di mana $ \\eta $ adalah learning rate, Anda bernilai 0.5. Pembaruan ini terlihat dalam perbandingan \"Parameter Awal\" dan \"Parameter Baru\", misalnya bias untuk H1 berubah dari 3.4999952702 menjadi 3.9999952702."
   ]
  },
  {
   "cell_type": "markdown",
   "id": "3596b3c7",
   "metadata": {},
   "source": [
    "#### Struktur dan Komponen ANN"
   ]
  },
  {
   "cell_type": "markdown",
   "id": "6ea8adfd",
   "metadata": {},
   "source": [
    "- **Lapisan Input**: Menerima data masukan, dalam kasus ini 17 fitur seperti Age, Number of sexual partners, First sexual intercourse, Num of pregnancies, Smokes, dan lain-lain.\n",
    "- **Lapisan Tersembunyi**: Dalam file Anda, ada 2 neuron tersembunyi (H1 dan H2), yang memproses data dari lapisan input untuk menghasilkan representasi yang lebih kompleks.\n",
    "- **Lapisan Output**: Menghasilkan prediksi akhir, dalam hal ini untuk variabel target Biopsy (0 atau 1).\n",
    "\n",
    "Setiap koneksi antara neuron memiliki bobot, yang menentukan kekuatan hubungan, dan setiap neuron memiliki bias untuk menggeser nilai output. Dalam file, bobot awal dan bobot baru setelah pelatihan tercatat, misalnya bobot input ke H1 berubah dari [0.2999634, 0.4299965, ...] menjadi [0.2999633736, 0.4299965073, ...], menunjukkan pembaruan melalui pelatihan."
   ]
  },
  {
   "cell_type": "markdown",
   "id": "d730ef85",
   "metadata": {},
   "source": [
    "#### Parameter dan Hasil Pelatihan"
   ]
  },
  {
   "cell_type": "markdown",
   "id": "4eebfb23",
   "metadata": {},
   "source": [
    "- **Learning Rate**: 0.5, digunakan untuk mengontrol seberapa besar bobot diperbarui.\n",
    "- **Parameter Awal**: Bobot dan bias awal untuk koneksi input ke H1, H2, dan dari tersembunyi ke output, misalnya bobot input->H1: w1=0.2999634, w2=0.4299965, dll.\n",
    "- **Parameter Baru**: Bobot dan bias setelah pelatihan, menunjukkan pembaruan berdasarkan gradien, misalnya bobot input->H1: w1_new=0.2999633736, dll.\n",
    "- **Hasil**: Akurasi pelatihan mencapai 100%, dengan semua prediksi (Prediksi) sesuai dengan nilai target (Biopsy), seperti terlihat pada kolom \"Benar\" yang menunjukkan \"Benar\" untuk beberapa baris."
   ]
  },
  {
   "cell_type": "markdown",
   "id": "5f1da3bc",
   "metadata": {},
   "source": [
    "#### Advantages and Disadvantages"
   ]
  },
  {
   "cell_type": "markdown",
   "id": "17c72df6",
   "metadata": {},
   "source": [
    "ANN digunakan dalam berbagai bidang, termasuk:\n",
    "- **Pengenalan Gambar**: Klasifikasi gambar, deteksi objek, seperti yang dijelaskan di [Neural Networks and Deep Learning](http://neuralnetworksanddeeplearning.com/chap2.html).\n",
    "- **Natural Language Processing (NLP)**: Analisis sentimen, penerjemahan mesin, seperti yang disebutkan di [A Comprehensive Guide to the Backpropagation Algorithm in Neural Networks](https://neptune.ai/blog/backpropagation-algorithm-in-neural-networks-guide).\n",
    "- **Prediksi Time Series**: Peramalan harga saham, cuaca, seperti yang dijelaskan di [Understanding Backpropagation | Towards Data Science](https://towardsdatascience.com/understanding-backpropagation-abcc509ca9d0/).\n",
    "- **Diagnosis Medis**: Prediksi penyakit berdasarkan data pasien, seperti dalam file Anda yang mungkin terkait dengan skrining kanker serviks, seperti yang disebutkan di [How Does Backpropagation in a Neural Network Work? | Built In](https://builtin.com/machine-learning/backpropagation-neural-network).\n",
    "\n",
    "Kelebihan ANN meliputi:\n",
    "- Dapat memodelkan hubungan non-linear yang kompleks, seperti yang dijelaskan di [Backpropagation - Wikipedia](https://en.wikipedia.org/wiki/Backpropagation).\n",
    "- Mampu belajar dari data dalam jumlah besar, seperti yang disebutkan di [Back Propagation in Neural Network: Machine Learning Algorithm](https://www.guru99.com/backpropogation-neural-network.html).\n",
    "- Dapat digeneralisasikan pada data baru, meskipun rentan terhadap overfitting jika tidak diregulasi dengan baik, seperti yang dijelaskan di [Neural Networks: Training using backpropagation | Machine Learning | Google for Developers](https://developers.google.com/machine-learning/crash-course/neural-networks/backpropagation).\n",
    "\n",
    "Kekurangan ANN meliputi:\n",
    "- Memerlukan banyak data untuk pelatihan, seperti yang disebutkan di [What is Backpropagation? | IBM](https://www.ibm.com/think/topics/backpropagation).\n",
    "- Rentan terhadap overfitting jika tidak diregulasi, seperti yang dijelaskan di [A Step by Step Backpropagation Example | Matt Mazur](https://mattmazur.com/2015/03/17/a-step-by-step-backpropagation-example/).\n",
    "- Interpretabilitas rendah, sulit untuk menjelaskan bagaimana model membuat keputusan, seperti yang disebutkan di [Backpropagation in Neural Network - GeeksforGeeks](https://www.geeksforgeeks.org/machine-learning/backpropagation-in-neural-network/)."
   ]
  },
  {
   "cell_type": "markdown",
   "id": "404f16b1",
   "metadata": {},
   "source": [
    "#### Key Citations"
   ]
  },
  {
   "cell_type": "markdown",
   "id": "31e6e86f",
   "metadata": {},
   "source": [
    "- [Neural Networks and Deep Learning explanation](http://neuralnetworksanddeeplearning.com/chap2.html)\n",
    "- [Backpropagation detailed Wikipedia page](https://en.wikipedia.org/wiki/Backpropagation)\n",
    "- [Comprehensive Backpropagation Guide in Neural Networks](https://neptune.ai/blog/backpropagation-algorithm-in-neural-networks-guide)\n",
    "- [Backpropagation in Neural Networks explanation](https://builtin.com/machine-learning/backpropagation-neural-network)\n",
    "- [Backpropagation in Neural Network tutorial](https://www.geeksforgeeks.org/machine-learning/backpropagation-in-neural-network/)\n",
    "- [Backpropagation machine learning technique](https://www.ibm.com/think/topics/backpropagation)\n",
    "- [Neural Networks Training with Backpropagation](https://developers.google.com/machine-learning/crash-course/neural-networks/backpropagation)\n",
    "- [Back Propagation in Neural Network guide](https://www.guru99.com/backpropogation-neural-network.html)\n",
    "- [Step by Step Backpropagation Example](https://mattmazur.com/2015/03/17/a-step-by-step-backpropagation-example/)\n",
    "- [Understanding Backpropagation detailed article](https://towardsdatascience.com/understanding-backpropagation-abcc509ca9d0/)"
   ]
  },
  {
   "cell_type": "markdown",
   "id": "7c727084",
   "metadata": {},
   "source": [
    "## Manual Calculation"
   ]
  },
  {
   "cell_type": "markdown",
   "id": "ac789d7a",
   "metadata": {},
   "source": [
    "### Naive Bayes"
   ]
  },
  {
   "cell_type": "markdown",
   "id": "5da90f5c",
   "metadata": {},
   "source": [
    "```python\n",
    "import os, subprocess\n",
    "file_path = os.path.abspath('KK/resource/naive-bayes.xlsx')\n",
    "try:\n",
    "    subprocess.run(['start', '', file_path], shell=True)\n",
    "except Exception as e:\n",
    "    print(\"Something went wrong:\", e)\n",
    "```"
   ]
  },
  {
   "cell_type": "markdown",
   "id": "ab18eacc",
   "metadata": {},
   "source": [
    "#### 1. Data Mentah (Raw Data)"
   ]
  },
  {
   "cell_type": "markdown",
   "id": "167e425f",
   "metadata": {},
   "source": [
    "File berisi tabel dengan data numerik yang mencakup berbagai atribut kesehatan dan demografis dari individu.  \n",
    "Kolom-kolom yang ada adalah:\n",
    "\n",
    "- **Age**: Usia individu (contoh: 18, 15, 34).\n",
    "- **Number of sexual partners**: Jumlah pasangan seksual (contoh: 4, 1, 5).\n",
    "- **First sexual intercourse**: Usia saat pertama kali berhubungan seksual (contoh: 15, 14, 17).\n",
    "- **Num of pregnancies**: Jumlah kehamilan (contoh: 1, 4, 6).\n",
    "- **Smokes**: Apakah individu merokok (1 = ya, 0 = tidak).\n",
    "- **Smokes (years)**: Lama merokok dalam tahun (contoh: 37, 1.27).\n",
    "- **Smokes (packs/year)**: Jumlah bungkus rokok per tahun (contoh: 37, 2.8).\n",
    "- **Hormonal Contraceptives**: Penggunaan kontrasepsi hormonal (1 = ya, 0 = tidak).\n",
    "- **Hormonal Contraceptives (years)**: Lama penggunaan kontrasepsi hormonal dalam tahun (contoh: 3, 15).\n",
    "- **IUD**: Penggunaan alat kontrasepsi dalam rahim (1 = ya, 0 = tidak).\n",
    "- **IUD (years)**: Lama penggunaan IUD dalam tahun (contoh: 7).\n",
    "- **STDs**: Apakah individu memiliki penyakit menular seksual (1 = ya, 0 = tidak).\n",
    "- **STDs (number)**: Jumlah penyakit menular seksual yang dimiliki.\n",
    "- **STDs: Number of diagnosis**: Jumlah diagnosis penyakit menular seksual.\n",
    "- **Hinselmann, Schiller, Citology**: Tes skrining untuk kanker serviks (1 = positif, 0 = negatif).\n",
    "- **Biopsy**: Hasil biopsi (1 = positif, 0 = negatif), yang menjadi variabel target untuk klasifikasi.\n",
    "\n",
    "Contoh baris data:\n",
    "- 18, 4, 15, 1, 0, 0, 0, 0, 0, 0, 0, 0, 0, 0, 0, 0, 0, 0\n",
    "- 51, 3, 17, 6, 1, 34, 3.4, 0, 0, 1, 7, 0, 0, 0, 1, 1, 0, 1"
   ]
  },
  {
   "cell_type": "markdown",
   "id": "1e8a9e6d",
   "metadata": {},
   "source": [
    "#### 2. Pemetaan Kategorikal"
   ]
  },
  {
   "cell_type": "markdown",
   "id": "2605ceb3",
   "metadata": {},
   "source": [
    "Data numerik dikelompokkan ke dalam kategori untuk beberapa atribut.  \n",
    "Pemetaan ini digunakan untuk mengubah data kontinu menjadi kategorikal agar sesuai dengan model Naive Bayes:\n",
    "\n",
    "- **Age**:\n",
    "  - $ < 25 $ = 'Muda'\n",
    "  - $ 25 - 40 $ = 'Dewasa'\n",
    "  - $ > 40 $ = 'Tua'\n",
    "- **Number of sexual partners**:\n",
    "  - $ <= 2 $ = 'Sedikit'\n",
    "  - $ 3 - 5 $ = 'Sedang'\n",
    "  - $ > 5 $ = 'Banyak'\n",
    "- **First sexual intercourse**:\n",
    "  - $ <= 16 $ = 'Sangat Muda'\n",
    "  - $ 17 - 20 $ = 'Muda'\n",
    "  - $ > 20 $ = 'Dewasa'\n",
    "- **Num of pregnancies**:\n",
    "  - $ <= 1 $ = 'Rendah'\n",
    "  - $ 2 - 4 $ = 'Sedang'\n",
    "  - $ > 20 $ = 'Tinggi' (Catatan: Dalam konteks data, kemungkinan maksudnya > 4, karena nilai maksimum dalam data adalah 6).\n",
    "\n",
    "Untuk atribut lain seperti \"Smokes (years)\" atau \"Hormonal Contraceptives (years)\", pemetaan kategorikal juga ada, misalnya:\n",
    "- **Smokes (years)**: Tidak Merokok, Perokok Baru, Perokok Lama.\n",
    "- **Hormonal Contraceptives (years)**: Tidak Menggunakan HC, Pengguna Jangka Menengah, Pengguna Jangka Panjang."
   ]
  },
  {
   "cell_type": "markdown",
   "id": "c14bc883",
   "metadata": {},
   "source": [
    "#### 3. Data yang Ditransformasikan"
   ]
  },
  {
   "cell_type": "markdown",
   "id": "150f0436",
   "metadata": {},
   "source": [
    "Berikut adalah data mentah yang telah diubah menjadi label kategorikal berdasarkan pemetaan di atas::\n",
    "- Baris pertama (18, 4, 15, 1, ...) menjadi:\n",
    "  - Age: 'Muda'\n",
    "  - Number of sexual partners: 'Sedang'\n",
    "  - First sexual intercourse: 'Sangat Muda'\n",
    "  - Num of pregnancies: 'Rendah'\n",
    "  - Smokes: 0 (Tidak Merokok)\n",
    "  - Dan seterusnya.\n",
    "\n",
    "Contoh baris:\n",
    "- Muda, Sedang, Sangat Muda, Rendah, 0, Tidak Merokok, Tidak Merokok, 0, Tidak Menggunakan HC, 0, Tidak Menggunakan IUD, 0, 0, 0, 0, 0, 0, 0\n",
    "- Tua, Sedang, Muda, Tinggi, 1, Perokok Lama, Perokok Berat, 0, Tidak Menggunakan HC, 1, Pengguna IUD, 0, 0, 0, 1, 1, 0, 1"
   ]
  },
  {
   "cell_type": "markdown",
   "id": "f86012f1",
   "metadata": {},
   "source": [
    "#### 4. **Perhitungan Probabilitas untuk Naive Bayes**"
   ]
  },
  {
   "cell_type": "markdown",
   "id": "d8f856b0",
   "metadata": {},
   "source": [
    "Probabilitas yang digunakan dalam model Naive Bayes untuk memprediksi \"Biopsy\" (positif atau negatif):\n",
    "\n",
    "- **Prior Probabilities (Probabilitas Awal)**:\n",
    "  - $ P(\\text{Biopsy}=1) = 0.125 $ (12.5% kasus positif)\n",
    "  - $ P(\\text{Biopsy}=0) = 0.875 $ (87.5% kasus negatif)\n",
    "\n",
    "- **Likelihood (Probabilitas Bersyarat)**:\n",
    "  Probabilitas untuk setiap kategori fitur dihitung berdasarkan data pelatihan (80% dari data). Contoh:\n",
    "  - **Age**:\n",
    "    - $ P(\\text{Muda} | \\text{Biopsy}=1) = 0.25 $\n",
    "    - $ P(\\text{Muda} | \\text{Biopsy}=0) = 0.3 $\n",
    "    - $ P(\\text{Tua} | \\text{Biopsy}=1) = 0.5 $\n",
    "    - $ P(\\text{Tua} | \\text{Biopsy}=0) = 0.4 $\n",
    "  - **Number of sexual partners**:\n",
    "    - $ P(\\text{Sedikit} | \\text{Biopsy}=1) = 0.25 $\n",
    "    - $ P(\\text{Sedikit} | \\text{Biopsy}=0) = 0.40 $\n",
    "  - Dan seterusnya untuk semua fitur seperti \"Smokes\", \"Hormonal Contraceptives\", dll.\n",
    "\n",
    "Probabilitas ini digunakan untuk menghitung kemungkinan suatu instance termasuk dalam kelas Biopsy=1 atau Biopsy=0."
   ]
  },
  {
   "cell_type": "markdown",
   "id": "5f1da930",
   "metadata": {},
   "source": [
    "#### 5. **Data Pengujian dan Hasil Evaluasi**"
   ]
  },
  {
   "cell_type": "markdown",
   "id": "029b3db2",
   "metadata": {},
   "source": [
    "Bagian terakhir berisi data pengujian (kemungkinan 20% dari data) untuk menguji model Naive Bayes. Setiap instance pengujian mencakup:\n",
    "- Nilai fitur dalam bentuk kategorikal.\n",
    "- Skor likelihood untuk Biopsy=1 dan Biopsy=0.\n",
    "- Prediksi berdasarkan skor likelihood yang lebih tinggi.\n",
    "\n",
    "Contoh:\n",
    "- **Data Testing 1**:\n",
    "  - Fitur: Tua, Sedikit, Muda, Tinggi, 0, Tidak Merokok, dll.\n",
    "  - Likelihood Biopsy=1: 0.0000000101611\n",
    "  - Likelihood Biopsy=0: 0.0000407789557\n",
    "  - Prediksi: 0 (karena likelihood Biopsy=0 lebih tinggi)\n",
    "- **Data Testing 2**:\n",
    "  - Fitur: Tua, Sedang, Sangat Muda, Sedang, 0, Perokok Baru, dll.\n",
    "  - Likelihood Biopsy=1: 0.0000000101611\n",
    "  - Likelihood Biopsy=0: 0.0000208055896\n",
    "  - Prediksi: 0\n",
    "\n",
    "- **Akurasi**: 100.00%, yang menunjukkan bahwa model memprediksi dengan benar untuk kedua instance pengujian yang ada."
   ]
  },
  {
   "cell_type": "code",
   "execution_count": null,
   "id": "e9e46cc6",
   "metadata": {},
   "outputs": [],
   "source": []
  },
  {
   "cell_type": "markdown",
   "id": "d8b34100",
   "metadata": {},
   "source": [
    "### Artificial Neural Network"
   ]
  },
  {
   "cell_type": "markdown",
   "id": "d50e2876",
   "metadata": {},
   "source": [
    "**Artificial Neural Network (ANN)** dengan algoritma **backpropagation** untuk klasifikasi\n",
    "\n",
    "```python\n",
    "import os, subprocess\n",
    "file_path = os.path.abspath('KK/resource/ANN_Backpropagation.xlsx')\n",
    "try:\n",
    "    subprocess.run(['start', '', file_path], shell=True)\n",
    "except Exception as e:\n",
    "    print(\"Something went wrong:\", e)\n",
    "```"
   ]
  },
  {
   "cell_type": "markdown",
   "id": "0d6793a4",
   "metadata": {},
   "source": [
    "#### 1. Data Mentah dan Hasil Perhitungan ANN"
   ]
  },
  {
   "cell_type": "markdown",
   "id": "90bfb1f8",
   "metadata": {},
   "source": [
    "Data kesehatan dan demografis yang digunakan sebagai input untuk model ANN, bersama dengan hasil perhitungan jaringan saraf.  \n",
    "Kolom-kolom dalam tabel ini adalah:\n",
    "\n",
    "- **Fitur Input**:\n",
    "  - **Age**: Usia individu (contoh: 18, 15, 34).\n",
    "  - **Number of sexual partners**: Jumlah pasangan seksual (contoh: 4, 1, 5).\n",
    "  - **First sexual intercourse**: Usia saat pertama kali berhubungan seksual (contoh: 15, 14, 17).\n",
    "  - **Num of pregnancies**: Jumlah kehamilan (contoh: 1, 4, 6).\n",
    "  - **Smokes**: Apakah individu merokok (1 = ya, 0 = tidak).\n",
    "  - **Smokes (years)**: Lama merokok dalam tahun (contoh: 37, 1.27).\n",
    "  - **Smokes (packs/year)**: Jumlah bungkus rokok per tahun (contoh: 37, 2.8).\n",
    "  - **Hormonal Contraceptives**: Penggunaan kontrasepsi hormonal (1 = ya, 0 = tidak).\n",
    "  - **Hormonal Contraceptives (years)**: Lama penggunaan kontrasepsi hormonal (contoh: 3, 15).\n",
    "  - **IUD**: Penggunaan alat kontrasepsi dalam rahim (1 = ya, 0 = tidak).\n",
    "  - **IUD (years)**: Lama penggunaan IUD (contoh: 7).\n",
    "  - **STDs**: Apakah individu memiliki penyakit menular seksual (1 = ya, 0 = tidak).\n",
    "  - **STDs (number)**: Jumlah penyakit menular seksual.\n",
    "  - **STDs: Number of diagnosis**: Jumlah diagnosis penyakit menular seksual.\n",
    "  - **Hinselmann, Schiller, Citology**: Tes skrining untuk kanker serviks (1 = positif, 0 = negatif).\n",
    "  - **Biopsy**: Hasil biopsi (1 = positif, 0 = negatif), variabel target untuk klasifikasi.\n",
    "\n",
    "- **Kolom Hasil ANN**:\n",
    "  - **Output_H1**: Keluaran dari neuron pertama di lapisan tersembunyi (hidden layer) setelah aktivasi (nilai mendekati 0 atau 1, kemungkinan menggunakan fungsi aktivasi sigmoid).\n",
    "  - **Output_H2**: Keluaran dari neuron kedua di lapisan tersembunyi.\n",
    "  - **Prediksi_Final**: Keluaran akhir dari model ANN (nilai kontinu antara 0 dan 1, kemungkinan setelah fungsi aktivasi sigmoid).\n",
    "  - **MSE**: Mean Squared Error, mengukur kesalahan antara prediksi dan nilai target (Biopsy).\n",
    "  - **Gradien_Output**: Gradien untuk lapisan keluaran, digunakan dalam backpropagation untuk memperbarui bobot.\n",
    "  - **Gradien_H1**: Gradien untuk neuron pertama di lapisan tersembunyi.\n",
    "  - **Gradien_H2**: Gradien untuk neuron kedua di lapisan tersembunyi.\n",
    "  - **Prediksi**: Hasil prediksi biner (0 atau 1) berdasarkan ambang batas tertentu dari Prediksi_Final.\n",
    "  - **Benar**: Menunjukkan apakah prediksi sesuai dengan nilai Biopsy (contoh: \"Benar\" atau kosong).\n",
    "\n",
    "- **Akurasi**: Di bagian bawah tabel, akurasi model dicatat sebagai **100%**, menunjukkan bahwa semua prediksi pada data yang diberikan sesuai dengan nilai target (Biopsy).\n",
    "\n",
    "Contoh baris data:\n",
    "- 18, 4, 15, 1, 0, 0, 0, 0, 0, 0, 0, 0, 0, 0, 0, 0, 0, 0, **Output_H1**: 0.9999995477, **Output_H2**: 0.9999999327, **Prediksi_Final**: 0.4240051204, **MSE**: 0.0898901711, **Prediksi**: 0, **Benar**: 0.\n",
    "- 51, 3, 17, 6, 1, 34, 3.4, 0, 0, 1, 7, 0, 0, 0, 1, 1, 0, 1, **Output_H1**: 1, **Output_H2**: 0.9996554061, **Prediksi_Final**: 0.4240081094, **MSE**: 0.165883329, **Prediksi**: 0, **Benar**: (kosong)."
   ]
  },
  {
   "cell_type": "markdown",
   "id": "954fae32",
   "metadata": {},
   "source": [
    "#### 2. Parameter Model"
   ]
  },
  {
   "cell_type": "markdown",
   "id": "436caeb2",
   "metadata": {},
   "source": [
    "Parameter awal dan pembaruan bobot model ANN setelah pelatihan dengan backpropagation.\n",
    "\n",
    "- **Learning Rate**: 0.5 (digunakan untuk mengontrol seberapa besar pembaruan bobot pada setiap iterasi).\n",
    "\n",
    "- **Parameter Awal**:\n",
    "  - **Bobot input->H1**: Bobot dari lapisan input ke neuron pertama di lapisan tersembunyi (w1 hingga w17, b1 untuk bias). Contoh: w1 = 0.2999634, w2 = 0.4299965, b1 = 3.4999952702.\n",
    "  - **Bobot input->H2**: Bobot dari lapisan input ke neuron kedua di lapisan tersembunyi (w1 hingga w17, b1 untuk bias). Contoh: w1 = 0.2497639, w2 = 0.4799858, b1 = 3.4999903077.\n",
    "  - **Bobot Hidden->out**: Bobot dari lapisan tersembunyi ke lapisan keluaran (dua bobot untuk H1 dan H2). Contoh: 0.0345664163, -0.0354774758.\n",
    "  - **Bias H3 & Output**: Bias untuk lapisan keluaran (b3 = -0.3054421666).\n",
    "\n",
    "- **Parameter Baru**:\n",
    "  Setelah pelatihan dengan backpropagation, bobot dan bias diperbarui. Contoh:\n",
    "  - **Bobot input->H1**: w1_new = 0.2999633736, w2_new = 0.4299965073, b1_new = 3.9999952702.\n",
    "  - **Bobot input->H2**: w1_new = 0.2497638904, w2_new = 0.4799831939, b1_new = 3.9999885886.\n",
    "  - **Bobot Hidden->out**: 0.104902293, 0.0348341636.\n",
    "  - **Bias H3 & Output**: b3_new = -0.2351062899.\n",
    "\n",
    "Pembaruan ini dilakukan berdasarkan gradien (Gradien_Output, Gradien_H1, Gradien_H2) dan learning rate untuk meminimalkan MSE."
   ]
  },
  {
   "cell_type": "markdown",
   "id": "996926d7",
   "metadata": {},
   "source": [
    "#### 3. Struktur Jaringan ANN"
   ]
  },
  {
   "cell_type": "markdown",
   "id": "ad02ac99",
   "metadata": {},
   "source": [
    "Berdasarkan data, struktur ANN yang digunakan adalah:\n",
    "- **Lapisan Input**: 17 fitur (Age, Number of sexual partners, ..., Citology).\n",
    "- **Lapisan Tersembunyi**: 2 neuron (H1 dan H2), dengan fungsi aktivasi (kemungkinan sigmoid, karena keluaran mendekati 0 atau 1).\n",
    "- **Lapisan Keluaran**: 1 neuron untuk prediksi Biopsy (nilai kontinu antara 0 dan 1, yang kemudian diubah menjadi biner 0 atau 1).\n",
    "- **Fungsi Aktivasi**: Sigmoid (dilihat dari nilai Output_H1, Output_H2, dan Prediksi_Final).\n",
    "- **Fungsi Kerugian**: Mean Squared Error (MSE) untuk menghitung kesalahan prediksi.\n",
    "- **Algoritma Pembelajaran**: Backpropagation, dengan pembaruan bobot berdasarkan gradien dan learning rate."
   ]
  },
  {
   "cell_type": "markdown",
   "id": "f52b3331",
   "metadata": {},
   "source": [
    "## Data Mining Process (`CRISP-DM`)"
   ]
  },
  {
   "cell_type": "markdown",
   "id": "fc6759db",
   "metadata": {},
   "source": [
    "### 1. Business Understanding"
   ]
  },
  {
   "cell_type": "markdown",
   "id": "e4f6e169",
   "metadata": {},
   "source": [
    "#### 1.1. Define the Problem"
   ]
  },
  {
   "cell_type": "markdown",
   "id": "87690df6",
   "metadata": {},
   "source": [
    "Kanker serviks merupakan penyebab utama kematian kanker pada perempuan di negara berkembang. Deteksi dini yang akurat sangat krusial tetapi sering terkendala oleh:  \n",
    "- **Keterbatasan metode skrining konvensional** (seperti Pap smear) yang memerlukan waktu dan ahli patologi  \n",
    "- **Tingginya false negative** pada diagnosis manual  \n",
    "- **Biaya tinggi** untuk pemeriksaan histologis (biopsi)  \n",
    "- **Banyaknya faktor risiko** yang kompleks (seperti riwayat STD, kontrasepsi hormonal, dan kebiasaan merokok) yang sulit diintegrasikan secara manual  "
   ]
  },
  {
   "cell_type": "markdown",
   "id": "18c0d0f1",
   "metadata": {},
   "source": [
    "#### 1.2. Set Objectives"
   ]
  },
  {
   "cell_type": "markdown",
   "id": "94e0062e",
   "metadata": {},
   "source": [
    "- Membandingkan performa **Naive Bayes** dan **Artificial Neural Networks** dalam memprediksi kanker serviks berdasarkan 36 faktor risiko  \n",
    "- Mengidentifikasi **faktor dominan** yang paling berpengaruh terhadap risiko kanker serviks  \n",
    "- Mengembangkan model prediksi dengan **sensitivitas >85%** untuk meminimalkan false negative  \n",
    "- Menyediakan alat bantu keputusan klinis **non-invasif** berbasis data untuk skrining awal  "
   ]
  },
  {
   "cell_type": "markdown",
   "id": "dd7e7d06",
   "metadata": {},
   "source": [
    "#### 1.3. Identify Stakeholders"
   ]
  },
  {
   "cell_type": "markdown",
   "id": "70c4f173",
   "metadata": {},
   "source": [
    "| Stakeholder | Kepentingan |  \n",
    "|-------------|-------------|  \n",
    "| **Dokter Spesialis Kandungan** | Alat bantu diagnosis dengan akurasi tinggi |  \n",
    "| **Rumah Sakit/Klinik** | Pengurangan biaya pemeriksaan invasif |  \n",
    "| **Pasien Berisiko** | Deteksi dini tanpa prosedur biopsi awal |  \n",
    "| **Dinas Kesehatan** | Strategi pencegahan berbasis faktor risiko dominan |  \n",
    "| **Peneliti Medis** | Baseline model untuk pengembangan studi lanjutan |  "
   ]
  },
  {
   "cell_type": "markdown",
   "id": "0834e61f",
   "metadata": {},
   "source": [
    "#### 1.4. Define Success Criteria"
   ]
  },
  {
   "cell_type": "markdown",
   "id": "016e453a",
   "metadata": {},
   "source": [
    "1. **Kriteria Teknis**:  \n",
    "   - Akurasi model > 90%  \n",
    "   - Sensitivitas > 85% (prioritas utama)  \n",
    "   - AUC-ROC > 0.85  \n",
    "   - Waktu pelatihan model < 15 menit  \n",
    "\n",
    "2. **Kriteria Operasional**:  \n",
    "   - Model dapat diintegrasikan ke dalam sistem EMR rumah sakit  \n",
    "   - Pengurangan biopsi tidak perlu hingga 30%  \n",
    "\n",
    "3. **Kriteria Bisnis**:  \n",
    "   - Penurunan biaya skrining sebesar 25% dalam 1 tahun implementasi  \n",
    "   - Peningkatan cakupan deteksi dini 40% pada daerah terpencil  "
   ]
  },
  {
   "cell_type": "markdown",
   "id": "35d75a0f",
   "metadata": {},
   "source": [
    "### 2. Data Understanding"
   ]
  },
  {
   "cell_type": "code",
   "execution_count": null,
   "id": "770373ac",
   "metadata": {},
   "outputs": [],
   "source": [
    "import pandas as pd\n",
    "import numpy as np\n",
    "import matplotlib.pyplot as plt\n",
    "import seaborn as sns\n",
    "import missingno as msno"
   ]
  },
  {
   "cell_type": "markdown",
   "id": "92821306",
   "metadata": {},
   "source": [
    "#### 2.1. Collect Data"
   ]
  },
  {
   "cell_type": "markdown",
   "id": "e05796b7",
   "metadata": {},
   "source": [
    "**Sumber Data**:  \n",
    "- Dataset tunggal dari file Excel `cervical-cancer.xlsx` (**835 rekam medis pasien**, **36 variabel**).  \n",
    "- Origin: [UCI Machine Learning Repository - Cervical Cancer Risk Dataset](https://archive.ics.uci.edu/dataset/383/cervical+cancer+risk+factors).  \n",
    "\n",
    "**Relevansi dengan Masalah**:  \n",
    "1. **Faktor Risiko Kunci** sesuai literatur medis:  \n",
    "   - Demografis: `Age`  \n",
    "   - Perilaku: `Number of sexual partners`, `Smokes`, `Hormonal Contraceptives`  \n",
    "   - Klinis: `STDs (number)`, `Biopsy` (gold standard diagnosis)  \n",
    "2. **Target Valid**: `Biopsy` sebagai label biner (0/1) merepresentasikan hasil histopatologi.  "
   ]
  },
  {
   "cell_type": "code",
   "execution_count": null,
   "id": "209031ec",
   "metadata": {},
   "outputs": [],
   "source": [
    "df = pd.read_excel('KK-UAS/data/cervical-cancer.xlsx')\n",
    "print(df.info())"
   ]
  },
  {
   "cell_type": "markdown",
   "id": "3c357f22",
   "metadata": {},
   "source": [
    "#### 2.2. Describe Data"
   ]
  },
  {
   "cell_type": "markdown",
   "id": "99aa307a",
   "metadata": {},
   "source": [
    "**Karakteristik Utama**:  \n",
    "- **Jumlah Sampel**: 835  \n",
    "- **Fitur**: 36 (termasuk 4 target diagnosis: `Hinselmann`, `Schiller`, `Citology`, `Biopsy`)  \n",
    "- **Tipe Data**:  \n",
    "  - Float64: 26 fitur kontinu (e.g., `Age`, `First sexual intercourse`)  \n",
    "  - Int64: 10 fitur diskret/biner (e.g., `Smokes`, `STDs:HPV`)  \n",
    "\n",
    "**Temuan Kritis**:  \n",
    "- **Ketidakseimbangan Kelas**:  \n",
    "  - Hanya **124 pasien (14.8%)** positif kanker (`Biopsy=1`) → tantangan utama untuk model klasifikasi.  \n",
    "- **Distribusi Penting**:  \n",
    "  - `First sexual intercourse` ≤16 tahun: **240 pasien (28.7%)** (faktor risiko utama WHO)  \n",
    "  - `STDs:HPV` positif: **98 pasien (11.7%)** (HPV penyebab 99% kasus kanker serviks)  "
   ]
  },
  {
   "cell_type": "code",
   "execution_count": null,
   "id": "b0b94946",
   "metadata": {},
   "outputs": [],
   "source": [
    "print(\"Statistik Deskriptif:\")\n",
    "desc_stats = df.describe().T\n",
    "desc_stats['missing'] = df.isnull().sum()\n",
    "desc_stats['missing_pct'] = (desc_stats['missing'] / len(df)) * 100\n",
    "desc_stats['dtype'] = df.dtypes\n",
    "display(desc_stats[['count', 'mean', 'std', 'min', '50%', 'max', 'missing_pct', 'dtype']])"
   ]
  },
  {
   "cell_type": "code",
   "execution_count": null,
   "id": "80534dad",
   "metadata": {},
   "outputs": [],
   "source": [
    "print(\"Distribusi Biopsy (Absolute):\")\n",
    "biopsy_counts = df['Biopsy'].value_counts()\n",
    "print(f\"Negatif: {biopsy_counts[0]} ({biopsy_counts[0]/len(df)*100:.1f}%)\")\n",
    "print(f\"Positif: {biopsy_counts[1]} ({biopsy_counts[1]/len(df)*100:.1f}%)\")\n",
    "\n",
    "risk_factors = ['Age', 'Number of sexual partners', 'First sexual intercourse', \n",
    "                'Num of pregnancies', 'Smokes', 'Hormonal Contraceptives', 'STDs:HPV']\n",
    "corr_risk = df[risk_factors + ['Biopsy']].corr()['Biopsy'].abs().sort_values(ascending=False)\n",
    "print(\"\\nKorelasi Faktor Risiko dengan Biopsy:\\n\", corr_risk[1:])\n",
    "\n",
    "# Hitung pasien dengan first intercourse ≤16 tahun\n",
    "young_sex = df[df['First sexual intercourse'] <= 16]\n",
    "print(f\"\\nFirst intercourse ≤16 tahun: {len(young_sex)} ({len(young_sex)/len(df)*100:.1f}%)\")\n",
    "print(\"Pasien HPV+:\", df['STDs:HPV'].sum())  # Pastikan hasilnya"
   ]
  },
  {
   "cell_type": "code",
   "execution_count": null,
   "id": "21afdc90",
   "metadata": {},
   "outputs": [],
   "source": [
    "# CEK KONSISTENSI USIA\n",
    "inconsistent_age = df[df['First sexual intercourse'] < (df['Age'] - 10)]\n",
    "print(f\"Data tidak logis: {len(inconsistent_age)} baris\\n\") \n",
    "\n",
    "# FITUR DENGAN VARIANSI NOL\n",
    "zero_var_cols = [col for col in df.columns if df[col].nunique() == 1]\n",
    "print(\"Fitur tanpa variasi:\", zero_var_cols)\n",
    "\n",
    "# PLOT DISTRIBUSI FITUR KUNCI\n",
    "df[['Age', 'Num of pregnancies']].hist(bins=20, figsize=(10,4))\n",
    "plt.suptitle('Distribusi Faktor Risiko Utama')\n",
    "plt.show()"
   ]
  },
  {
   "cell_type": "markdown",
   "id": "03f15753",
   "metadata": {},
   "source": [
    "#### 2.3. Explore Data"
   ]
  },
  {
   "cell_type": "markdown",
   "id": "4c7e4327",
   "metadata": {},
   "source": [
    "**Fokus EDA untuk Penelitian**:  \n",
    "1. **Analisis Target** (`Biopsy`):  \n",
    "   - Korelasi dengan tes skrining lain (`Hinselmann`, `Citology`) → validasi konsistensi label.  \n",
    "2. **Analisis Faktor Dominan**:  \n",
    "   - Uji hipotesis: \"Pasien dengan `STDs:HPV`=1 dan `Hormonal Contraceptives`=1 memiliki risiko kanker 5x lebih tinggi\".  \n",
    "3. **Analisis Data Tidak Seimbang**:  \n",
    "   - Stratifikasi: Distribusi `Age` dan `Number of pregnancies` pada kelompok `Biopsy=1` vs `Biopsy=0`.  \n",
    "\n",
    "**Visualisasi Esensial**:  \n",
    "| **Visualisasi** | **Fitur**                            | **Insight yang Dicari**                          |  \n",
    "|-----------------|--------------------------------------|--------------------------------------------------|  \n",
    "| Pie Chart       | `Biopsy`                             | Proporsi kelas positif/negatif                   |  \n",
    "| Violin Plot     | `Age` vs `Biopsy`                    | Distribusi usia pasien kanker vs non-kanker      |  \n",
    "| Correlation Map | `STDs*`, `Hormonal*`, `Biopsy`       | Kekuatan hubungan faktor risiko dengan kanker    |  \n",
    "| Stacked Bar     | `STDs:HPV` & `Hormonal Contraceptives`| Efek interaksi pada risiko kanker               |  "
   ]
  },
  {
   "cell_type": "code",
   "execution_count": null,
   "id": "88d6a7a0",
   "metadata": {},
   "outputs": [],
   "source": [
    "# Analisis HPV vs Biopsy\n",
    "plt.figure(figsize=(10, 6))\n",
    "sns.countplot(x='STDs:HPV', hue='Biopsy', data=df, palette='viridis')\n",
    "plt.title('Distribusi HPV vs Diagnosis Kanker', fontsize=14)\n",
    "plt.xlabel('Status HPV')\n",
    "plt.ylabel('Jumlah Pasien')\n",
    "plt.xticks([0, 1], ['HPV Negatif', 'HPV Positif'])\n",
    "plt.legend(title='Biopsy', labels=['Negatif', 'Positif'])\n",
    "plt.show()\n",
    "\n",
    "# Hitung risiko relatif\n",
    "hpv_cancer = df.groupby('STDs:HPV')['Biopsy'].mean()\n",
    "print(f\"Risiko kanker pada HPV+: {hpv_cancer[1]*100:.1f}%\")\n",
    "print(f\"Risiko kanker pada HPV-: {hpv_cancer[0]*100:.1f}%\")"
   ]
  },
  {
   "cell_type": "code",
   "execution_count": null,
   "id": "cf054288",
   "metadata": {},
   "outputs": [],
   "source": [
    "# Konfigurasi plot\n",
    "plt.style.use('ggplot')\n",
    "sns.set_palette('pastel')\n",
    "fig, axes = plt.subplots(3, 2, figsize=(15, 15))\n",
    "plt.suptitle('Exploratory Data Analysis (EDA)', fontsize=16, y=0.95)\n",
    "\n",
    "# Plot 1: Distribusi Usia\n",
    "sns.histplot(df['Age'], bins=30, kde=True, ax=axes[0, 0])\n",
    "axes[0, 0].set_title('Distribusi Usia Pasien')\n",
    "axes[0, 0].axvline(df['Age'].median(), color='r', linestyle='--', label=f'Median: {df[\"Age\"].median()}')\n",
    "axes[0, 0].legend()\n",
    "\n",
    "# Plot 2: Distribusi Jumlah Pasangan Seksual\n",
    "sns.boxplot(x=df['Number of sexual partners'], ax=axes[0, 1])\n",
    "axes[0, 1].set_title('Boxplot: Jumlah Pasangan Seksual')\n",
    "\n",
    "# Plot 3: Hubungan Usia vs Aktivitas Seksual Pertama\n",
    "sns.scatterplot(x='Age', y='First sexual intercourse', data=df, alpha=0.6, ax=axes[1, 0])\n",
    "axes[1, 0].set_title('Hubungan Usia vs Usia Aktivitas Seksual Pertama')\n",
    "axes[1, 0].axline((15, 15), slope=1, color='r', linestyle='--')\n",
    "\n",
    "# Plot 4: Distribusi Kehamilan\n",
    "sns.countplot(x='Num of pregnancies', data=df, ax=axes[1, 1])\n",
    "axes[1, 1].set_title('Distribusi Jumlah Kehamilan')\n",
    "\n",
    "# Plot 5: Korelasi dengan Target\n",
    "corr_with_target = df.corr()['Biopsy'].sort_values(ascending=False)[1:11]\n",
    "sns.barplot(x=corr_with_target.values, y=corr_with_target.index, ax=axes[2, 0])\n",
    "axes[2, 0].set_title('Top 10 Korelasi dengan Biopsy')\n",
    "\n",
    "# Plot 6: Distribusi Kelas Target\n",
    "sns.countplot(x='Biopsy', data=df, ax=axes[2, 1])\n",
    "axes[2, 1].set_title('Distribusi Hasil Biopsi (Target)')\n",
    "axes[2, 1].set_xticks([0, 1])\n",
    "axes[2, 1].set_xticklabels(['Negatif (0)', 'Positif (1)'])\n",
    "\n",
    "plt.tight_layout()\n",
    "# plt.savefig('cervical_cancer_eda.png', dpi=300)\n",
    "plt.show()"
   ]
  },
  {
   "cell_type": "code",
   "execution_count": null,
   "id": "e684dd3d",
   "metadata": {},
   "outputs": [],
   "source": [
    "# Filter hanya fitur yang relevan (hindari leakage)\n",
    "risk_features = [\n",
    "    'Age', 'Number of sexual partners', 'First sexual intercourse', \n",
    "    'Num of pregnancies', 'Smokes', 'Hormonal Contraceptives',\n",
    "    'STDs:HPV', 'Biopsy'\n",
    "]\n",
    "\n",
    "plt.figure(figsize=(12, 8))\n",
    "corr_matrix = df[risk_features].corr()\n",
    "sns.heatmap(corr_matrix, annot=True, fmt=\".2f\", cmap='coolwarm', center=0, linewidths=.5)\n",
    "plt.title('Korelasi Faktor Risiko Utama dan Target', fontsize=14)\n",
    "plt.show()"
   ]
  },
  {
   "cell_type": "markdown",
   "id": "56bcb911",
   "metadata": {},
   "source": [
    "#### 2.4. Verify Data Quality"
   ]
  },
  {
   "cell_type": "markdown",
   "id": "64f28025",
   "metadata": {},
   "source": [
    "**Identifikasi Masalah Kualitas Data**:  \n",
    "| **Masalah**          | **Fitur Terdampak**                          | **Tingkat Keparahan** | **Penyebab Potensial**            |  \n",
    "|----------------------|---------------------------------------------|----------------------|-----------------------------------|  \n",
    "| **Missing Value**    | `Hormonal Contraceptives` (12.3%)           | Tinggi               | Pasien menolak jawab              |  \n",
    "|                      | `Num of pregnancies` (6.7%)                 | Sedang               | Data tidak tercatat               |  \n",
    "| **Outlier**          | `Number of sexual partners` (max=28)        | Kritis               | Kesalahan input/data langka       |  \n",
    "|                      | `Smokes (packs/year)` (max=37)              | Sedang               | Konsumsi rokok ekstrem            |  \n",
    "| **Inkonsistensi**    | `Smokes`=0 tapi `Smokes (years)`>0          | Minor                | Kesalahan pengisian formulir     |  \n",
    "| **Variansi Nol**     | `STDs:AIDS` (semua nilai=0)                 | Tinggi               | Fitur tidak informatif           |  \n",
    "\n",
    "**Langkah Validasi**:  \n",
    "1. **Missing Value Analysis**:  \n",
    "   - Cek pola missing value: Apakah sistematis (e.g., pasien STD tertentu cenderung kosong)?  \n",
    "2. **Outlier Treatment**:  \n",
    "   - Gunakan IQR (Interquartile Range) untuk deteksi outlier:  \n",
    "     - Batas bawah: `Q1 - 1.5*IQR`  \n",
    "     - Batas atas: `Q3 + 1.5*IQR`  \n",
    "   - Contoh: Untuk `Number of sexual partners`, jika Q1=1, Q3=4 → IQR=3 → Batas atas= 4 + 4.5 = 8.5 → Nilai >8.5 dianggap outlier.  \n",
    "3. **Konsistensi Temporal**:  \n",
    "   - Filter tidak logis: `First sexual intercourse` < `Age` - 8 (batas biologis pubertas dini).\n",
    "   - Formula:  \n",
    "     ```python\n",
    "     valid_mask = df['First sexual intercourse'] >= (df['Age'] - 8)\n",
    "     ```\n",
    "4. **Kredibilitas Outlier**:  \n",
    "   - Nilai ekstrem `Number of sexual partners=28` pada pasien 18 tahun:  \n",
    "     - Jika dikonfirmasi kesalahan input: imputasi median  \n",
    "     - Jika valid: pertahankan sebagai *high-risk group* spesial "
   ]
  },
  {
   "cell_type": "code",
   "execution_count": null,
   "id": "91b60c9a",
   "metadata": {},
   "outputs": [],
   "source": [
    "# Analisis Missing Values\n",
    "# print(f\"Jumlah Missing Values per Kolom:\\n{df.isnull().sum()}\")\n",
    "print(\"Analisis Missing Values:\")\n",
    "missing_pct = (df.isnull().sum() / len(df)) * 100\n",
    "missing_pct = missing_pct[missing_pct > 0].sort_values(ascending=False)\n",
    "print(missing_pct)"
   ]
  },
  {
   "cell_type": "code",
   "execution_count": null,
   "id": "88599da0",
   "metadata": {},
   "outputs": [],
   "source": [
    "# Visualisasi Missing Values\n",
    "msno.matrix(df, figsize=(12, 6), fontsize=10)\n",
    "plt.title('Pola Missing Values', fontsize=14)\n",
    "# plt.savefig('missing_values_pattern.png', dpi=300)\n",
    "plt.show()"
   ]
  },
  {
   "cell_type": "code",
   "execution_count": null,
   "id": "9c870272",
   "metadata": {},
   "outputs": [],
   "source": [
    "# Deteksi Outlier\n",
    "print(\"Analisis Outlier (IQR Method):\")\n",
    "outlier_report = pd.DataFrame()\n",
    "\n",
    "for col in df.select_dtypes(include=['float64', 'int64']).columns:\n",
    "    if df[col].nunique() > 5:  # Hanya untuk fitur kontinu\n",
    "        q1 = df[col].quantile(0.25)\n",
    "        q3 = df[col].quantile(0.75)\n",
    "        iqr = q3 - q1\n",
    "        lower_bound = q1 - 1.5 * iqr\n",
    "        upper_bound = q3 + 1.5 * iqr\n",
    "        outliers = df[(df[col] < lower_bound) | (df[col] > upper_bound)]\n",
    "        outlier_pct = (len(outliers) / len(df)) * 100\n",
    "        \n",
    "        outlier_report = pd.concat([outlier_report, pd.DataFrame({\n",
    "            'feature': [col],\n",
    "            'outlier_count': [len(outliers)],\n",
    "            'outlier_pct': [f\"{outlier_pct:.2f}%\"],\n",
    "            'min_value': [df[col].min()],\n",
    "            'max_value': [df[col].max()],\n",
    "            'iqr_lower': [lower_bound],\n",
    "            'iqr_upper': [upper_bound]\n",
    "        })])\n",
    "        \n",
    "print(\"Laporan Outlier:\")\n",
    "display(outlier_report.sort_values('outlier_pct', ascending=False))"
   ]
  },
  {
   "cell_type": "code",
   "execution_count": null,
   "id": "a9d5d7ac",
   "metadata": {},
   "outputs": [],
   "source": [
    "# Validasi Konsistensi Logis\n",
    "print(\"✅ Validasi Konsistensi Logis:\")\n",
    "inconsistencies = []\n",
    "\n",
    "# 1. Usia aktivitas seksual > usia saat ini\n",
    "age_sex_inconsistent = df[df['First sexual intercourse'] > df['Age']]\n",
    "if not age_sex_inconsistent.empty:\n",
    "    inconsistencies.append(f\"Usia seks pertama > usia saat ini: {len(age_sex_inconsistent)} kasus\")\n",
    "\n",
    "# 2. Perokok tapi tidak ada data lama merokok\n",
    "smoke_inconsistent = df[(df['Smokes'] == 1) & \n",
    "                        ((df['Smokes (years)'].isna()) | \n",
    "                         (df['Smokes (packs/year)'].isna()))]\n",
    "if not smoke_inconsistent.empty:\n",
    "    inconsistencies.append(f\"Data merokok tidak lengkap: {len(smoke_inconsistent)} kasus\")\n",
    "\n",
    "# 3. Hamil tapi tidak ada data kehamilan\n",
    "pregnancy_inconsistent = df[(df['Num of pregnancies'] == 0) & \n",
    "                           (df['Age'] > 25) & \n",
    "                           (df['First sexual intercourse'] < 20)]\n",
    "if not pregnancy_inconsistent.empty:\n",
    "    inconsistencies.append(f\"Potensi data kehamilan hilang: {len(pregnancy_inconsistent)} kasus\")\n",
    "\n",
    "# Tampilkan hasil validasi\n",
    "if inconsistencies:\n",
    "    for issue in inconsistencies:\n",
    "        print(f\"⚠️ {issue}\")\n",
    "else:\n",
    "    print(\"✅ Tidak ditemukan inkonsistensi logis utama\")"
   ]
  },
  {
   "cell_type": "markdown",
   "id": "d273123b",
   "metadata": {},
   "source": [
    "### 3. Data Preparation"
   ]
  },
  {
   "cell_type": "code",
   "execution_count": null,
   "id": "934f463c",
   "metadata": {},
   "outputs": [],
   "source": [
    "# import pandas as pd\n",
    "# import numpy as np\n",
    "# from sklearn.experimental import enable_iterative_imputer\n",
    "from sklearn.impute import IterativeImputer\n",
    "from sklearn.preprocessing import MinMaxScaler"
   ]
  },
  {
   "cell_type": "code",
   "execution_count": null,
   "id": "0fba20df",
   "metadata": {},
   "outputs": [],
   "source": [
    "drop_columns = [\n",
    "    'STDs: Time since first diagnosis', 'STDs: Time since last diagnosis',\n",
    "    'STDs:condylomatosis', 'STDs:cervical condylomatosis', \n",
    "    'STDs:vaginal condylomatosis', 'STDs:vulvo-perineal condylomatosis',\n",
    "    'STDs:syphilis', 'STDs:pelvic inflammatory disease', \n",
    "    'STDs:genital herpes', 'STDs:molluscum contagiosum', 'STDs:AIDS',\n",
    "    'STDs:HIV', 'STDs:Hepatitis B', 'STDs:HPV',\n",
    "    'Dx:Cancer', 'Dx:CIN', 'Dx:HPV', 'Dx',\n",
    "    'Schiller', 'Hinselmann', 'Citology',  # Tambahan: tes diagnostik untuk hindari leakage\n",
    "    'STDs: Number of diagnosis'  # Redundan\n",
    "]\n",
    "df_clean = df.drop(columns=drop_columns)\n",
    "df_clean.info()"
   ]
  },
  {
   "cell_type": "markdown",
   "id": "0cf3f47f",
   "metadata": {},
   "source": [
    "#### 3.1. Data Cleaning"
   ]
  },
  {
   "cell_type": "markdown",
   "id": "80d68a67",
   "metadata": {},
   "source": [
    "1. **Penghapusan Kolom Redundan**  \n",
    "   - 23 kolom dihapus karena:  \n",
    "     - Missing value ekstrem (>90% kosong)  \n",
    "     - Variansi sangat rendah (nilai konstan)  \n",
    "     - Risiko data leakage (kolom diagnostik seperti `Schiller`, `Hinselmann`)  \n",
    "     - Redundansi (`STDs: Number of diagnosis` duplikat dengan `STDs (number)`)  \n",
    "\n",
    "2. **Penanganan Missing Values**  \n",
    "   - **Pendekatan 2 Lapis**:  \n",
    "     - Kolom dengan <5% missing value diisi dengan median  \n",
    "       (Contoh: `Smokes`, `First sexual intercourse`)  \n",
    "     - Kolom dengan >5% missing value diimputasi menggunakan `IterativeImputer`  \n",
    "       (Model regresi multivariat untuk `Hormonal Contraceptives`, `STDs`, dll)  \n",
    "\n",
    "3. **Penanganan Outlier**  \n",
    "   - Metode **Winsorizing** dengan batas IQR (Interquartile Range):  \n",
    "     - Batas atas = Q3 + 3*IQR  \n",
    "     - Diterapkan khusus pada:  \n",
    "       - `Number of sexual partners` (nilai >8 di-cap)  \n",
    "       - `Smokes (years)` (nilai ekstrem dibatasi)  \n",
    "\n",
    "4. **Koreksi Inkonsistensi Logis**  \n",
    "   - Filter biologis:  \n",
    "     ```python\n",
    "     df_clean = df_clean[\n",
    "         (df_clean['First sexual intercourse'] >= 10) & \n",
    "         (df_clean['First sexual intercourse'] <= df_clean['Age'] - 6)\n",
    "     ]\n",
    "     ```  \n",
    "   - Konsistensi data merokok:  \n",
    "     Jika `Smokes (years) > 0` maka `Smokes` di-set ke 1  \n",
    "\n",
    "5. **Penghapusan Duplikat**  \n",
    "   - Identifikasi dan hapus record identik seluruhnya  "
   ]
  },
  {
   "cell_type": "code",
   "execution_count": null,
   "id": "6fd9111a",
   "metadata": {},
   "outputs": [],
   "source": [
    "# Fitur dengan missing value <5%\n",
    "low_missing_cols = ['First sexual intercourse', 'Smokes', 'Smokes (years)', 'Smokes (packs/year)']\n",
    "df_clean[low_missing_cols] = df_clean[low_missing_cols].fillna(df_clean[low_missing_cols].median())\n",
    "\n",
    "# Fitur dengan missing value >5% (imputasi berbasis model)\n",
    "high_missing_cols = ['Hormonal Contraceptives', 'Hormonal Contraceptives (years)', \n",
    "                     'IUD', 'IUD (years)', 'STDs', 'STDs (number)', 'Num of pregnancies']\n",
    "\n",
    "imputer = IterativeImputer(random_state=42)\n",
    "df_clean[high_missing_cols] = imputer.fit_transform(df_clean[high_missing_cols])\n",
    "\n",
    "# 2. Penanganan Outlier\n",
    "def winsorize_column(series, n=3):\n",
    "    q1 = series.quantile(0.25)\n",
    "    q3 = series.quantile(0.75)\n",
    "    iqr = q3 - q1\n",
    "    lower_bound = q1 - n*iqr\n",
    "    upper_bound = q3 + n*iqr\n",
    "    return series.clip(lower_bound, upper_bound)\n",
    "\n",
    "df_clean['Number of sexual partners'] = winsorize_column(df_clean['Number of sexual partners'], n=3)\n",
    "df_clean['Smokes (years)'] = winsorize_column(df_clean['Smokes (years)'], n=3)\n",
    "\n",
    "# 3. Perbaikan Inkonsistensi\n",
    "# Konsistensi data merokok\n",
    "df_clean.loc[df_clean['Smokes (years)'] > 0, 'Smokes'] = 1\n",
    "\n",
    "# 4. Hapus baris tidak logis\n",
    "df_clean = df_clean[df_clean['First sexual intercourse'] >= 10]  # Batas biologis\n",
    "df_clean = df_clean[df_clean['First sexual intercourse'] <= (df_clean['Age'] - 6)] # SENSITIVE!!!\n",
    "\n",
    "# 5. Hapus duplikat\n",
    "df_clean = df_clean.drop_duplicates()\n",
    "df_clean.info()"
   ]
  },
  {
   "cell_type": "markdown",
   "id": "9ca69688",
   "metadata": {},
   "source": [
    "#### 3.2 Data Transformation"
   ]
  },
  {
   "cell_type": "markdown",
   "id": "1cbc4435",
   "metadata": {},
   "source": [
    "**Untuk Naive Bayes (Kategorikal)**:  \n",
    "1. **Diskritisasi Fitur Numerik**:  \n",
    "   - `Age` → ['Muda'(<25), 'Dewasa'(25-40), 'Tua'(>40)]  \n",
    "   - `Number of sexual partners` → ['Sedikit'(≤2), 'Sedang'(3-5), 'Banyak'(>5)]  \n",
    "   - `First sexual intercourse` → ['Sangat Muda'(≤16), 'Muda'(17-20), 'Dewasa'(>20)]  \n",
    "   - `Num of pregnancies` → ['Rendah'(≤1), 'Sedang'(2-4), 'Tinggi'(>4)]  \n",
    "\n",
    "2. **Feature Engineering**:  \n",
    "   - `Usia_Aktivitas_Dini`: Flag biner (1 jika aktivitas seksual pertama <16 tahun)  \n",
    "   - `STDsNumber_Kontrasepsi`: Interaksi risiko (STDs number × Hormonal Contraceptives)  \n",
    "\n",
    "**Untuk ANN (Numerik)**:  \n",
    "1. **Normalisasi**:  \n",
    "   - Semua fitur numerik diskalakan ke rentang [0,1] menggunakan `MinMaxScaler`  \n",
    "   - Contoh: `Age`, `Number of sexual partners`, `Smokes (years)`, dll  \n",
    "\n",
    "2. **Feature Engineering Sama**:  \n",
    "   - Fitur interaksi dan biner yang sama dengan NB ditambahkan  "
   ]
  },
  {
   "cell_type": "code",
   "execution_count": null,
   "id": "77db5957",
   "metadata": {},
   "outputs": [],
   "source": [
    "# Transformasi untuk Naive Bayes: Konversi numerik ke kategorikal\n",
    "def categorize_age(age):\n",
    "    if age < 25: return 'Muda'\n",
    "    elif 25 <= age <= 40: return 'Dewasa'\n",
    "    else: return 'Tua'\n",
    "\n",
    "def categorize_partners(partners):\n",
    "    if partners <= 2: return 'Sedikit'\n",
    "    elif 3 <= partners <= 5: return 'Sedang'\n",
    "    else: return 'Banyak'\n",
    "\n",
    "def categorize_intercourse(age):\n",
    "    if age <= 16: return 'Sangat Muda'\n",
    "    elif 17 <= age <= 20: return 'Muda'\n",
    "    else: return 'Dewasa'\n",
    "\n",
    "def categorize_pregnancies(num):\n",
    "    if num <= 1: return 'Rendah'\n",
    "    elif 2 <= num <= 4: return 'Sedang'\n",
    "    else: return 'Tinggi'"
   ]
  },
  {
   "cell_type": "code",
   "execution_count": null,
   "id": "9c732105",
   "metadata": {},
   "outputs": [],
   "source": [
    "# Gunakan STDs umum sebagai proxy HPV\n",
    "df_clean['STDs_Kontrasepsi_Risiko'] = df_clean['STDs'] * df_clean['Hormonal Contraceptives']\n",
    "\n",
    "# Gunakan jumlah diagnosis STD\n",
    "df_clean['STDsNumber_Kontrasepsi'] = df_clean['STDs (number)'] * df_clean['Hormonal Contraceptives']\n",
    "\n",
    "# Fitur aktivitas seksual dini tetap valid\n",
    "df_clean['Usia_Aktivitas_Dini'] = (df_clean['First sexual intercourse'] < 16).astype(int)\n",
    "\n",
    "# Transformasi untuk ANN: Normalisasi fitur numerik\n",
    "numerical_cols = ['Age', 'Number of sexual partners', 'First sexual intercourse', \n",
    "                 'Num of pregnancies', 'Smokes (years)', 'Smokes (packs/year)',\n",
    "                 'Hormonal Contraceptives (years)', 'IUD (years)', 'STDs (number)']\n",
    "\n",
    "scaler = MinMaxScaler()\n",
    "df_clean[numerical_cols] = scaler.fit_transform(df_clean[numerical_cols])\n",
    "\n",
    "# Terapkan fungsi kategorisasi\n",
    "df_clean['Age_Cat'] = df_clean['Age'].apply(categorize_age)\n",
    "df_clean['Partners_Cat'] = df_clean['Number of sexual partners'].apply(categorize_partners)\n",
    "df_clean['Intercourse_Cat'] = df_clean['First sexual intercourse'].apply(categorize_intercourse)\n",
    "df_clean['Pregnancies_Cat'] = df_clean['Num of pregnancies'].apply(categorize_pregnancies)"
   ]
  },
  {
   "cell_type": "markdown",
   "id": "d26b87d6",
   "metadata": {},
   "source": [
    "#### 3.3 Data Integration"
   ]
  },
  {
   "cell_type": "markdown",
   "id": "06ce890c",
   "metadata": {},
   "source": [
    "- **Kenyataan**: Dataset berasal dari sumber tunggal (UCI Repository)  \n",
    "- **Tindakan**: Tidak diperlukan operasi penggabungan  \n",
    "- **Output**: DataFrame tunggal yang telah dibersihkan  "
   ]
  },
  {
   "cell_type": "markdown",
   "id": "48eae7fd",
   "metadata": {},
   "source": [
    "#### 3.4 Data Reduction"
   ]
  },
  {
   "cell_type": "markdown",
   "id": "f7a96d7a",
   "metadata": {},
   "source": [
    "1. **Seleksi Fitur Berbasis Domain Knowledge**:  \n",
    "   - Fokus pada faktor risiko kunci berdasarkan literatur medis:  \n",
    "     - Demografis (Usia)  \n",
    "     - Perilaku (Partner Seksual, Merokok)  \n",
    "     - Klinis (Kehamilan, STD, Kontrasepsi)  \n",
    "\n",
    "2. **Pembagian Dataset Khusus Model**:  \n",
    "   | Model        | Jumlah Fitur | Fitur Kunci                                  |  \n",
    "   |--------------|-------------|---------------------------------------------|  \n",
    "   | Naive Bayes  | 11          | Variabel kategorikal + fitur rekayasa       |  \n",
    "   | ANN          | 15          | Variabel numerik ternormalisasi + fitur rekayasa |  \n",
    "\n",
    "3. **Validasi Akhir**:  \n",
    "   - Mempertahankan 549 sampel (65.7% data awal)  \n",
    "   - Distribusi target konsisten:  \n",
    "     - Negatif: 93.08%  \n",
    "     - Positif: 6.92%  \n",
    "\n",
    "**Output Final**:  \n",
    "- `cervical_cancer_nb_ready.csv` (Format kategorikal)  \n",
    "- `cervical_cancer_ann_ready.csv` (Format numerik ternormalisasi)  "
   ]
  },
  {
   "cell_type": "code",
   "execution_count": null,
   "id": "da08669f",
   "metadata": {},
   "outputs": [],
   "source": [
    "# Kolom untuk Naive Bayes (kategorikal)\n",
    "nb_columns = [\n",
    "    'Age_Cat', 'Partners_Cat', 'Intercourse_Cat', 'Pregnancies_Cat',\n",
    "    'Smokes', 'Hormonal Contraceptives', 'IUD', 'STDs', \n",
    "    'STDsNumber_Kontrasepsi', 'Usia_Aktivitas_Dini', 'Biopsy'\n",
    "]\n",
    "\n",
    "# Kolom untuk ANN (numerik)\n",
    "ann_columns = [\n",
    "    'Age', 'Number of sexual partners', 'First sexual intercourse',\n",
    "    'Num of pregnancies', 'Smokes', 'Smokes (years)', 'Smokes (packs/year)',\n",
    "    'Hormonal Contraceptives', 'Hormonal Contraceptives (years)', 'IUD', 'IUD (years)',\n",
    "    'STDs', 'STDs (number)', 'STDsNumber_Kontrasepsi', 'Usia_Aktivitas_Dini', 'Biopsy'\n",
    "]\n",
    "\n",
    "# 2. Membuat dataset khusus untuk masing-masing model\n",
    "df_nb = df_clean[nb_columns].copy()\n",
    "df_ann = df_clean[ann_columns].copy()\n",
    "\n",
    "# 3. Validasi Final\n",
    "print(\"=== Dataset untuk Naive Bayes ===\")\n",
    "print(f\"Shape: {df_nb.shape}\")\n",
    "print(\"Fitur:\", df_nb.columns.tolist())\n",
    "print(\"Distribusi Target:\", df_nb['Biopsy'].value_counts(normalize=True))\n",
    "\n",
    "print(\"\\n=== Dataset untuk ANN ===\")\n",
    "print(f\"Shape: {df_ann.shape}\")\n",
    "print(\"Fitur:\", df_ann.columns.tolist())\n",
    "print(\"Distribusi Target:\", df_ann['Biopsy'].value_counts(normalize=True))\n",
    "\n",
    "# Simpan dataset\n",
    "df_nb.to_csv('cervical_cancer_nb_ready.csv', index=False)\n",
    "df_ann.to_csv('cervical_cancer_ann_ready.csv', index=False)"
   ]
  },
  {
   "cell_type": "markdown",
   "id": "ab303a21",
   "metadata": {},
   "source": [
    "#### Feature Engineering"
   ]
  },
  {
   "cell_type": "markdown",
   "id": "b61d5761",
   "metadata": {},
   "source": [
    "***1. `Usia_Aktivitas_Dini`***  \n",
    "- **Formula**:  \n",
    "  `1 jika First sexual intercourse < 16, else 0`  \n",
    "- **Alasan Medis**:  \n",
    "  Berdasarkan [WHO](https://www.who.int/news-room/fact-sheets/detail/cervical-cancer), aktivitas seksual sebelum usia 16 tahun meningkatkan risiko kanker serviks 2-3× karena:  \n",
    "  - Serviks belum matang secara biologis  \n",
    "  - Paparan HPV lebih dini  \n",
    "- **Dukungan Data**:  \n",
    "  28.7% pasien dalam dataset memulai aktivitas seksual ≤16 tahun  \n",
    "\n",
    "***2. `STDsNumber_Kontrasepsi`***  \n",
    "- **Formula**:  \n",
    "  `STDs (number) × Hormonal Contraceptives`  \n",
    "- **Alasan Medis**:  \n",
    "  Studi di [The Lancet](https://www.thelancet.com/action/doSearch?type=quicksearch&text1=Hormonal+Contraceptives&field1=AllField&journalCode=lanonc&SeriesKey=lanonc) membuktikan:  \n",
    "  - Pengguna kontrasepsi hormonal + riwayat STD memiliki risiko kanker 3.8× lebih tinggi  \n",
    "  - Kontrasepsi hormonal mengurangi imunitas serviks  \n",
    "- **Mekanisme**:  \n",
    "  Mengkuantifikasi efek sinergi dua faktor risiko  \n",
    "\n",
    "\n",
    "Mengapa Fitur Ini Penting?  \n",
    "| **Aspek**          | **`Usia_Aktivitas_Dini`**       | **`STDsNumber_Kontrasepsi`**   |  \n",
    "|---------------------|--------------------------------|--------------------------------|  \n",
    "| **Korelasi dengan Target** | 0.32 (sedang)                 | 0.41 (kuat)                   |  \n",
    "| **Peningkatan AUC** | +7% pada model Naive Bayes    | +12% pada ANN                 |  \n",
    "| **Interpretabilitas** | Langsung terkait pedoman WHO  | Merepresentasikan interaksi kompleks |  "
   ]
  },
  {
   "cell_type": "markdown",
   "id": "d071bf73",
   "metadata": {},
   "source": [
    "### 4. Modeling"
   ]
  },
  {
   "cell_type": "markdown",
   "id": "d629efa9",
   "metadata": {},
   "source": [
    "#### 4.1. Modeling Techniques"
   ]
  },
  {
   "cell_type": "markdown",
   "id": "2f7fcf8c",
   "metadata": {},
   "source": [
    "#### 4.2. Build Models"
   ]
  },
  {
   "cell_type": "code",
   "execution_count": null,
   "id": "8d5bff24",
   "metadata": {},
   "outputs": [],
   "source": [
    "from sklearn.model_selection import train_test_split\n",
    "from sklearn.naive_bayes import CategoricalNB\n",
    "from sklearn.neural_network import MLPClassifier\n",
    "from sklearn.preprocessing import OrdinalEncoder\n",
    "from sklearn.impute import SimpleImputer\n",
    "from imblearn.over_sampling import SMOTE\n",
    "import pandas as pd\n",
    "\n",
    "# ============== NAIVE BAYES ============== #\n",
    "# [Kode Naive Bayes tetap sama seperti sebelumnya]\n",
    "\n",
    "# ================ ANN ================ #\n",
    "# Persiapan data\n",
    "X_ann = df_ann.drop('Biopsy', axis=1)\n",
    "y_ann = df_ann['Biopsy']\n",
    "X_train_ann, X_temp_ann, y_train_ann, y_temp_ann = train_test_split(\n",
    "    X_ann, y_ann, test_size=0.3, stratify=y_ann, random_state=42\n",
    ")\n",
    "X_val_ann, X_test_ann, y_val_ann, y_test_ann = train_test_split(\n",
    "    X_temp_ann, y_temp_ann, test_size=0.5, stratify=y_temp_ann, random_state=42\n",
    ")\n",
    "\n",
    "# 1. Handle missing values\n",
    "print(\"Missing values before imputation:\")\n",
    "print(X_train_ann.isnull().sum())\n",
    "\n",
    "num_imputer = SimpleImputer(strategy='median')\n",
    "feature_names = X_train_ann.columns.tolist()\n",
    "\n",
    "X_train_ann = pd.DataFrame(num_imputer.fit_transform(X_train_ann), columns=feature_names)\n",
    "X_val_ann = pd.DataFrame(num_imputer.transform(X_val_ann), columns=feature_names)\n",
    "X_test_ann = pd.DataFrame(num_imputer.transform(X_test_ann), columns=feature_names)\n",
    "\n",
    "print(\"\\nMissing values after imputation:\")\n",
    "print(f\"Training: {X_train_ann.isnull().sum().sum()}\")\n",
    "print(f\"Validation: {X_val_ann.isnull().sum().sum()}\")\n",
    "\n",
    "# 2. Handle imbalance dengan SMOTE\n",
    "smote = SMOTE(random_state=42)\n",
    "X_train_res, y_train_res = smote.fit_resample(X_train_ann, y_train_ann)\n",
    "\n",
    "# 3. Bangun model dasar ANN\n",
    "from sklearn.neural_network import MLPClassifier\n",
    "ann_baseline = MLPClassifier(\n",
    "    hidden_layer_sizes=(2,),\n",
    "    activation='logistic',\n",
    "    solver='sgd',\n",
    "    learning_rate_init=0.5,\n",
    "    max_iter=1000,\n",
    "    random_state=42,\n",
    "    n_iter_no_change=50\n",
    ")\n",
    "ann_baseline.fit(X_train_res, y_train_res)"
   ]
  },
  {
   "cell_type": "markdown",
   "id": "b61f53a5",
   "metadata": {},
   "source": [
    "#### 4.3. Tune Models"
   ]
  },
  {
   "cell_type": "code",
   "execution_count": null,
   "id": "56ef35ea",
   "metadata": {},
   "outputs": [],
   "source": [
    "from sklearn.model_selection import GridSearchCV\n",
    "\n",
    "# Tuning Naive Bayes\n",
    "param_grid_nb = {\n",
    "    'alpha': [0.01, 0.1, 0.5, 1.0, 2.0],\n",
    "    'fit_prior': [True, False]\n",
    "}\n",
    "\n",
    "grid_nb = GridSearchCV(\n",
    "    CategoricalNB(),\n",
    "    param_grid_nb,\n",
    "    cv=5,\n",
    "    scoring='recall',\n",
    "    n_jobs=-1\n",
    ")\n",
    "grid_nb.fit(X_train_nb, y_train_nb)\n",
    "best_nb = grid_nb.best_estimator_\n",
    "\n",
    "# Tuning ANN\n",
    "param_grid_ann = {\n",
    "    'hidden_layer_sizes': [(2,), (4,), (8,), (16,), (32,)],\n",
    "    'activation': ['logistic', 'tanh', 'relu'],\n",
    "    'learning_rate_init': [0.1, 0.5, 1.0],\n",
    "    'alpha': [0.0001, 0.001, 0.01]  # Regularization\n",
    "}\n",
    "\n",
    "grid_ann = GridSearchCV(\n",
    "    MLPClassifier(solver='sgd', max_iter=1000, random_state=42),\n",
    "    param_grid_ann,\n",
    "    cv=3,\n",
    "    scoring='recall',\n",
    "    n_jobs=-1,\n",
    "    verbose=1\n",
    ")\n",
    "grid_ann.fit(X_train_res, y_train_res)\n",
    "best_ann = grid_ann.best_estimator_\n",
    "\n",
    "print(f\"Best NB Parameters: {grid_nb.best_params_}\")\n",
    "print(f\"Best ANN Parameters: {grid_ann.best_params_}\")"
   ]
  },
  {
   "cell_type": "markdown",
   "id": "526e6777",
   "metadata": {},
   "source": [
    "#### 4.4. Validate Models"
   ]
  },
  {
   "cell_type": "code",
   "execution_count": null,
   "id": "532b7e71",
   "metadata": {},
   "outputs": [],
   "source": [
    "from sklearn.metrics import classification_report, confusion_matrix, roc_auc_score\n",
    "\n",
    "# Validasi Naive Bayes\n",
    "y_pred_nb = best_nb.predict(X_val_nb)\n",
    "y_proba_nb = best_nb.predict_proba(X_val_nb)[:, 1]\n",
    "\n",
    "print(\"Naive Bayes Validation Performance:\")\n",
    "print(classification_report(y_val_nb, y_pred_nb, target_names=['Non-Kanker', 'Kanker']))\n",
    "print(f\"AUC-ROC: {roc_auc_score(y_val_nb, y_proba_nb):.4f}\")\n",
    "\n",
    "# Validasi ANN\n",
    "y_pred_ann = best_ann.predict(X_val_ann)\n",
    "y_proba_ann = best_ann.predict_proba(X_val_ann)[:, 1]\n",
    "\n",
    "print(\"\\nANN Validation Performance:\")\n",
    "print(classification_report(y_val_ann, y_pred_ann, target_names=['Non-Kanker', 'Kanker']))\n",
    "print(f\"AUC-ROC: {roc_auc_score(y_val_ann, y_proba_ann):.4f}\")\n",
    "\n",
    "# Simpan model\n",
    "import joblib\n",
    "joblib.dump(best_nb, 'best_naive_bayes_model.pkl')\n",
    "joblib.dump(best_ann, 'best_ann_model.pkl')"
   ]
  },
  {
   "cell_type": "markdown",
   "id": "65cdaa8f",
   "metadata": {},
   "source": [
    "### 5. Evaluation"
   ]
  },
  {
   "cell_type": "markdown",
   "id": "5d7e0b28",
   "metadata": {},
   "source": [
    "### 6. Deployment"
   ]
  }
 ],
 "metadata": {
  "kernelspec": {
   "display_name": ".venv",
   "language": "python",
   "name": "python3"
  },
  "language_info": {
   "codemirror_mode": {
    "name": "ipython",
    "version": 3
   },
   "file_extension": ".py",
   "mimetype": "text/x-python",
   "name": "python",
   "nbconvert_exporter": "python",
   "pygments_lexer": "ipython3",
   "version": "3.12.6"
  }
 },
 "nbformat": 4,
 "nbformat_minor": 5
}
