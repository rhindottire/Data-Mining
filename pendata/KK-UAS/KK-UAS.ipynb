{
 "cells": [
  {
   "cell_type": "markdown",
   "id": "f6615540",
   "metadata": {},
   "source": [
    "# Analisis Performa Metode Naive Bayes dan Artificial Neural Networks dalam Deteksi Dini Kanker Serviks\n",
    "\n",
    "Kelompok ???\n",
    "- Muhammad Syaifudin Zuhri\n",
    "- Adzin Naufal\n",
    "- ???\n",
    "- [ACHMAD RIDHO FA'IZ](https://rhindottire.github.io/Data-Mining/intro.html) (230411100197)"
   ]
  },
  {
   "cell_type": "markdown",
   "id": "709e5351",
   "metadata": {},
   "source": [
    "## Introduction"
   ]
  },
  {
   "cell_type": "markdown",
   "id": "6ee12ff5",
   "metadata": {},
   "source": [
    "### Naive Bayes"
   ]
  },
  {
   "cell_type": "markdown",
   "id": "3b9f4fd2",
   "metadata": {},
   "source": [
    "![Naive Bayes](KK/img/naive-bayes.png)"
   ]
  },
  {
   "cell_type": "markdown",
   "id": "cdf8fecd",
   "metadata": {},
   "source": [
    "**Naive Bayes** adalah algoritma klasifikasi probabilistik yang didasarkan pada `teorema Bayes` dengan asumsi bahwa setiap fitur dalam data saling independen satu sama lain, diberikan kelas tertentu. Asumsi independensi ini, meskipun sering kali tidak realistis, membuat algoritma ini sederhana, cepat, dan efektif untuk berbagai aplikasi, terutama dalam klasifikasi teks dan diagnosis medis.\n",
    "\n",
    "- **Definisi**: Naive Bayes adalah algoritma klasifikasi berbasis probabilitas yang menggunakan teorema Bayes dengan asumsi bahwa fitur-fitur dalam data saling independen. Meskipun asumsi ini sederhana, algoritma ini sering kali efektif untuk berbagai tugas klasifikasi.\n",
    "- **Cara Kerja**: Algoritma ini menghitung probabilitas setiap kelas berdasarkan fitur-fitur yang diberikan, lalu memilih kelas dengan probabilitas tertinggi. Ini dilakukan dengan menggabungkan probabilitas prior (berdasarkan frekuensi kelas) dan likelihood (probabilitas fitur diberikan kelas).\n",
    "    - **Langkah 1**: Hitung probabilitas awal (prior) untuk setiap kelas, misalnya, persentase kasus biopsi positif (1) dan negatif (0).\n",
    "    - **Langkah 2**: Hitung probabilitas fitur (likelihood) untuk setiap kelas, seperti probabilitas usia \"Muda\" pada kasus biopsi positif.\n",
    "    - **Langkah 3**: Kombinasikan prior dan likelihood untuk menghitung probabilitas posterior, lalu pilih kelas dengan nilai tertinggi.\n",
    "    - **Langkah 4**: Untuk data baru, gunakan probabilitas ini untuk memprediksi kelas.\n",
    "- **Aplikasi**: Digunakan dalam klasifikasi teks (misalnya, filter spam email), analisis sentimen, dan diagnosis medis, seperti memprediksi hasil biopsi berdasarkan data kesehatan.\n",
    "- **Kelebihan dan Kekurangan**: Naive Bayes cepat dan efisien untuk data berdimensi tinggi, tetapi asumsi independensi fitur dapat membatasi akurasi jika fitur-fitur saling berkorelasi."
   ]
  },
  {
   "cell_type": "markdown",
   "id": "f5ac7b82",
   "metadata": {},
   "source": [
    "#### Dasar Matematis: Teorema Bayes"
   ]
  },
  {
   "cell_type": "markdown",
   "id": "ac41425e",
   "metadata": {},
   "source": [
    "$$\n",
    "P(C_k | x) = \\frac{P(C_k) \\cdot P(x | C_k)}{P(x)}\n",
    "$$\n",
    "\n",
    "Di mana:\n",
    "- $ C_k $: Kelas ke-$ k $ (misalnya, Biopsy=1 atau Biopsy=0).\n",
    "- $ x $: Vektor fitur (misalnya, Age, Number of sexual partners, dll.).\n",
    "- $ P(C_k | x) $: Probabilitas posterior, yaitu probabilitas kelas $ C_k $ diberikan fitur $ x $.\n",
    "- $ P(C_k) $: Probabilitas prior, yaitu probabilitas kelas $ C_k $ sebelum melihat data.\n",
    "- $ P(x | C_k) $: Probabilitas likelihood, yaitu probabilitas fitur $ x $ diberikan kelas $ C_k $.\n",
    "- $ P(x) $: Probabilitas evidence, yaitu probabilitas fitur $ x $ secara keseluruhan.\n",
    "\n",
    "Karena $ P(x) $ konstan untuk semua kelas, kita dapat menyederhanakan perbandingan probabilitas posterior menjadi:\n",
    "\n",
    "$$\n",
    "\\hat{y} = \\arg\\max_{k} P(C_k) \\cdot P(x | C_k)\n",
    "$$"
   ]
  },
  {
   "cell_type": "markdown",
   "id": "6e712c6d",
   "metadata": {},
   "source": [
    "#### Asumsi Independensi"
   ]
  },
  {
   "cell_type": "markdown",
   "id": "a3b14509",
   "metadata": {},
   "source": [
    "Asumsi utama Naive Bayes adalah bahwa fitur-fitur saling independen diberikan kelas. Dengan demikian, likelihood dapat dihitung sebagai:\n",
    "\n",
    "$$\n",
    "P(x | C_k) = \\prod_{i=1}^{n} P(x_i | C_k)\n",
    "$$\n",
    "\n",
    "Di mana:\n",
    "- $ x_i $: Fitur ke-$ i $.\n",
    "- $ n $: Jumlah fitur.\n",
    "- $ P(x_i | C_k) $: Probabilitas fitur ke-$ i $ diberikan kelas $ C_k $.\n",
    "\n",
    "Untuk menghindari underflow (karena perkalian banyak probabilitas kecil dapat menghasilkan nilai yang sangat kecil), sering kali digunakan logaritma:\n",
    "\n",
    "$$\n",
    "\\log P(x | C_k) = \\sum_{i=1}^{n} \\log P(x_i | C_k)\n",
    "$$"
   ]
  },
  {
   "cell_type": "markdown",
   "id": "5385ca50",
   "metadata": {},
   "source": [
    "#### Perhitungan Probabilitas"
   ]
  },
  {
   "cell_type": "markdown",
   "id": "18d8f916",
   "metadata": {},
   "source": [
    "- **Prior Probability ($ P(C_k) $)**: Dihitung sebagai frekuensi relatif kelas dalam data pelatihan. Misalnya, dalam file Anda:\n",
    "  - $ P(\\text{Biopsy=1}) = 0.125 $ (12.5% kasus positif).\n",
    "  - $ P(\\text{Biopsy=0}) = 0.875 $ (87.5% kasus negatif).\n",
    "- **Likelihood ($ P(x_i | C_k) $)**: Tergantung pada jenis fitur:\n",
    "  - **Fitur Kategorikal**: Dihitung sebagai frekuensi relatif. Misalnya, dalam file Anda:\n",
    "    - $ P(\\text{Age='Muda'} | \\text{Biopsy=1}) = 0.25 $.\n",
    "    - $ P(\\text{Age='Muda'} | \\text{Biopsy=0}) = 0.3 $.\n",
    "  - **Fitur Kontinu**: Sering diasumsikan mengikuti distribusi Gaussian:\n",
    "\n",
    "    $$\n",
    "    P(x_i | C_k) = \\frac{1}{\\sqrt{2\\pi \\sigma_{k,i}^2}} \\exp\\left( -\\frac{(x_i - \\mu_{k,i})^2}{2\\sigma_{k,i}^2} \\right)\n",
    "    $$\n",
    "\n",
    "    Di mana $ \\mu_{k,i} $ adalah rata-rata dan $ \\sigma_{k,i} $ adalah standar deviasi fitur $ i $ dalam kelas $ k $. Dalam file Anda, fitur numerik diubah menjadi kategorikal, sehingga perhitungan Gaussian tidak digunakan."
   ]
  },
  {
   "cell_type": "markdown",
   "id": "8cd7eabd",
   "metadata": {},
   "source": [
    "#### Penanganan Probabilitas Nol"
   ]
  },
  {
   "cell_type": "markdown",
   "id": "c47b3267",
   "metadata": {},
   "source": [
    "Jika sebuah fitur tidak muncul dalam data pelatihan untuk suatu kelas, probabilitasnya akan menjadi nol, yang dapat menyebabkan $ P(x | C_k) = 0 $. Untuk mengatasi ini, digunakan teknik **smoothing**, seperti **Laplace smoothing**:\n",
    "\n",
    "$$\n",
    "P(x_i | C_k) = \\frac{\\text{count}(x_i, C_k) + 1}{\\text{total count}(C_k) + \\text{jumlah kategori}}\n",
    "$$\n",
    "\n",
    "Ini memastikan bahwa tidak ada probabilitas yang bernilai nol."
   ]
  },
  {
   "cell_type": "markdown",
   "id": "40d8f5e9",
   "metadata": {},
   "source": [
    "#### Advantages and Disadvantages"
   ]
  },
  {
   "cell_type": "markdown",
   "id": "fe6097f2",
   "metadata": {},
   "source": [
    "**Kelebihan**:\n",
    "- Cepat dan efisien untuk data berdimensi tinggi.\n",
    "- Mudah diimplementasikan dan diinterpretasikan.\n",
    "- Berkinerja baik pada data kategorikal.\n",
    "- Membutuhkan sedikit data pelatihan dibandingkan model kompleks.\n",
    "\n",
    "**Kekurangan**:\n",
    "- Asumsi independensi fitur sering kali tidak realistis, yang dapat menurunkan akurasi jika fitur berkorelasi.\n",
    "- Dapat dikalahkan oleh model seperti regresi logistik atau ANN dalam kasus kompleks [Naive Bayes Classifier - Wikipedia](https://en.wikipedia.org/wiki/Naive_Bayes_classifier).\n",
    "- Memerlukan penanganan probabilitas nol dengan teknik seperti Laplace smoothing.\n",
    "- **Likelihood**: Probabilitas fitur diberikan kelas."
   ]
  },
  {
   "cell_type": "markdown",
   "id": "6e4ae703",
   "metadata": {},
   "source": [
    "#### Naive Bayes Variants and App"
   ]
  },
  {
   "cell_type": "markdown",
   "id": "75759b57",
   "metadata": {},
   "source": [
    "Naive Bayes memiliki beberapa varian yang disesuaikan dengan jenis data:\n",
    "- **Multinomial Naive Bayes**: Digunakan untuk data diskret, seperti jumlah kemunculan kata dalam klasifikasi teks. Cocok untuk fitur dengan frekuensi atau hitungan.\n",
    "- **Bernoulli Naive Bayes**: Digunakan untuk data biner (hadir/tidak hadir), seperti keberadaan kata dalam dokumen.\n",
    "- **Gaussian Naive Bayes**: Digunakan untuk data kontinu dengan asumsi distribusi Gaussian.\n",
    "\n",
    "**Konsep Terkait**:\n",
    "- **Teorema Bayes**: Dasar matematis untuk menghitung probabilitas bersyarat.\n",
    "- **Probabilitas Bersyarat**: Probabilitas suatu peristiwa diberikan peristiwa lain telah terjadi.\n",
    "- **Asumsi Independensi**: Asumsi bahwa fitur tidak saling memengaruhi, yang membuat Naive Bayes sederhana.\n",
    "- **Smoothing**: Teknik seperti Laplace smoothing untuk menghindari probabilitas nol.\n",
    "- **Prior dan Posterior**: Probabilitas sebelum dan setelah melihat data.\n",
    "\n",
    "Naive Bayes sering digunakan dalam:\n",
    "- **Filter Spam**: Mengklasifikasikan email sebagai spam atau bukan berdasarkan kata-kata yang ada [Naive Bayes Classifier Explained](https://www.analyticsvidhya.com/blog/2017/09/naive-bayes-explained/).\n",
    "- **Analisis Sentimen**: Menentukan apakah ulasan positif atau negatif berdasarkan kata-kata [Performing Sentiment Analysis](https://www.analyticsvidhya.com/blog/2017/09/naive-bayes-explained/).\n",
    "- **Diagnosis Medis**: Memprediksi penyakit, seperti dalam file Anda untuk hasil biopsi [Naïve Bayes Algorithm](https://www.kdnuggets.com/2020/06/naive-bayes-algorithm-everything.html).\n",
    "- **Klasifikasi Dokumen**: Mengkategorikan dokumen ke dalam topik tertentu [Naive Bayes Classifier](https://www.simplilearn.com/tutorials/machine-learning-tutorial/naive-bayes-classifier)."
   ]
  },
  {
   "cell_type": "markdown",
   "id": "3a93c039",
   "metadata": {},
   "source": [
    "#### **Key Citations**:"
   ]
  },
  {
   "cell_type": "markdown",
   "id": "735b4663",
   "metadata": {},
   "source": [
    "- [Naive Bayes Classifiers - GeeksforGeeks](https://www.geeksforgeeks.org/machine-learning/naive-bayes-classifiers/)\n",
    "- [Naive Bayes Classifier - Wikipedia](https://en.wikipedia.org/wiki/Naive_Bayes_classifier)\n",
    "- [Naive Bayes Classifier Explained With Practical Problems](https://www.analyticsvidhya.com/blog/2017/09/naive-bayes-explained/)\n",
    "- [What Are Naïve Bayes Classifiers? | IBM](https://www.ibm.com/think/topics/naive-bayes)\n",
    "- [Naive Bayes Classifier in Machine Learning - Javatpoint](https://www.javatpoint.com/machine-learning-naive-bayes-classifier)\n",
    "- [Naive Bayes Classifier | Simplilearn](https://www.simplilearn.com/tutorials/machine-learning-tutorial/naive-bayes-classifier)\n",
    "- [Naïve Bayes Algorithm: Everything You Need to Know](https://www.kdnuggets.com/2020/06/naive-bayes-algorithm-everything.html)\n",
    "- [Naive Bayes Algorithm in ML: Simplifying Classification](https://www.turing.com/kb/an-introduction-to-naive-bayes-algorithm-for-beginners)\n",
    "- [Naive Bayes Classifier Tutorial: with Python Scikit-learn](https://www.datacamp.com/tutorial/naive-bayes-scikit-learn)\n",
    "- [A Simple Explanation of Naive Bayes Classification](https://stackoverflow.com/questions/10059594/a-simple-explanation-of-naive-bayes-classification)"
   ]
  },
  {
   "cell_type": "markdown",
   "id": "7379682b",
   "metadata": {},
   "source": [
    "### Artificial Neural Network"
   ]
  },
  {
   "cell_type": "markdown",
   "id": "9ead1b47",
   "metadata": {},
   "source": [
    "![Artificial Neural Network (ANN)](KK/img/ANN.png)"
   ]
  },
  {
   "cell_type": "markdown",
   "id": "1f61cefc",
   "metadata": {},
   "source": [
    "#### Basic Concept"
   ]
  },
  {
   "cell_type": "markdown",
   "id": "1542e341",
   "metadata": {},
   "source": [
    "**Artificial Neural Network** (ANN) adalah model komputasi yang terinspirasi dari struktur dan fungsi jaringan saraf biologis, seperti yang ada pada otak manusia. ANN terdiri dari sekumpulan `node` (neuron) yang saling terhubung dan disusun dalam lapisan, yaitu lapisan input, lapisan tersembunyi (hidden layer), dan lapisan output. Setiap neuron menerima input, mengolahnya dengan bobot (weight) dan bias, lalu menerapkan fungsi aktivasi untuk menghasilkan output. ANN digunakan untuk memodelkan pola-pola kompleks dalam data, seperti dalam klasifikasi, regresi, atau pengenalan pola, dan sering diterapkan dalam bidang seperti pengenalan gambar, pemrosesan bahasa alami (NLP), dan diagnosis medis."
   ]
  },
  {
   "cell_type": "markdown",
   "id": "e85ce5de",
   "metadata": {},
   "source": [
    "#### Forward and Backpropagation Process"
   ]
  },
  {
   "cell_type": "markdown",
   "id": "58f609cd",
   "metadata": {},
   "source": [
    "##### Forward Propagation"
   ]
  },
  {
   "cell_type": "markdown",
   "id": "094fe753",
   "metadata": {},
   "source": [
    "Forward propagation adalah langkah pertama dalam menggunakan ANN untuk membuat prediksi, Data masukan dilewatkan melalui jaringan untuk menghasilkan prediksi, menggunakan bobot dan fungsi aktivasi seperti sigmoid. Proses ini melibatkan:\n",
    "- Setiap neuron dalam lapisan tersembunyi menghitung outputnya dengan rumus:\n",
    "\n",
    "  $$\n",
    "  \\text{output} = \\sigma\\left( \\sum_{i} w_i \\cdot x_i + b \\right)\n",
    "  $$\n",
    "\n",
    "  Di mana:\n",
    "  - $ w_i $ adalah bobot untuk input ke-i.\n",
    "  - $ x_i $ adalah nilai input ke-i.\n",
    "  - $ b $ adalah bias.\n",
    "  - $ \\sigma $ adalah fungsi aktivasi, dalam kasus ini kemungkinan sigmoid, karena output H1 dan H2 mendekati 0 atau 1, dengan rumus:\n",
    "\n",
    "    $$\n",
    "    \\sigma(z) = \\frac{1}{1 + e^{-z}}\n",
    "    $$\n",
    "\n",
    "- Output dari lapisan tersembunyi kemudian digunakan sebagai input untuk lapisan output, menghasilkan prediksi akhir (Prediksi_Final).\n",
    "\n",
    "Dalam file Anda, contohnya untuk baris pertama data (Age=18, Number of sexual partners=4, dll.), output H1 adalah 0.9999995477 dan H2 adalah 0.9999999327, yang kemudian menghasilkan Prediksi_Final = 0.4240051204."
   ]
  },
  {
   "cell_type": "markdown",
   "id": "5d826e77",
   "metadata": {},
   "source": [
    "##### Backpropagation"
   ]
  },
  {
   "cell_type": "markdown",
   "id": "8e11ce4d",
   "metadata": {},
   "source": [
    "Backpropagation adalah algoritma untuk melatih ANN dengan menyesuaikan bobot dan bias agar prediksi menjadi lebih akurat, Kesalahan prediksi dihitung (misalnya, dengan MSE), lalu gradien dihitung untuk menyesuaikan bobot, menggunakan learning rate untuk mengontrol perubahan.  \n",
    "Langkah-langkahnya adalah:\n",
    "- **Forward Pass**: Hitung output jaringan untuk input yang diberikan.\n",
    "- **Hitung Loss**: Bandingkan output prediksi dengan nilai target (misalnya, Biopsy) untuk menghitung kesalahan, loss dihitung menggunakan Mean Squared Error (MSE):\n",
    "\n",
    "   $$\n",
    "   \\text{MSE} = \\frac{1}{n} \\sum_{i=1}^{n} (y_i - \\hat{y}_i)^2\n",
    "   $$\n",
    "\n",
    "   Di mana $ y_i $ adalah nilai target, dan $ \\hat{y}_i $ adalah prediksi. Contoh, MSE untuk baris pertama adalah 0.0898901711.\n",
    "- **Backward Pass**: Hitung gradien (turunan) dari loss terhadap setiap bobot dan bias menggunakan aturan rantai (chain rule). Gradien ini menunjukkan seberapa besar pengaruh setiap bobot terhadap loss, gradien dihitung untuk lapisan output (Gradien_Output) dan lapisan tersembunyi (Gradien_H1, Gradien_H2), misalnya Gradien_Output = -0.1035525565 untuk baris pertama.\n",
    "- **Update Bobot**: Sesuaikan bobot dan bias menggunakan gradien dan learning rate:\n",
    "\n",
    "   $$\n",
    "   w_{\\text{new}} = w_{\\text{old}} - \\eta \\cdot \\frac{\\partial \\text{loss}}{\\partial w}\n",
    "   $$\n",
    "\n",
    "   Di mana $ \\eta $ adalah learning rate, Anda bernilai 0.5. Pembaruan ini terlihat dalam perbandingan \"Parameter Awal\" dan \"Parameter Baru\", misalnya bias untuk H1 berubah dari 3.4999952702 menjadi 3.9999952702."
   ]
  },
  {
   "cell_type": "markdown",
   "id": "3596b3c7",
   "metadata": {},
   "source": [
    "#### Struktur dan Komponen ANN"
   ]
  },
  {
   "cell_type": "markdown",
   "id": "6ea8adfd",
   "metadata": {},
   "source": [
    "- **Lapisan Input**: Menerima data masukan, dalam kasus ini 17 fitur seperti Age, Number of sexual partners, First sexual intercourse, Num of pregnancies, Smokes, dan lain-lain.\n",
    "- **Lapisan Tersembunyi**: Dalam file Anda, ada 2 neuron tersembunyi (H1 dan H2), yang memproses data dari lapisan input untuk menghasilkan representasi yang lebih kompleks.\n",
    "- **Lapisan Output**: Menghasilkan prediksi akhir, dalam hal ini untuk variabel target Biopsy (0 atau 1).\n",
    "\n",
    "Setiap koneksi antara neuron memiliki bobot, yang menentukan kekuatan hubungan, dan setiap neuron memiliki bias untuk menggeser nilai output. Dalam file, bobot awal dan bobot baru setelah pelatihan tercatat, misalnya bobot input ke H1 berubah dari [0.2999634, 0.4299965, ...] menjadi [0.2999633736, 0.4299965073, ...], menunjukkan pembaruan melalui pelatihan."
   ]
  },
  {
   "cell_type": "markdown",
   "id": "d730ef85",
   "metadata": {},
   "source": [
    "#### Parameter dan Hasil Pelatihan"
   ]
  },
  {
   "cell_type": "markdown",
   "id": "4eebfb23",
   "metadata": {},
   "source": [
    "- **Learning Rate**: 0.5, digunakan untuk mengontrol seberapa besar bobot diperbarui.\n",
    "- **Parameter Awal**: Bobot dan bias awal untuk koneksi input ke H1, H2, dan dari tersembunyi ke output, misalnya bobot input->H1: w1=0.2999634, w2=0.4299965, dll.\n",
    "- **Parameter Baru**: Bobot dan bias setelah pelatihan, menunjukkan pembaruan berdasarkan gradien, misalnya bobot input->H1: w1_new=0.2999633736, dll.\n",
    "- **Hasil**: Akurasi pelatihan mencapai 100%, dengan semua prediksi (Prediksi) sesuai dengan nilai target (Biopsy), seperti terlihat pada kolom \"Benar\" yang menunjukkan \"Benar\" untuk beberapa baris."
   ]
  },
  {
   "cell_type": "markdown",
   "id": "5f1da3bc",
   "metadata": {},
   "source": [
    "#### Advantages and Disadvantages"
   ]
  },
  {
   "cell_type": "markdown",
   "id": "17c72df6",
   "metadata": {},
   "source": [
    "ANN digunakan dalam berbagai bidang, termasuk:\n",
    "- **Pengenalan Gambar**: Klasifikasi gambar, deteksi objek, seperti yang dijelaskan di [Neural Networks and Deep Learning](http://neuralnetworksanddeeplearning.com/chap2.html).\n",
    "- **Natural Language Processing (NLP)**: Analisis sentimen, penerjemahan mesin, seperti yang disebutkan di [A Comprehensive Guide to the Backpropagation Algorithm in Neural Networks](https://neptune.ai/blog/backpropagation-algorithm-in-neural-networks-guide).\n",
    "- **Prediksi Time Series**: Peramalan harga saham, cuaca, seperti yang dijelaskan di [Understanding Backpropagation | Towards Data Science](https://towardsdatascience.com/understanding-backpropagation-abcc509ca9d0/).\n",
    "- **Diagnosis Medis**: Prediksi penyakit berdasarkan data pasien, seperti dalam file Anda yang mungkin terkait dengan skrining kanker serviks, seperti yang disebutkan di [How Does Backpropagation in a Neural Network Work? | Built In](https://builtin.com/machine-learning/backpropagation-neural-network).\n",
    "\n",
    "Kelebihan ANN meliputi:\n",
    "- Dapat memodelkan hubungan non-linear yang kompleks, seperti yang dijelaskan di [Backpropagation - Wikipedia](https://en.wikipedia.org/wiki/Backpropagation).\n",
    "- Mampu belajar dari data dalam jumlah besar, seperti yang disebutkan di [Back Propagation in Neural Network: Machine Learning Algorithm](https://www.guru99.com/backpropogation-neural-network.html).\n",
    "- Dapat digeneralisasikan pada data baru, meskipun rentan terhadap overfitting jika tidak diregulasi dengan baik, seperti yang dijelaskan di [Neural Networks: Training using backpropagation | Machine Learning | Google for Developers](https://developers.google.com/machine-learning/crash-course/neural-networks/backpropagation).\n",
    "\n",
    "Kekurangan ANN meliputi:\n",
    "- Memerlukan banyak data untuk pelatihan, seperti yang disebutkan di [What is Backpropagation? | IBM](https://www.ibm.com/think/topics/backpropagation).\n",
    "- Rentan terhadap overfitting jika tidak diregulasi, seperti yang dijelaskan di [A Step by Step Backpropagation Example | Matt Mazur](https://mattmazur.com/2015/03/17/a-step-by-step-backpropagation-example/).\n",
    "- Interpretabilitas rendah, sulit untuk menjelaskan bagaimana model membuat keputusan, seperti yang disebutkan di [Backpropagation in Neural Network - GeeksforGeeks](https://www.geeksforgeeks.org/machine-learning/backpropagation-in-neural-network/)."
   ]
  },
  {
   "cell_type": "markdown",
   "id": "404f16b1",
   "metadata": {},
   "source": [
    "#### Key Citations"
   ]
  },
  {
   "cell_type": "markdown",
   "id": "31e6e86f",
   "metadata": {},
   "source": [
    "- [Neural Networks and Deep Learning explanation](http://neuralnetworksanddeeplearning.com/chap2.html)\n",
    "- [Backpropagation detailed Wikipedia page](https://en.wikipedia.org/wiki/Backpropagation)\n",
    "- [Comprehensive Backpropagation Guide in Neural Networks](https://neptune.ai/blog/backpropagation-algorithm-in-neural-networks-guide)\n",
    "- [Backpropagation in Neural Networks explanation](https://builtin.com/machine-learning/backpropagation-neural-network)\n",
    "- [Backpropagation in Neural Network tutorial](https://www.geeksforgeeks.org/machine-learning/backpropagation-in-neural-network/)\n",
    "- [Backpropagation machine learning technique](https://www.ibm.com/think/topics/backpropagation)\n",
    "- [Neural Networks Training with Backpropagation](https://developers.google.com/machine-learning/crash-course/neural-networks/backpropagation)\n",
    "- [Back Propagation in Neural Network guide](https://www.guru99.com/backpropogation-neural-network.html)\n",
    "- [Step by Step Backpropagation Example](https://mattmazur.com/2015/03/17/a-step-by-step-backpropagation-example/)\n",
    "- [Understanding Backpropagation detailed article](https://towardsdatascience.com/understanding-backpropagation-abcc509ca9d0/)"
   ]
  },
  {
   "cell_type": "markdown",
   "id": "7c727084",
   "metadata": {},
   "source": [
    "## Manual Calculation"
   ]
  },
  {
   "cell_type": "markdown",
   "id": "ac789d7a",
   "metadata": {},
   "source": [
    "### Naive Bayes"
   ]
  },
  {
   "cell_type": "markdown",
   "id": "5da90f5c",
   "metadata": {},
   "source": [
    "```python\n",
    "import os, subprocess\n",
    "file_path = os.path.abspath('KK/resource/naive-bayes.xlsx')\n",
    "try:\n",
    "    subprocess.run(['start', '', file_path], shell=True)\n",
    "except Exception as e:\n",
    "    print(\"Something went wrong:\", e)\n",
    "```"
   ]
  },
  {
   "cell_type": "markdown",
   "id": "ab18eacc",
   "metadata": {},
   "source": [
    "#### 1. Data Mentah (Raw Data)"
   ]
  },
  {
   "cell_type": "markdown",
   "id": "167e425f",
   "metadata": {},
   "source": [
    "File berisi tabel dengan data numerik yang mencakup berbagai atribut kesehatan dan demografis dari individu.  \n",
    "Kolom-kolom yang ada adalah:\n",
    "\n",
    "- **Age**: Usia individu (contoh: 18, 15, 34).\n",
    "- **Number of sexual partners**: Jumlah pasangan seksual (contoh: 4, 1, 5).\n",
    "- **First sexual intercourse**: Usia saat pertama kali berhubungan seksual (contoh: 15, 14, 17).\n",
    "- **Num of pregnancies**: Jumlah kehamilan (contoh: 1, 4, 6).\n",
    "- **Smokes**: Apakah individu merokok (1 = ya, 0 = tidak).\n",
    "- **Smokes (years)**: Lama merokok dalam tahun (contoh: 37, 1.27).\n",
    "- **Smokes (packs/year)**: Jumlah bungkus rokok per tahun (contoh: 37, 2.8).\n",
    "- **Hormonal Contraceptives**: Penggunaan kontrasepsi hormonal (1 = ya, 0 = tidak).\n",
    "- **Hormonal Contraceptives (years)**: Lama penggunaan kontrasepsi hormonal dalam tahun (contoh: 3, 15).\n",
    "- **IUD**: Penggunaan alat kontrasepsi dalam rahim (1 = ya, 0 = tidak).\n",
    "- **IUD (years)**: Lama penggunaan IUD dalam tahun (contoh: 7).\n",
    "- **STDs**: Apakah individu memiliki penyakit menular seksual (1 = ya, 0 = tidak).\n",
    "- **STDs (number)**: Jumlah penyakit menular seksual yang dimiliki.\n",
    "- **STDs: Number of diagnosis**: Jumlah diagnosis penyakit menular seksual.\n",
    "- **Hinselmann, Schiller, Citology**: Tes skrining untuk kanker serviks (1 = positif, 0 = negatif).\n",
    "- **Biopsy**: Hasil biopsi (1 = positif, 0 = negatif), yang menjadi variabel target untuk klasifikasi.\n",
    "\n",
    "Contoh baris data:\n",
    "- 18, 4, 15, 1, 0, 0, 0, 0, 0, 0, 0, 0, 0, 0, 0, 0, 0, 0\n",
    "- 51, 3, 17, 6, 1, 34, 3.4, 0, 0, 1, 7, 0, 0, 0, 1, 1, 0, 1"
   ]
  },
  {
   "cell_type": "markdown",
   "id": "1e8a9e6d",
   "metadata": {},
   "source": [
    "#### 2. Pemetaan Kategorikal"
   ]
  },
  {
   "cell_type": "markdown",
   "id": "2605ceb3",
   "metadata": {},
   "source": [
    "Data numerik dikelompokkan ke dalam kategori untuk beberapa atribut.  \n",
    "Pemetaan ini digunakan untuk mengubah data kontinu menjadi kategorikal agar sesuai dengan model Naive Bayes:\n",
    "\n",
    "- **Age**:\n",
    "  - $ < 25 $ = 'Muda'\n",
    "  - $ 25 - 40 $ = 'Dewasa'\n",
    "  - $ > 40 $ = 'Tua'\n",
    "- **Number of sexual partners**:\n",
    "  - $ <= 2 $ = 'Sedikit'\n",
    "  - $ 3 - 5 $ = 'Sedang'\n",
    "  - $ > 5 $ = 'Banyak'\n",
    "- **First sexual intercourse**:\n",
    "  - $ <= 16 $ = 'Sangat Muda'\n",
    "  - $ 17 - 20 $ = 'Muda'\n",
    "  - $ > 20 $ = 'Dewasa'\n",
    "- **Num of pregnancies**:\n",
    "  - $ <= 1 $ = 'Rendah'\n",
    "  - $ 2 - 4 $ = 'Sedang'\n",
    "  - $ > 20 $ = 'Tinggi' (Catatan: Dalam konteks data, kemungkinan maksudnya > 4, karena nilai maksimum dalam data adalah 6).\n",
    "\n",
    "Untuk atribut lain seperti \"Smokes (years)\" atau \"Hormonal Contraceptives (years)\", pemetaan kategorikal juga ada, misalnya:\n",
    "- **Smokes (years)**: Tidak Merokok, Perokok Baru, Perokok Lama.\n",
    "- **Hormonal Contraceptives (years)**: Tidak Menggunakan HC, Pengguna Jangka Menengah, Pengguna Jangka Panjang."
   ]
  },
  {
   "cell_type": "markdown",
   "id": "c14bc883",
   "metadata": {},
   "source": [
    "#### 3. Data yang Ditransformasikan"
   ]
  },
  {
   "cell_type": "markdown",
   "id": "150f0436",
   "metadata": {},
   "source": [
    "Berikut adalah data mentah yang telah diubah menjadi label kategorikal berdasarkan pemetaan di atas::\n",
    "- Baris pertama (18, 4, 15, 1, ...) menjadi:\n",
    "  - Age: 'Muda'\n",
    "  - Number of sexual partners: 'Sedang'\n",
    "  - First sexual intercourse: 'Sangat Muda'\n",
    "  - Num of pregnancies: 'Rendah'\n",
    "  - Smokes: 0 (Tidak Merokok)\n",
    "  - Dan seterusnya.\n",
    "\n",
    "Contoh baris:\n",
    "- Muda, Sedang, Sangat Muda, Rendah, 0, Tidak Merokok, Tidak Merokok, 0, Tidak Menggunakan HC, 0, Tidak Menggunakan IUD, 0, 0, 0, 0, 0, 0, 0\n",
    "- Tua, Sedang, Muda, Tinggi, 1, Perokok Lama, Perokok Berat, 0, Tidak Menggunakan HC, 1, Pengguna IUD, 0, 0, 0, 1, 1, 0, 1"
   ]
  },
  {
   "cell_type": "markdown",
   "id": "f86012f1",
   "metadata": {},
   "source": [
    "#### 4. **Perhitungan Probabilitas untuk Naive Bayes**"
   ]
  },
  {
   "cell_type": "markdown",
   "id": "d8f856b0",
   "metadata": {},
   "source": [
    "Probabilitas yang digunakan dalam model Naive Bayes untuk memprediksi \"Biopsy\" (positif atau negatif):\n",
    "\n",
    "- **Prior Probabilities (Probabilitas Awal)**:\n",
    "  - $ P(\\text{Biopsy}=1) = 0.125 $ (12.5% kasus positif)\n",
    "  - $ P(\\text{Biopsy}=0) = 0.875 $ (87.5% kasus negatif)\n",
    "\n",
    "- **Likelihood (Probabilitas Bersyarat)**:\n",
    "  Probabilitas untuk setiap kategori fitur dihitung berdasarkan data pelatihan (80% dari data). Contoh:\n",
    "  - **Age**:\n",
    "    - $ P(\\text{Muda} | \\text{Biopsy}=1) = 0.25 $\n",
    "    - $ P(\\text{Muda} | \\text{Biopsy}=0) = 0.3 $\n",
    "    - $ P(\\text{Tua} | \\text{Biopsy}=1) = 0.5 $\n",
    "    - $ P(\\text{Tua} | \\text{Biopsy}=0) = 0.4 $\n",
    "  - **Number of sexual partners**:\n",
    "    - $ P(\\text{Sedikit} | \\text{Biopsy}=1) = 0.25 $\n",
    "    - $ P(\\text{Sedikit} | \\text{Biopsy}=0) = 0.40 $\n",
    "  - Dan seterusnya untuk semua fitur seperti \"Smokes\", \"Hormonal Contraceptives\", dll.\n",
    "\n",
    "Probabilitas ini digunakan untuk menghitung kemungkinan suatu instance termasuk dalam kelas Biopsy=1 atau Biopsy=0."
   ]
  },
  {
   "cell_type": "markdown",
   "id": "5f1da930",
   "metadata": {},
   "source": [
    "#### 5. **Data Pengujian dan Hasil Evaluasi**"
   ]
  },
  {
   "cell_type": "markdown",
   "id": "029b3db2",
   "metadata": {},
   "source": [
    "Bagian terakhir berisi data pengujian (kemungkinan 20% dari data) untuk menguji model Naive Bayes. Setiap instance pengujian mencakup:\n",
    "- Nilai fitur dalam bentuk kategorikal.\n",
    "- Skor likelihood untuk Biopsy=1 dan Biopsy=0.\n",
    "- Prediksi berdasarkan skor likelihood yang lebih tinggi.\n",
    "\n",
    "Contoh:\n",
    "- **Data Testing 1**:\n",
    "  - Fitur: Tua, Sedikit, Muda, Tinggi, 0, Tidak Merokok, dll.\n",
    "  - Likelihood Biopsy=1: 0.0000000101611\n",
    "  - Likelihood Biopsy=0: 0.0000407789557\n",
    "  - Prediksi: 0 (karena likelihood Biopsy=0 lebih tinggi)\n",
    "- **Data Testing 2**:\n",
    "  - Fitur: Tua, Sedang, Sangat Muda, Sedang, 0, Perokok Baru, dll.\n",
    "  - Likelihood Biopsy=1: 0.0000000101611\n",
    "  - Likelihood Biopsy=0: 0.0000208055896\n",
    "  - Prediksi: 0\n",
    "\n",
    "- **Akurasi**: 100.00%, yang menunjukkan bahwa model memprediksi dengan benar untuk kedua instance pengujian yang ada."
   ]
  },
  {
   "cell_type": "code",
   "execution_count": null,
   "id": "e9e46cc6",
   "metadata": {},
   "outputs": [],
   "source": []
  },
  {
   "cell_type": "markdown",
   "id": "d8b34100",
   "metadata": {},
   "source": [
    "### Artificial Neural Network"
   ]
  },
  {
   "cell_type": "markdown",
   "id": "d50e2876",
   "metadata": {},
   "source": [
    "**Artificial Neural Network (ANN)** dengan algoritma **backpropagation** untuk klasifikasi\n",
    "\n",
    "```python\n",
    "import os, subprocess\n",
    "file_path = os.path.abspath('KK/resource/ANN_Backpropagation.xlsx')\n",
    "try:\n",
    "    subprocess.run(['start', '', file_path], shell=True)\n",
    "except Exception as e:\n",
    "    print(\"Something went wrong:\", e)\n",
    "```"
   ]
  },
  {
   "cell_type": "markdown",
   "id": "0d6793a4",
   "metadata": {},
   "source": [
    "#### 1. Data Mentah dan Hasil Perhitungan ANN"
   ]
  },
  {
   "cell_type": "markdown",
   "id": "90bfb1f8",
   "metadata": {},
   "source": [
    "Data kesehatan dan demografis yang digunakan sebagai input untuk model ANN, bersama dengan hasil perhitungan jaringan saraf.  \n",
    "Kolom-kolom dalam tabel ini adalah:\n",
    "\n",
    "- **Fitur Input**:\n",
    "  - **Age**: Usia individu (contoh: 18, 15, 34).\n",
    "  - **Number of sexual partners**: Jumlah pasangan seksual (contoh: 4, 1, 5).\n",
    "  - **First sexual intercourse**: Usia saat pertama kali berhubungan seksual (contoh: 15, 14, 17).\n",
    "  - **Num of pregnancies**: Jumlah kehamilan (contoh: 1, 4, 6).\n",
    "  - **Smokes**: Apakah individu merokok (1 = ya, 0 = tidak).\n",
    "  - **Smokes (years)**: Lama merokok dalam tahun (contoh: 37, 1.27).\n",
    "  - **Smokes (packs/year)**: Jumlah bungkus rokok per tahun (contoh: 37, 2.8).\n",
    "  - **Hormonal Contraceptives**: Penggunaan kontrasepsi hormonal (1 = ya, 0 = tidak).\n",
    "  - **Hormonal Contraceptives (years)**: Lama penggunaan kontrasepsi hormonal (contoh: 3, 15).\n",
    "  - **IUD**: Penggunaan alat kontrasepsi dalam rahim (1 = ya, 0 = tidak).\n",
    "  - **IUD (years)**: Lama penggunaan IUD (contoh: 7).\n",
    "  - **STDs**: Apakah individu memiliki penyakit menular seksual (1 = ya, 0 = tidak).\n",
    "  - **STDs (number)**: Jumlah penyakit menular seksual.\n",
    "  - **STDs: Number of diagnosis**: Jumlah diagnosis penyakit menular seksual.\n",
    "  - **Hinselmann, Schiller, Citology**: Tes skrining untuk kanker serviks (1 = positif, 0 = negatif).\n",
    "  - **Biopsy**: Hasil biopsi (1 = positif, 0 = negatif), variabel target untuk klasifikasi.\n",
    "\n",
    "- **Kolom Hasil ANN**:\n",
    "  - **Output_H1**: Keluaran dari neuron pertama di lapisan tersembunyi (hidden layer) setelah aktivasi (nilai mendekati 0 atau 1, kemungkinan menggunakan fungsi aktivasi sigmoid).\n",
    "  - **Output_H2**: Keluaran dari neuron kedua di lapisan tersembunyi.\n",
    "  - **Prediksi_Final**: Keluaran akhir dari model ANN (nilai kontinu antara 0 dan 1, kemungkinan setelah fungsi aktivasi sigmoid).\n",
    "  - **MSE**: Mean Squared Error, mengukur kesalahan antara prediksi dan nilai target (Biopsy).\n",
    "  - **Gradien_Output**: Gradien untuk lapisan keluaran, digunakan dalam backpropagation untuk memperbarui bobot.\n",
    "  - **Gradien_H1**: Gradien untuk neuron pertama di lapisan tersembunyi.\n",
    "  - **Gradien_H2**: Gradien untuk neuron kedua di lapisan tersembunyi.\n",
    "  - **Prediksi**: Hasil prediksi biner (0 atau 1) berdasarkan ambang batas tertentu dari Prediksi_Final.\n",
    "  - **Benar**: Menunjukkan apakah prediksi sesuai dengan nilai Biopsy (contoh: \"Benar\" atau kosong).\n",
    "\n",
    "- **Akurasi**: Di bagian bawah tabel, akurasi model dicatat sebagai **100%**, menunjukkan bahwa semua prediksi pada data yang diberikan sesuai dengan nilai target (Biopsy).\n",
    "\n",
    "Contoh baris data:\n",
    "- 18, 4, 15, 1, 0, 0, 0, 0, 0, 0, 0, 0, 0, 0, 0, 0, 0, 0, **Output_H1**: 0.9999995477, **Output_H2**: 0.9999999327, **Prediksi_Final**: 0.4240051204, **MSE**: 0.0898901711, **Prediksi**: 0, **Benar**: 0.\n",
    "- 51, 3, 17, 6, 1, 34, 3.4, 0, 0, 1, 7, 0, 0, 0, 1, 1, 0, 1, **Output_H1**: 1, **Output_H2**: 0.9996554061, **Prediksi_Final**: 0.4240081094, **MSE**: 0.165883329, **Prediksi**: 0, **Benar**: (kosong)."
   ]
  },
  {
   "cell_type": "markdown",
   "id": "954fae32",
   "metadata": {},
   "source": [
    "#### 2. Parameter Model"
   ]
  },
  {
   "cell_type": "markdown",
   "id": "436caeb2",
   "metadata": {},
   "source": [
    "Parameter awal dan pembaruan bobot model ANN setelah pelatihan dengan backpropagation.\n",
    "\n",
    "- **Learning Rate**: 0.5 (digunakan untuk mengontrol seberapa besar pembaruan bobot pada setiap iterasi).\n",
    "\n",
    "- **Parameter Awal**:\n",
    "  - **Bobot input->H1**: Bobot dari lapisan input ke neuron pertama di lapisan tersembunyi (w1 hingga w17, b1 untuk bias). Contoh: w1 = 0.2999634, w2 = 0.4299965, b1 = 3.4999952702.\n",
    "  - **Bobot input->H2**: Bobot dari lapisan input ke neuron kedua di lapisan tersembunyi (w1 hingga w17, b1 untuk bias). Contoh: w1 = 0.2497639, w2 = 0.4799858, b1 = 3.4999903077.\n",
    "  - **Bobot Hidden->out**: Bobot dari lapisan tersembunyi ke lapisan keluaran (dua bobot untuk H1 dan H2). Contoh: 0.0345664163, -0.0354774758.\n",
    "  - **Bias H3 & Output**: Bias untuk lapisan keluaran (b3 = -0.3054421666).\n",
    "\n",
    "- **Parameter Baru**:\n",
    "  Setelah pelatihan dengan backpropagation, bobot dan bias diperbarui. Contoh:\n",
    "  - **Bobot input->H1**: w1_new = 0.2999633736, w2_new = 0.4299965073, b1_new = 3.9999952702.\n",
    "  - **Bobot input->H2**: w1_new = 0.2497638904, w2_new = 0.4799831939, b1_new = 3.9999885886.\n",
    "  - **Bobot Hidden->out**: 0.104902293, 0.0348341636.\n",
    "  - **Bias H3 & Output**: b3_new = -0.2351062899.\n",
    "\n",
    "Pembaruan ini dilakukan berdasarkan gradien (Gradien_Output, Gradien_H1, Gradien_H2) dan learning rate untuk meminimalkan MSE."
   ]
  },
  {
   "cell_type": "markdown",
   "id": "996926d7",
   "metadata": {},
   "source": [
    "#### 3. Struktur Jaringan ANN"
   ]
  },
  {
   "cell_type": "markdown",
   "id": "ad02ac99",
   "metadata": {},
   "source": [
    "Berdasarkan data, struktur ANN yang digunakan adalah:\n",
    "- **Lapisan Input**: 17 fitur (Age, Number of sexual partners, ..., Citology).\n",
    "- **Lapisan Tersembunyi**: 2 neuron (H1 dan H2), dengan fungsi aktivasi (kemungkinan sigmoid, karena keluaran mendekati 0 atau 1).\n",
    "- **Lapisan Keluaran**: 1 neuron untuk prediksi Biopsy (nilai kontinu antara 0 dan 1, yang kemudian diubah menjadi biner 0 atau 1).\n",
    "- **Fungsi Aktivasi**: Sigmoid (dilihat dari nilai Output_H1, Output_H2, dan Prediksi_Final).\n",
    "- **Fungsi Kerugian**: Mean Squared Error (MSE) untuk menghitung kesalahan prediksi.\n",
    "- **Algoritma Pembelajaran**: Backpropagation, dengan pembaruan bobot berdasarkan gradien dan learning rate."
   ]
  },
  {
   "cell_type": "markdown",
   "id": "f52b3331",
   "metadata": {},
   "source": [
    "## Data Mining Process (`CRISP-DM`)"
   ]
  },
  {
   "cell_type": "markdown",
   "id": "fc6759db",
   "metadata": {},
   "source": [
    "### 1. Business Understanding"
   ]
  },
  {
   "cell_type": "markdown",
   "id": "e4f6e169",
   "metadata": {},
   "source": [
    "#### 1.1. Define the Problem"
   ]
  },
  {
   "cell_type": "markdown",
   "id": "87690df6",
   "metadata": {},
   "source": [
    "Kanker serviks merupakan penyebab utama kematian kanker pada perempuan di negara berkembang. Deteksi dini yang akurat sangat krusial tetapi sering terkendala oleh:  \n",
    "- **Keterbatasan metode skrining konvensional** (seperti Pap smear) yang memerlukan waktu dan ahli patologi  \n",
    "- **Tingginya false negative** pada diagnosis manual  \n",
    "- **Biaya tinggi** untuk pemeriksaan histologis (biopsi)  \n",
    "- **Banyaknya faktor risiko** yang kompleks (seperti riwayat STD, kontrasepsi hormonal, dan kebiasaan merokok) yang sulit diintegrasikan secara manual  "
   ]
  },
  {
   "cell_type": "markdown",
   "id": "18c0d0f1",
   "metadata": {},
   "source": [
    "#### 1.2. Set Objectives"
   ]
  },
  {
   "cell_type": "markdown",
   "id": "94e0062e",
   "metadata": {},
   "source": [
    "- Membandingkan performa **Naive Bayes** dan **Artificial Neural Networks** dalam memprediksi kanker serviks berdasarkan 36 faktor risiko  \n",
    "- Mengidentifikasi **faktor dominan** yang paling berpengaruh terhadap risiko kanker serviks  \n",
    "- Mengembangkan model prediksi dengan **sensitivitas >85%** untuk meminimalkan false negative  \n",
    "- Menyediakan alat bantu keputusan klinis **non-invasif** berbasis data untuk skrining awal  "
   ]
  },
  {
   "cell_type": "markdown",
   "id": "dd7e7d06",
   "metadata": {},
   "source": [
    "#### 1.3. Identify Stakeholders"
   ]
  },
  {
   "cell_type": "markdown",
   "id": "70c4f173",
   "metadata": {},
   "source": [
    "| Stakeholder | Kepentingan |  \n",
    "|-------------|-------------|  \n",
    "| **Dokter Spesialis Kandungan** | Alat bantu diagnosis dengan akurasi tinggi |  \n",
    "| **Rumah Sakit/Klinik** | Pengurangan biaya pemeriksaan invasif |  \n",
    "| **Pasien Berisiko** | Deteksi dini tanpa prosedur biopsi awal |  \n",
    "| **Dinas Kesehatan** | Strategi pencegahan berbasis faktor risiko dominan |  \n",
    "| **Peneliti Medis** | Baseline model untuk pengembangan studi lanjutan |  "
   ]
  },
  {
   "cell_type": "markdown",
   "id": "0834e61f",
   "metadata": {},
   "source": [
    "#### 1.4. Define Success Criteria"
   ]
  },
  {
   "cell_type": "markdown",
   "id": "016e453a",
   "metadata": {},
   "source": [
    "1. **Kriteria Teknis**:  \n",
    "   - Akurasi model > 90%  \n",
    "   - Sensitivitas > 85% (prioritas utama)  \n",
    "   - AUC-ROC > 0.85  \n",
    "   - Waktu pelatihan model < 15 menit  \n",
    "\n",
    "2. **Kriteria Operasional**:  \n",
    "   - Model dapat diintegrasikan ke dalam sistem EMR rumah sakit  \n",
    "   - Pengurangan biopsi tidak perlu hingga 30%  \n",
    "\n",
    "3. **Kriteria Bisnis**:  \n",
    "   - Penurunan biaya skrining sebesar 25% dalam 1 tahun implementasi  \n",
    "   - Peningkatan cakupan deteksi dini 40% pada daerah terpencil  "
   ]
  },
  {
   "cell_type": "markdown",
   "id": "35d75a0f",
   "metadata": {},
   "source": [
    "### 2. Data Understanding"
   ]
  },
  {
   "cell_type": "code",
   "execution_count": 2336,
   "id": "770373ac",
   "metadata": {},
   "outputs": [],
   "source": [
    "import pandas as pd\n",
    "import numpy as np\n",
    "import matplotlib.pyplot as plt\n",
    "import seaborn as sns\n",
    "import missingno as msno"
   ]
  },
  {
   "cell_type": "markdown",
   "id": "92821306",
   "metadata": {},
   "source": [
    "#### 2.1. Collect Data"
   ]
  },
  {
   "cell_type": "code",
   "execution_count": 2337,
   "id": "209031ec",
   "metadata": {},
   "outputs": [
    {
     "name": "stdout",
     "output_type": "stream",
     "text": [
      "<class 'pandas.core.frame.DataFrame'>\n",
      "RangeIndex: 835 entries, 0 to 834\n",
      "Data columns (total 36 columns):\n",
      " #   Column                              Non-Null Count  Dtype  \n",
      "---  ------                              --------------  -----  \n",
      " 0   Age                                 835 non-null    int64  \n",
      " 1   Number of sexual partners           810 non-null    float64\n",
      " 2   First sexual intercourse            828 non-null    float64\n",
      " 3   Num of pregnancies                  779 non-null    float64\n",
      " 4   Smokes                              822 non-null    float64\n",
      " 5   Smokes (years)                      822 non-null    float64\n",
      " 6   Smokes (packs/year)                 822 non-null    float64\n",
      " 7   Hormonal Contraceptives             732 non-null    float64\n",
      " 8   Hormonal Contraceptives (years)     732 non-null    float64\n",
      " 9   IUD                                 723 non-null    float64\n",
      " 10  IUD (years)                         723 non-null    float64\n",
      " 11  STDs                                735 non-null    float64\n",
      " 12  STDs (number)                       735 non-null    float64\n",
      " 13  STDs:condylomatosis                 735 non-null    float64\n",
      " 14  STDs:cervical condylomatosis        735 non-null    float64\n",
      " 15  STDs:vaginal condylomatosis         735 non-null    float64\n",
      " 16  STDs:vulvo-perineal condylomatosis  735 non-null    float64\n",
      " 17  STDs:syphilis                       735 non-null    float64\n",
      " 18  STDs:pelvic inflammatory disease    735 non-null    float64\n",
      " 19  STDs:genital herpes                 735 non-null    float64\n",
      " 20  STDs:molluscum contagiosum          735 non-null    float64\n",
      " 21  STDs:AIDS                           735 non-null    float64\n",
      " 22  STDs:HIV                            735 non-null    float64\n",
      " 23  STDs:Hepatitis B                    735 non-null    float64\n",
      " 24  STDs:HPV                            735 non-null    float64\n",
      " 25  STDs: Number of diagnosis           835 non-null    int64  \n",
      " 26  STDs: Time since first diagnosis    71 non-null     float64\n",
      " 27  STDs: Time since last diagnosis     71 non-null     float64\n",
      " 28  Dx:Cancer                           835 non-null    int64  \n",
      " 29  Dx:CIN                              835 non-null    int64  \n",
      " 30  Dx:HPV                              835 non-null    int64  \n",
      " 31  Dx                                  835 non-null    int64  \n",
      " 32  Hinselmann                          835 non-null    int64  \n",
      " 33  Schiller                            835 non-null    int64  \n",
      " 34  Citology                            835 non-null    int64  \n",
      " 35  Biopsy                              835 non-null    int64  \n",
      "dtypes: float64(26), int64(10)\n",
      "memory usage: 235.0 KB\n",
      "None\n"
     ]
    }
   ],
   "source": [
    "df = pd.read_excel('KK-UAS/data/cervical-cancer.xlsx')\n",
    "print(df.info())"
   ]
  },
  {
   "cell_type": "markdown",
   "id": "3c357f22",
   "metadata": {},
   "source": [
    "#### 2.2. Describe Data"
   ]
  },
  {
   "cell_type": "code",
   "execution_count": 2338,
   "id": "b0b94946",
   "metadata": {},
   "outputs": [
    {
     "name": "stdout",
     "output_type": "stream",
     "text": [
      "Statistik Deskriptif:\n"
     ]
    },
    {
     "data": {
      "text/html": [
       "<div>\n",
       "<style scoped>\n",
       "    .dataframe tbody tr th:only-of-type {\n",
       "        vertical-align: middle;\n",
       "    }\n",
       "\n",
       "    .dataframe tbody tr th {\n",
       "        vertical-align: top;\n",
       "    }\n",
       "\n",
       "    .dataframe thead th {\n",
       "        text-align: right;\n",
       "    }\n",
       "</style>\n",
       "<table border=\"1\" class=\"dataframe\">\n",
       "  <thead>\n",
       "    <tr style=\"text-align: right;\">\n",
       "      <th></th>\n",
       "      <th>count</th>\n",
       "      <th>mean</th>\n",
       "      <th>std</th>\n",
       "      <th>min</th>\n",
       "      <th>50%</th>\n",
       "      <th>max</th>\n",
       "      <th>missing_pct</th>\n",
       "      <th>dtype</th>\n",
       "    </tr>\n",
       "  </thead>\n",
       "  <tbody>\n",
       "    <tr>\n",
       "      <th>Age</th>\n",
       "      <td>835.0</td>\n",
       "      <td>27.023952</td>\n",
       "      <td>8.482986</td>\n",
       "      <td>13.0</td>\n",
       "      <td>26.0</td>\n",
       "      <td>84.0</td>\n",
       "      <td>0.000000</td>\n",
       "      <td>int64</td>\n",
       "    </tr>\n",
       "    <tr>\n",
       "      <th>Number of sexual partners</th>\n",
       "      <td>810.0</td>\n",
       "      <td>2.551852</td>\n",
       "      <td>1.676686</td>\n",
       "      <td>1.0</td>\n",
       "      <td>2.0</td>\n",
       "      <td>28.0</td>\n",
       "      <td>2.994012</td>\n",
       "      <td>float64</td>\n",
       "    </tr>\n",
       "    <tr>\n",
       "      <th>First sexual intercourse</th>\n",
       "      <td>828.0</td>\n",
       "      <td>17.020531</td>\n",
       "      <td>2.817000</td>\n",
       "      <td>10.0</td>\n",
       "      <td>17.0</td>\n",
       "      <td>32.0</td>\n",
       "      <td>0.838323</td>\n",
       "      <td>float64</td>\n",
       "    </tr>\n",
       "    <tr>\n",
       "      <th>Num of pregnancies</th>\n",
       "      <td>779.0</td>\n",
       "      <td>2.304236</td>\n",
       "      <td>1.455817</td>\n",
       "      <td>0.0</td>\n",
       "      <td>2.0</td>\n",
       "      <td>11.0</td>\n",
       "      <td>6.706587</td>\n",
       "      <td>float64</td>\n",
       "    </tr>\n",
       "    <tr>\n",
       "      <th>Smokes</th>\n",
       "      <td>822.0</td>\n",
       "      <td>0.149635</td>\n",
       "      <td>0.356930</td>\n",
       "      <td>0.0</td>\n",
       "      <td>0.0</td>\n",
       "      <td>1.0</td>\n",
       "      <td>1.556886</td>\n",
       "      <td>float64</td>\n",
       "    </tr>\n",
       "    <tr>\n",
       "      <th>Smokes (years)</th>\n",
       "      <td>822.0</td>\n",
       "      <td>1.253850</td>\n",
       "      <td>4.140727</td>\n",
       "      <td>0.0</td>\n",
       "      <td>0.0</td>\n",
       "      <td>37.0</td>\n",
       "      <td>1.556886</td>\n",
       "      <td>float64</td>\n",
       "    </tr>\n",
       "    <tr>\n",
       "      <th>Smokes (packs/year)</th>\n",
       "      <td>822.0</td>\n",
       "      <td>0.465823</td>\n",
       "      <td>2.256273</td>\n",
       "      <td>0.0</td>\n",
       "      <td>0.0</td>\n",
       "      <td>37.0</td>\n",
       "      <td>1.556886</td>\n",
       "      <td>float64</td>\n",
       "    </tr>\n",
       "    <tr>\n",
       "      <th>Hormonal Contraceptives</th>\n",
       "      <td>732.0</td>\n",
       "      <td>0.651639</td>\n",
       "      <td>0.476777</td>\n",
       "      <td>0.0</td>\n",
       "      <td>1.0</td>\n",
       "      <td>1.0</td>\n",
       "      <td>12.335329</td>\n",
       "      <td>float64</td>\n",
       "    </tr>\n",
       "    <tr>\n",
       "      <th>Hormonal Contraceptives (years)</th>\n",
       "      <td>732.0</td>\n",
       "      <td>2.302916</td>\n",
       "      <td>3.794180</td>\n",
       "      <td>0.0</td>\n",
       "      <td>0.5</td>\n",
       "      <td>30.0</td>\n",
       "      <td>12.335329</td>\n",
       "      <td>float64</td>\n",
       "    </tr>\n",
       "    <tr>\n",
       "      <th>IUD</th>\n",
       "      <td>723.0</td>\n",
       "      <td>0.114799</td>\n",
       "      <td>0.319000</td>\n",
       "      <td>0.0</td>\n",
       "      <td>0.0</td>\n",
       "      <td>1.0</td>\n",
       "      <td>13.413174</td>\n",
       "      <td>float64</td>\n",
       "    </tr>\n",
       "    <tr>\n",
       "      <th>IUD (years)</th>\n",
       "      <td>723.0</td>\n",
       "      <td>0.527621</td>\n",
       "      <td>1.965439</td>\n",
       "      <td>0.0</td>\n",
       "      <td>0.0</td>\n",
       "      <td>19.0</td>\n",
       "      <td>13.413174</td>\n",
       "      <td>float64</td>\n",
       "    </tr>\n",
       "    <tr>\n",
       "      <th>STDs</th>\n",
       "      <td>735.0</td>\n",
       "      <td>0.107483</td>\n",
       "      <td>0.309937</td>\n",
       "      <td>0.0</td>\n",
       "      <td>0.0</td>\n",
       "      <td>1.0</td>\n",
       "      <td>11.976048</td>\n",
       "      <td>float64</td>\n",
       "    </tr>\n",
       "    <tr>\n",
       "      <th>STDs (number)</th>\n",
       "      <td>735.0</td>\n",
       "      <td>0.180952</td>\n",
       "      <td>0.568153</td>\n",
       "      <td>0.0</td>\n",
       "      <td>0.0</td>\n",
       "      <td>4.0</td>\n",
       "      <td>11.976048</td>\n",
       "      <td>float64</td>\n",
       "    </tr>\n",
       "    <tr>\n",
       "      <th>STDs:condylomatosis</th>\n",
       "      <td>735.0</td>\n",
       "      <td>0.059864</td>\n",
       "      <td>0.237396</td>\n",
       "      <td>0.0</td>\n",
       "      <td>0.0</td>\n",
       "      <td>1.0</td>\n",
       "      <td>11.976048</td>\n",
       "      <td>float64</td>\n",
       "    </tr>\n",
       "    <tr>\n",
       "      <th>STDs:cervical condylomatosis</th>\n",
       "      <td>735.0</td>\n",
       "      <td>0.000000</td>\n",
       "      <td>0.000000</td>\n",
       "      <td>0.0</td>\n",
       "      <td>0.0</td>\n",
       "      <td>0.0</td>\n",
       "      <td>11.976048</td>\n",
       "      <td>float64</td>\n",
       "    </tr>\n",
       "    <tr>\n",
       "      <th>STDs:vaginal condylomatosis</th>\n",
       "      <td>735.0</td>\n",
       "      <td>0.005442</td>\n",
       "      <td>0.073620</td>\n",
       "      <td>0.0</td>\n",
       "      <td>0.0</td>\n",
       "      <td>1.0</td>\n",
       "      <td>11.976048</td>\n",
       "      <td>float64</td>\n",
       "    </tr>\n",
       "    <tr>\n",
       "      <th>STDs:vulvo-perineal condylomatosis</th>\n",
       "      <td>735.0</td>\n",
       "      <td>0.058503</td>\n",
       "      <td>0.234853</td>\n",
       "      <td>0.0</td>\n",
       "      <td>0.0</td>\n",
       "      <td>1.0</td>\n",
       "      <td>11.976048</td>\n",
       "      <td>float64</td>\n",
       "    </tr>\n",
       "    <tr>\n",
       "      <th>STDs:syphilis</th>\n",
       "      <td>735.0</td>\n",
       "      <td>0.024490</td>\n",
       "      <td>0.154669</td>\n",
       "      <td>0.0</td>\n",
       "      <td>0.0</td>\n",
       "      <td>1.0</td>\n",
       "      <td>11.976048</td>\n",
       "      <td>float64</td>\n",
       "    </tr>\n",
       "    <tr>\n",
       "      <th>STDs:pelvic inflammatory disease</th>\n",
       "      <td>735.0</td>\n",
       "      <td>0.001361</td>\n",
       "      <td>0.036886</td>\n",
       "      <td>0.0</td>\n",
       "      <td>0.0</td>\n",
       "      <td>1.0</td>\n",
       "      <td>11.976048</td>\n",
       "      <td>float64</td>\n",
       "    </tr>\n",
       "    <tr>\n",
       "      <th>STDs:genital herpes</th>\n",
       "      <td>735.0</td>\n",
       "      <td>0.001361</td>\n",
       "      <td>0.036886</td>\n",
       "      <td>0.0</td>\n",
       "      <td>0.0</td>\n",
       "      <td>1.0</td>\n",
       "      <td>11.976048</td>\n",
       "      <td>float64</td>\n",
       "    </tr>\n",
       "    <tr>\n",
       "      <th>STDs:molluscum contagiosum</th>\n",
       "      <td>735.0</td>\n",
       "      <td>0.001361</td>\n",
       "      <td>0.036886</td>\n",
       "      <td>0.0</td>\n",
       "      <td>0.0</td>\n",
       "      <td>1.0</td>\n",
       "      <td>11.976048</td>\n",
       "      <td>float64</td>\n",
       "    </tr>\n",
       "    <tr>\n",
       "      <th>STDs:AIDS</th>\n",
       "      <td>735.0</td>\n",
       "      <td>0.000000</td>\n",
       "      <td>0.000000</td>\n",
       "      <td>0.0</td>\n",
       "      <td>0.0</td>\n",
       "      <td>0.0</td>\n",
       "      <td>11.976048</td>\n",
       "      <td>float64</td>\n",
       "    </tr>\n",
       "    <tr>\n",
       "      <th>STDs:HIV</th>\n",
       "      <td>735.0</td>\n",
       "      <td>0.024490</td>\n",
       "      <td>0.154669</td>\n",
       "      <td>0.0</td>\n",
       "      <td>0.0</td>\n",
       "      <td>1.0</td>\n",
       "      <td>11.976048</td>\n",
       "      <td>float64</td>\n",
       "    </tr>\n",
       "    <tr>\n",
       "      <th>STDs:Hepatitis B</th>\n",
       "      <td>735.0</td>\n",
       "      <td>0.001361</td>\n",
       "      <td>0.036886</td>\n",
       "      <td>0.0</td>\n",
       "      <td>0.0</td>\n",
       "      <td>1.0</td>\n",
       "      <td>11.976048</td>\n",
       "      <td>float64</td>\n",
       "    </tr>\n",
       "    <tr>\n",
       "      <th>STDs:HPV</th>\n",
       "      <td>735.0</td>\n",
       "      <td>0.002721</td>\n",
       "      <td>0.052129</td>\n",
       "      <td>0.0</td>\n",
       "      <td>0.0</td>\n",
       "      <td>1.0</td>\n",
       "      <td>11.976048</td>\n",
       "      <td>float64</td>\n",
       "    </tr>\n",
       "    <tr>\n",
       "      <th>STDs: Number of diagnosis</th>\n",
       "      <td>835.0</td>\n",
       "      <td>0.089820</td>\n",
       "      <td>0.306335</td>\n",
       "      <td>0.0</td>\n",
       "      <td>0.0</td>\n",
       "      <td>3.0</td>\n",
       "      <td>0.000000</td>\n",
       "      <td>int64</td>\n",
       "    </tr>\n",
       "    <tr>\n",
       "      <th>STDs: Time since first diagnosis</th>\n",
       "      <td>71.0</td>\n",
       "      <td>6.140845</td>\n",
       "      <td>5.895024</td>\n",
       "      <td>1.0</td>\n",
       "      <td>4.0</td>\n",
       "      <td>22.0</td>\n",
       "      <td>91.497006</td>\n",
       "      <td>float64</td>\n",
       "    </tr>\n",
       "    <tr>\n",
       "      <th>STDs: Time since last diagnosis</th>\n",
       "      <td>71.0</td>\n",
       "      <td>5.816901</td>\n",
       "      <td>5.755271</td>\n",
       "      <td>1.0</td>\n",
       "      <td>3.0</td>\n",
       "      <td>22.0</td>\n",
       "      <td>91.497006</td>\n",
       "      <td>float64</td>\n",
       "    </tr>\n",
       "    <tr>\n",
       "      <th>Dx:Cancer</th>\n",
       "      <td>835.0</td>\n",
       "      <td>0.021557</td>\n",
       "      <td>0.145319</td>\n",
       "      <td>0.0</td>\n",
       "      <td>0.0</td>\n",
       "      <td>1.0</td>\n",
       "      <td>0.000000</td>\n",
       "      <td>int64</td>\n",
       "    </tr>\n",
       "    <tr>\n",
       "      <th>Dx:CIN</th>\n",
       "      <td>835.0</td>\n",
       "      <td>0.010778</td>\n",
       "      <td>0.103320</td>\n",
       "      <td>0.0</td>\n",
       "      <td>0.0</td>\n",
       "      <td>1.0</td>\n",
       "      <td>0.000000</td>\n",
       "      <td>int64</td>\n",
       "    </tr>\n",
       "    <tr>\n",
       "      <th>Dx:HPV</th>\n",
       "      <td>835.0</td>\n",
       "      <td>0.021557</td>\n",
       "      <td>0.145319</td>\n",
       "      <td>0.0</td>\n",
       "      <td>0.0</td>\n",
       "      <td>1.0</td>\n",
       "      <td>0.000000</td>\n",
       "      <td>int64</td>\n",
       "    </tr>\n",
       "    <tr>\n",
       "      <th>Dx</th>\n",
       "      <td>835.0</td>\n",
       "      <td>0.028743</td>\n",
       "      <td>0.167182</td>\n",
       "      <td>0.0</td>\n",
       "      <td>0.0</td>\n",
       "      <td>1.0</td>\n",
       "      <td>0.000000</td>\n",
       "      <td>int64</td>\n",
       "    </tr>\n",
       "    <tr>\n",
       "      <th>Hinselmann</th>\n",
       "      <td>835.0</td>\n",
       "      <td>0.041916</td>\n",
       "      <td>0.200518</td>\n",
       "      <td>0.0</td>\n",
       "      <td>0.0</td>\n",
       "      <td>1.0</td>\n",
       "      <td>0.000000</td>\n",
       "      <td>int64</td>\n",
       "    </tr>\n",
       "    <tr>\n",
       "      <th>Schiller</th>\n",
       "      <td>835.0</td>\n",
       "      <td>0.087425</td>\n",
       "      <td>0.282626</td>\n",
       "      <td>0.0</td>\n",
       "      <td>0.0</td>\n",
       "      <td>1.0</td>\n",
       "      <td>0.000000</td>\n",
       "      <td>int64</td>\n",
       "    </tr>\n",
       "    <tr>\n",
       "      <th>Citology</th>\n",
       "      <td>835.0</td>\n",
       "      <td>0.051497</td>\n",
       "      <td>0.221142</td>\n",
       "      <td>0.0</td>\n",
       "      <td>0.0</td>\n",
       "      <td>1.0</td>\n",
       "      <td>0.000000</td>\n",
       "      <td>int64</td>\n",
       "    </tr>\n",
       "    <tr>\n",
       "      <th>Biopsy</th>\n",
       "      <td>835.0</td>\n",
       "      <td>0.064671</td>\n",
       "      <td>0.246091</td>\n",
       "      <td>0.0</td>\n",
       "      <td>0.0</td>\n",
       "      <td>1.0</td>\n",
       "      <td>0.000000</td>\n",
       "      <td>int64</td>\n",
       "    </tr>\n",
       "  </tbody>\n",
       "</table>\n",
       "</div>"
      ],
      "text/plain": [
       "                                    count       mean       std   min   50%  \\\n",
       "Age                                 835.0  27.023952  8.482986  13.0  26.0   \n",
       "Number of sexual partners           810.0   2.551852  1.676686   1.0   2.0   \n",
       "First sexual intercourse            828.0  17.020531  2.817000  10.0  17.0   \n",
       "Num of pregnancies                  779.0   2.304236  1.455817   0.0   2.0   \n",
       "Smokes                              822.0   0.149635  0.356930   0.0   0.0   \n",
       "Smokes (years)                      822.0   1.253850  4.140727   0.0   0.0   \n",
       "Smokes (packs/year)                 822.0   0.465823  2.256273   0.0   0.0   \n",
       "Hormonal Contraceptives             732.0   0.651639  0.476777   0.0   1.0   \n",
       "Hormonal Contraceptives (years)     732.0   2.302916  3.794180   0.0   0.5   \n",
       "IUD                                 723.0   0.114799  0.319000   0.0   0.0   \n",
       "IUD (years)                         723.0   0.527621  1.965439   0.0   0.0   \n",
       "STDs                                735.0   0.107483  0.309937   0.0   0.0   \n",
       "STDs (number)                       735.0   0.180952  0.568153   0.0   0.0   \n",
       "STDs:condylomatosis                 735.0   0.059864  0.237396   0.0   0.0   \n",
       "STDs:cervical condylomatosis        735.0   0.000000  0.000000   0.0   0.0   \n",
       "STDs:vaginal condylomatosis         735.0   0.005442  0.073620   0.0   0.0   \n",
       "STDs:vulvo-perineal condylomatosis  735.0   0.058503  0.234853   0.0   0.0   \n",
       "STDs:syphilis                       735.0   0.024490  0.154669   0.0   0.0   \n",
       "STDs:pelvic inflammatory disease    735.0   0.001361  0.036886   0.0   0.0   \n",
       "STDs:genital herpes                 735.0   0.001361  0.036886   0.0   0.0   \n",
       "STDs:molluscum contagiosum          735.0   0.001361  0.036886   0.0   0.0   \n",
       "STDs:AIDS                           735.0   0.000000  0.000000   0.0   0.0   \n",
       "STDs:HIV                            735.0   0.024490  0.154669   0.0   0.0   \n",
       "STDs:Hepatitis B                    735.0   0.001361  0.036886   0.0   0.0   \n",
       "STDs:HPV                            735.0   0.002721  0.052129   0.0   0.0   \n",
       "STDs: Number of diagnosis           835.0   0.089820  0.306335   0.0   0.0   \n",
       "STDs: Time since first diagnosis     71.0   6.140845  5.895024   1.0   4.0   \n",
       "STDs: Time since last diagnosis      71.0   5.816901  5.755271   1.0   3.0   \n",
       "Dx:Cancer                           835.0   0.021557  0.145319   0.0   0.0   \n",
       "Dx:CIN                              835.0   0.010778  0.103320   0.0   0.0   \n",
       "Dx:HPV                              835.0   0.021557  0.145319   0.0   0.0   \n",
       "Dx                                  835.0   0.028743  0.167182   0.0   0.0   \n",
       "Hinselmann                          835.0   0.041916  0.200518   0.0   0.0   \n",
       "Schiller                            835.0   0.087425  0.282626   0.0   0.0   \n",
       "Citology                            835.0   0.051497  0.221142   0.0   0.0   \n",
       "Biopsy                              835.0   0.064671  0.246091   0.0   0.0   \n",
       "\n",
       "                                     max  missing_pct    dtype  \n",
       "Age                                 84.0     0.000000    int64  \n",
       "Number of sexual partners           28.0     2.994012  float64  \n",
       "First sexual intercourse            32.0     0.838323  float64  \n",
       "Num of pregnancies                  11.0     6.706587  float64  \n",
       "Smokes                               1.0     1.556886  float64  \n",
       "Smokes (years)                      37.0     1.556886  float64  \n",
       "Smokes (packs/year)                 37.0     1.556886  float64  \n",
       "Hormonal Contraceptives              1.0    12.335329  float64  \n",
       "Hormonal Contraceptives (years)     30.0    12.335329  float64  \n",
       "IUD                                  1.0    13.413174  float64  \n",
       "IUD (years)                         19.0    13.413174  float64  \n",
       "STDs                                 1.0    11.976048  float64  \n",
       "STDs (number)                        4.0    11.976048  float64  \n",
       "STDs:condylomatosis                  1.0    11.976048  float64  \n",
       "STDs:cervical condylomatosis         0.0    11.976048  float64  \n",
       "STDs:vaginal condylomatosis          1.0    11.976048  float64  \n",
       "STDs:vulvo-perineal condylomatosis   1.0    11.976048  float64  \n",
       "STDs:syphilis                        1.0    11.976048  float64  \n",
       "STDs:pelvic inflammatory disease     1.0    11.976048  float64  \n",
       "STDs:genital herpes                  1.0    11.976048  float64  \n",
       "STDs:molluscum contagiosum           1.0    11.976048  float64  \n",
       "STDs:AIDS                            0.0    11.976048  float64  \n",
       "STDs:HIV                             1.0    11.976048  float64  \n",
       "STDs:Hepatitis B                     1.0    11.976048  float64  \n",
       "STDs:HPV                             1.0    11.976048  float64  \n",
       "STDs: Number of diagnosis            3.0     0.000000    int64  \n",
       "STDs: Time since first diagnosis    22.0    91.497006  float64  \n",
       "STDs: Time since last diagnosis     22.0    91.497006  float64  \n",
       "Dx:Cancer                            1.0     0.000000    int64  \n",
       "Dx:CIN                               1.0     0.000000    int64  \n",
       "Dx:HPV                               1.0     0.000000    int64  \n",
       "Dx                                   1.0     0.000000    int64  \n",
       "Hinselmann                           1.0     0.000000    int64  \n",
       "Schiller                             1.0     0.000000    int64  \n",
       "Citology                             1.0     0.000000    int64  \n",
       "Biopsy                               1.0     0.000000    int64  "
      ]
     },
     "metadata": {},
     "output_type": "display_data"
    }
   ],
   "source": [
    "# Statistik Deskriptif\n",
    "print(\"Statistik Deskriptif:\")\n",
    "desc_stats = df.describe().T\n",
    "desc_stats['missing'] = df.isnull().sum()\n",
    "desc_stats['missing_pct'] = (desc_stats['missing'] / len(df)) * 100\n",
    "desc_stats['dtype'] = df.dtypes\n",
    "display(desc_stats[['count', 'mean', 'std', 'min', '50%', 'max', 'missing_pct', 'dtype']])"
   ]
  },
  {
   "cell_type": "code",
   "execution_count": 2339,
   "id": "80534dad",
   "metadata": {},
   "outputs": [
    {
     "name": "stdout",
     "output_type": "stream",
     "text": [
      "Distribusi Biopsy (Absolute):\n",
      "Negatif: 781 (93.5%)\n",
      "Positif: 54 (6.5%)\n",
      "\n",
      "Korelasi Faktor Risiko dengan Biopsy:\n",
      "Age                          0.054396\n",
      "Num of pregnancies           0.047065\n",
      "Smokes                       0.028735\n",
      "STDs:HPV                     0.014413\n",
      "Number of sexual partners    0.009678\n",
      "Hormonal Contraceptives      0.008901\n",
      "First sexual intercourse     0.008498\n",
      "Name: Biopsy, dtype: float64\n",
      "\n",
      "Aktivitas seksual dini! (First sexual intercourse < 18): 533 baris\n",
      "Fitur tanpa variasi: ['STDs:cervical condylomatosis', 'STDs:AIDS']\n",
      "\n",
      "Peringatan: 100 missing values di STDs:HPV\n",
      "Pasien HPV+: 2.0 (0.2%)\n"
     ]
    }
   ],
   "source": [
    "# Distribusi Biopsy\n",
    "print(\"Distribusi Biopsy (Absolute):\")\n",
    "biopsy_counts = df['Biopsy'].value_counts()\n",
    "print(f\"Negatif: {biopsy_counts[0]} ({biopsy_counts[0]/len(df)*100:.1f}%)\")\n",
    "print(f\"Positif: {biopsy_counts[1]} ({biopsy_counts[1]/len(df)*100:.1f}%)\")\n",
    "\n",
    "# Korelasi Faktor Risiko\n",
    "risk_factors = ['Age', 'Number of sexual partners', 'First sexual intercourse', \n",
    "                'Num of pregnancies', 'Smokes', 'Hormonal Contraceptives', 'STDs:HPV']\n",
    "corr_risk = df[risk_factors + ['Biopsy']].corr()['Biopsy'].abs().sort_values(ascending=False)\n",
    "print(\"\\nKorelasi Faktor Risiko dengan Biopsy:\")\n",
    "print( corr_risk[1:])\n",
    "\n",
    "# Cek Konsistensi Usia (batas biologis: pubertas ~18 tahun)\n",
    "inconsistent_age = df[df['First sexual intercourse'] < 18]\n",
    "print(f\"\\nAktivitas seksual dini! (First sexual intercourse < 18): {len(inconsistent_age)} baris\")\n",
    "\n",
    "# Fitur dengan Variansi Nol\n",
    "zero_var_cols = [col for col in df.columns if df[col].nunique() == 1]\n",
    "print(\"Fitur tanpa variasi:\", zero_var_cols)\n",
    "\n",
    "# Validasi HPV Positif\n",
    "if df['STDs:HPV'].isnull().sum() > 0:\n",
    "    print(f\"\\nPeringatan: {df['STDs:HPV'].isnull().sum()} missing values di STDs:HPV\")\n",
    "print(f\"Pasien HPV+: {df['STDs:HPV'].sum()} ({df['STDs:HPV'].sum()/len(df)*100:.1f}%)\")"
   ]
  },
  {
   "cell_type": "code",
   "execution_count": 2340,
   "id": "27e6edb4",
   "metadata": {},
   "outputs": [
    {
     "data": {
      "image/png": "[encoded data removed]",
      "text/plain": [
       "<Figure size 1200x500 with 2 Axes>"
      ]
     },
     "metadata": {},
     "output_type": "display_data"
    }
   ],
   "source": [
    "# Visualisasi Distribusi dengan Perbandingan Biopsy\n",
    "fig, axes = plt.subplots(1, 2, figsize=(12, 5))\n",
    "sns.histplot(data=df, x='Age', hue='Biopsy', bins=20, ax=axes[0])\n",
    "axes[0].set_title('Distribusi Usia berdasarkan Biopsy')\n",
    "sns.histplot(data=df, x='Num of pregnancies', hue='Biopsy', bins=20, ax=axes[1])\n",
    "axes[1].set_title('Distribusi Jumlah Kehamilan berdasarkan Biopsy')\n",
    "plt.tight_layout()\n",
    "plt.show()"
   ]
  },
  {
   "cell_type": "markdown",
   "id": "03f15753",
   "metadata": {},
   "source": [
    "#### 2.3. Explore Data"
   ]
  },
  {
   "cell_type": "code",
   "execution_count": 2341,
   "id": "cf054288",
   "metadata": {},
   "outputs": [
    {
     "data": {
      "image/png": "[encoded data removed]",
      "text/plain": [
       "<Figure size 1500x1500 with 6 Axes>"
      ]
     },
     "metadata": {},
     "output_type": "display_data"
    }
   ],
   "source": [
    "# Konfigurasi plot\n",
    "plt.style.use('ggplot')\n",
    "sns.set_palette('pastel')\n",
    "fig, axes = plt.subplots(3, 2, figsize=(15, 15))\n",
    "plt.suptitle('Exploratory Data Analysis (EDA)', fontsize=16, y=0.95)\n",
    "\n",
    "# Plot 1: Distribusi Usia\n",
    "sns.histplot(df['Age'], bins=30, kde=True, ax=axes[0, 0])\n",
    "axes[0, 0].set_title('Distribusi Usia Pasien')\n",
    "axes[0, 0].axvline(df['Age'].median(), color='r', linestyle='--', label=f'Median: {df[\"Age\"].median()}')\n",
    "axes[0, 0].legend()\n",
    "\n",
    "# Plot 2: Distribusi Jumlah Pasangan Seksual\n",
    "sns.boxplot(x=df['Number of sexual partners'], ax=axes[0, 1])\n",
    "axes[0, 1].set_title('Boxplot: Jumlah Pasangan Seksual')\n",
    "\n",
    "# Plot 3: Hubungan Usia vs Aktivitas Seksual Pertama\n",
    "sns.scatterplot(x='Age', y='First sexual intercourse', data=df, alpha=0.6, ax=axes[1, 0])\n",
    "axes[1, 0].set_title('Hubungan Usia vs Usia Aktivitas Seksual Pertama')\n",
    "axes[1, 0].axline((15, 15), slope=1, color='r', linestyle='--')\n",
    "\n",
    "# Plot 4: Distribusi Kehamilan\n",
    "sns.countplot(x='Num of pregnancies', data=df, ax=axes[1, 1])\n",
    "axes[1, 1].set_title('Distribusi Jumlah Kehamilan')\n",
    "\n",
    "# Plot 5: Korelasi dengan Target\n",
    "corr_with_target = df.corr()['Biopsy'].sort_values(ascending=False)[1:11]\n",
    "sns.barplot(x=corr_with_target.values, y=corr_with_target.index, ax=axes[2, 0])\n",
    "axes[2, 0].set_title('Top 10 Korelasi dengan Biopsy')\n",
    "\n",
    "# Plot 6: Distribusi Kelas Target\n",
    "sns.countplot(x='Biopsy', data=df, ax=axes[2, 1])\n",
    "axes[2, 1].set_title('Distribusi Hasil Biopsi (Target)')\n",
    "axes[2, 1].set_xticks([0, 1])\n",
    "axes[2, 1].set_xticklabels(['Negatif (0)', 'Positif (1)'])\n",
    "\n",
    "plt.tight_layout()\n",
    "# plt.savefig('cervical_cancer_eda.png', dpi=300)\n",
    "plt.show()"
   ]
  },
  {
   "cell_type": "code",
   "execution_count": 2342,
   "id": "e684dd3d",
   "metadata": {},
   "outputs": [
    {
     "data": {
      "image/png": "[encoded data removed]",
      "text/plain": [
       "<Figure size 1200x800 with 2 Axes>"
      ]
     },
     "metadata": {},
     "output_type": "display_data"
    }
   ],
   "source": [
    "# Filter hanya fitur yang relevan (hindari leakage)\n",
    "risk_features = [\n",
    "    'Age', 'Number of sexual partners', 'First sexual intercourse', \n",
    "    'Num of pregnancies', 'Smokes', 'Hormonal Contraceptives',\n",
    "    'STDs:HPV', 'Biopsy'\n",
    "]\n",
    "\n",
    "plt.figure(figsize=(12, 8))\n",
    "corr_matrix = df[risk_features].corr()\n",
    "sns.heatmap(corr_matrix, annot=True, fmt=\".2f\", cmap='coolwarm', center=0, linewidths=.5)\n",
    "plt.title('Korelasi Faktor Risiko Utama dan Target', fontsize=14)\n",
    "plt.show()"
   ]
  },
  {
   "cell_type": "markdown",
   "id": "56bcb911",
   "metadata": {},
   "source": [
    "#### 2.4. Verify Data Quality"
   ]
  },
  {
   "cell_type": "code",
   "execution_count": 2343,
   "id": "7517e4a8",
   "metadata": {},
   "outputs": [
    {
     "name": "stdout",
     "output_type": "stream",
     "text": [
      "Analisis Missing Values (Fitur Kunci):\n"
     ]
    },
    {
     "data": {
      "text/html": [
       "<div>\n",
       "<style scoped>\n",
       "    .dataframe tbody tr th:only-of-type {\n",
       "        vertical-align: middle;\n",
       "    }\n",
       "\n",
       "    .dataframe tbody tr th {\n",
       "        vertical-align: top;\n",
       "    }\n",
       "\n",
       "    .dataframe thead th {\n",
       "        text-align: right;\n",
       "    }\n",
       "</style>\n",
       "<table border=\"1\" class=\"dataframe\">\n",
       "  <thead>\n",
       "    <tr style=\"text-align: right;\">\n",
       "      <th></th>\n",
       "      <th>Missing Values</th>\n",
       "      <th>Implikasi</th>\n",
       "      <th>Penanganan</th>\n",
       "    </tr>\n",
       "  </thead>\n",
       "  <tbody>\n",
       "    <tr>\n",
       "      <th>Number of sexual partners</th>\n",
       "      <td>25</td>\n",
       "      <td>Minor, tetapi relevan</td>\n",
       "      <td>Imputasi median</td>\n",
       "    </tr>\n",
       "    <tr>\n",
       "      <th>First sexual intercourse</th>\n",
       "      <td>7</td>\n",
       "      <td>Minor, tetapi relevan</td>\n",
       "      <td>Imputasi median</td>\n",
       "    </tr>\n",
       "    <tr>\n",
       "      <th>Num of pregnancies</th>\n",
       "      <td>56</td>\n",
       "      <td>Dapat memengaruhi analisis</td>\n",
       "      <td>Imputasi median</td>\n",
       "    </tr>\n",
       "    <tr>\n",
       "      <th>Smokes</th>\n",
       "      <td>13</td>\n",
       "      <td>Minor, tetapi relevan</td>\n",
       "      <td>Imputasi modus (0)</td>\n",
       "    </tr>\n",
       "    <tr>\n",
       "      <th>Hormonal Contraceptives</th>\n",
       "      <td>103</td>\n",
       "      <td>Mengurangi akurasi</td>\n",
       "      <td>Imputasi modus (0)</td>\n",
       "    </tr>\n",
       "    <tr>\n",
       "      <th>STDs:HPV</th>\n",
       "      <td>100</td>\n",
       "      <td>Kritis, faktor utama</td>\n",
       "      <td>Imputasi modus atau hapus baris</td>\n",
       "    </tr>\n",
       "  </tbody>\n",
       "</table>\n",
       "</div>"
      ],
      "text/plain": [
       "                           Missing Values                   Implikasi  \\\n",
       "Number of sexual partners              25       Minor, tetapi relevan   \n",
       "First sexual intercourse                7       Minor, tetapi relevan   \n",
       "Num of pregnancies                     56  Dapat memengaruhi analisis   \n",
       "Smokes                                 13       Minor, tetapi relevan   \n",
       "Hormonal Contraceptives               103          Mengurangi akurasi   \n",
       "STDs:HPV                              100        Kritis, faktor utama   \n",
       "\n",
       "                                                Penanganan  \n",
       "Number of sexual partners                  Imputasi median  \n",
       "First sexual intercourse                   Imputasi median  \n",
       "Num of pregnancies                         Imputasi median  \n",
       "Smokes                                  Imputasi modus (0)  \n",
       "Hormonal Contraceptives                 Imputasi modus (0)  \n",
       "STDs:HPV                   Imputasi modus atau hapus baris  "
      ]
     },
     "metadata": {},
     "output_type": "display_data"
    }
   ],
   "source": [
    "# Analisis Missing Values (Fitur Kunci)\n",
    "# print(f\"Jumlah Missing Values per Kolom:\\n{df.isnull().sum()}\")\n",
    "print(\"Analisis Missing Values (Fitur Kunci):\")\n",
    "key_features = ['Age', 'Number of sexual partners', 'First sexual intercourse', \n",
    "                'Num of pregnancies', 'Smokes', 'Hormonal Contraceptives', 'STDs:HPV']\n",
    "missing_data = pd.DataFrame({\n",
    "    'Missing Values': (df[key_features].isnull().sum()),\n",
    "    'Implikasi': ['Minor', 'Minor, tetapi relevan', 'Minor, tetapi relevan', \n",
    "                  'Dapat memengaruhi analisis', 'Minor, tetapi relevan', \n",
    "                  'Mengurangi akurasi', 'Kritis, faktor utama'],\n",
    "    'Penanganan': ['Tidak diperlukan', 'Imputasi median', 'Imputasi median', \n",
    "                   'Imputasi median', 'Imputasi modus (0)', 'Imputasi modus (0)', \n",
    "                   'Imputasi modus atau hapus baris']\n",
    "})\n",
    "display(missing_data[missing_data['Missing Values'] > 0])"
   ]
  },
  {
   "cell_type": "code",
   "execution_count": 2344,
   "id": "7eb545ec",
   "metadata": {},
   "outputs": [
    {
     "name": "stdout",
     "output_type": "stream",
     "text": [
      "Analisis Outlier (Fitur Kontinu):\n"
     ]
    },
    {
     "data": {
      "text/html": [
       "<div>\n",
       "<style scoped>\n",
       "    .dataframe tbody tr th:only-of-type {\n",
       "        vertical-align: middle;\n",
       "    }\n",
       "\n",
       "    .dataframe tbody tr th {\n",
       "        vertical-align: top;\n",
       "    }\n",
       "\n",
       "    .dataframe thead th {\n",
       "        text-align: right;\n",
       "    }\n",
       "</style>\n",
       "<table border=\"1\" class=\"dataframe\">\n",
       "  <thead>\n",
       "    <tr style=\"text-align: right;\">\n",
       "      <th></th>\n",
       "      <th>Fitur</th>\n",
       "      <th>Jumlah Outlier</th>\n",
       "      <th>Persentase</th>\n",
       "      <th>Nilai Maksimum</th>\n",
       "      <th>Penanganan</th>\n",
       "    </tr>\n",
       "  </thead>\n",
       "  <tbody>\n",
       "    <tr>\n",
       "      <th>0</th>\n",
       "      <td>Age</td>\n",
       "      <td>11</td>\n",
       "      <td>1.32%</td>\n",
       "      <td>84.0</td>\n",
       "      <td>Pertahankan</td>\n",
       "    </tr>\n",
       "    <tr>\n",
       "      <th>1</th>\n",
       "      <td>Number of sexual partners</td>\n",
       "      <td>68</td>\n",
       "      <td>8.14%</td>\n",
       "      <td>28.0</td>\n",
       "      <td>Validasi medis, capping</td>\n",
       "    </tr>\n",
       "    <tr>\n",
       "      <th>2</th>\n",
       "      <td>First sexual intercourse</td>\n",
       "      <td>41</td>\n",
       "      <td>4.91%</td>\n",
       "      <td>32.0</td>\n",
       "      <td>Pertahankan</td>\n",
       "    </tr>\n",
       "    <tr>\n",
       "      <th>3</th>\n",
       "      <td>Num of pregnancies</td>\n",
       "      <td>10</td>\n",
       "      <td>1.20%</td>\n",
       "      <td>11.0</td>\n",
       "      <td>Pertahankan</td>\n",
       "    </tr>\n",
       "  </tbody>\n",
       "</table>\n",
       "</div>"
      ],
      "text/plain": [
       "                       Fitur  Jumlah Outlier Persentase  Nilai Maksimum  \\\n",
       "0                        Age              11      1.32%            84.0   \n",
       "1  Number of sexual partners              68      8.14%            28.0   \n",
       "2   First sexual intercourse              41      4.91%            32.0   \n",
       "3         Num of pregnancies              10      1.20%            11.0   \n",
       "\n",
       "                Penanganan  \n",
       "0              Pertahankan  \n",
       "1  Validasi medis, capping  \n",
       "2              Pertahankan  \n",
       "3              Pertahankan  "
      ]
     },
     "metadata": {},
     "output_type": "display_data"
    }
   ],
   "source": [
    "# Analisis Outlier (Fitur Kontinu)\n",
    "print(\"Analisis Outlier (Fitur Kontinu):\")\n",
    "outlier_report = pd.DataFrame()\n",
    "\n",
    "# Define penanganan per fitur\n",
    "penanganan_map = {\n",
    "    'Age': 'Pertahankan',\n",
    "    'Number of sexual partners': 'Validasi medis, capping',\n",
    "    'First sexual intercourse': 'Pertahankan',\n",
    "    'Num of pregnancies': 'Pertahankan'\n",
    "}\n",
    "\n",
    "for col in ['Age', 'Number of sexual partners', 'First sexual intercourse', 'Num of pregnancies']:\n",
    "    q1 = df[col].quantile(0.25)\n",
    "    q3 = df[col].quantile(0.75)\n",
    "    iqr = q3 - q1\n",
    "    lower_bound = q1 - 1.5 * iqr\n",
    "    upper_bound = q3 + 1.5 * iqr\n",
    "    outliers = df[(df[col] < lower_bound) | (df[col] > upper_bound)]\n",
    "    outlier_pct = (len(outliers) / len(df)) * 100\n",
    "    outlier_report = pd.concat([outlier_report, pd.DataFrame({\n",
    "        'Fitur': [col],\n",
    "        'Jumlah Outlier': [len(outliers)],\n",
    "        'Persentase': [f\"{outlier_pct:.2f}%\"],\n",
    "        'Nilai Maksimum': [df[col].max()],\n",
    "        'Penanganan': [penanganan_map[col]]\n",
    "    })], ignore_index=True)\n",
    "\n",
    "display(outlier_report)"
   ]
  },
  {
   "cell_type": "code",
   "execution_count": 2345,
   "id": "20d9fa47",
   "metadata": {},
   "outputs": [
    {
     "name": "stdout",
     "output_type": "stream",
     "text": [
      "Validasi Konsistensi Logis:\n",
      "⚠️ Usia seks pertama > usia saat ini: 2 kasus. Penanganan: Hapus baris.\n",
      "⚠️ Data kehamilan hilang untuk usia >25: 30 kasus. Penanganan: Imputasi median.\n"
     ]
    }
   ],
   "source": [
    "# Validasi Konsistensi Logis\n",
    "print(\"Validasi Konsistensi Logis:\")\n",
    "inconsistencies = []\n",
    "age_sex_inconsistent = df[df['First sexual intercourse'] > df['Age']]\n",
    "if not age_sex_inconsistent.empty:\n",
    "    inconsistencies.append(f\"Usia seks pertama > usia saat ini: {len(age_sex_inconsistent)} kasus. Penanganan: Hapus baris.\")\n",
    "smoke_inconsistent = df[(df['Smokes'] == 0) & (df['Smokes (years)'] > 0)]\n",
    "if not smoke_inconsistent.empty:\n",
    "    inconsistencies.append(f\"Smokes=0 tapi Smokes (years)>0: {len(smoke_inconsistent)} kasus. Penanganan: Imputasi Smokes=1.\")\n",
    "pregnancy_inconsistent = df[(df['Num of pregnancies'].isna()) & (df['Age'] > 25)]\n",
    "if not pregnancy_inconsistent.empty:\n",
    "    inconsistencies.append(f\"Data kehamilan hilang untuk usia >25: {len(pregnancy_inconsistent)} kasus. Penanganan: Imputasi median.\")\n",
    "if inconsistencies:\n",
    "    for issue in inconsistencies:\n",
    "        print(f\"⚠️ {issue}\")\n",
    "else:\n",
    "    print(\"✅ Tidak ditemukan inkonsistensi logis utama.\")"
   ]
  },
  {
   "cell_type": "code",
   "execution_count": 2346,
   "id": "92a7f8a4",
   "metadata": {},
   "outputs": [
    {
     "name": "stdout",
     "output_type": "stream",
     "text": [
      "Fitur dengan Variansi Nol:\n",
      "Ditemukan 2 fitur dengan variansi nol: ['STDs:cervical condylomatosis', 'STDs:AIDS']. Penanganan: Hapus fitur.\n",
      "\n",
      "Verifikasi Data Duplikat:\n",
      "✅ Tidak ditemukan baris duplikat.\n"
     ]
    }
   ],
   "source": [
    "# Fitur dengan Variansi Nol\n",
    "print(\"Fitur dengan Variansi Nol:\")\n",
    "zero_var_cols = [col for col in df.columns if df[col].nunique() == 1]\n",
    "if zero_var_cols:\n",
    "    print(f\"Ditemukan {len(zero_var_cols)} fitur dengan variansi nol: {zero_var_cols}. Penanganan: Hapus fitur.\")\n",
    "else:\n",
    "    print(\"✅ Tidak ditemukan fitur dengan variansi nol di antara fitur kunci.\")\n",
    "\n",
    "# Verifikasi Data Duplikat\n",
    "print(\"\\nVerifikasi Data Duplikat:\")\n",
    "duplicates = df.duplicated().sum()\n",
    "if duplicates > 0:\n",
    "    print(f\"⚠️ Ditemukan {duplicates} baris duplikat. Penanganan: Hapus baris duplikat.\")\n",
    "else:\n",
    "    print(\"✅ Tidak ditemukan baris duplikat.\")"
   ]
  },
  {
   "cell_type": "code",
   "execution_count": 2347,
   "id": "88599da0",
   "metadata": {},
   "outputs": [
    {
     "data": {
      "image/png": "[encoded data removed]",
      "text/plain": [
       "<Figure size 1200x600 with 2 Axes>"
      ]
     },
     "metadata": {},
     "output_type": "display_data"
    }
   ],
   "source": [
    "# Visualisasi Missing Values\n",
    "msno.matrix(df, figsize=(12, 6), fontsize=10)\n",
    "plt.title('Pola Missing Values', fontsize=14)\n",
    "plt.savefig('KK-UAS/img/missing_values_pattern.png', dpi=300)\n",
    "plt.show()"
   ]
  },
  {
   "cell_type": "markdown",
   "id": "d273123b",
   "metadata": {},
   "source": [
    "### 3. Data Preparation"
   ]
  },
  {
   "cell_type": "code",
   "execution_count": 2348,
   "id": "934f463c",
   "metadata": {},
   "outputs": [],
   "source": [
    "import os\n",
    "import numpy as np\n",
    "import pandas as pd\n",
    "import seaborn as sns\n",
    "import matplotlib.pyplot as plt\n",
    "from sklearn.impute import KNNImputer\n",
    "from scipy.stats import chi2_contingency\n",
    "from imblearn.over_sampling import SMOTE\n",
    "from sklearn.preprocessing import MinMaxScaler\n",
    "from sklearn.model_selection import train_test_split"
   ]
  },
  {
   "cell_type": "markdown",
   "id": "0cf3f47f",
   "metadata": {},
   "source": [
    "#### 3.1. Data Cleaning"
   ]
  },
  {
   "cell_type": "code",
   "execution_count": 2349,
   "id": "8accfa22",
   "metadata": {},
   "outputs": [
    {
     "name": "stdout",
     "output_type": "stream",
     "text": [
      "<class 'pandas.core.frame.DataFrame'>\n",
      "RangeIndex: 835 entries, 0 to 834\n",
      "Data columns (total 15 columns):\n",
      " #   Column                           Non-Null Count  Dtype  \n",
      "---  ------                           --------------  -----  \n",
      " 0   Age                              835 non-null    int64  \n",
      " 1   Number of sexual partners        810 non-null    float64\n",
      " 2   First sexual intercourse         828 non-null    float64\n",
      " 3   Num of pregnancies               779 non-null    float64\n",
      " 4   Smokes                           822 non-null    float64\n",
      " 5   Smokes (years)                   822 non-null    float64\n",
      " 6   Smokes (packs/year)              822 non-null    float64\n",
      " 7   Hormonal Contraceptives          732 non-null    float64\n",
      " 8   Hormonal Contraceptives (years)  732 non-null    float64\n",
      " 9   IUD                              723 non-null    float64\n",
      " 10  IUD (years)                      723 non-null    float64\n",
      " 11  STDs                             735 non-null    float64\n",
      " 12  STDs (number)                    735 non-null    float64\n",
      " 13  STDs:HPV                         735 non-null    float64\n",
      " 14  Biopsy                           835 non-null    int64  \n",
      "dtypes: float64(13), int64(2)\n",
      "memory usage: 98.0 KB\n"
     ]
    }
   ],
   "source": [
    "drop_columns = [\n",
    "  # Alasan: Data hilang ekstrem (>90%)\n",
    "  'STDs: Time since first diagnosis',\n",
    "  'STDs: Time since last diagnosis',\n",
    "\n",
    "  # Alasan: Varians sangat rendah & redundan\n",
    "  'STDs:condylomatosis',\n",
    "  'STDs:cervical condylomatosis',\n",
    "  'STDs:vaginal condylomatosis',\n",
    "  'STDs:vulvo-perineal condylomatosis',\n",
    "  'STDs:syphilis',\n",
    "  'STDs:pelvic inflammatory disease',\n",
    "  'STDs:genital herpes',\n",
    "  'STDs:molluscum contagiosum',\n",
    "  'STDs:AIDS',\n",
    "  'STDs:HIV',\n",
    "  'STDs:Hepatitis B',\n",
    "\n",
    "  # Alasan: Kebocoran data (data leakage)\n",
    "  'Dx:Cancer',\n",
    "  'Dx:CIN',\n",
    "  'Dx:HPV',\n",
    "  'Dx',\n",
    "  'Schiller', 'Hinselmann', 'Citology',  # Tambahan: tes diagnostik untuk hindari leakage\n",
    "  'STDs: Number of diagnosis'  # Redundan\n",
    "  # 'STDs:HPV', pertahankan data\n",
    "]\n",
    "df_clean = df.drop(columns=drop_columns)\n",
    "df_clean.info()"
   ]
  },
  {
   "cell_type": "code",
   "execution_count": 2350,
   "id": "24441bff",
   "metadata": {},
   "outputs": [
    {
     "name": "stdout",
     "output_type": "stream",
     "text": [
      "Distribusi Biopsy (Sebelum Pembersihan):\n",
      "Biopsy\n",
      "0    781\n",
      "1     54\n",
      "Name: count, dtype: int64\n"
     ]
    }
   ],
   "source": [
    "# Verifikasi distribusi Biopsy sebelum pembersihan\n",
    "print(\"Distribusi Biopsy (Sebelum Pembersihan):\")\n",
    "print(df_clean['Biopsy'].value_counts())"
   ]
  },
  {
   "cell_type": "code",
   "execution_count": 2351,
   "id": "ab7c73b6",
   "metadata": {},
   "outputs": [
    {
     "name": "stdout",
     "output_type": "stream",
     "text": [
      "Menghapus 7 baris duplikat penuh.\n"
     ]
    }
   ],
   "source": [
    "# 1. Imputasi Missing Values\n",
    "# Modus untuk fitur biner\n",
    "binary_cols = ['Smokes', 'Hormonal Contraceptives', 'IUD', 'STDs', 'STDs:HPV']\n",
    "df_clean[binary_cols] = df_clean[binary_cols].fillna(0)\n",
    "\n",
    "# Median untuk fitur numerik <5% missing\n",
    "low_missing_cols = ['First sexual intercourse', 'Number of sexual partners', 'Smokes (years)', 'Smokes (packs/year)']\n",
    "df_clean[low_missing_cols] = df_clean[low_missing_cols].fillna(df_clean[low_missing_cols].median())\n",
    "\n",
    "# KNNImputer untuk fitur >5% missing\n",
    "high_missing_cols = ['Num of pregnancies', 'Hormonal Contraceptives (years)', 'IUD (years)', 'STDs (number)']\n",
    "scaler_temp = MinMaxScaler()\n",
    "df_scaled = pd.DataFrame(\n",
    "    scaler_temp.fit_transform(df_clean[high_missing_cols]),\n",
    "    columns=high_missing_cols,\n",
    "    index=df_clean.index\n",
    ")\n",
    "imputer = KNNImputer(n_neighbors=5, metric='nan_euclidean')\n",
    "df_scaled[high_missing_cols] = imputer.fit_transform(df_scaled[high_missing_cols])\n",
    "df_clean[high_missing_cols] = scaler_temp.inverse_transform(df_scaled[high_missing_cols])\n",
    "\n",
    "# Konversi fitur biner ke int64\n",
    "df_clean[binary_cols] = df_clean[binary_cols].astype('int64')\n",
    "\n",
    "# 2. Penanganan Outlier (Winsorizing)\n",
    "def winsorize_column(series, n=3):\n",
    "    q1 = series.quantile(0.25)\n",
    "    q3 = series.quantile(0.75)\n",
    "    iqr = q3 - q1\n",
    "    lower_bound = q1 - n * iqr\n",
    "    upper_bound = q3 + n * iqr\n",
    "    return series.clip(lower_bound, upper_bound)\n",
    "\n",
    "outlier_cols = ['Age', 'Number of sexual partners', 'First sexual intercourse', 'Num of pregnancies', 'Smokes (years)']\n",
    "for col in outlier_cols:\n",
    "    df_clean[col] = winsorize_column(df_clean[col], n=3)\n",
    "\n",
    "# 3. Perbaikan Inkonsistensi\n",
    "# Konsistensi merokok\n",
    "df_clean.loc[df_clean['Smokes (years)'] > 0, 'Smokes'] = 1\n",
    "\n",
    "# Filter inkonsistensi usia (longgar)\n",
    "df_clean = df_clean[\n",
    "    (df_clean['First sexual intercourse'] >= 10) & \n",
    "    (df_clean['First sexual intercourse'] <= df_clean['Age'])\n",
    "]\n",
    "\n",
    "# Tambahkan flag inkonsistensi ringan\n",
    "df_clean['Age_Sex_Inconsistency'] = np.where(\n",
    "    df_clean['First sexual intercourse'] > df_clean['Age'], 1, 0\n",
    ")\n",
    "\n",
    "# 4. Penghapusan Duplikat\n",
    "# Cek duplikat penuh\n",
    "duplicates_full = df_clean.duplicated().sum()\n",
    "if duplicates_full > 0:\n",
    "    print(f\"Menghapus {duplicates_full} baris duplikat penuh.\")\n",
    "    df_clean = df_clean.drop_duplicates()"
   ]
  },
  {
   "cell_type": "code",
   "execution_count": 2352,
   "id": "a0c3b5d5",
   "metadata": {},
   "outputs": [
    {
     "name": "stdout",
     "output_type": "stream",
     "text": [
      "Analisis Duplikat Subset (201 baris):\n",
      "STDs:HPV: STDs:HPV\n",
      "0    201\n",
      "Name: count, dtype: int64\n",
      "Smokes: Smokes\n",
      "0    177\n",
      "1     24\n",
      "Name: count, dtype: int64\n",
      "Hormonal Contraceptives: Hormonal Contraceptives\n",
      "1    114\n",
      "0     87\n",
      "Name: count, dtype: int64\n",
      "⚠️ 114 duplikat subset dihapus.\n"
     ]
    }
   ],
   "source": [
    "# Cek duplikat berdasarkan fitur kunci\n",
    "key_subset = ['Age', 'Number of sexual partners', 'First sexual intercourse', 'Num of pregnancies', 'Biopsy']\n",
    "duplicates = df_clean[df_clean.duplicated(subset=key_subset, keep=False)]\n",
    "if not duplicates.empty:\n",
    "    print(f\"Analisis Duplikat Subset ({len(duplicates)} baris):\")\n",
    "    print(\"STDs:HPV:\", duplicates['STDs:HPV'].value_counts())\n",
    "    print(\"Smokes:\", duplicates['Smokes'].value_counts())\n",
    "    print(\"Hormonal Contraceptives:\", duplicates['Hormonal Contraceptives'].value_counts())\n",
    "    print(f\"⚠️ {df_clean.duplicated(subset=key_subset).sum()} duplikat subset dihapus.\")\n",
    "    df_clean = df_clean.drop_duplicates(subset=key_subset)"
   ]
  },
  {
   "cell_type": "code",
   "execution_count": null,
   "id": "b305136b",
   "metadata": {},
   "outputs": [
    {
     "name": "stdout",
     "output_type": "stream",
     "text": [
      "\n",
      "Distribusi Biopsy (Setelah Pembersihan):\n",
      "Biopsy\n",
      "0    659\n",
      "1     53\n",
      "Name: count, dtype: int64\n"
     ]
    }
   ],
   "source": [
    "# Verifikasi distribusi Biopsy setelah pembersihan\n",
    "print(\"Distribusi Biopsy (Setelah Pembersihan):\")\n",
    "print(df_clean['Biopsy'].value_counts())"
   ]
  },
  {
   "cell_type": "markdown",
   "id": "9ca69688",
   "metadata": {},
   "source": [
    "#### 3.2 Data Transformation"
   ]
  },
  {
   "cell_type": "code",
   "execution_count": 2354,
   "id": "e92771d6",
   "metadata": {},
   "outputs": [],
   "source": [
    "# Feature Engineering\n",
    "df_clean['UnderageIntercourse'] = (df_clean['First sexual intercourse'] < 18).astype(int)\n",
    "df_clean['Parity_Risk'] = df_clean['Num of pregnancies'] * (df_clean['Age'] - df_clean['First sexual intercourse'])\n",
    "df_clean['STDs_HPV_Kontrasepsi'] = df_clean['STDs:HPV'] * df_clean['Hormonal Contraceptives']"
   ]
  },
  {
   "cell_type": "code",
   "execution_count": 2355,
   "id": "4919733d",
   "metadata": {},
   "outputs": [],
   "source": [
    "# Kategorisasi untuk Naive Bayes\n",
    "def categorize_age(age):\n",
    "    if age < 25: return 'Muda'\n",
    "    elif age <= 40: return 'Dewasa'\n",
    "    else: return 'Tua'\n",
    "\n",
    "def categorize_partners(partners):\n",
    "    if partners <= 2: return 'Sedikit'\n",
    "    elif partners <= 10: return 'Sedang'\n",
    "    else: return 'Banyak'\n",
    "\n",
    "def categorize_intercourse(age):\n",
    "    if age <= 16: return 'Sangat Muda'\n",
    "    elif age <= 20: return 'Muda'\n",
    "    else: return 'Dewasa'\n",
    "\n",
    "def categorize_pregnancies(num):\n",
    "    if num <= 1: return 'Rendah'\n",
    "    elif num <= 4: return 'Sedang'\n",
    "    else: return 'Tinggi'\n",
    "\n",
    "df_clean['Age_Cat'] = df_clean['Age'].apply(categorize_age)\n",
    "df_clean['Partners_Cat'] = df_clean['Number of sexual partners'].apply(categorize_partners)\n",
    "df_clean['Intercourse_Cat'] = df_clean['First sexual intercourse'].apply(categorize_intercourse)\n",
    "df_clean['Pregnancies_Cat'] = df_clean['Num of pregnancies'].apply(categorize_pregnancies)"
   ]
  },
  {
   "cell_type": "code",
   "execution_count": 2356,
   "id": "00e81a20",
   "metadata": {},
   "outputs": [],
   "source": [
    "# Normalisasi untuk ANN (kecualikan fitur biner)\n",
    "numerical_cols = [\n",
    "    'Age', 'Number of sexual partners', 'First sexual intercourse', \n",
    "    'Num of pregnancies', 'Smokes (years)', 'Smokes (packs/year)',\n",
    "    'Hormonal Contraceptives (years)', 'IUD (years)', 'STDs (number)', 'Parity_Risk'\n",
    "]\n",
    "scaler = MinMaxScaler()\n",
    "df_clean[numerical_cols] = scaler.fit_transform(df_clean[numerical_cols])"
   ]
  },
  {
   "cell_type": "code",
   "execution_count": 2357,
   "id": "4f1159c8",
   "metadata": {},
   "outputs": [
    {
     "name": "stdout",
     "output_type": "stream",
     "text": [
      "<class 'pandas.core.frame.DataFrame'>\n",
      "Index: 712 entries, 0 to 834\n",
      "Data columns (total 23 columns):\n",
      " #   Column                           Non-Null Count  Dtype  \n",
      "---  ------                           --------------  -----  \n",
      " 0   Age                              712 non-null    float64\n",
      " 1   Number of sexual partners        712 non-null    float64\n",
      " 2   First sexual intercourse         712 non-null    float64\n",
      " 3   Num of pregnancies               712 non-null    float64\n",
      " 4   Smokes                           712 non-null    int64  \n",
      " 5   Smokes (years)                   712 non-null    float64\n",
      " 6   Smokes (packs/year)              712 non-null    float64\n",
      " 7   Hormonal Contraceptives          712 non-null    int64  \n",
      " 8   Hormonal Contraceptives (years)  712 non-null    float64\n",
      " 9   IUD                              712 non-null    int64  \n",
      " 10  IUD (years)                      712 non-null    float64\n",
      " 11  STDs                             712 non-null    int64  \n",
      " 12  STDs (number)                    712 non-null    float64\n",
      " 13  STDs:HPV                         712 non-null    int64  \n",
      " 14  Biopsy                           712 non-null    int64  \n",
      " 15  Age_Sex_Inconsistency            712 non-null    int32  \n",
      " 16  UnderageIntercourse              712 non-null    int32  \n",
      " 17  Parity_Risk                      712 non-null    float64\n",
      " 18  STDs_HPV_Kontrasepsi             712 non-null    int64  \n",
      " 19  Age_Cat                          712 non-null    object \n",
      " 20  Partners_Cat                     712 non-null    object \n",
      " 21  Intercourse_Cat                  712 non-null    object \n",
      " 22  Pregnancies_Cat                  712 non-null    object \n",
      "dtypes: float64(10), int32(2), int64(7), object(4)\n",
      "memory usage: 127.9+ KB\n"
     ]
    }
   ],
   "source": [
    "df_clean.info()"
   ]
  },
  {
   "cell_type": "markdown",
   "id": "d26b87d6",
   "metadata": {},
   "source": [
    "#### 3.3 Data Integration"
   ]
  },
  {
   "cell_type": "markdown",
   "id": "06ce890c",
   "metadata": {},
   "source": [
    "Tidak diperlukan karena dataset dari sumber tunggal."
   ]
  },
  {
   "cell_type": "markdown",
   "id": "48eae7fd",
   "metadata": {},
   "source": [
    "#### 3.4 Data Reduction"
   ]
  },
  {
   "cell_type": "code",
   "execution_count": 2358,
   "id": "da4a502c",
   "metadata": {},
   "outputs": [],
   "source": [
    "# Seleksi fitur untuk Naive Bayes\n",
    "nb_columns = [\n",
    "    'Age_Cat', 'Partners_Cat', 'Intercourse_Cat', 'Pregnancies_Cat',\n",
    "    'Smokes', 'Hormonal Contraceptives', 'IUD', 'STDs', 'STDs:HPV',\n",
    "    # 'Age_Sex_Inconsistency',\n",
    "    'UnderageIntercourse', 'STDs_HPV_Kontrasepsi', 'Biopsy'\n",
    "]\n",
    "\n",
    "# Seleksi fitur untuk ANN\n",
    "ann_columns = [\n",
    "    'Age', 'Number of sexual partners', 'First sexual intercourse',\n",
    "    'Num of pregnancies', 'Smokes', 'Smokes (packs/year)',\n",
    "    # 'Smokes (years)', 'Age_Sex_Inconsistency',\n",
    "    'Hormonal Contraceptives', 'Hormonal Contraceptives (years)', 'IUD', 'IUD (years)',\n",
    "    'STDs', 'STDs (number)', 'STDs:HPV', 'Parity_Risk', 'UnderageIntercourse', \n",
    "    'STDs_HPV_Kontrasepsi', 'Biopsy'\n",
    "]\n",
    "\n",
    "# Buat dataset khusus model\n",
    "df_nb = df_clean[nb_columns].copy()\n",
    "df_ann = df_clean[ann_columns].copy()"
   ]
  },
  {
   "cell_type": "code",
   "execution_count": 2359,
   "id": "68e34364",
   "metadata": {},
   "outputs": [
    {
     "name": "stdout",
     "output_type": "stream",
     "text": [
      "Distribusi Fitur Kategorikal (Naive Bayes):\n",
      "\n",
      "Age_Cat:\n",
      "Age_Cat\n",
      "Dewasa    371\n",
      "Muda      288\n",
      "Tua        53\n",
      "Name: count, dtype: int64\n",
      "\n",
      "Partners_Cat:\n",
      "Partners_Cat\n",
      "Sedikit    384\n",
      "Sedang     328\n",
      "Name: count, dtype: int64\n",
      "\n",
      "Intercourse_Cat:\n",
      "Intercourse_Cat\n",
      "Muda           327\n",
      "Sangat Muda    319\n",
      "Dewasa          66\n",
      "Name: count, dtype: int64\n",
      "\n",
      "Pregnancies_Cat:\n",
      "Pregnancies_Cat\n",
      "Sedang    441\n",
      "Rendah    210\n",
      "Tinggi     61\n",
      "Name: count, dtype: int64\n"
     ]
    }
   ],
   "source": [
    "# Validasi distribusi fitur\n",
    "print(\"Distribusi Fitur Kategorikal (Naive Bayes):\")\n",
    "for col in ['Age_Cat', 'Partners_Cat', 'Intercourse_Cat', 'Pregnancies_Cat']:\n",
    "    print(f\"\\n{col}:\")\n",
    "    print(df_nb[col].value_counts())"
   ]
  },
  {
   "cell_type": "code",
   "execution_count": 2360,
   "id": "948f4a87",
   "metadata": {},
   "outputs": [
    {
     "name": "stdout",
     "output_type": "stream",
     "text": [
      "Statistik Fitur Numerik Setelah Winsorizing (ANN):\n"
     ]
    },
    {
     "data": {
      "text/html": [
       "<div>\n",
       "<style scoped>\n",
       "    .dataframe tbody tr th:only-of-type {\n",
       "        vertical-align: middle;\n",
       "    }\n",
       "\n",
       "    .dataframe tbody tr th {\n",
       "        vertical-align: top;\n",
       "    }\n",
       "\n",
       "    .dataframe thead th {\n",
       "        text-align: right;\n",
       "    }\n",
       "</style>\n",
       "<table border=\"1\" class=\"dataframe\">\n",
       "  <thead>\n",
       "    <tr style=\"text-align: right;\">\n",
       "      <th></th>\n",
       "      <th>Number of sexual partners</th>\n",
       "      <th>Num of pregnancies</th>\n",
       "    </tr>\n",
       "  </thead>\n",
       "  <tbody>\n",
       "    <tr>\n",
       "      <th>count</th>\n",
       "      <td>712.000000</td>\n",
       "      <td>712.000000</td>\n",
       "    </tr>\n",
       "    <tr>\n",
       "      <th>mean</th>\n",
       "      <td>0.311236</td>\n",
       "      <td>0.263799</td>\n",
       "    </tr>\n",
       "    <tr>\n",
       "      <th>std</th>\n",
       "      <td>0.257189</td>\n",
       "      <td>0.159766</td>\n",
       "    </tr>\n",
       "    <tr>\n",
       "      <th>min</th>\n",
       "      <td>0.000000</td>\n",
       "      <td>0.000000</td>\n",
       "    </tr>\n",
       "    <tr>\n",
       "      <th>25%</th>\n",
       "      <td>0.200000</td>\n",
       "      <td>0.111111</td>\n",
       "    </tr>\n",
       "    <tr>\n",
       "      <th>50%</th>\n",
       "      <td>0.200000</td>\n",
       "      <td>0.222222</td>\n",
       "    </tr>\n",
       "    <tr>\n",
       "      <th>75%</th>\n",
       "      <td>0.400000</td>\n",
       "      <td>0.333333</td>\n",
       "    </tr>\n",
       "    <tr>\n",
       "      <th>max</th>\n",
       "      <td>1.000000</td>\n",
       "      <td>1.000000</td>\n",
       "    </tr>\n",
       "  </tbody>\n",
       "</table>\n",
       "</div>"
      ],
      "text/plain": [
       "       Number of sexual partners  Num of pregnancies\n",
       "count                 712.000000          712.000000\n",
       "mean                    0.311236            0.263799\n",
       "std                     0.257189            0.159766\n",
       "min                     0.000000            0.000000\n",
       "25%                     0.200000            0.111111\n",
       "50%                     0.200000            0.222222\n",
       "75%                     0.400000            0.333333\n",
       "max                     1.000000            1.000000"
      ]
     },
     "metadata": {},
     "output_type": "display_data"
    },
    {
     "name": "stdout",
     "output_type": "stream",
     "text": [
      "\n",
      "Korelasi Fitur Baru dengan Biopsy (ANN):\n",
      "Parity_Risk             0.032930\n",
      "UnderageIntercourse    -0.016612\n",
      "STDs_HPV_Kontrasepsi   -0.015052\n",
      "Biopsy                  1.000000\n",
      "Name: Biopsy, dtype: float64\n"
     ]
    }
   ],
   "source": [
    "print(\"Statistik Fitur Numerik Setelah Winsorizing (ANN):\")\n",
    "display(df_ann[['Number of sexual partners', 'Num of pregnancies']].describe())\n",
    "\n",
    "# Validasi fitur baru\n",
    "print(\"\\nKorelasi Fitur Baru dengan Biopsy (ANN):\")\n",
    "print(df_ann[['Parity_Risk', 'UnderageIntercourse', 'STDs_HPV_Kontrasepsi', 'Biopsy']].corr()['Biopsy'])"
   ]
  },
  {
   "cell_type": "markdown",
   "id": "033addce",
   "metadata": {},
   "source": [
    "#### 3.5 Data Splitting"
   ]
  },
  {
   "cell_type": "code",
   "execution_count": 2361,
   "id": "11e0c00f",
   "metadata": {},
   "outputs": [],
   "source": [
    "# Pemisahan dataset untuk Naive Bayes\n",
    "X_nb = df_nb.drop('Biopsy', axis=1)\n",
    "y_nb = df_nb['Biopsy']\n",
    "X_nb_train, X_nb_test, y_nb_train, y_nb_test = train_test_split(\n",
    "    X_nb, y_nb, test_size=0.2, random_state=42, stratify=y_nb\n",
    ")\n",
    "\n",
    "# Pemisahan dataset untuk ANN\n",
    "X_ann = df_ann.drop('Biopsy', axis=1)\n",
    "y_ann = df_ann['Biopsy']\n",
    "X_ann_train, X_ann_test, y_ann_train, y_ann_test = train_test_split(\n",
    "    X_ann, y_ann, test_size=0.2, random_state=42, stratify=y_ann\n",
    ")"
   ]
  },
  {
   "cell_type": "code",
   "execution_count": 2362,
   "id": "6dcb3072",
   "metadata": {},
   "outputs": [
    {
     "name": "stdout",
     "output_type": "stream",
     "text": [
      "Distribusi Biopsy (Training Naive Bayes):\n",
      "Biopsy\n",
      "0    527\n",
      "1     42\n",
      "Name: count, dtype: int64\n",
      "\n",
      "Distribusi Biopsy (Testing Naive Bayes):\n",
      "Biopsy\n",
      "0    132\n",
      "1     11\n",
      "Name: count, dtype: int64\n"
     ]
    }
   ],
   "source": [
    "# Validasi distribusi Biopsy setelah splitting\n",
    "print(\"Distribusi Biopsy (Training Naive Bayes):\")\n",
    "print(y_nb_train.value_counts())\n",
    "print(\"\\nDistribusi Biopsy (Testing Naive Bayes):\")\n",
    "print(y_nb_test.value_counts())"
   ]
  },
  {
   "cell_type": "code",
   "execution_count": 2363,
   "id": "b285f761",
   "metadata": {},
   "outputs": [
    {
     "name": "stdout",
     "output_type": "stream",
     "text": [
      "Distribusi Biopsy (Training ANN):\n",
      "Biopsy\n",
      "0    527\n",
      "1     42\n",
      "Name: count, dtype: int64\n",
      "\n",
      "Distribusi Biopsy (Testing ANN):\n",
      "Biopsy\n",
      "0    132\n",
      "1     11\n",
      "Name: count, dtype: int64\n"
     ]
    }
   ],
   "source": [
    "print(\"Distribusi Biopsy (Training ANN):\")\n",
    "print(y_ann_train.value_counts())\n",
    "print(\"\\nDistribusi Biopsy (Testing ANN):\")\n",
    "print(y_ann_test.value_counts())"
   ]
  },
  {
   "cell_type": "markdown",
   "id": "12aa7bc1",
   "metadata": {},
   "source": [
    "#### 3.6 Data Formatting"
   ]
  },
  {
   "cell_type": "code",
   "execution_count": 2364,
   "id": "83ee0fce",
   "metadata": {},
   "outputs": [],
   "source": [
    "# One-hot encoding untuk fitur kategorikal (Naive Bayes)\n",
    "X_nb_train = pd.get_dummies(X_nb_train, columns=['Age_Cat', 'Partners_Cat', 'Intercourse_Cat', 'Pregnancies_Cat'])\n",
    "X_nb_test = pd.get_dummies(X_nb_test, columns=['Age_Cat', 'Partners_Cat', 'Intercourse_Cat', 'Pregnancies_Cat'])\n",
    "\n",
    "# Pastikan kolom konsisten antara train dan test\n",
    "X_nb_test = X_nb_test.reindex(columns=X_nb_train.columns, fill_value=0)\n",
    "\n",
    "# Penanganan class imbalance dengan SMOTE (hanya pada training set)\n",
    "smote = SMOTE(random_state=42)\n",
    "X_nb_train_smote, y_nb_train_smote = smote.fit_resample(X_nb_train, y_nb_train)\n",
    "X_ann_train_smote, y_ann_train_smote = smote.fit_resample(X_ann_train, y_ann_train)"
   ]
  },
  {
   "cell_type": "code",
   "execution_count": 2365,
   "id": "b5aa7078",
   "metadata": {},
   "outputs": [
    {
     "name": "stdout",
     "output_type": "stream",
     "text": [
      "Distribusi Biopsy (Training Naive Bayes setelah SMOTE):\n",
      "Biopsy\n",
      "0    527\n",
      "1    527\n",
      "Name: count, dtype: int64\n",
      "\n",
      "Distribusi Biopsy (Training ANN setelah SMOTE):\n",
      "Biopsy\n",
      "0    527\n",
      "1    527\n",
      "Name: count, dtype: int64\n"
     ]
    }
   ],
   "source": [
    "# Validasi distribusi Biopsy setelah SMOTE\n",
    "print(\"Distribusi Biopsy (Training Naive Bayes setelah SMOTE):\")\n",
    "print(pd.Series(y_nb_train_smote).value_counts())\n",
    "\n",
    "print(\"\\nDistribusi Biopsy (Training ANN setelah SMOTE):\")\n",
    "print(pd.Series(y_ann_train_smote).value_counts())"
   ]
  },
  {
   "cell_type": "code",
   "execution_count": 2366,
   "id": "8c31af7b",
   "metadata": {},
   "outputs": [],
   "source": [
    "# Simpan dataset\n",
    "df_nb_train = pd.concat([X_nb_train_smote, y_nb_train_smote.rename('Biopsy')], axis=1)\n",
    "df_nb_test = pd.concat([X_nb_test, y_nb_test.rename('Biopsy')], axis=1)\n",
    "df_ann_train = pd.concat([X_ann_train_smote, y_ann_train_smote.rename('Biopsy')], axis=1)\n",
    "df_ann_test = pd.concat([X_ann_test, y_ann_test.rename('Biopsy')], axis=1)\n",
    "\n",
    "df_nb_train.to_csv('data/cervical_cancer_nb_train.csv', index=False)\n",
    "df_nb_test.to_csv('data/cervical_cancer_nb_test.csv', index=False)\n",
    "df_ann_train.to_csv('data/cervical_cancer_ann_train.csv', index=False)\n",
    "df_ann_test.to_csv('data/cervical_cancer_ann_test.csv', index=False)"
   ]
  },
  {
   "cell_type": "code",
   "execution_count": 2367,
   "id": "047b4c72",
   "metadata": {},
   "outputs": [
    {
     "data": {
      "image/png": "[encoded data removed]",
      "text/plain": [
       "<Figure size 1200x600 with 2 Axes>"
      ]
     },
     "metadata": {},
     "output_type": "display_data"
    }
   ],
   "source": [
    "# Visualisasi distribusi Biopsy\n",
    "plt.figure(figsize=(12, 6))\n",
    "plt.subplot(1, 2, 1)\n",
    "sns.barplot(x=pd.Series(y_nb_train_smote).value_counts(normalize=True), y=['Negatif', 'Positif'])\n",
    "plt.title('Distribusi Biopsy (Naive Bayes Training setelah SMOTE)')\n",
    "plt.xlabel('Proporsi')\n",
    "\n",
    "plt.subplot(1, 2, 2)\n",
    "sns.barplot(x=pd.Series(y_ann_train_smote).value_counts(normalize=True), y=['Negatif', 'Positif'])\n",
    "plt.title('Distribusi Biopsy (ANN Training setelah SMOTE)')\n",
    "plt.xlabel('Proporsi')\n",
    "plt.tight_layout()\n",
    "plt.show()"
   ]
  },
  {
   "cell_type": "markdown",
   "id": "d071bf73",
   "metadata": {},
   "source": [
    "### 4. Modeling"
   ]
  },
  {
   "cell_type": "code",
   "execution_count": 2368,
   "id": "ce313601",
   "metadata": {},
   "outputs": [],
   "source": [
    "import os\n",
    "import joblib\n",
    "import numpy as np\n",
    "import pandas as pd\n",
    "import seaborn as sns\n",
    "import matplotlib.pyplot as plt\n",
    "from sklearn.naive_bayes import ComplementNB\n",
    "from sklearn.model_selection import GridSearchCV\n",
    "from sklearn.metrics import roc_curve, f1_score, roc_auc_score, confusion_matrix, classification_report\n",
    "import tensorflow as tf\n",
    "from keras.optimizers import Adam\n",
    "from keras.regularizers import l2\n",
    "from keras.models import Sequential\n",
    "from keras.layers import Dense, Dropout, Input"
   ]
  },
  {
   "cell_type": "markdown",
   "id": "d629efa9",
   "metadata": {},
   "source": [
    "#### 4.1. Modeling Techniques"
   ]
  },
  {
   "cell_type": "code",
   "execution_count": 2369,
   "id": "bcb57138",
   "metadata": {},
   "outputs": [
    {
     "name": "stdout",
     "output_type": "stream",
     "text": [
      "\n",
      "Validasi Dataset:\n",
      "Naive Bayes Train: (1054, 19), Missing: 0\n",
      "Naive Bayes Test: (143, 19), Missing: 0\n",
      "ANN Train: (1054, 17), Missing: 0\n",
      "ANN Test: (143, 17), Missing: 0\n"
     ]
    }
   ],
   "source": [
    "# Load dataset hasil Data Preparation\n",
    "nb_train = pd.read_csv('data/cervical_cancer_nb_train.csv')\n",
    "nb_test = pd.read_csv('data/cervical_cancer_nb_test.csv')\n",
    "ann_train = pd.read_csv('data/cervical_cancer_ann_train.csv')\n",
    "ann_test = pd.read_csv('data/cervical_cancer_ann_test.csv')\n",
    "\n",
    "# Validasi dataset\n",
    "print(\"Validasi Dataset:\")\n",
    "print(f\"Naive Bayes Train: {nb_train.shape}, Missing: {nb_train.isnull().sum().sum()}\")\n",
    "print(f\"Naive Bayes Test: {nb_test.shape}, Missing: {nb_test.isnull().sum().sum()}\")\n",
    "print(f\"ANN Train: {ann_train.shape}, Missing: {ann_train.isnull().sum().sum()}\")\n",
    "print(f\"ANN Test: {ann_test.shape}, Missing: {ann_test.isnull().sum().sum()}\")"
   ]
  },
  {
   "cell_type": "code",
   "execution_count": 2370,
   "id": "2215314f",
   "metadata": {},
   "outputs": [],
   "source": [
    "# Pisahkan fitur dan target\n",
    "X_nb_train = nb_train.drop('Biopsy', axis=1)\n",
    "y_nb_train = nb_train['Biopsy']\n",
    "X_nb_test = nb_test.drop('Biopsy', axis=1)\n",
    "y_nb_test = nb_test['Biopsy']\n",
    "\n",
    "X_ann_train = ann_train.drop('Biopsy', axis=1)\n",
    "y_ann_train = ann_train['Biopsy']\n",
    "X_ann_test = ann_test.drop('Biopsy', axis=1)\n",
    "y_ann_test = ann_test['Biopsy']\n",
    "\n",
    "# Konversi ke NumPy untuk ANN\n",
    "X_ann_train = X_ann_train.to_numpy()\n",
    "X_ann_test = X_ann_test.to_numpy()\n",
    "y_ann_train = y_ann_train.to_numpy()\n",
    "y_ann_test = y_ann_test.to_numpy()\n",
    "\n",
    "# Hitung bobot kelas untuk ANN\n",
    "class_weights = {0: (len(y_ann_train) / (2 * np.sum(y_ann_train == 0))), \n",
    "                 1: (len(y_ann_train) / (2 * np.sum(y_ann_train == 1)))}"
   ]
  },
  {
   "cell_type": "markdown",
   "id": "2f7fcf8c",
   "metadata": {},
   "source": [
    "#### 4.2. Build Models"
   ]
  },
  {
   "cell_type": "markdown",
   "id": "45b1de5e",
   "metadata": {},
   "source": [
    "##### 4.2.1. Naive Bayes"
   ]
  },
  {
   "cell_type": "code",
   "execution_count": 2371,
   "id": "27452168",
   "metadata": {},
   "outputs": [
    {
     "name": "stdout",
     "output_type": "stream",
     "text": [
      "Naive Bayes (Initial Model):\n",
      "F1-Score: 0.1772\n",
      "ROC-AUC: 0.5978\n"
     ]
    },
    {
     "data": {
      "text/plain": [
       "['KK-UAS/models/nb_initial_model.pkl']"
      ]
     },
     "execution_count": 2371,
     "metadata": {},
     "output_type": "execute_result"
    }
   ],
   "source": [
    "nb_model = ComplementNB()\n",
    "nb_model.fit(X_nb_train, y_nb_train)\n",
    "\n",
    "# Prediksi awal\n",
    "y_nb_pred = nb_model.predict(X_nb_test)\n",
    "nb_f1_initial = f1_score(y_nb_test, y_nb_pred)\n",
    "nb_roc_initial = roc_auc_score(y_nb_test, nb_model.predict_proba(X_nb_test)[:, 1])\n",
    "print(\"Naive Bayes (Initial Model):\")\n",
    "print(f\"F1-Score: {nb_f1_initial:.4f}\")\n",
    "print(f\"ROC-AUC: {nb_roc_initial:.4f}\")\n",
    "\n",
    "# Simpan model awal\n",
    "joblib.dump(nb_model, 'KK-UAS/models/nb_initial_model.pkl')"
   ]
  },
  {
   "cell_type": "markdown",
   "id": "d80a97c7",
   "metadata": {},
   "source": [
    "##### 4.2.2. Artificial Neural Network"
   ]
  },
  {
   "cell_type": "code",
   "execution_count": 2372,
   "id": "c3a49a3d",
   "metadata": {},
   "outputs": [
    {
     "name": "stdout",
     "output_type": "stream",
     "text": [
      "ANN (Initial Model):\n",
      "F1-Score: 0.1250\n",
      "ROC-AUC: 0.4112\n"
     ]
    }
   ],
   "source": [
    "def create_ann_model(units1, units2, dropout, lr, input_shape):\n",
    "    model = Sequential([\n",
    "        Input(shape=(input_shape,)),\n",
    "        Dense(units1, activation='relu', kernel_regularizer=l2(0.01)),\n",
    "        Dropout(dropout),\n",
    "        Dense(units2, activation='relu', kernel_regularizer=l2(0.01)),\n",
    "        Dropout(dropout),\n",
    "        Dense(1, activation='sigmoid')\n",
    "    ])\n",
    "    model.compile(optimizer=Adam(learning_rate=lr), loss='binary_crossentropy', metrics=['accuracy'])\n",
    "    return model\n",
    "\n",
    "# Arsitektur awal\n",
    "input_shape = X_ann_train.shape[1]\n",
    "ann_model = create_ann_model(units1=64, units2=32, dropout=0.3, lr=0.001, input_shape=input_shape)\n",
    "\n",
    "# Training model\n",
    "history = ann_model.fit(\n",
    "    X_ann_train, y_ann_train,\n",
    "    epochs=50, batch_size=32, validation_split=0.2, class_weight=class_weights, verbose=0\n",
    ")\n",
    "\n",
    "# Prediksi awal dengan threshold 0.3 untuk meningkatkan recall\n",
    "y_ann_pred_proba = ann_model.predict(X_ann_test, verbose=0)\n",
    "y_ann_pred = (y_ann_pred_proba > 0.3).astype(int)  # Lower threshold\n",
    "ann_f1_initial = f1_score(y_ann_test, y_ann_pred)\n",
    "ann_roc_initial = roc_auc_score(y_ann_test, y_ann_pred_proba)\n",
    "print(\"ANN (Initial Model):\")\n",
    "print(f\"F1-Score: {ann_f1_initial:.4f}\")\n",
    "print(f\"ROC-AUC: {ann_roc_initial:.4f}\")\n",
    "\n",
    "# Simpan model awal\n",
    "ann_model.save('KK-UAS/models/ann_initial_model.keras')"
   ]
  },
  {
   "cell_type": "markdown",
   "id": "b61f53a5",
   "metadata": {},
   "source": [
    "#### 4.3. Tune Models"
   ]
  },
  {
   "cell_type": "markdown",
   "id": "9086c23e",
   "metadata": {},
   "source": [
    "##### 4.3.1. Naive Bayes"
   ]
  },
  {
   "cell_type": "code",
   "execution_count": 2373,
   "id": "63dcafc8",
   "metadata": {},
   "outputs": [
    {
     "name": "stdout",
     "output_type": "stream",
     "text": [
      "Naive Bayes (Tuned Model):\n",
      "Best Parameters: {'alpha': 0.5}\n",
      "F1-Score: 0.1772\n",
      "ROC-AUC: 0.5971\n"
     ]
    },
    {
     "data": {
      "text/plain": [
       "['KK-UAS/models/nb_tuned_model.pkl']"
      ]
     },
     "execution_count": 2373,
     "metadata": {},
     "output_type": "execute_result"
    }
   ],
   "source": [
    "nb_param_grid = {'alpha': [0.001, 0.01, 0.1, 0.5, 1.0, 2.0, 5.0, 10.0]}\n",
    "nb_grid = GridSearchCV(ComplementNB(), nb_param_grid, cv=5, scoring='f1', n_jobs=-1)\n",
    "nb_grid.fit(X_nb_train, y_nb_train)\n",
    "\n",
    "nb_tuned_model = nb_grid.best_estimator_\n",
    "print(\"Naive Bayes (Tuned Model):\")\n",
    "print(f\"Best Parameters: {nb_grid.best_params_}\")\n",
    "y_nb_tuned_pred = nb_tuned_model.predict(X_nb_test)\n",
    "nb_f1_tuned = f1_score(y_nb_test, y_nb_tuned_pred)\n",
    "nb_roc_tuned = roc_auc_score(y_nb_test, nb_tuned_model.predict_proba(X_nb_test)[:, 1])\n",
    "print(f\"F1-Score: {nb_f1_tuned:.4f}\")\n",
    "print(f\"ROC-AUC: {nb_roc_tuned:.4f}\")\n",
    "\n",
    "# Simpan model tuned\n",
    "joblib.dump(nb_tuned_model, 'KK-UAS/models/nb_tuned_model.pkl')"
   ]
  },
  {
   "cell_type": "markdown",
   "id": "7d2c4637",
   "metadata": {},
   "source": [
    "##### 4.3.2. Artificial Neural Network"
   ]
  },
  {
   "cell_type": "code",
   "execution_count": 2374,
   "id": "a9bbeb36",
   "metadata": {},
   "outputs": [
    {
     "name": "stdout",
     "output_type": "stream",
     "text": [
      "ANN (Tuned Model):\n",
      "Best Configuration: {'units1': 64, 'units2': 16, 'dropout': 0.3, 'lr': 0.0001}\n",
      "F1-Score: 0.1481\n",
      "ROC-AUC: 0.5434\n"
     ]
    }
   ],
   "source": [
    "ann_configs = [\n",
    "    {'units1': 64, 'units2': 32, 'dropout': 0.3, 'lr': 0.001},\n",
    "    {'units1': 128, 'units2': 64, 'dropout': 0.4, 'lr': 0.0005},\n",
    "    {'units1': 32, 'units2': 16, 'dropout': 0.2, 'lr': 0.001},\n",
    "    {'units1': 64, 'units2': 16, 'dropout': 0.3, 'lr': 0.0001}\n",
    "]\n",
    "\n",
    "best_ann_f1 = 0\n",
    "best_ann_model = None\n",
    "best_config = None\n",
    "\n",
    "for config in ann_configs:\n",
    "    model = create_ann_model(\n",
    "        units1=config['units1'], units2=config['units2'], \n",
    "        dropout=config['dropout'], lr=config['lr'], input_shape=input_shape\n",
    "    )\n",
    "    model.fit(\n",
    "        X_ann_train, y_ann_train,\n",
    "        epochs=50, batch_size=32, validation_split=0.2, class_weight=class_weights, verbose=0\n",
    "    )\n",
    "    \n",
    "    y_pred_proba = model.predict(X_ann_test, verbose=0)\n",
    "    y_pred = (y_pred_proba > 0.3).astype(int)  # Lower threshold\n",
    "    f1 = f1_score(y_ann_test, y_pred)\n",
    "    \n",
    "    if f1 > best_ann_f1:\n",
    "        best_ann_f1 = f1\n",
    "        best_ann_model = model\n",
    "        best_config = config\n",
    "\n",
    "# Evaluasi model terbaik\n",
    "y_ann_tuned_pred_proba = best_ann_model.predict(X_ann_test, verbose=0)\n",
    "y_ann_tuned_pred = (y_ann_tuned_pred_proba > 0.3).astype(int)  # Lower threshold\n",
    "ann_f1_tuned = f1_score(y_ann_test, y_ann_tuned_pred)\n",
    "ann_roc_tuned = roc_auc_score(y_ann_test, y_ann_tuned_pred_proba)\n",
    "print(\"ANN (Tuned Model):\")\n",
    "print(f\"Best Configuration: {best_config}\")\n",
    "print(f\"F1-Score: {ann_f1_tuned:.4f}\")\n",
    "print(f\"ROC-AUC: {ann_roc_tuned:.4f}\")\n",
    "\n",
    "# Simpan model tuned\n",
    "best_ann_model.save('KK-UAS/models/ann_tuned_model.keras')"
   ]
  },
  {
   "cell_type": "markdown",
   "id": "526e6777",
   "metadata": {},
   "source": [
    "#### 4.4. Validate Models"
   ]
  },
  {
   "cell_type": "markdown",
   "id": "91a81cd1",
   "metadata": {},
   "source": [
    "##### 4.4.1. Naive Bayes"
   ]
  },
  {
   "cell_type": "code",
   "execution_count": 2375,
   "id": "e2a5b245",
   "metadata": {},
   "outputs": [
    {
     "name": "stdout",
     "output_type": "stream",
     "text": [
      "\n",
      "Validasi Naive Bayes (Tuned Model):\n",
      "              precision    recall  f1-score   support\n",
      "\n",
      "           0       0.95      0.54      0.69       132\n",
      "           1       0.10      0.64      0.18        11\n",
      "\n",
      "    accuracy                           0.55       143\n",
      "   macro avg       0.52      0.59      0.43       143\n",
      "weighted avg       0.88      0.55      0.65       143\n",
      "\n"
     ]
    }
   ],
   "source": [
    "print(\"Validasi Naive Bayes (Tuned Model):\")\n",
    "nb_report = classification_report(y_nb_test, y_nb_tuned_pred, output_dict=True)\n",
    "print(classification_report(y_nb_test, y_nb_tuned_pred))\n",
    "nb_cm = confusion_matrix(y_nb_test, y_nb_tuned_pred)\n",
    "plt.figure(figsize=(6, 4))\n",
    "sns.heatmap(nb_cm, annot=True, fmt='d', cmap='Blues')\n",
    "plt.title('Confusion Matrix Naive Bayes')\n",
    "plt.xlabel('Predicted')\n",
    "plt.ylabel('Actual')\n",
    "plt.savefig('KK-UAS/img/nb_confusion_matrix.png')\n",
    "plt.close()\n",
    "\n",
    "# ROC Curve\n",
    "nb_fpr, nb_tpr, _ = roc_curve(y_nb_test, nb_tuned_model.predict_proba(X_nb_test)[:, 1])\n",
    "plt.figure(figsize=(6, 4))\n",
    "plt.plot(nb_fpr, nb_tpr, label=f'ROC-AUC: {nb_roc_tuned:.4f}')\n",
    "plt.plot([0, 1], [0, 1], 'k--')\n",
    "plt.xlabel('False Positive Rate')\n",
    "plt.ylabel('True Positive Rate')\n",
    "plt.title('ROC Curve Naive Bayes')\n",
    "plt.legend()\n",
    "plt.savefig('KK-UAS/img/nb_roc_curve.png')\n",
    "plt.close()\n",
    "\n",
    "# Distribusi probabilitas prediksi\n",
    "plt.figure(figsize=(6, 4))\n",
    "sns.histplot(nb_tuned_model.predict_proba(X_nb_test)[:, 1], kde=True, bins=32)\n",
    "plt.title('Distribusi Probabilitas Prediksi Naive Bayes (Test Set)')\n",
    "plt.xlabel('Probabilitas Biopsy=1')\n",
    "plt.savefig('KK-UAS/img/nb_proba_distribution.png')\n",
    "plt.close()"
   ]
  },
  {
   "cell_type": "markdown",
   "id": "361e4360",
   "metadata": {},
   "source": [
    "##### 4.4.2. Artificial Neural Network"
   ]
  },
  {
   "cell_type": "code",
   "execution_count": 2376,
   "id": "765534b8",
   "metadata": {},
   "outputs": [
    {
     "name": "stdout",
     "output_type": "stream",
     "text": [
      "\n",
      "Validasi ANN (Tuned Model):\n",
      "              precision    recall  f1-score   support\n",
      "\n",
      "           0       0.95      0.14      0.24       132\n",
      "           1       0.08      0.91      0.15        11\n",
      "\n",
      "    accuracy                           0.20       143\n",
      "   macro avg       0.51      0.52      0.19       143\n",
      "weighted avg       0.88      0.20      0.23       143\n",
      "\n"
     ]
    }
   ],
   "source": [
    "print(\"Validasi ANN (Tuned Model):\")\n",
    "ann_report = classification_report(y_ann_test, y_ann_tuned_pred, output_dict=True)\n",
    "print(classification_report(y_ann_test, y_ann_tuned_pred))\n",
    "ann_cm = confusion_matrix(y_ann_test, y_ann_tuned_pred)\n",
    "plt.figure(figsize=(6, 4))\n",
    "sns.heatmap(ann_cm, annot=True, fmt='d', cmap='Blues')\n",
    "plt.title('Confusion Matrix ANN')\n",
    "plt.xlabel('Predicted')\n",
    "plt.ylabel('Actual')\n",
    "plt.savefig('KK-UAS/img/ann_confusion_matrix.png')\n",
    "plt.close()\n",
    "\n",
    "# ROC Curve\n",
    "ann_fpr, ann_tpr, _ = roc_curve(y_ann_test, y_ann_tuned_pred_proba)\n",
    "plt.figure(figsize=(6, 4))\n",
    "plt.plot(ann_fpr, ann_tpr, label=f'ROC-AUC: {ann_roc_tuned:.4f}')\n",
    "plt.plot([0, 1], [0, 1], 'k--')\n",
    "plt.xlabel('False Positive Rate')\n",
    "plt.ylabel('True Positive Rate')\n",
    "plt.title('ROC Curve ANN')\n",
    "plt.legend()\n",
    "plt.savefig('KK-UAS/img/ann_roc_curve.png')\n",
    "plt.close()\n",
    "\n",
    "# Distribusi probabilitas prediksi\n",
    "plt.figure(figsize=(6, 4))\n",
    "sns.histplot(y_ann_tuned_pred_proba.flatten(), kde=True)\n",
    "plt.title('Distribusi Probabilitas Prediksi ANN (Test Set)')\n",
    "plt.xlabel('Probabilitas Biopsy=1')\n",
    "plt.savefig('KK-UAS/img/ann_proba_distribution.png')\n",
    "plt.close()"
   ]
  },
  {
   "cell_type": "code",
   "execution_count": 2377,
   "id": "6a5c36bc",
   "metadata": {},
   "outputs": [
    {
     "name": "stdout",
     "output_type": "stream",
     "text": [
      "Ringkasan Performa Model:\n",
      "Naive Bayes - F1-Score: 0.1772, ROC-AUC: 0.5971\n",
      "ANN - F1-Score: 0.1481, ROC-AUC: 0.5434\n"
     ]
    }
   ],
   "source": [
    "# Simpan laporan performa\n",
    "report_df = pd.DataFrame({\n",
    "    'Model': ['Naive Bayes', 'ANN'],\n",
    "    'F1-Score': [nb_f1_tuned, ann_f1_tuned],\n",
    "    'ROC-AUC': [nb_roc_tuned, ann_roc_tuned],\n",
    "    'Precision_0': [nb_report['0']['precision'], ann_report['0']['precision']],\n",
    "    'Recall_0': [nb_report['0']['recall'], ann_report['0']['recall']],\n",
    "    'Precision_1': [nb_report['1']['precision'], ann_report['1']['precision']],\n",
    "    'Recall_1': [nb_report['1']['recall'], ann_report['1']['recall']]\n",
    "})\n",
    "report_df.to_csv('KK-UAS/models/reports/model_performance.csv', index=False)\n",
    "\n",
    "# Ringkasan Performa\n",
    "print(\"Ringkasan Performa Model:\")\n",
    "print(f\"Naive Bayes - F1-Score: {nb_f1_tuned:.4f}, ROC-AUC: {nb_roc_tuned:.4f}\")\n",
    "print(f\"ANN - F1-Score: {ann_f1_tuned:.4f}, ROC-AUC: {ann_roc_tuned:.4f}\")"
   ]
  },
  {
   "cell_type": "markdown",
   "id": "65cdaa8f",
   "metadata": {},
   "source": [
    "### 5. Evaluation"
   ]
  },
  {
   "cell_type": "markdown",
   "id": "5d7e0b28",
   "metadata": {},
   "source": [
    "### 6. Deployment"
   ]
  }
 ],
 "metadata": {
  "kernelspec": {
   "display_name": ".venv",
   "language": "python",
   "name": "python3"
  },
  "language_info": {
   "codemirror_mode": {
    "name": "ipython",
    "version": 3
   },
   "file_extension": ".py",
   "mimetype": "text/x-python",
   "name": "python",
   "nbconvert_exporter": "python",
   "pygments_lexer": "ipython3",
   "version": "3.12.6"
  }
 },
 "nbformat": 4,
 "nbformat_minor": 5
}
