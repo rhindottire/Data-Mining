{
 "cells": [
  {
   "cell_type": "markdown",
   "id": "f6615540",
   "metadata": {},
   "source": [
    "# Analisis Performa Metode Naive Bayes dan Artificial Neural Networks dalam Deteksi Dini Kanker Serviks\n",
    "\n",
    "Kelompok ???\n",
    "- Muhammad Syaifudin Zuhri\n",
    "- Adzin Naufal\n",
    "- ???\n",
    "- [ACHMAD RIDHO FA'IZ](https://rhindottire.github.io/Data-Mining/intro.html) (230411100197)"
   ]
  },
  {
   "cell_type": "markdown",
   "id": "709e5351",
   "metadata": {},
   "source": [
    "## Introduction"
   ]
  },
  {
   "cell_type": "markdown",
   "id": "6ee12ff5",
   "metadata": {},
   "source": [
    "### Naive Bayes"
   ]
  },
  {
   "cell_type": "markdown",
   "id": "3b9f4fd2",
   "metadata": {},
   "source": [
    "![Naive Bayes](KK/img/naive-bayes.png)"
   ]
  },
  {
   "cell_type": "markdown",
   "id": "cdf8fecd",
   "metadata": {},
   "source": [
    "**Naive Bayes** adalah algoritma klasifikasi probabilistik yang didasarkan pada `teorema Bayes` dengan asumsi bahwa setiap fitur dalam data saling independen satu sama lain, diberikan kelas tertentu. Asumsi independensi ini, meskipun sering kali tidak realistis, membuat algoritma ini sederhana, cepat, dan efektif untuk berbagai aplikasi, terutama dalam klasifikasi teks dan diagnosis medis.\n",
    "\n",
    "- **Definisi**: Naive Bayes adalah algoritma klasifikasi berbasis probabilitas yang menggunakan teorema Bayes dengan asumsi bahwa fitur-fitur dalam data saling independen. Meskipun asumsi ini sederhana, algoritma ini sering kali efektif untuk berbagai tugas klasifikasi.\n",
    "- **Cara Kerja**: Algoritma ini menghitung probabilitas setiap kelas berdasarkan fitur-fitur yang diberikan, lalu memilih kelas dengan probabilitas tertinggi. Ini dilakukan dengan menggabungkan probabilitas prior (berdasarkan frekuensi kelas) dan likelihood (probabilitas fitur diberikan kelas).\n",
    "    - **Langkah 1**: Hitung probabilitas awal (prior) untuk setiap kelas, misalnya, persentase kasus biopsi positif (1) dan negatif (0).\n",
    "    - **Langkah 2**: Hitung probabilitas fitur (likelihood) untuk setiap kelas, seperti probabilitas usia \"Muda\" pada kasus biopsi positif.\n",
    "    - **Langkah 3**: Kombinasikan prior dan likelihood untuk menghitung probabilitas posterior, lalu pilih kelas dengan nilai tertinggi.\n",
    "    - **Langkah 4**: Untuk data baru, gunakan probabilitas ini untuk memprediksi kelas.\n",
    "- **Aplikasi**: Digunakan dalam klasifikasi teks (misalnya, filter spam email), analisis sentimen, dan diagnosis medis, seperti memprediksi hasil biopsi berdasarkan data kesehatan.\n",
    "- **Kelebihan dan Kekurangan**: Naive Bayes cepat dan efisien untuk data berdimensi tinggi, tetapi asumsi independensi fitur dapat membatasi akurasi jika fitur-fitur saling berkorelasi."
   ]
  },
  {
   "cell_type": "markdown",
   "id": "f5ac7b82",
   "metadata": {},
   "source": [
    "#### Dasar Matematis: Teorema Bayes"
   ]
  },
  {
   "cell_type": "markdown",
   "id": "ac41425e",
   "metadata": {},
   "source": [
    "$$\n",
    "P(C_k | x) = \\frac{P(C_k) \\cdot P(x | C_k)}{P(x)}\n",
    "$$\n",
    "\n",
    "Di mana:\n",
    "- $ C_k $: Kelas ke-$ k $ (misalnya, Biopsy=1 atau Biopsy=0).\n",
    "- $ x $: Vektor fitur (misalnya, Age, Number of sexual partners, dll.).\n",
    "- $ P(C_k | x) $: Probabilitas posterior, yaitu probabilitas kelas $ C_k $ diberikan fitur $ x $.\n",
    "- $ P(C_k) $: Probabilitas prior, yaitu probabilitas kelas $ C_k $ sebelum melihat data.\n",
    "- $ P(x | C_k) $: Probabilitas likelihood, yaitu probabilitas fitur $ x $ diberikan kelas $ C_k $.\n",
    "- $ P(x) $: Probabilitas evidence, yaitu probabilitas fitur $ x $ secara keseluruhan.\n",
    "\n",
    "Karena $ P(x) $ konstan untuk semua kelas, kita dapat menyederhanakan perbandingan probabilitas posterior menjadi:\n",
    "\n",
    "$$\n",
    "\\hat{y} = \\arg\\max_{k} P(C_k) \\cdot P(x | C_k)\n",
    "$$"
   ]
  },
  {
   "cell_type": "markdown",
   "id": "6e712c6d",
   "metadata": {},
   "source": [
    "#### Asumsi Independensi"
   ]
  },
  {
   "cell_type": "markdown",
   "id": "a3b14509",
   "metadata": {},
   "source": [
    "Asumsi utama Naive Bayes adalah bahwa fitur-fitur saling independen diberikan kelas. Dengan demikian, likelihood dapat dihitung sebagai:\n",
    "\n",
    "$$\n",
    "P(x | C_k) = \\prod_{i=1}^{n} P(x_i | C_k)\n",
    "$$\n",
    "\n",
    "Di mana:\n",
    "- $ x_i $: Fitur ke-$ i $.\n",
    "- $ n $: Jumlah fitur.\n",
    "- $ P(x_i | C_k) $: Probabilitas fitur ke-$ i $ diberikan kelas $ C_k $.\n",
    "\n",
    "Untuk menghindari underflow (karena perkalian banyak probabilitas kecil dapat menghasilkan nilai yang sangat kecil), sering kali digunakan logaritma:\n",
    "\n",
    "$$\n",
    "\\log P(x | C_k) = \\sum_{i=1}^{n} \\log P(x_i | C_k)\n",
    "$$"
   ]
  },
  {
   "cell_type": "markdown",
   "id": "5385ca50",
   "metadata": {},
   "source": [
    "#### Perhitungan Probabilitas"
   ]
  },
  {
   "cell_type": "markdown",
   "id": "18d8f916",
   "metadata": {},
   "source": [
    "- **Prior Probability ($ P(C_k) $)**: Dihitung sebagai frekuensi relatif kelas dalam data pelatihan. Misalnya, dalam file Anda:\n",
    "  - $ P(\\text{Biopsy=1}) = 0.125 $ (12.5% kasus positif).\n",
    "  - $ P(\\text{Biopsy=0}) = 0.875 $ (87.5% kasus negatif).\n",
    "- **Likelihood ($ P(x_i | C_k) $)**: Tergantung pada jenis fitur:\n",
    "  - **Fitur Kategorikal**: Dihitung sebagai frekuensi relatif. Misalnya, dalam file Anda:\n",
    "    - $ P(\\text{Age='Muda'} | \\text{Biopsy=1}) = 0.25 $.\n",
    "    - $ P(\\text{Age='Muda'} | \\text{Biopsy=0}) = 0.3 $.\n",
    "  - **Fitur Kontinu**: Sering diasumsikan mengikuti distribusi Gaussian:\n",
    "\n",
    "    $$\n",
    "    P(x_i | C_k) = \\frac{1}{\\sqrt{2\\pi \\sigma_{k,i}^2}} \\exp\\left( -\\frac{(x_i - \\mu_{k,i})^2}{2\\sigma_{k,i}^2} \\right)\n",
    "    $$\n",
    "\n",
    "    Di mana $ \\mu_{k,i} $ adalah rata-rata dan $ \\sigma_{k,i} $ adalah standar deviasi fitur $ i $ dalam kelas $ k $. Dalam file Anda, fitur numerik diubah menjadi kategorikal, sehingga perhitungan Gaussian tidak digunakan."
   ]
  },
  {
   "cell_type": "markdown",
   "id": "8cd7eabd",
   "metadata": {},
   "source": [
    "#### Penanganan Probabilitas Nol"
   ]
  },
  {
   "cell_type": "markdown",
   "id": "c47b3267",
   "metadata": {},
   "source": [
    "Jika sebuah fitur tidak muncul dalam data pelatihan untuk suatu kelas, probabilitasnya akan menjadi nol, yang dapat menyebabkan $ P(x | C_k) = 0 $. Untuk mengatasi ini, digunakan teknik **smoothing**, seperti **Laplace smoothing**:\n",
    "\n",
    "$$\n",
    "P(x_i | C_k) = \\frac{\\text{count}(x_i, C_k) + 1}{\\text{total count}(C_k) + \\text{jumlah kategori}}\n",
    "$$\n",
    "\n",
    "Ini memastikan bahwa tidak ada probabilitas yang bernilai nol."
   ]
  },
  {
   "cell_type": "markdown",
   "id": "40d8f5e9",
   "metadata": {},
   "source": [
    "#### Advantages and Disadvantages"
   ]
  },
  {
   "cell_type": "markdown",
   "id": "fe6097f2",
   "metadata": {},
   "source": [
    "**Kelebihan**:\n",
    "- Cepat dan efisien untuk data berdimensi tinggi.\n",
    "- Mudah diimplementasikan dan diinterpretasikan.\n",
    "- Berkinerja baik pada data kategorikal.\n",
    "- Membutuhkan sedikit data pelatihan dibandingkan model kompleks.\n",
    "\n",
    "**Kekurangan**:\n",
    "- Asumsi independensi fitur sering kali tidak realistis, yang dapat menurunkan akurasi jika fitur berkorelasi.\n",
    "- Dapat dikalahkan oleh model seperti regresi logistik atau ANN dalam kasus kompleks [Naive Bayes Classifier - Wikipedia](https://en.wikipedia.org/wiki/Naive_Bayes_classifier).\n",
    "- Memerlukan penanganan probabilitas nol dengan teknik seperti Laplace smoothing.\n",
    "- **Likelihood**: Probabilitas fitur diberikan kelas."
   ]
  },
  {
   "cell_type": "markdown",
   "id": "6e4ae703",
   "metadata": {},
   "source": [
    "#### Naive Bayes Variants and App"
   ]
  },
  {
   "cell_type": "markdown",
   "id": "75759b57",
   "metadata": {},
   "source": [
    "Naive Bayes memiliki beberapa varian yang disesuaikan dengan jenis data:\n",
    "- **Multinomial Naive Bayes**: Digunakan untuk data diskret, seperti jumlah kemunculan kata dalam klasifikasi teks. Cocok untuk fitur dengan frekuensi atau hitungan.\n",
    "- **Bernoulli Naive Bayes**: Digunakan untuk data biner (hadir/tidak hadir), seperti keberadaan kata dalam dokumen.\n",
    "- **Gaussian Naive Bayes**: Digunakan untuk data kontinu dengan asumsi distribusi Gaussian.\n",
    "\n",
    "**Konsep Terkait**:\n",
    "- **Teorema Bayes**: Dasar matematis untuk menghitung probabilitas bersyarat.\n",
    "- **Probabilitas Bersyarat**: Probabilitas suatu peristiwa diberikan peristiwa lain telah terjadi.\n",
    "- **Asumsi Independensi**: Asumsi bahwa fitur tidak saling memengaruhi, yang membuat Naive Bayes sederhana.\n",
    "- **Smoothing**: Teknik seperti Laplace smoothing untuk menghindari probabilitas nol.\n",
    "- **Prior dan Posterior**: Probabilitas sebelum dan setelah melihat data.\n",
    "\n",
    "Naive Bayes sering digunakan dalam:\n",
    "- **Filter Spam**: Mengklasifikasikan email sebagai spam atau bukan berdasarkan kata-kata yang ada [Naive Bayes Classifier Explained](https://www.analyticsvidhya.com/blog/2017/09/naive-bayes-explained/).\n",
    "- **Analisis Sentimen**: Menentukan apakah ulasan positif atau negatif berdasarkan kata-kata [Performing Sentiment Analysis](https://www.analyticsvidhya.com/blog/2017/09/naive-bayes-explained/).\n",
    "- **Diagnosis Medis**: Memprediksi penyakit, seperti dalam file Anda untuk hasil biopsi [Naïve Bayes Algorithm](https://www.kdnuggets.com/2020/06/naive-bayes-algorithm-everything.html).\n",
    "- **Klasifikasi Dokumen**: Mengkategorikan dokumen ke dalam topik tertentu [Naive Bayes Classifier](https://www.simplilearn.com/tutorials/machine-learning-tutorial/naive-bayes-classifier)."
   ]
  },
  {
   "cell_type": "markdown",
   "id": "3a93c039",
   "metadata": {},
   "source": [
    "#### **Key Citations**:"
   ]
  },
  {
   "cell_type": "markdown",
   "id": "735b4663",
   "metadata": {},
   "source": [
    "- [Naive Bayes Classifiers - GeeksforGeeks](https://www.geeksforgeeks.org/machine-learning/naive-bayes-classifiers/)\n",
    "- [Naive Bayes Classifier - Wikipedia](https://en.wikipedia.org/wiki/Naive_Bayes_classifier)\n",
    "- [Naive Bayes Classifier Explained With Practical Problems](https://www.analyticsvidhya.com/blog/2017/09/naive-bayes-explained/)\n",
    "- [What Are Naïve Bayes Classifiers? | IBM](https://www.ibm.com/think/topics/naive-bayes)\n",
    "- [Naive Bayes Classifier in Machine Learning - Javatpoint](https://www.javatpoint.com/machine-learning-naive-bayes-classifier)\n",
    "- [Naive Bayes Classifier | Simplilearn](https://www.simplilearn.com/tutorials/machine-learning-tutorial/naive-bayes-classifier)\n",
    "- [Naïve Bayes Algorithm: Everything You Need to Know](https://www.kdnuggets.com/2020/06/naive-bayes-algorithm-everything.html)\n",
    "- [Naive Bayes Algorithm in ML: Simplifying Classification](https://www.turing.com/kb/an-introduction-to-naive-bayes-algorithm-for-beginners)\n",
    "- [Naive Bayes Classifier Tutorial: with Python Scikit-learn](https://www.datacamp.com/tutorial/naive-bayes-scikit-learn)\n",
    "- [A Simple Explanation of Naive Bayes Classification](https://stackoverflow.com/questions/10059594/a-simple-explanation-of-naive-bayes-classification)"
   ]
  },
  {
   "cell_type": "markdown",
   "id": "7379682b",
   "metadata": {},
   "source": [
    "### Artificial Neural Network"
   ]
  },
  {
   "cell_type": "markdown",
   "id": "9ead1b47",
   "metadata": {},
   "source": [
    "![Artificial Neural Network (ANN)](KK/img/ANN.png)"
   ]
  },
  {
   "cell_type": "markdown",
   "id": "1f61cefc",
   "metadata": {},
   "source": [
    "#### Basic Concept"
   ]
  },
  {
   "cell_type": "markdown",
   "id": "1542e341",
   "metadata": {},
   "source": [
    "**Artificial Neural Network** (ANN) adalah model komputasi yang terinspirasi dari struktur dan fungsi jaringan saraf biologis, seperti yang ada pada otak manusia. ANN terdiri dari sekumpulan `node` (neuron) yang saling terhubung dan disusun dalam lapisan, yaitu lapisan input, lapisan tersembunyi (hidden layer), dan lapisan output. Setiap neuron menerima input, mengolahnya dengan bobot (weight) dan bias, lalu menerapkan fungsi aktivasi untuk menghasilkan output. ANN digunakan untuk memodelkan pola-pola kompleks dalam data, seperti dalam klasifikasi, regresi, atau pengenalan pola, dan sering diterapkan dalam bidang seperti pengenalan gambar, pemrosesan bahasa alami (NLP), dan diagnosis medis."
   ]
  },
  {
   "cell_type": "markdown",
   "id": "e85ce5de",
   "metadata": {},
   "source": [
    "#### Forward and Backpropagation Process"
   ]
  },
  {
   "cell_type": "markdown",
   "id": "58f609cd",
   "metadata": {},
   "source": [
    "##### Forward Propagation"
   ]
  },
  {
   "cell_type": "markdown",
   "id": "094fe753",
   "metadata": {},
   "source": [
    "Forward propagation adalah langkah pertama dalam menggunakan ANN untuk membuat prediksi, Data masukan dilewatkan melalui jaringan untuk menghasilkan prediksi, menggunakan bobot dan fungsi aktivasi seperti sigmoid. Proses ini melibatkan:\n",
    "- Setiap neuron dalam lapisan tersembunyi menghitung outputnya dengan rumus:\n",
    "\n",
    "  $$\n",
    "  \\text{output} = \\sigma\\left( \\sum_{i} w_i \\cdot x_i + b \\right)\n",
    "  $$\n",
    "\n",
    "  Di mana:\n",
    "  - $ w_i $ adalah bobot untuk input ke-i.\n",
    "  - $ x_i $ adalah nilai input ke-i.\n",
    "  - $ b $ adalah bias.\n",
    "  - $ \\sigma $ adalah fungsi aktivasi, dalam kasus ini kemungkinan sigmoid, karena output H1 dan H2 mendekati 0 atau 1, dengan rumus:\n",
    "\n",
    "    $$\n",
    "    \\sigma(z) = \\frac{1}{1 + e^{-z}}\n",
    "    $$\n",
    "\n",
    "- Output dari lapisan tersembunyi kemudian digunakan sebagai input untuk lapisan output, menghasilkan prediksi akhir (Prediksi_Final).\n",
    "\n",
    "Dalam file Anda, contohnya untuk baris pertama data (Age=18, Number of sexual partners=4, dll.), output H1 adalah 0.9999995477 dan H2 adalah 0.9999999327, yang kemudian menghasilkan Prediksi_Final = 0.4240051204."
   ]
  },
  {
   "cell_type": "markdown",
   "id": "5d826e77",
   "metadata": {},
   "source": [
    "##### Backpropagation"
   ]
  },
  {
   "cell_type": "markdown",
   "id": "8e11ce4d",
   "metadata": {},
   "source": [
    "Backpropagation adalah algoritma untuk melatih ANN dengan menyesuaikan bobot dan bias agar prediksi menjadi lebih akurat, Kesalahan prediksi dihitung (misalnya, dengan MSE), lalu gradien dihitung untuk menyesuaikan bobot, menggunakan learning rate untuk mengontrol perubahan.  \n",
    "Langkah-langkahnya adalah:\n",
    "- **Forward Pass**: Hitung output jaringan untuk input yang diberikan.\n",
    "- **Hitung Loss**: Bandingkan output prediksi dengan nilai target (misalnya, Biopsy) untuk menghitung kesalahan, loss dihitung menggunakan Mean Squared Error (MSE):\n",
    "\n",
    "   $$\n",
    "   \\text{MSE} = \\frac{1}{n} \\sum_{i=1}^{n} (y_i - \\hat{y}_i)^2\n",
    "   $$\n",
    "\n",
    "   Di mana $ y_i $ adalah nilai target, dan $ \\hat{y}_i $ adalah prediksi. Contoh, MSE untuk baris pertama adalah 0.0898901711.\n",
    "- **Backward Pass**: Hitung gradien (turunan) dari loss terhadap setiap bobot dan bias menggunakan aturan rantai (chain rule). Gradien ini menunjukkan seberapa besar pengaruh setiap bobot terhadap loss, gradien dihitung untuk lapisan output (Gradien_Output) dan lapisan tersembunyi (Gradien_H1, Gradien_H2), misalnya Gradien_Output = -0.1035525565 untuk baris pertama.\n",
    "- **Update Bobot**: Sesuaikan bobot dan bias menggunakan gradien dan learning rate:\n",
    "\n",
    "   $$\n",
    "   w_{\\text{new}} = w_{\\text{old}} - \\eta \\cdot \\frac{\\partial \\text{loss}}{\\partial w}\n",
    "   $$\n",
    "\n",
    "   Di mana $ \\eta $ adalah learning rate, Anda bernilai 0.5. Pembaruan ini terlihat dalam perbandingan \"Parameter Awal\" dan \"Parameter Baru\", misalnya bias untuk H1 berubah dari 3.4999952702 menjadi 3.9999952702."
   ]
  },
  {
   "cell_type": "markdown",
   "id": "3596b3c7",
   "metadata": {},
   "source": [
    "#### Struktur dan Komponen ANN"
   ]
  },
  {
   "cell_type": "markdown",
   "id": "6ea8adfd",
   "metadata": {},
   "source": [
    "- **Lapisan Input**: Menerima data masukan, dalam kasus ini 17 fitur seperti Age, Number of sexual partners, First sexual intercourse, Num of pregnancies, Smokes, dan lain-lain.\n",
    "- **Lapisan Tersembunyi**: Dalam file Anda, ada 2 neuron tersembunyi (H1 dan H2), yang memproses data dari lapisan input untuk menghasilkan representasi yang lebih kompleks.\n",
    "- **Lapisan Output**: Menghasilkan prediksi akhir, dalam hal ini untuk variabel target Biopsy (0 atau 1).\n",
    "\n",
    "Setiap koneksi antara neuron memiliki bobot, yang menentukan kekuatan hubungan, dan setiap neuron memiliki bias untuk menggeser nilai output. Dalam file, bobot awal dan bobot baru setelah pelatihan tercatat, misalnya bobot input ke H1 berubah dari [0.2999634, 0.4299965, ...] menjadi [0.2999633736, 0.4299965073, ...], menunjukkan pembaruan melalui pelatihan."
   ]
  },
  {
   "cell_type": "markdown",
   "id": "d730ef85",
   "metadata": {},
   "source": [
    "#### Parameter dan Hasil Pelatihan"
   ]
  },
  {
   "cell_type": "markdown",
   "id": "4eebfb23",
   "metadata": {},
   "source": [
    "- **Learning Rate**: 0.5, digunakan untuk mengontrol seberapa besar bobot diperbarui.\n",
    "- **Parameter Awal**: Bobot dan bias awal untuk koneksi input ke H1, H2, dan dari tersembunyi ke output, misalnya bobot input->H1: w1=0.2999634, w2=0.4299965, dll.\n",
    "- **Parameter Baru**: Bobot dan bias setelah pelatihan, menunjukkan pembaruan berdasarkan gradien, misalnya bobot input->H1: w1_new=0.2999633736, dll.\n",
    "- **Hasil**: Akurasi pelatihan mencapai 100%, dengan semua prediksi (Prediksi) sesuai dengan nilai target (Biopsy), seperti terlihat pada kolom \"Benar\" yang menunjukkan \"Benar\" untuk beberapa baris."
   ]
  },
  {
   "cell_type": "markdown",
   "id": "5f1da3bc",
   "metadata": {},
   "source": [
    "#### Advantages and Disadvantages"
   ]
  },
  {
   "cell_type": "markdown",
   "id": "17c72df6",
   "metadata": {},
   "source": [
    "ANN digunakan dalam berbagai bidang, termasuk:\n",
    "- **Pengenalan Gambar**: Klasifikasi gambar, deteksi objek, seperti yang dijelaskan di [Neural Networks and Deep Learning](http://neuralnetworksanddeeplearning.com/chap2.html).\n",
    "- **Natural Language Processing (NLP)**: Analisis sentimen, penerjemahan mesin, seperti yang disebutkan di [A Comprehensive Guide to the Backpropagation Algorithm in Neural Networks](https://neptune.ai/blog/backpropagation-algorithm-in-neural-networks-guide).\n",
    "- **Prediksi Time Series**: Peramalan harga saham, cuaca, seperti yang dijelaskan di [Understanding Backpropagation | Towards Data Science](https://towardsdatascience.com/understanding-backpropagation-abcc509ca9d0/).\n",
    "- **Diagnosis Medis**: Prediksi penyakit berdasarkan data pasien, seperti dalam file Anda yang mungkin terkait dengan skrining kanker serviks, seperti yang disebutkan di [How Does Backpropagation in a Neural Network Work? | Built In](https://builtin.com/machine-learning/backpropagation-neural-network).\n",
    "\n",
    "Kelebihan ANN meliputi:\n",
    "- Dapat memodelkan hubungan non-linear yang kompleks, seperti yang dijelaskan di [Backpropagation - Wikipedia](https://en.wikipedia.org/wiki/Backpropagation).\n",
    "- Mampu belajar dari data dalam jumlah besar, seperti yang disebutkan di [Back Propagation in Neural Network: Machine Learning Algorithm](https://www.guru99.com/backpropogation-neural-network.html).\n",
    "- Dapat digeneralisasikan pada data baru, meskipun rentan terhadap overfitting jika tidak diregulasi dengan baik, seperti yang dijelaskan di [Neural Networks: Training using backpropagation | Machine Learning | Google for Developers](https://developers.google.com/machine-learning/crash-course/neural-networks/backpropagation).\n",
    "\n",
    "Kekurangan ANN meliputi:\n",
    "- Memerlukan banyak data untuk pelatihan, seperti yang disebutkan di [What is Backpropagation? | IBM](https://www.ibm.com/think/topics/backpropagation).\n",
    "- Rentan terhadap overfitting jika tidak diregulasi, seperti yang dijelaskan di [A Step by Step Backpropagation Example | Matt Mazur](https://mattmazur.com/2015/03/17/a-step-by-step-backpropagation-example/).\n",
    "- Interpretabilitas rendah, sulit untuk menjelaskan bagaimana model membuat keputusan, seperti yang disebutkan di [Backpropagation in Neural Network - GeeksforGeeks](https://www.geeksforgeeks.org/machine-learning/backpropagation-in-neural-network/)."
   ]
  },
  {
   "cell_type": "markdown",
   "id": "404f16b1",
   "metadata": {},
   "source": [
    "#### Key Citations"
   ]
  },
  {
   "cell_type": "markdown",
   "id": "31e6e86f",
   "metadata": {},
   "source": [
    "- [Neural Networks and Deep Learning explanation](http://neuralnetworksanddeeplearning.com/chap2.html)\n",
    "- [Backpropagation detailed Wikipedia page](https://en.wikipedia.org/wiki/Backpropagation)\n",
    "- [Comprehensive Backpropagation Guide in Neural Networks](https://neptune.ai/blog/backpropagation-algorithm-in-neural-networks-guide)\n",
    "- [Backpropagation in Neural Networks explanation](https://builtin.com/machine-learning/backpropagation-neural-network)\n",
    "- [Backpropagation in Neural Network tutorial](https://www.geeksforgeeks.org/machine-learning/backpropagation-in-neural-network/)\n",
    "- [Backpropagation machine learning technique](https://www.ibm.com/think/topics/backpropagation)\n",
    "- [Neural Networks Training with Backpropagation](https://developers.google.com/machine-learning/crash-course/neural-networks/backpropagation)\n",
    "- [Back Propagation in Neural Network guide](https://www.guru99.com/backpropogation-neural-network.html)\n",
    "- [Step by Step Backpropagation Example](https://mattmazur.com/2015/03/17/a-step-by-step-backpropagation-example/)\n",
    "- [Understanding Backpropagation detailed article](https://towardsdatascience.com/understanding-backpropagation-abcc509ca9d0/)"
   ]
  },
  {
   "cell_type": "markdown",
   "id": "162e77a9",
   "metadata": {},
   "source": [
    "## Assignment To-Do"
   ]
  },
  {
   "cell_type": "markdown",
   "id": "7c727084",
   "metadata": {},
   "source": [
    "## Manual Calculation"
   ]
  },
  {
   "cell_type": "markdown",
   "id": "ac789d7a",
   "metadata": {},
   "source": [
    "### Naive Bayes"
   ]
  },
  {
   "cell_type": "markdown",
   "id": "5da90f5c",
   "metadata": {},
   "source": [
    "```python\n",
    "import os, subprocess\n",
    "file_path = os.path.abspath('KK/resource/naive-bayes.xlsx')\n",
    "try:\n",
    "    subprocess.run(['start', '', file_path], shell=True)\n",
    "except Exception as e:\n",
    "    print(\"Something went wrong:\", e)\n",
    "```"
   ]
  },
  {
   "cell_type": "markdown",
   "id": "ab18eacc",
   "metadata": {},
   "source": [
    "#### 1. **Data Mentah (Raw Data)**"
   ]
  },
  {
   "cell_type": "markdown",
   "id": "167e425f",
   "metadata": {},
   "source": [
    "Bagian pertama file berisi tabel dengan data numerik yang mencakup berbagai atribut kesehatan dan demografis dari individu. Kolom-kolom yang ada adalah:\n",
    "\n",
    "- **Age**: Usia individu (contoh: 18, 15, 34).\n",
    "- **Number of sexual partners**: Jumlah pasangan seksual (contoh: 4, 1, 5).\n",
    "- **First sexual intercourse**: Usia saat pertama kali berhubungan seksual (contoh: 15, 14, 17).\n",
    "- **Num of pregnancies**: Jumlah kehamilan (contoh: 1, 4, 6).\n",
    "- **Smokes**: Apakah individu merokok (1 = ya, 0 = tidak).\n",
    "- **Smokes (years)**: Lama merokok dalam tahun (contoh: 37, 1.27).\n",
    "- **Smokes (packs/year)**: Jumlah bungkus rokok per tahun (contoh: 37, 2.8).\n",
    "- **Hormonal Contraceptives**: Penggunaan kontrasepsi hormonal (1 = ya, 0 = tidak).\n",
    "- **Hormonal Contraceptives (years)**: Lama penggunaan kontrasepsi hormonal dalam tahun (contoh: 3, 15).\n",
    "- **IUD**: Penggunaan alat kontrasepsi dalam rahim (1 = ya, 0 = tidak).\n",
    "- **IUD (years)**: Lama penggunaan IUD dalam tahun (contoh: 7).\n",
    "- **STDs**: Apakah individu memiliki penyakit menular seksual (1 = ya, 0 = tidak).\n",
    "- **STDs (number)**: Jumlah penyakit menular seksual yang dimiliki.\n",
    "- **STDs: Number of diagnosis**: Jumlah diagnosis penyakit menular seksual.\n",
    "- **Hinselmann, Schiller, Citology**: Tes skrining untuk kanker serviks (1 = positif, 0 = negatif).\n",
    "- **Biopsy**: Hasil biopsi (1 = positif, 0 = negatif), yang menjadi variabel target untuk klasifikasi.\n",
    "\n",
    "Contoh baris data:\n",
    "- 18, 4, 15, 1, 0, 0, 0, 0, 0, 0, 0, 0, 0, 0, 0, 0, 0, 0\n",
    "- 51, 3, 17, 6, 1, 34, 3.4, 0, 0, 1, 7, 0, 0, 0, 1, 1, 0, 1"
   ]
  },
  {
   "cell_type": "markdown",
   "id": "1e8a9e6d",
   "metadata": {},
   "source": [
    "#### 2. **Pemetaan Kategorikal**"
   ]
  },
  {
   "cell_type": "markdown",
   "id": "2605ceb3",
   "metadata": {},
   "source": [
    "Data numerik dikelompokkan ke dalam kategori untuk beberapa atribut.  \n",
    "Pemetaan ini digunakan untuk mengubah data kontinu menjadi kategorikal agar sesuai dengan model Naive Bayes:\n",
    "\n",
    "- **Age**:\n",
    "  - $ < 25 $ = 'Muda'\n",
    "  - $ 25 - 40 $ = 'Dewasa'\n",
    "  - $ > 40 $ = 'Tua'\n",
    "- **Number of sexual partners**:\n",
    "  - $ <= 2 $ = 'Sedikit'\n",
    "  - $ 3 - 5 $ = 'Sedang'\n",
    "  - $ > 5 $ = 'Banyak'\n",
    "- **First sexual intercourse**:\n",
    "  - $ <= 16 $ = 'Sangat Muda'\n",
    "  - $ 17 - 20 $ = 'Muda'\n",
    "  - $ > 20 $ = 'Dewasa'\n",
    "- **Num of pregnancies**:\n",
    "  - $ <= 1 $ = 'Rendah'\n",
    "  - $ 2 - 4 $ = 'Sedang'\n",
    "  - $ > 20 $ = 'Tinggi' (Catatan: Dalam konteks data, kemungkinan maksudnya > 4, karena nilai maksimum dalam data adalah 6).\n",
    "\n",
    "Untuk atribut lain seperti \"Smokes (years)\" atau \"Hormonal Contraceptives (years)\", pemetaan kategorikal juga ada, misalnya:\n",
    "- **Smokes (years)**: Tidak Merokok, Perokok Baru, Perokok Lama.\n",
    "- **Hormonal Contraceptives (years)**: Tidak Menggunakan HC, Pengguna Jangka Menengah, Pengguna Jangka Panjang."
   ]
  },
  {
   "cell_type": "markdown",
   "id": "c14bc883",
   "metadata": {},
   "source": [
    "#### 3. **Data yang Ditransformasikan**"
   ]
  },
  {
   "cell_type": "markdown",
   "id": "150f0436",
   "metadata": {},
   "source": [
    "Berikut adalah data mentah yang telah diubah menjadi label kategorikal berdasarkan pemetaan di atas::\n",
    "- Baris pertama (18, 4, 15, 1, ...) menjadi:\n",
    "  - Age: 'Muda'\n",
    "  - Number of sexual partners: 'Sedang'\n",
    "  - First sexual intercourse: 'Sangat Muda'\n",
    "  - Num of pregnancies: 'Rendah'\n",
    "  - Smokes: 0 (Tidak Merokok)\n",
    "  - Dan seterusnya.\n",
    "\n",
    "Contoh baris:\n",
    "- Muda, Sedang, Sangat Muda, Rendah, 0, Tidak Merokok, Tidak Merokok, 0, Tidak Menggunakan HC, 0, Tidak Menggunakan IUD, 0, 0, 0, 0, 0, 0, 0\n",
    "- Tua, Sedang, Muda, Tinggi, 1, Perokok Lama, Perokok Berat, 0, Tidak Menggunakan HC, 1, Pengguna IUD, 0, 0, 0, 1, 1, 0, 1"
   ]
  },
  {
   "cell_type": "markdown",
   "id": "f86012f1",
   "metadata": {},
   "source": [
    "#### 4. **Perhitungan Probabilitas untuk Naive Bayes**"
   ]
  },
  {
   "cell_type": "markdown",
   "id": "d8f856b0",
   "metadata": {},
   "source": [
    "Probabilitas yang digunakan dalam model Naive Bayes untuk memprediksi \"Biopsy\" (positif atau negatif):\n",
    "\n",
    "- **Prior Probabilities (Probabilitas Awal)**:\n",
    "  - $ P(\\text{Biopsy}=1) = 0.125 $ (12.5% kasus positif)\n",
    "  - $ P(\\text{Biopsy}=0) = 0.875 $ (87.5% kasus negatif)\n",
    "\n",
    "- **Likelihood (Probabilitas Bersyarat)**:\n",
    "  Probabilitas untuk setiap kategori fitur dihitung berdasarkan data pelatihan (80% dari data). Contoh:\n",
    "  - **Age**:\n",
    "    - $ P(\\text{Muda} | \\text{Biopsy}=1) = 0.25 $\n",
    "    - $ P(\\text{Muda} | \\text{Biopsy}=0) = 0.3 $\n",
    "    - $ P(\\text{Tua} | \\text{Biopsy}=1) = 0.5 $\n",
    "    - $ P(\\text{Tua} | \\text{Biopsy}=0) = 0.4 $\n",
    "  - **Number of sexual partners**:\n",
    "    - $ P(\\text{Sedikit} | \\text{Biopsy}=1) = 0.25 $\n",
    "    - $ P(\\text{Sedikit} | \\text{Biopsy}=0) = 0.40 $\n",
    "  - Dan seterusnya untuk semua fitur seperti \"Smokes\", \"Hormonal Contraceptives\", dll.\n",
    "\n",
    "Probabilitas ini digunakan untuk menghitung kemungkinan suatu instance termasuk dalam kelas Biopsy=1 atau Biopsy=0."
   ]
  },
  {
   "cell_type": "markdown",
   "id": "5f1da930",
   "metadata": {},
   "source": [
    "#### 5. **Data Pengujian dan Hasil Evaluasi**"
   ]
  },
  {
   "cell_type": "markdown",
   "id": "029b3db2",
   "metadata": {},
   "source": [
    "Bagian terakhir berisi data pengujian (kemungkinan 20% dari data) untuk menguji model Naive Bayes. Setiap instance pengujian mencakup:\n",
    "- Nilai fitur dalam bentuk kategorikal.\n",
    "- Skor likelihood untuk Biopsy=1 dan Biopsy=0.\n",
    "- Prediksi berdasarkan skor likelihood yang lebih tinggi.\n",
    "\n",
    "Contoh:\n",
    "- **Data Testing 1**:\n",
    "  - Fitur: Tua, Sedikit, Muda, Tinggi, 0, Tidak Merokok, dll.\n",
    "  - Likelihood Biopsy=1: 0.0000000101611\n",
    "  - Likelihood Biopsy=0: 0.0000407789557\n",
    "  - Prediksi: 0 (karena likelihood Biopsy=0 lebih tinggi)\n",
    "- **Data Testing 2**:\n",
    "  - Fitur: Tua, Sedang, Sangat Muda, Sedang, 0, Perokok Baru, dll.\n",
    "  - Likelihood Biopsy=1: 0.0000000101611\n",
    "  - Likelihood Biopsy=0: 0.0000208055896\n",
    "  - Prediksi: 0\n",
    "\n",
    "- **Akurasi**: 100.00%, yang menunjukkan bahwa model memprediksi dengan benar untuk kedua instance pengujian yang ada."
   ]
  },
  {
   "cell_type": "markdown",
   "id": "d8b34100",
   "metadata": {},
   "source": [
    "### Artificial Neural Network"
   ]
  },
  {
   "cell_type": "markdown",
   "id": "d50e2876",
   "metadata": {},
   "source": [
    "**Artificial Neural Network (ANN)** dengan algoritma **backpropagation** untuk klasifikasi\n",
    "\n",
    "```python\n",
    "import os, subprocess\n",
    "file_path = os.path.abspath('KK/resource/ANN_Backpropagation.xlsx')\n",
    "try:\n",
    "    subprocess.run(['start', '', file_path], shell=True)\n",
    "except Exception as e:\n",
    "    print(\"Something went wrong:\", e)\n",
    "```"
   ]
  },
  {
   "cell_type": "markdown",
   "id": "0d6793a4",
   "metadata": {},
   "source": [
    "#### 1. **Data Mentah dan Hasil Perhitungan ANN**"
   ]
  },
  {
   "cell_type": "markdown",
   "id": "90bfb1f8",
   "metadata": {},
   "source": [
    "Data kesehatan dan demografis yang digunakan sebagai input untuk model ANN, bersama dengan hasil perhitungan jaringan saraf. Kolom-kolom dalam tabel ini adalah:\n",
    "\n",
    "- **Fitur Input** (sama seperti pada file \"naive bayes.xlsx\"):\n",
    "  - **Age**: Usia individu (contoh: 18, 15, 34).\n",
    "  - **Number of sexual partners**: Jumlah pasangan seksual (contoh: 4, 1, 5).\n",
    "  - **First sexual intercourse**: Usia saat pertama kali berhubungan seksual (contoh: 15, 14, 17).\n",
    "  - **Num of pregnancies**: Jumlah kehamilan (contoh: 1, 4, 6).\n",
    "  - **Smokes**: Apakah individu merokok (1 = ya, 0 = tidak).\n",
    "  - **Smokes (years)**: Lama merokok dalam tahun (contoh: 37, 1.27).\n",
    "  - **Smokes (packs/year)**: Jumlah bungkus rokok per tahun (contoh: 37, 2.8).\n",
    "  - **Hormonal Contraceptives**: Penggunaan kontrasepsi hormonal (1 = ya, 0 = tidak).\n",
    "  - **Hormonal Contraceptives (years)**: Lama penggunaan kontrasepsi hormonal (contoh: 3, 15).\n",
    "  - **IUD**: Penggunaan alat kontrasepsi dalam rahim (1 = ya, 0 = tidak).\n",
    "  - **IUD (years)**: Lama penggunaan IUD (contoh: 7).\n",
    "  - **STDs**: Apakah individu memiliki penyakit menular seksual (1 = ya, 0 = tidak).\n",
    "  - **STDs (number)**: Jumlah penyakit menular seksual.\n",
    "  - **STDs: Number of diagnosis**: Jumlah diagnosis penyakit menular seksual.\n",
    "  - **Hinselmann, Schiller, Citology**: Tes skrining untuk kanker serviks (1 = positif, 0 = negatif).\n",
    "  - **Biopsy**: Hasil biopsi (1 = positif, 0 = negatif), variabel target untuk klasifikasi.\n",
    "\n",
    "- **Kolom Hasil ANN**:\n",
    "  - **Output_H1**: Keluaran dari neuron pertama di lapisan tersembunyi (hidden layer) setelah aktivasi (nilai mendekati 0 atau 1, kemungkinan menggunakan fungsi aktivasi sigmoid).\n",
    "  - **Output_H2**: Keluaran dari neuron kedua di lapisan tersembunyi.\n",
    "  - **Prediksi_Final**: Keluaran akhir dari model ANN (nilai kontinu antara 0 dan 1, kemungkinan setelah fungsi aktivasi sigmoid).\n",
    "  - **MSE**: Mean Squared Error, mengukur kesalahan antara prediksi dan nilai target (Biopsy).\n",
    "  - **Gradien_Output**: Gradien untuk lapisan keluaran, digunakan dalam backpropagation untuk memperbarui bobot.\n",
    "  - **Gradien_H1**: Gradien untuk neuron pertama di lapisan tersembunyi.\n",
    "  - **Gradien_H2**: Gradien untuk neuron kedua di lapisan tersembunyi.\n",
    "  - **Prediksi**: Hasil prediksi biner (0 atau 1) berdasarkan ambang batas tertentu dari Prediksi_Final.\n",
    "  - **Benar**: Menunjukkan apakah prediksi sesuai dengan nilai Biopsy (contoh: \"Benar\" atau kosong).\n",
    "\n",
    "- **Akurasi**: Di bagian bawah tabel, akurasi model dicatat sebagai **100%**, menunjukkan bahwa semua prediksi pada data yang diberikan sesuai dengan nilai target (Biopsy).\n",
    "\n",
    "Contoh baris data:\n",
    "- 18, 4, 15, 1, 0, 0, 0, 0, 0, 0, 0, 0, 0, 0, 0, 0, 0, 0, **Output_H1**: 0.9999995477, **Output_H2**: 0.9999999327, **Prediksi_Final**: 0.4240051204, **MSE**: 0.0898901711, **Prediksi**: 0, **Benar**: 0.\n",
    "- 51, 3, 17, 6, 1, 34, 3.4, 0, 0, 1, 7, 0, 0, 0, 1, 1, 0, 1, **Output_H1**: 1, **Output_H2**: 0.9996554061, **Prediksi_Final**: 0.4240081094, **MSE**: 0.165883329, **Prediksi**: 0, **Benar**: (kosong)."
   ]
  },
  {
   "cell_type": "markdown",
   "id": "954fae32",
   "metadata": {},
   "source": [
    "#### 2. **Parameter Model**"
   ]
  },
  {
   "cell_type": "markdown",
   "id": "436caeb2",
   "metadata": {},
   "source": [
    "Parameter awal dan pembaruan bobot model ANN setelah pelatihan dengan backpropagation.\n",
    "\n",
    "- **Learning Rate**: 0.5 (digunakan untuk mengontrol seberapa besar pembaruan bobot pada setiap iterasi).\n",
    "\n",
    "- **Parameter Awal**:\n",
    "  - **Bobot input->H1**: Bobot dari lapisan input ke neuron pertama di lapisan tersembunyi (w1 hingga w17, b1 untuk bias). Contoh: w1 = 0.2999634, w2 = 0.4299965, b1 = 3.4999952702.\n",
    "  - **Bobot input->H2**: Bobot dari lapisan input ke neuron kedua di lapisan tersembunyi (w1 hingga w17, b1 untuk bias). Contoh: w1 = 0.2497639, w2 = 0.4799858, b1 = 3.4999903077.\n",
    "  - **Bobot Hidden->out**: Bobot dari lapisan tersembunyi ke lapisan keluaran (dua bobot untuk H1 dan H2). Contoh: 0.0345664163, -0.0354774758.\n",
    "  - **Bias H3 & Output**: Bias untuk lapisan keluaran (b3 = -0.3054421666).\n",
    "\n",
    "- **Parameter Baru**:\n",
    "  Setelah pelatihan dengan backpropagation, bobot dan bias diperbarui. Contoh:\n",
    "  - **Bobot input->H1**: w1_new = 0.2999633736, w2_new = 0.4299965073, b1_new = 3.9999952702.\n",
    "  - **Bobot input->H2**: w1_new = 0.2497638904, w2_new = 0.4799831939, b1_new = 3.9999885886.\n",
    "  - **Bobot Hidden->out**: 0.104902293, 0.0348341636.\n",
    "  - **Bias H3 & Output**: b3_new = -0.2351062899.\n",
    "\n",
    "Pembaruan ini dilakukan berdasarkan gradien (Gradien_Output, Gradien_H1, Gradien_H2) dan learning rate untuk meminimalkan MSE."
   ]
  },
  {
   "cell_type": "markdown",
   "id": "996926d7",
   "metadata": {},
   "source": [
    "#### 3. **Struktur Jaringan ANN**"
   ]
  },
  {
   "cell_type": "markdown",
   "id": "ad02ac99",
   "metadata": {},
   "source": [
    "Berdasarkan data, struktur ANN yang digunakan adalah:\n",
    "- **Lapisan Input**: 17 fitur (Age, Number of sexual partners, ..., Citology).\n",
    "- **Lapisan Tersembunyi**: 2 neuron (H1 dan H2), dengan fungsi aktivasi (kemungkinan sigmoid, karena keluaran mendekati 0 atau 1).\n",
    "- **Lapisan Keluaran**: 1 neuron untuk prediksi Biopsy (nilai kontinu antara 0 dan 1, yang kemudian diubah menjadi biner 0 atau 1).\n",
    "- **Fungsi Aktivasi**: Sigmoid (dilihat dari nilai Output_H1, Output_H2, dan Prediksi_Final).\n",
    "- **Fungsi Kerugian**: Mean Squared Error (MSE) untuk menghitung kesalahan prediksi.\n",
    "- **Algoritma Pembelajaran**: Backpropagation, dengan pembaruan bobot berdasarkan gradien dan learning rate."
   ]
  },
  {
   "cell_type": "markdown",
   "id": "f52b3331",
   "metadata": {},
   "source": [
    "## Data Mining Process (`CRISP-DM`)"
   ]
  },
  {
   "cell_type": "markdown",
   "id": "fc6759db",
   "metadata": {},
   "source": [
    "### 1. Business Understanding"
   ]
  },
  {
   "cell_type": "markdown",
   "id": "e4f6e169",
   "metadata": {},
   "source": [
    "#### 1.1. Define the Problem"
   ]
  },
  {
   "cell_type": "markdown",
   "id": "ebaf2477",
   "metadata": {},
   "source": [
    "Kanker serviks merupakan salah satu penyakit kanker yang paling sering ditemukan pada wanita di seluruh dunia. Deteksi dini sangat penting untuk meningkatkan peluang kesembuhan dan mengurangi angka kematian. Biasanya, deteksi dini dilakukan melalui tes skrining seperti Pap smear, kolposkopi, atau biopsi, yang membutuhkan waktu, biaya, dan tenaga medis yang terlatih. Dengan adanya teknologi pembelajaran mesin (machine learning), kita dapat memanfaatkan data riwayat kesehatan pasien dan faktor risiko untuk memprediksi kemungkinan kanker serviks secara lebih cepat dan efisien. Dalam tugas ini, kita akan fokus pada dua metode machine learning, yaitu **Naive Bayes** dan **Artificial Neural Networks (ANN)**, untuk mendeteksi kanker serviks berdasarkan dataset yang tersedia."
   ]
  },
  {
   "cell_type": "markdown",
   "id": "18c0d0f1",
   "metadata": {},
   "source": [
    "#### 1.2. Set Objectives"
   ]
  },
  {
   "cell_type": "markdown",
   "id": "d129eb06",
   "metadata": {},
   "source": [
    "Objektif bisnis dari proyek ini adalah:  \n",
    "- Mengevaluasi performa model Naive Bayes dan ANN berdasarkan metrik seperti akurasi, sensitivitas, dan spesifisitas dalam memprediksi kanker serviks.  \n",
    "- Membandingkan efisiensi dan keandalan kedua model untuk diterapkan dalam lingkungan klinis.  \n",
    "- Menyediakan alat bantu berbasis data yang dapat membantu tenaga medis mengidentifikasi pasien berisiko tinggi dengan lebih cepat dan akurat.  \n",
    "\n",
    "Tujuan utama dari proyek ini adalah:  \n",
    "- Menganalisis dan membandingkan performa model **Naive Bayes** dan **Artificial Neural Networks (ANN)** dalam memprediksi hasil biopsi kanker serviks (positif atau negatif) menggunakan data faktor risiko dan hasil tes skrining.  \n",
    "- Menentukan model mana yang lebih akurat dan cocok untuk membantu tenaga medis dalam proses deteksi dini kanker serviks.  \n",
    "\n",
    "Proyek ini bertujuan untuk memberikan wawasan yang dapat mendukung pengambilan keputusan di bidang kesehatan, khususnya dalam skrining kanker serviks."
   ]
  },
  {
   "cell_type": "markdown",
   "id": "dd7e7d06",
   "metadata": {},
   "source": [
    "#### 1.3. Identify Stakeholders"
   ]
  },
  {
   "cell_type": "markdown",
   "id": "fda0d01e",
   "metadata": {},
   "source": [
    "Proyek ini melibatkan beberapa pihak yang berkepentingan, antara lain:  \n",
    "- **Tenaga Medis**: Dokter, perawat, dan spesialis yang menggunakan hasil prediksi untuk mendiagnosis dan merencanakan perawatan pasien.  \n",
    "- **Pasien**: Wanita yang menjadi target skrining untuk deteksi dini kanker serviks.  \n",
    "- **Peneliti Medis**: Akademisi atau ilmuwan yang ingin mengembangkan metode deteksi berbasis data yang lebih baik.  \n",
    "- **Penyedia Layanan Kesehatan**: Rumah sakit atau klinik yang dapat meningkatkan efisiensi layanan skrining mereka.  \n",
    "- **Perusahaan Asuransi Kesehatan**: Pihak yang mungkin tertarik pada metode prediksi untuk mengurangi biaya perawatan jangka panjang.  "
   ]
  },
  {
   "cell_type": "markdown",
   "id": "0834e61f",
   "metadata": {},
   "source": [
    "#### 1.4. Define Success Criteria"
   ]
  },
  {
   "cell_type": "markdown",
   "id": "1a0e5f23",
   "metadata": {},
   "source": [
    "Keberhasilan proyek ini akan diukur dengan beberapa indikator berikut:  \n",
    "- **Akurasi**: Persentase prediksi yang benar dibandingkan dengan total data.  \n",
    "- **Sensitivitas (Recall)**: Kemampuan model untuk mendeteksi semua kasus positif (pasien dengan kanker serviks).  \n",
    "- **Spesifisitas**: Kemampuan model untuk mengidentifikasi kasus negatif (pasien yang tidak memiliki kanker serviks).  \n",
    "- **Area Under the Curve (AUC)**: Ukuran performa keseluruhan model dalam klasifikasi.  \n",
    "- **Generalisasi**: Kemampuan model untuk bekerja dengan baik pada data baru yang belum pernah dilihat sebelumnya.  \n",
    "\n",
    "Dalam konteks medis, sensitivitas sangat penting karena kita ingin meminimalkan kasus positif yang terlewat (false negatives)."
   ]
  },
  {
   "cell_type": "markdown",
   "id": "764a59ca",
   "metadata": {},
   "source": [
    "#### 1.5. Dataset Used"
   ]
  },
  {
   "cell_type": "markdown",
   "id": "52d68a7d",
   "metadata": {},
   "source": [
    "Dataset yang digunakan adalah `cervical-cancer.xlsx`, yang berisi 835 entri dengan 36 kolom fitur terkait riwayat kesehatan dan hasil tes pasien. Beberapa fitur utama meliputi:  \n",
    "- **Age**: Usia pasien.  \n",
    "- **Number of sexual partners**: Jumlah pasangan seksual.  \n",
    "- **First sexual intercourse**: Usia saat pertama kali berhubungan seksual.  \n",
    "- **Num of pregnancies**: Jumlah kehamilan.  \n",
    "- **Smokes**: Status merokok pasien.  \n",
    "- **Hormonal Contraceptives**: Penggunaan kontrasepsi hormonal.  \n",
    "- **STDs**: Riwayat penyakit menular seksual.  \n",
    "- **Hinselmann, Schiller, Citology**: Hasil tes skrining.  \n",
    "- **Biopsy**: Hasil biopsi sebagai variabel target (1 untuk positif kanker, 0 untuk negatif).  \n",
    "\n",
    "Dari informasi dataset, terlihat bahwa ada beberapa kolom dengan nilai yang hilang (missing values), seperti `STDs: Time since first diagnosis` (hanya 71 non-null dari 835 entri). Hal ini akan ditangani pada tahap pra-pemrosesan data."
   ]
  },
  {
   "cell_type": "markdown",
   "id": "35d75a0f",
   "metadata": {},
   "source": [
    "### 2. Data Understanding"
   ]
  },
  {
   "cell_type": "code",
   "execution_count": 108,
   "id": "770373ac",
   "metadata": {},
   "outputs": [],
   "source": [
    "import pandas as pd\n",
    "import matplotlib.pyplot as plt\n",
    "import seaborn as sns"
   ]
  },
  {
   "cell_type": "markdown",
   "id": "92821306",
   "metadata": {},
   "source": [
    "#### 2.1. Collect Data"
   ]
  },
  {
   "cell_type": "markdown",
   "id": "e05796b7",
   "metadata": {},
   "source": [
    "Pada tahap ini, kita mengidentifikasi dan mengumpulkan data dari sumber yang tersedia, seperti database, file (CSV, Excel), atau API. Dalam kasus deteksi dini kanker serviks, kita menggunakan dataset `cervical-cancer.xlsx` yang berisi 835 entri dan 36 kolom fitur, termasuk usia, jumlah pasangan seksual, riwayat kehamilan, status merokok, penggunaan kontrasepsi, dan hasil tes skrining (Hinselmann, Schiller, Citology, Biopsy). Data ini relevan karena mencakup faktor risiko kanker serviks dan hasil tes yang menjadi target prediksi."
   ]
  },
  {
   "cell_type": "code",
   "execution_count": 109,
   "id": "209031ec",
   "metadata": {},
   "outputs": [
    {
     "name": "stdout",
     "output_type": "stream",
     "text": [
      "<class 'pandas.core.frame.DataFrame'>\n",
      "RangeIndex: 835 entries, 0 to 834\n",
      "Data columns (total 36 columns):\n",
      " #   Column                              Non-Null Count  Dtype  \n",
      "---  ------                              --------------  -----  \n",
      " 0   Age                                 835 non-null    int64  \n",
      " 1   Number of sexual partners           810 non-null    float64\n",
      " 2   First sexual intercourse            828 non-null    float64\n",
      " 3   Num of pregnancies                  779 non-null    float64\n",
      " 4   Smokes                              822 non-null    float64\n",
      " 5   Smokes (years)                      822 non-null    float64\n",
      " 6   Smokes (packs/year)                 822 non-null    float64\n",
      " 7   Hormonal Contraceptives             732 non-null    float64\n",
      " 8   Hormonal Contraceptives (years)     732 non-null    float64\n",
      " 9   IUD                                 723 non-null    float64\n",
      " 10  IUD (years)                         723 non-null    float64\n",
      " 11  STDs                                735 non-null    float64\n",
      " 12  STDs (number)                       735 non-null    float64\n",
      " 13  STDs:condylomatosis                 735 non-null    float64\n",
      " 14  STDs:cervical condylomatosis        735 non-null    float64\n",
      " 15  STDs:vaginal condylomatosis         735 non-null    float64\n",
      " 16  STDs:vulvo-perineal condylomatosis  735 non-null    float64\n",
      " 17  STDs:syphilis                       735 non-null    float64\n",
      " 18  STDs:pelvic inflammatory disease    735 non-null    float64\n",
      " 19  STDs:genital herpes                 735 non-null    float64\n",
      " 20  STDs:molluscum contagiosum          735 non-null    float64\n",
      " 21  STDs:AIDS                           735 non-null    float64\n",
      " 22  STDs:HIV                            735 non-null    float64\n",
      " 23  STDs:Hepatitis B                    735 non-null    float64\n",
      " 24  STDs:HPV                            735 non-null    float64\n",
      " 25  STDs: Number of diagnosis           835 non-null    int64  \n",
      " 26  STDs: Time since first diagnosis    71 non-null     float64\n",
      " 27  STDs: Time since last diagnosis     71 non-null     float64\n",
      " 28  Dx:Cancer                           835 non-null    int64  \n",
      " 29  Dx:CIN                              835 non-null    int64  \n",
      " 30  Dx:HPV                              835 non-null    int64  \n",
      " 31  Dx                                  835 non-null    int64  \n",
      " 32  Hinselmann                          835 non-null    int64  \n",
      " 33  Schiller                            835 non-null    int64  \n",
      " 34  Citology                            835 non-null    int64  \n",
      " 35  Biopsy                              835 non-null    int64  \n",
      "dtypes: float64(26), int64(10)\n",
      "memory usage: 235.0 KB\n",
      "None\n"
     ]
    }
   ],
   "source": [
    "df = pd.read_excel('KK-UAS/data/cervical-cancer.xlsx')\n",
    "print(df.info())"
   ]
  },
  {
   "cell_type": "markdown",
   "id": "3c357f22",
   "metadata": {},
   "source": [
    "#### 2.2. Describe Data"
   ]
  },
  {
   "cell_type": "markdown",
   "id": "99aa307a",
   "metadata": {},
   "source": [
    "Kita memeriksa jumlah baris dan kolom, tipe data setiap kolom (numerik, kategorikal, dll.), serta statistik deskriptif seperti mean, median, mode, dan standar deviasi. Ini membantu kita memahami karakteristik dasar data sebelum analisis lebih lanjut."
   ]
  },
  {
   "cell_type": "code",
   "execution_count": 110,
   "id": "b76f66b3",
   "metadata": {},
   "outputs": [
    {
     "name": "stdout",
     "output_type": "stream",
     "text": [
      "Statistik Deskriptif:\n",
      "              Age  Number of sexual partners  First sexual intercourse  \\\n",
      "count  835.000000                 810.000000                828.000000   \n",
      "mean    27.023952                   2.551852                 17.020531   \n",
      "std      8.482986                   1.676686                  2.817000   \n",
      "min     13.000000                   1.000000                 10.000000   \n",
      "25%     21.000000                   2.000000                 15.000000   \n",
      "50%     26.000000                   2.000000                 17.000000   \n",
      "75%     32.000000                   3.000000                 18.000000   \n",
      "max     84.000000                  28.000000                 32.000000   \n",
      "\n",
      "       Num of pregnancies      Smokes  Smokes (years)  Smokes (packs/year)  \\\n",
      "count          779.000000  822.000000      822.000000           822.000000   \n",
      "mean             2.304236    0.149635        1.253850             0.465823   \n",
      "std              1.455817    0.356930        4.140727             2.256273   \n",
      "min              0.000000    0.000000        0.000000             0.000000   \n",
      "25%              1.000000    0.000000        0.000000             0.000000   \n",
      "50%              2.000000    0.000000        0.000000             0.000000   \n",
      "75%              3.000000    0.000000        0.000000             0.000000   \n",
      "max             11.000000    1.000000       37.000000            37.000000   \n",
      "\n",
      "       Hormonal Contraceptives  Hormonal Contraceptives (years)         IUD  \\\n",
      "count               732.000000                       732.000000  723.000000   \n",
      "mean                  0.651639                         2.302916    0.114799   \n",
      "std                   0.476777                         3.794180    0.319000   \n",
      "min                   0.000000                         0.000000    0.000000   \n",
      "25%                   0.000000                         0.000000    0.000000   \n",
      "50%                   1.000000                         0.500000    0.000000   \n",
      "75%                   1.000000                         3.000000    0.000000   \n",
      "max                   1.000000                        30.000000    1.000000   \n",
      "\n",
      "       ...  STDs: Time since first diagnosis  STDs: Time since last diagnosis  \\\n",
      "count  ...                         71.000000                        71.000000   \n",
      "mean   ...                          6.140845                         5.816901   \n",
      "std    ...                          5.895024                         5.755271   \n",
      "min    ...                          1.000000                         1.000000   \n",
      "25%    ...                          2.000000                         2.000000   \n",
      "50%    ...                          4.000000                         3.000000   \n",
      "75%    ...                          8.000000                         7.500000   \n",
      "max    ...                         22.000000                        22.000000   \n",
      "\n",
      "        Dx:Cancer      Dx:CIN      Dx:HPV          Dx  Hinselmann    Schiller  \\\n",
      "count  835.000000  835.000000  835.000000  835.000000  835.000000  835.000000   \n",
      "mean     0.021557    0.010778    0.021557    0.028743    0.041916    0.087425   \n",
      "std      0.145319    0.103320    0.145319    0.167182    0.200518    0.282626   \n",
      "min      0.000000    0.000000    0.000000    0.000000    0.000000    0.000000   \n",
      "25%      0.000000    0.000000    0.000000    0.000000    0.000000    0.000000   \n",
      "50%      0.000000    0.000000    0.000000    0.000000    0.000000    0.000000   \n",
      "75%      0.000000    0.000000    0.000000    0.000000    0.000000    0.000000   \n",
      "max      1.000000    1.000000    1.000000    1.000000    1.000000    1.000000   \n",
      "\n",
      "         Citology      Biopsy  \n",
      "count  835.000000  835.000000  \n",
      "mean     0.051497    0.064671  \n",
      "std      0.221142    0.246091  \n",
      "min      0.000000    0.000000  \n",
      "25%      0.000000    0.000000  \n",
      "50%      0.000000    0.000000  \n",
      "75%      0.000000    0.000000  \n",
      "max      1.000000    1.000000  \n",
      "\n",
      "[8 rows x 36 columns]\n"
     ]
    }
   ],
   "source": [
    "print(\"Statistik Deskriptif:\")\n",
    "print(df.describe())"
   ]
  },
  {
   "cell_type": "markdown",
   "id": "03f15753",
   "metadata": {},
   "source": [
    "#### 2.3. Explore Data"
   ]
  },
  {
   "cell_type": "markdown",
   "id": "4c7e4327",
   "metadata": {},
   "source": [
    "EDA melibatkan visualisasi data untuk memahami distribusi fitur, hubungan antar variabel, dan mendeteksi outlier. Alat visualisasi seperti histogram, box plot, dan scatter plot sangat membantu dalam tahap ini."
   ]
  },
  {
   "cell_type": "code",
   "execution_count": 111,
   "id": "bd0213c4",
   "metadata": {},
   "outputs": [
    {
     "data": {
      "image/png": "[encoded data removed]",
      "text/plain": [
       "<Figure size 800x500 with 1 Axes>"
      ]
     },
     "metadata": {},
     "output_type": "display_data"
    }
   ],
   "source": [
    "# Histogram untuk distribusi usia\n",
    "plt.figure(figsize=(8, 5))\n",
    "sns.histplot(df['Age'], bins=20, kde=True)\n",
    "plt.title('Distribusi Usia Pasien')\n",
    "plt.xlabel('Usia')\n",
    "plt.ylabel('Frekuensi')\n",
    "plt.show()"
   ]
  },
  {
   "cell_type": "code",
   "execution_count": 112,
   "id": "cb43e83c",
   "metadata": {},
   "outputs": [
    {
     "data": {
      "image/png": "[encoded data removed]",
      "text/plain": [
       "<Figure size 800x500 with 1 Axes>"
      ]
     },
     "metadata": {},
     "output_type": "display_data"
    }
   ],
   "source": [
    "# Box plot untuk mendeteksi outlier pada 'Number of sexual partners'\n",
    "plt.figure(figsize=(8, 5))\n",
    "sns.boxplot(x=df['Number of sexual partners'])\n",
    "plt.title('Box Plot Jumlah Pasangan Seksual')\n",
    "plt.xlabel('Jumlah Pasangan Seksual')\n",
    "plt.show()"
   ]
  },
  {
   "cell_type": "code",
   "execution_count": 113,
   "id": "8f845a99",
   "metadata": {},
   "outputs": [
    {
     "data": {
      "image/png": "[encoded data removed]",
      "text/plain": [
       "<Figure size 800x500 with 1 Axes>"
      ]
     },
     "metadata": {},
     "output_type": "display_data"
    }
   ],
   "source": [
    "# Scatter plot untuk hubungan antara 'Age' dan 'First sexual intercourse'\n",
    "plt.figure(figsize=(8, 5))\n",
    "sns.scatterplot(x='Age', y='First sexual intercourse', data=df)\n",
    "plt.title('Hubungan Usia dan Usia Pertama Berhubungan Seksual')\n",
    "plt.xlabel('Usia')\n",
    "plt.ylabel('Usia Pertama Berhubungan Seksual')\n",
    "plt.show()"
   ]
  },
  {
   "cell_type": "markdown",
   "id": "bc6a8462",
   "metadata": {},
   "source": [
    "- **Histogram**: Menunjukkan distribusi usia pasien, membantu kita melihat apakah data condong ke usia tertentu.  \n",
    "- **Box Plot**: Mengidentifikasi outlier pada jumlah pasangan seksual (nilai ekstrem di luar kuartil).  \n",
    "- **Scatter Plot**: Menampilkan hubungan antara usia dan usia pertama berhubungan seksual, yang bisa mengungkap pola tertentu."
   ]
  },
  {
   "cell_type": "markdown",
   "id": "56bcb911",
   "metadata": {},
   "source": [
    "#### 2.4. Verify Data Quality"
   ]
  },
  {
   "cell_type": "markdown",
   "id": "64f28025",
   "metadata": {},
   "source": [
    "Kualitas data sangat penting untuk keakuratan analisis atau model. Kita perlu memeriksa apakah ada nilai yang hilang (missing values), inkonsistensi (misalnya, usia negatif), atau outlier yang tidak masuk akal. Setelah itu, kita bisa memutuskan cara menanganinya (misalnya, imputasi atau penghapusan)."
   ]
  },
  {
   "cell_type": "code",
   "execution_count": 114,
   "id": "56fdf24f",
   "metadata": {},
   "outputs": [
    {
     "name": "stdout",
     "output_type": "stream",
     "text": [
      "Jumlah Missing Values per Kolom:\n",
      "Age                                     0\n",
      "Number of sexual partners              25\n",
      "First sexual intercourse                7\n",
      "Num of pregnancies                     56\n",
      "Smokes                                 13\n",
      "Smokes (years)                         13\n",
      "Smokes (packs/year)                    13\n",
      "Hormonal Contraceptives               103\n",
      "Hormonal Contraceptives (years)       103\n",
      "IUD                                   112\n",
      "IUD (years)                           112\n",
      "STDs                                  100\n",
      "STDs (number)                         100\n",
      "STDs:condylomatosis                   100\n",
      "STDs:cervical condylomatosis          100\n",
      "STDs:vaginal condylomatosis           100\n",
      "STDs:vulvo-perineal condylomatosis    100\n",
      "STDs:syphilis                         100\n",
      "STDs:pelvic inflammatory disease      100\n",
      "STDs:genital herpes                   100\n",
      "STDs:molluscum contagiosum            100\n",
      "STDs:AIDS                             100\n",
      "STDs:HIV                              100\n",
      "STDs:Hepatitis B                      100\n",
      "STDs:HPV                              100\n",
      "STDs: Number of diagnosis               0\n",
      "STDs: Time since first diagnosis      764\n",
      "STDs: Time since last diagnosis       764\n",
      "Dx:Cancer                               0\n",
      "Dx:CIN                                  0\n",
      "Dx:HPV                                  0\n",
      "Dx                                      0\n",
      "Hinselmann                              0\n",
      "Schiller                                0\n",
      "Citology                                0\n",
      "Biopsy                                  0\n",
      "dtype: int64\n"
     ]
    }
   ],
   "source": [
    "# Memeriksa missing values\n",
    "print(\"Jumlah Missing Values per Kolom:\")\n",
    "print(df.isnull().sum())"
   ]
  },
  {
   "cell_type": "code",
   "execution_count": 115,
   "id": "e345b447",
   "metadata": {},
   "outputs": [
    {
     "name": "stdout",
     "output_type": "stream",
     "text": [
      "Jumlah Baris dengan Usia Negatif:\n",
      "0\n"
     ]
    }
   ],
   "source": [
    "# Memeriksa inkonsistensi (usia negatif)\n",
    "print(\"Jumlah Baris dengan Usia Negatif:\")\n",
    "print((df['Age'] < 0).sum())"
   ]
  },
  {
   "cell_type": "code",
   "execution_count": 116,
   "id": "a0cc7302",
   "metadata": {},
   "outputs": [
    {
     "name": "stdout",
     "output_type": "stream",
     "text": [
      "Jumlah Baris dengan Usia di Atas 100 Tahun:\n",
      "0\n"
     ]
    }
   ],
   "source": [
    "# Memeriksa outlier (usia di atas 100)\n",
    "print(\"Jumlah Baris dengan Usia di Atas 100 Tahun:\")\n",
    "print((df['Age'] > 100).sum())"
   ]
  },
  {
   "cell_type": "markdown",
   "id": "46557031",
   "metadata": {},
   "source": [
    "- Jika ada missing values, kita bisa mengisi dengan mean/median atau menghapus baris yang bermasalah.  \n",
    "- Jika ada outlier, kita evaluasi apakah itu valid (misalnya, usia 90 masih mungkin) atau kesalahan (misalnya, usia 200)."
   ]
  },
  {
   "cell_type": "markdown",
   "id": "d273123b",
   "metadata": {},
   "source": [
    "### 3. Data Preparation"
   ]
  },
  {
   "cell_type": "code",
   "execution_count": 117,
   "id": "8ab0e4c2",
   "metadata": {},
   "outputs": [],
   "source": [
    "import pandas as pd\n",
    "from sklearn.preprocessing import StandardScaler\n",
    "from sklearn.feature_selection import SelectKBest, f_classif"
   ]
  },
  {
   "cell_type": "markdown",
   "id": "0cf3f47f",
   "metadata": {},
   "source": [
    "#### 3.1. Data Cleaning"
   ]
  },
  {
   "cell_type": "markdown",
   "id": "b152e310",
   "metadata": {},
   "source": [
    "- Menghapus kolom `STDs: Time since first diagnosis` dan `STDs: Time since last diagnosis` karena memiliki 91.5% data hilang (71 non-null dari 835 entri).\n",
    "- Mengisi missing values pada kolom numerik (`Number of sexual partners`, `Num of pregnancies`, `First sexual intercourse`) dengan median.\n",
    "- Mengisi missing values pada kolom kategorikal (`Hormonal` `Contraceptives`, `IUD, Smokes`) dengan modus.\n",
    "- Menghapus duplikat untuk memastikan data unik."
   ]
  },
  {
   "cell_type": "code",
   "execution_count": 118,
   "id": "decd394a",
   "metadata": {},
   "outputs": [
    {
     "name": "stdout",
     "output_type": "stream",
     "text": [
      "Missing values setelah cleaning:\n",
      " Age                                   0\n",
      "Number of sexual partners             0\n",
      "First sexual intercourse              0\n",
      "Num of pregnancies                    0\n",
      "Smokes                                0\n",
      "Smokes (years)                        0\n",
      "Smokes (packs/year)                   0\n",
      "Hormonal Contraceptives               0\n",
      "Hormonal Contraceptives (years)       0\n",
      "IUD                                   0\n",
      "IUD (years)                           0\n",
      "STDs                                  0\n",
      "STDs (number)                         0\n",
      "STDs:condylomatosis                   0\n",
      "STDs:cervical condylomatosis          0\n",
      "STDs:vaginal condylomatosis           0\n",
      "STDs:vulvo-perineal condylomatosis    0\n",
      "STDs:syphilis                         0\n",
      "STDs:pelvic inflammatory disease      0\n",
      "STDs:genital herpes                   0\n",
      "STDs:molluscum contagiosum            0\n",
      "STDs:AIDS                             0\n",
      "STDs:HIV                              0\n",
      "STDs:Hepatitis B                      0\n",
      "STDs:HPV                              0\n",
      "STDs: Number of diagnosis             0\n",
      "Dx:Cancer                             0\n",
      "Dx:CIN                                0\n",
      "Dx:HPV                                0\n",
      "Dx                                    0\n",
      "Hinselmann                            0\n",
      "Schiller                              0\n",
      "Citology                              0\n",
      "Biopsy                                0\n",
      "dtype: int64\n"
     ]
    }
   ],
   "source": [
    "# Menghapus kolom dengan missing values ekstrem (>90% hilang)\n",
    "df = df.drop(columns=['STDs: Time since first diagnosis', 'STDs: Time since last diagnosis'])\n",
    "\n",
    "# Mengisi missing values pada kolom numerik dengan median\n",
    "numeric_cols = ['Number of sexual partners', 'First sexual intercourse', 'Num of pregnancies',\n",
    "                'Smokes (years)', 'Smokes (packs/year)', 'Hormonal Contraceptives (years)', \n",
    "                'IUD (years)']\n",
    "for col in numeric_cols:\n",
    "    df[col] = df[col].fillna(df[col].median())\n",
    "\n",
    "# Mengisi missing values pada kolom kategorikal dengan modus\n",
    "categorical_cols = ['Smokes', 'Hormonal Contraceptives', 'IUD', 'STDs', 'STDs (number)', \n",
    "                    'STDs:condylomatosis', 'STDs:cervical condylomatosis', \n",
    "                    'STDs:vaginal condylomatosis', 'STDs:vulvo-perineal condylomatosis', \n",
    "                    'STDs:syphilis', 'STDs:pelvic inflammatory disease', 'STDs:genital herpes', \n",
    "                    'STDs:molluscum contagiosum', 'STDs:AIDS', 'STDs:HIV', 'STDs:Hepatitis B', \n",
    "                    'STDs:HPV']\n",
    "for col in categorical_cols:\n",
    "    df[col] = df[col].fillna(df[col].mode()[0])\n",
    "\n",
    "# Memeriksa missing values yang tersisa\n",
    "print(\"Missing values setelah cleaning:\\n\", df.isnull().sum())"
   ]
  },
  {
   "cell_type": "markdown",
   "id": "9ca69688",
   "metadata": {},
   "source": [
    "#### 3.2 Data Transformation"
   ]
  },
  {
   "cell_type": "markdown",
   "id": "e247725c",
   "metadata": {},
   "source": [
    "- Kolom numerik (`Age`,` Number of sexual partners`, `First sexual intercourse`, `Num of pregnancies`) distandarisasi menggunakan `StandardScaler` agar memiliki mean=0 dan standar deviasi=1.\n",
    "- Kolom kategorikal seperti `Smokes`, `Hormonal Contraceptives`, dan `IUD` sudah dalam format numerik (0/1), sehingga tidak perlu encoding tambahan."
   ]
  },
  {
   "cell_type": "code",
   "execution_count": 119,
   "id": "bb11a8b1",
   "metadata": {},
   "outputs": [
    {
     "name": "stdout",
     "output_type": "stream",
     "text": [
      "Data setelah standarisasi:\n",
      "         Age  Number of sexual partners  First sexual intercourse  \\\n",
      "0 -1.064408                   0.886040                 -0.720663   \n",
      "1 -1.418269                  -0.928784                 -1.077363   \n",
      "2  0.822850                  -0.928784                 -0.007262   \n",
      "3  2.946016                   1.490981                 -0.363962   \n",
      "4  2.238294                   0.281098                  1.419539   \n",
      "\n",
      "   Num of pregnancies  \n",
      "0           -0.912261  \n",
      "1           -0.912261  \n",
      "2           -0.912261  \n",
      "3            1.219468  \n",
      "4            1.219468  \n"
     ]
    }
   ],
   "source": [
    "# Memilih kolom numerik untuk standarisasi\n",
    "numeric_cols = ['Age', 'Number of sexual partners', 'First sexual intercourse', 'Num of pregnancies']\n",
    "\n",
    "# Melakukan standarisasi\n",
    "scaler = StandardScaler()\n",
    "df[numeric_cols] = scaler.fit_transform(df[numeric_cols])\n",
    "\n",
    "# Menampilkan data setelah transformasi\n",
    "print(\"Data setelah standarisasi:\\n\", df[numeric_cols].head())"
   ]
  },
  {
   "cell_type": "markdown",
   "id": "d26b87d6",
   "metadata": {},
   "source": [
    "#### 3.3 Data Integration"
   ]
  },
  {
   "cell_type": "markdown",
   "id": "dd03579c",
   "metadata": {},
   "source": [
    "Dataset hanya berasal dari satu sumber (cervical-cancer.xlsx), sehingga tidak ada integrasi data"
   ]
  },
  {
   "cell_type": "markdown",
   "id": "48eae7fd",
   "metadata": {},
   "source": [
    "#### 3.4 Data Reduction"
   ]
  },
  {
   "cell_type": "markdown",
   "id": "f9026da3",
   "metadata": {},
   "source": [
    "- Menggunakan `SelectKBest` dengan metode `f_classif` untuk memilih 10 fitur terbaik yang berkorelasi dengan target `Biopsy`.\n",
    "- Dataset direduksi menjadi hanya fitur terpilih ditambah kolom target."
   ]
  },
  {
   "cell_type": "code",
   "execution_count": 120,
   "id": "0dc4ad6f",
   "metadata": {},
   "outputs": [
    {
     "name": "stdout",
     "output_type": "stream",
     "text": [
      "Fitur konstan yang dihapus: ['STDs:cervical condylomatosis', 'STDs:AIDS']\n"
     ]
    }
   ],
   "source": [
    "# Memisahkan fitur dan target\n",
    "X = df.drop(columns=['Biopsy'])\n",
    "y = df['Biopsy']\n",
    "\n",
    "# Menghapus fitur yang konstan\n",
    "constant_features = [col for col in X.columns if X[col].nunique() <= 1]\n",
    "X = X.drop(columns=constant_features)\n",
    "\n",
    "# Menampilkan fitur yang dihapus (opsional)\n",
    "print(f\"Fitur konstan yang dihapus: {constant_features}\")\n"
   ]
  },
  {
   "cell_type": "code",
   "execution_count": 121,
   "id": "3e908a03",
   "metadata": {},
   "outputs": [
    {
     "name": "stdout",
     "output_type": "stream",
     "text": [
      "Fitur terpilih: ['STDs', 'STDs:genital herpes', 'STDs:HIV', 'Dx:Cancer', 'Dx:CIN', 'Dx:HPV', 'Dx', 'Hinselmann', 'Schiller', 'Citology']\n"
     ]
    }
   ],
   "source": [
    "# Seleksi 10 fitur terbaik berdasarkan korelasi dengan target\n",
    "selector = SelectKBest(score_func=f_classif, k=10)\n",
    "X_reduced = selector.fit_transform(X, y)\n",
    "\n",
    "# Mendapatkan nama fitur yang terpilih\n",
    "selected_features = X.columns[selector.get_support()].tolist()\n",
    "print(\"Fitur terpilih:\", selected_features)"
   ]
  },
  {
   "cell_type": "code",
   "execution_count": 122,
   "id": "37622a82",
   "metadata": {},
   "outputs": [
    {
     "name": "stdout",
     "output_type": "stream",
     "text": [
      "Dataset setelah reduksi:\n",
      "    STDs  STDs:genital herpes  STDs:HIV  Dx:Cancer  Dx:CIN  Dx:HPV   Dx  \\\n",
      "0   0.0                  0.0       0.0        0.0     0.0     0.0  0.0   \n",
      "1   0.0                  0.0       0.0        0.0     0.0     0.0  0.0   \n",
      "2   0.0                  0.0       0.0        0.0     0.0     0.0  0.0   \n",
      "3   0.0                  0.0       0.0        1.0     0.0     1.0  0.0   \n",
      "4   0.0                  0.0       0.0        0.0     0.0     0.0  0.0   \n",
      "\n",
      "   Hinselmann  Schiller  Citology  Biopsy  \n",
      "0         0.0       0.0       0.0       0  \n",
      "1         0.0       0.0       0.0       0  \n",
      "2         0.0       0.0       0.0       0  \n",
      "3         0.0       0.0       0.0       0  \n",
      "4         0.0       0.0       0.0       0  \n"
     ]
    }
   ],
   "source": [
    "# Membuat DataFrame baru dengan fitur terpilih\n",
    "df_reduced = pd.DataFrame(X_reduced, columns=selected_features)\n",
    "df_reduced['Biopsy'] = y\n",
    "\n",
    "# Menampilkan dataset setelah reduksi\n",
    "print(\"Dataset setelah reduksi:\\n\", df_reduced.head())"
   ]
  },
  {
   "cell_type": "markdown",
   "id": "d071bf73",
   "metadata": {},
   "source": [
    "### 4. Modeling"
   ]
  },
  {
   "cell_type": "markdown",
   "id": "d629efa9",
   "metadata": {},
   "source": [
    "#### 4.1. Modeling Techniques"
   ]
  },
  {
   "cell_type": "markdown",
   "id": "cb777859",
   "metadata": {},
   "source": [
    "Memilih algoritma yang sesuai berdasarkan masalahnya (classification, regression, clustering).  \n",
    "Dalam kasus ini, kita memiliki masalah klasifikasi biner (Biopsy: 0 atau 1).\n",
    "Algoritma yang dipilih:\n",
    "- Naive Bayes: Sederhana, cepat, dan cocok untuk data berdimensi tinggi.\n",
    "- Artificial Neural Network (ANN): Mampu menangkap hubungan non-linear yang kompleks."
   ]
  },
  {
   "cell_type": "code",
   "execution_count": 123,
   "id": "c29023a5",
   "metadata": {},
   "outputs": [],
   "source": [
    "from sklearn.naive_bayes import GaussianNB\n",
    "from sklearn.neural_network import MLPClassifier\n",
    "from sklearn.model_selection import train_test_split, GridSearchCV\n",
    "from sklearn.metrics import classification_report, accuracy_score\n",
    "import pandas as pd"
   ]
  },
  {
   "cell_type": "markdown",
   "id": "2f7fcf8c",
   "metadata": {},
   "source": [
    "#### 4.2. Build Models"
   ]
  },
  {
   "cell_type": "code",
   "execution_count": 124,
   "id": "e1d11857",
   "metadata": {},
   "outputs": [
    {
     "data": {
      "text/html": [
       "<style>#sk-container-id-1 {color: black;background-color: white;}#sk-container-id-1 pre{padding: 0;}#sk-container-id-1 div.sk-toggleable {background-color: white;}#sk-container-id-1 label.sk-toggleable__label {cursor: pointer;display: block;width: 100%;margin-bottom: 0;padding: 0.3em;box-sizing: border-box;text-align: center;}#sk-container-id-1 label.sk-toggleable__label-arrow:before {content: \"▸\";float: left;margin-right: 0.25em;color: #696969;}#sk-container-id-1 label.sk-toggleable__label-arrow:hover:before {color: black;}#sk-container-id-1 div.sk-estimator:hover label.sk-toggleable__label-arrow:before {color: black;}#sk-container-id-1 div.sk-toggleable__content {max-height: 0;max-width: 0;overflow: hidden;text-align: left;background-color: #f0f8ff;}#sk-container-id-1 div.sk-toggleable__content pre {margin: 0.2em;color: black;border-radius: 0.25em;background-color: #f0f8ff;}#sk-container-id-1 input.sk-toggleable__control:checked~div.sk-toggleable__content {max-height: 200px;max-width: 100%;overflow: auto;}#sk-container-id-1 input.sk-toggleable__control:checked~label.sk-toggleable__label-arrow:before {content: \"▾\";}#sk-container-id-1 div.sk-estimator input.sk-toggleable__control:checked~label.sk-toggleable__label {background-color: #d4ebff;}#sk-container-id-1 div.sk-label input.sk-toggleable__control:checked~label.sk-toggleable__label {background-color: #d4ebff;}#sk-container-id-1 input.sk-hidden--visually {border: 0;clip: rect(1px 1px 1px 1px);clip: rect(1px, 1px, 1px, 1px);height: 1px;margin: -1px;overflow: hidden;padding: 0;position: absolute;width: 1px;}#sk-container-id-1 div.sk-estimator {font-family: monospace;background-color: #f0f8ff;border: 1px dotted black;border-radius: 0.25em;box-sizing: border-box;margin-bottom: 0.5em;}#sk-container-id-1 div.sk-estimator:hover {background-color: #d4ebff;}#sk-container-id-1 div.sk-parallel-item::after {content: \"\";width: 100%;border-bottom: 1px solid gray;flex-grow: 1;}#sk-container-id-1 div.sk-label:hover label.sk-toggleable__label {background-color: #d4ebff;}#sk-container-id-1 div.sk-serial::before {content: \"\";position: absolute;border-left: 1px solid gray;box-sizing: border-box;top: 0;bottom: 0;left: 50%;z-index: 0;}#sk-container-id-1 div.sk-serial {display: flex;flex-direction: column;align-items: center;background-color: white;padding-right: 0.2em;padding-left: 0.2em;position: relative;}#sk-container-id-1 div.sk-item {position: relative;z-index: 1;}#sk-container-id-1 div.sk-parallel {display: flex;align-items: stretch;justify-content: center;background-color: white;position: relative;}#sk-container-id-1 div.sk-item::before, #sk-container-id-1 div.sk-parallel-item::before {content: \"\";position: absolute;border-left: 1px solid gray;box-sizing: border-box;top: 0;bottom: 0;left: 50%;z-index: -1;}#sk-container-id-1 div.sk-parallel-item {display: flex;flex-direction: column;z-index: 1;position: relative;background-color: white;}#sk-container-id-1 div.sk-parallel-item:first-child::after {align-self: flex-end;width: 50%;}#sk-container-id-1 div.sk-parallel-item:last-child::after {align-self: flex-start;width: 50%;}#sk-container-id-1 div.sk-parallel-item:only-child::after {width: 0;}#sk-container-id-1 div.sk-dashed-wrapped {border: 1px dashed gray;margin: 0 0.4em 0.5em 0.4em;box-sizing: border-box;padding-bottom: 0.4em;background-color: white;}#sk-container-id-1 div.sk-label label {font-family: monospace;font-weight: bold;display: inline-block;line-height: 1.2em;}#sk-container-id-1 div.sk-label-container {text-align: center;}#sk-container-id-1 div.sk-container {/* jupyter's `normalize.less` sets `[hidden] { display: none; }` but bootstrap.min.css set `[hidden] { display: none !important; }` so we also need the `!important` here to be able to override the default hidden behavior on the sphinx rendered scikit-learn.org. See: https://github.com/scikit-learn/scikit-learn/issues/21755 */display: inline-block !important;position: relative;}#sk-container-id-1 div.sk-text-repr-fallback {display: none;}</style><div id=\"sk-container-id-1\" class=\"sk-top-container\"><div class=\"sk-text-repr-fallback\"><pre>MLPClassifier(hidden_layer_sizes=(10, 5), max_iter=1000, random_state=42)</pre><b>In a Jupyter environment, please rerun this cell to show the HTML representation or trust the notebook. <br />On GitHub, the HTML representation is unable to render, please try loading this page with nbviewer.org.</b></div><div class=\"sk-container\" hidden><div class=\"sk-item\"><div class=\"sk-estimator sk-toggleable\"><input class=\"sk-toggleable__control sk-hidden--visually\" id=\"sk-estimator-id-1\" type=\"checkbox\" checked><label for=\"sk-estimator-id-1\" class=\"sk-toggleable__label sk-toggleable__label-arrow\">MLPClassifier</label><div class=\"sk-toggleable__content\"><pre>MLPClassifier(hidden_layer_sizes=(10, 5), max_iter=1000, random_state=42)</pre></div></div></div></div></div>"
      ],
      "text/plain": [
       "MLPClassifier(hidden_layer_sizes=(10, 5), max_iter=1000, random_state=42)"
      ]
     },
     "execution_count": 124,
     "metadata": {},
     "output_type": "execute_result"
    }
   ],
   "source": [
    "# Melatih model menggunakan data yang telah disiapkan.\n",
    "\n",
    "# Memisahkan fitur dan target\n",
    "X = df_reduced.drop(columns=['Biopsy'])\n",
    "y = df_reduced['Biopsy']\n",
    "\n",
    "# Membagi data menjadi training set (80%) dan testing set (20%)\n",
    "X_train, X_test, y_train, y_test = train_test_split(X, y, test_size=0.2, random_state=42)\n",
    "\n",
    "# Melatih model Naive Bayes\n",
    "nb_model = GaussianNB()\n",
    "nb_model.fit(X_train, y_train)\n",
    "\n",
    "# Melatih model ANN dengan konfigurasi awal\n",
    "ann_model = MLPClassifier(hidden_layer_sizes=(10, 5), max_iter=1000, random_state=42)\n",
    "ann_model.fit(X_train, y_train)"
   ]
  },
  {
   "cell_type": "markdown",
   "id": "b61f53a5",
   "metadata": {},
   "source": [
    "#### 4.3. Tune Models"
   ]
  },
  {
   "cell_type": "code",
   "execution_count": 125,
   "id": "0037cdb7",
   "metadata": {},
   "outputs": [],
   "source": [
    "# Mengoptimalkan parameter model untuk meningkatkan kinerja.\n",
    "\n",
    "# Naive Bayes tidak memerlukan banyak tuning, jadi kita fokus pada ANN.\n",
    "# Menggunakan GridSearchCV untuk mencari parameter terbaik untuk ANN\n",
    "param_grid = {\n",
    "    'hidden_layer_sizes': [(10,), (10, 5), (20, 10)],\n",
    "    'learning_rate_init': [0.001, 0.01, 0.1]\n",
    "}\n",
    "\n",
    "# Melakukan grid search dengan cross-validation\n",
    "grid_search = GridSearchCV(MLPClassifier(max_iter=1000, random_state=42), param_grid, cv=3)\n",
    "grid_search.fit(X_train, y_train)\n",
    "\n",
    "# Mengambil model ANN terbaik\n",
    "best_ann_model = grid_search.best_estimator_"
   ]
  },
  {
   "cell_type": "markdown",
   "id": "526e6777",
   "metadata": {},
   "source": [
    "#### 4.4. Validate Models"
   ]
  },
  {
   "cell_type": "code",
   "execution_count": 126,
   "id": "ce2dd1e8",
   "metadata": {},
   "outputs": [
    {
     "name": "stdout",
     "output_type": "stream",
     "text": [
      "Evaluasi Naive Bayes:\n",
      "              precision    recall  f1-score   support\n",
      "\n",
      "           0       0.97      0.96      0.96       157\n",
      "           1       0.46      0.60      0.52        10\n",
      "\n",
      "    accuracy                           0.93       167\n",
      "   macro avg       0.72      0.78      0.74       167\n",
      "weighted avg       0.94      0.93      0.94       167\n",
      "\n",
      "Akurasi Naive Bayes: 0.9341317365269461\n",
      "Evaluasi ANN:\n",
      "              precision    recall  f1-score   support\n",
      "\n",
      "           0       0.97      0.97      0.97       157\n",
      "           1       0.55      0.60      0.57        10\n",
      "\n",
      "    accuracy                           0.95       167\n",
      "   macro avg       0.76      0.78      0.77       167\n",
      "weighted avg       0.95      0.95      0.95       167\n",
      "\n",
      "Akurasi ANN: 0.9461077844311377\n"
     ]
    }
   ],
   "source": [
    "# Menguji model pada data yang tidak terlihat untuk memastikan generalisasi yang baik.\n",
    "\n",
    "# Prediksi dengan Naive Bayes\n",
    "nb_pred = nb_model.predict(X_test)\n",
    "\n",
    "# Prediksi dengan ANN terbaik\n",
    "ann_pred = best_ann_model.predict(X_test)\n",
    "\n",
    "# Evaluasi performa Naive Bayes\n",
    "print(\"Evaluasi Naive Bayes:\")\n",
    "print(classification_report(y_test, nb_pred))\n",
    "print(\"Akurasi Naive Bayes:\", accuracy_score(y_test, nb_pred))\n",
    "\n",
    "# Evaluasi performa ANN\n",
    "print(\"Evaluasi ANN:\")\n",
    "print(classification_report(y_test, ann_pred))\n",
    "print(\"Akurasi ANN:\", accuracy_score(y_test, ann_pred))"
   ]
  },
  {
   "cell_type": "markdown",
   "id": "65cdaa8f",
   "metadata": {},
   "source": [
    "### 5. Evaluation"
   ]
  },
  {
   "cell_type": "markdown",
   "id": "5d7e0b28",
   "metadata": {},
   "source": [
    "### 6. Deployment"
   ]
  }
 ],
 "metadata": {
  "kernelspec": {
   "display_name": ".venv",
   "language": "python",
   "name": "python3"
  },
  "language_info": {
   "codemirror_mode": {
    "name": "ipython",
    "version": 3
   },
   "file_extension": ".py",
   "mimetype": "text/x-python",
   "name": "python",
   "nbconvert_exporter": "python",
   "pygments_lexer": "ipython3",
   "version": "3.12.6"
  }
 },
 "nbformat": 4,
 "nbformat_minor": 5
}
