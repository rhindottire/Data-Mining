{
  "cells": [
    {
      "cell_type": "markdown",
      "metadata": {
        "id": "i4Sh7PfLz3Kk"
      },
      "source": [
        "Tentu, saya akan menyusun kerangka file `.ipynb` lengkap dengan kode Python dan penjelasan Markdown sesuai permintaan Anda, dengan memperbaiki urutan langkah-langkah prapemrosesan dan mengintegrasikannya ke dalam proses data mining CRISP-DM.\n",
        "\n",
        "Harap diingat bahwa ini adalah **kerangka**. Anda perlu menjalankan kode ini di lingkungan Jupyter Notebook Anda sendiri dan mungkin perlu menyesuaikan path file, nama kolom (jika ada sedikit perbedaan dalam dataset Anda), dan interpretasi berdasarkan output aktual yang Anda dapatkan."
      ]
    },
    {
      "cell_type": "code",
      "execution_count": 21,
      "metadata": {
        "id": "TT7Z09Cbz3Kl"
      },
      "outputs": [],
      "source": [
        "# Impor pustaka yang diperlukan di awal\n",
        "import pandas as pd\n",
        "import numpy as np\n",
        "import matplotlib.pyplot as plt\n",
        "import seaborn as sns\n",
        "from sklearn.model_selection import train_test_split, cross_val_score, GridSearchCV\n",
        "from sklearn.preprocessing import StandardScaler\n",
        "from sklearn.impute import SimpleImputer\n",
        "from imblearn.over_sampling import SMOTE\n",
        "from sklearn.naive_bayes import GaussianNB\n",
        "from sklearn.linear_model import LogisticRegression\n",
        "from sklearn.metrics import accuracy_score, precision_score, recall_score, f1_score, roc_auc_score, confusion_matrix, classification_report\n",
        "import warnings\n",
        "warnings.filterwarnings('ignore')\n",
        "\n",
        "# Atur beberapa opsi tampilan pandas untuk output yang lebih baik\n",
        "pd.set_option('display.max_columns', None)\n",
        "pd.set_option('display.max_rows', 100)"
      ]
    },
    {
      "cell_type": "markdown",
      "metadata": {
        "id": "Ti3t130Hz3Kn"
      },
      "source": [
        "# Analisis Performa Metode Naive Bayes dan Logistic Regression dalam Deteksi Dini Kanker Serviks\n",
        "\n",
        "## Business Understanding\n",
        "\n",
        "### Define the Problem\n",
        "Kanker serviks merupakan salah satu penyebab utama kematian akibat kanker pada wanita di seluruh dunia, terutama di negara berkembang. [1, 2] Deteksi dini secara signifikan meningkatkan prognosis dan tingkat kelangsungan hidup. [3, 4] Tantangan utama adalah mengidentifikasi individu yang berisiko tinggi secara akurat dan efisien, terutama di daerah dengan sumber daya terbatas. Proyek ini bertujuan untuk mengembangkan dan membandingkan model pembelajaran mesin yang dapat membantu dalam deteksi dini kanker serviks berdasarkan faktor risiko yang diketahui.\n",
        "\n",
        "#### Urgensi Deteksi Dini Kanker Serviks\n",
        "Kanker serviks seringkali tidak menunjukkan gejala pada tahap awal, sehingga skrining dan deteksi dini menjadi sangat krusial. [5] Ketika terdeteksi pada stadium lanjut, pengobatan menjadi lebih kompleks dan tingkat keberhasilannya menurun. Program deteksi dini yang efektif dapat mengurangi angka kesakitan dan kematian akibat penyakit ini. [1]\n",
        "\n",
        "#### Alasan Pemilihan Naive Bayes dan Logistic Regression\n",
        "*   **Naive Bayes:** Merupakan algoritma klasifikasi probabilistik yang sederhana, cepat, dan seringkali memberikan performa yang baik sebagai *baseline*, terutama pada dataset dengan dimensi yang tidak terlalu besar. Asumsi independensi fiturnya, meskipun seringkali tidak sepenuhnya terpenuhi di dunia nyata, dapat bekerja dengan baik dalam praktiknya. [2]\n",
        "*   **Regresi Logistik:** Adalah model linear yang mapan untuk masalah klasifikasi biner. Keunggulan utamanya adalah interpretabilitas koefisiennya, yang memungkinkan kita memahami bagaimana setiap faktor risiko berkontribusi terhadap kemungkinan kanker serviks. Ini penting dalam konteks medis untuk memberikan wawasan yang dapat ditindaklanjuti. [2]\n",
        "Kedua model ini relatif mudah diimplementasikan dan dipahami, menjadikannya pilihan yang baik untuk analisis awal dan perbandingan performa dalam konteks deteksi dini.\n",
        "\n",
        "### Set Objectives\n",
        "1.  Mengembangkan model prediksi menggunakan algoritma Naive Bayes untuk deteksi dini kanker serviks.\n",
        "2.  Mengembangkan model prediksi menggunakan algoritma Regresi Logistik untuk deteksi dini kanker serviks.\n",
        "3.  Mengevaluasi dan membandingkan performa kedua model berdasarkan metrik yang relevan (misalnya, recall, precision, F1-score, AUC-ROC).\n",
        "4.  Mengidentifikasi faktor-faktor risiko yang paling signifikan menurut model yang dikembangkan (khususnya dari Regresi Logistik).\n",
        "5.  Memberikan rekomendasi berdasarkan temuan untuk potensi penggunaan model dalam skrining awal atau sebagai alat bantu keputusan klinis.\n",
        "\n",
        "### Identify Stakeholders\n",
        "*   **Tenaga Medis (Dokter, Perawat, Petugas Kesehatan Masyarakat):** Dapat menggunakan model sebagai alat bantu untuk skrining awal, identifikasi pasien berisiko tinggi yang memerlukan pemeriksaan lebih lanjut, dan edukasi pasien.\n",
        "*   **Pasien:** Mendapatkan manfaat dari potensi deteksi dini yang dapat meningkatkan hasil pengobatan dan kualitas hidup.\n",
        "*   **Peneliti (Bidang Medis dan Ilmu Data):** Mendapatkan wawasan lebih lanjut mengenai faktor risiko, efektivitas model prediktif, dan area penelitian selanjutnya.\n",
        "*   **Pembuat Kebijakan Kesehatan & Institusi Kesehatan:** Dapat menggunakan hasil penelitian untuk merancang program skrining yang lebih efektif, alokasi sumber daya yang lebih baik, dan kebijakan kesehatan masyarakat terkait pencegahan kanker serviks.\n",
        "\n",
        "### Define Success Criteria\n",
        "Keberhasilan proyek akan diukur berdasarkan kriteria berikut, dengan penekanan pada aspek klinis deteksi dini:\n",
        "*   **Recall (Sensitivitas) Model:** Target utama adalah mencapai recall **minimal 80%** untuk kelas positif (kanker serviks). Ini sangat penting untuk meminimalkan kasus *false negative* (pasien dengan kanker tidak terdeteksi), karena konsekuensi dari diagnosis yang terlewat sangat serius. [2]\n",
        "*   **AUC-ROC (Area Under the Receiver Operating Characteristic Curve):** Target AUC-ROC **minimal 0.75**, yang menunjukkan kemampuan model yang baik dalam membedakan antara pasien dengan dan tanpa kanker serviks di berbagai ambang batas klasifikasi.\n",
        "*   **Precision:** Meskipun recall adalah prioritas, precision yang memadai (misalnya, >50-60%) juga penting untuk mengurangi jumlah *false positive* (pasien sehat diprediksi kanker) yang dapat menyebabkan kecemasan, biaya tes lanjutan yang tidak perlu, dan beban pada sistem kesehatan.\n",
        "*   **F1-Score:** Sebagai ukuran keseimbangan antara recall dan precision, memberikan gambaran performa model secara keseluruhan.\n",
        "*   **Interpretability:** Kemampuan untuk menginterpretasikan faktor-faktor yang mempengaruhi prediksi model, terutama dari Regresi Logistik, untuk memberikan wawasan klinis yang berguna.\n",
        "\n",
        "## Data Understanding\n",
        "\n",
        "### Collect Data\n",
        "Dataset yang digunakan adalah \"Cervical Cancer (Risk Factors) Data Set\" dari UCI Machine Learning Repository. Dataset ini dikumpulkan di 'Hospital Universitario de Caracas' di Caracas, Venezuela. Dataset ini mencakup informasi demografi, kebiasaan (seperti merokok), riwayat medis (termasuk riwayat kontrasepsi dan Penyakit Menular Seksual/PMS), serta hasil dari berbagai tes diagnostik untuk kanker serviks. [1, 2] Dataset ini umumnya memiliki sekitar 858 sampel dan 36 fitur. [2] Untuk analisis ini, kita akan mengasumsikan data disimpan dalam file CSV bernama `risk_factors_cervical_cancer.csv`."
      ]
    },
    {
      "cell_type": "code",
      "execution_count": 22,
      "metadata": {
        "id": "jmItTYgIz3Kn"
      },
      "outputs": [
        {
          "name": "stdout",
          "output_type": "stream",
          "text": [
            "Dataset berhasil dimuat.\n",
            "Jumlah baris awal: (835, 36), Jumlah kolom awal: 36\n"
          ]
        }
      ],
      "source": [
        "# Muat dataset\n",
        "try:\n",
        "    df_raw = pd.read_excel('KK/cervical-cancer.xlsx')\n",
        "    print(\"Dataset berhasil dimuat.\")\n",
        "    print(f\"Jumlah baris awal: {df_raw.shape}, Jumlah kolom awal: {df_raw.shape[1]}\")\n",
        "except FileNotFoundError:\n",
        "    print(\"File dataset 'KK/cervical-cancer.xlsx' tidak ditemukan. Pastikan path file benar.\")\n",
        "    df_raw = pd.DataFrame()"
      ]
    },
    {
      "cell_type": "markdown",
      "metadata": {
        "id": "H1ywIozgz3Ko"
      },
      "source": [
        "### Describe Data\n",
        "Langkah ini melibatkan pemahaman awal terhadap struktur dan isi dataset. Kita akan melihat tipe data setiap kolom, jumlah entri, dan statistik deskriptif dasar."
      ]
    },
    {
      "cell_type": "code",
      "execution_count": 23,
      "metadata": {
        "id": "CUCiUQTez3Ko"
      },
      "outputs": [
        {
          "name": "stdout",
          "output_type": "stream",
          "text": [
            "\n",
            "Informasi Dataset Awal:\n",
            "<class 'pandas.core.frame.DataFrame'>\n",
            "RangeIndex: 835 entries, 0 to 834\n",
            "Data columns (total 36 columns):\n",
            " #   Column                              Non-Null Count  Dtype  \n",
            "---  ------                              --------------  -----  \n",
            " 0   Age                                 835 non-null    int64  \n",
            " 1   Number of sexual partners           810 non-null    float64\n",
            " 2   First sexual intercourse            828 non-null    float64\n",
            " 3   Num of pregnancies                  779 non-null    float64\n",
            " 4   Smokes                              822 non-null    float64\n",
            " 5   Smokes (years)                      822 non-null    float64\n",
            " 6   Smokes (packs/year)                 822 non-null    float64\n",
            " 7   Hormonal Contraceptives             732 non-null    float64\n",
            " 8   Hormonal Contraceptives (years)     732 non-null    float64\n",
            " 9   IUD                                 723 non-null    float64\n",
            " 10  IUD (years)                         723 non-null    float64\n",
            " 11  STDs                                735 non-null    float64\n",
            " 12  STDs (number)                       735 non-null    float64\n",
            " 13  STDs:condylomatosis                 735 non-null    float64\n",
            " 14  STDs:cervical condylomatosis        735 non-null    float64\n",
            " 15  STDs:vaginal condylomatosis         735 non-null    float64\n",
            " 16  STDs:vulvo-perineal condylomatosis  735 non-null    float64\n",
            " 17  STDs:syphilis                       735 non-null    float64\n",
            " 18  STDs:pelvic inflammatory disease    735 non-null    float64\n",
            " 19  STDs:genital herpes                 735 non-null    float64\n",
            " 20  STDs:molluscum contagiosum          735 non-null    float64\n",
            " 21  STDs:AIDS                           735 non-null    float64\n",
            " 22  STDs:HIV                            735 non-null    float64\n",
            " 23  STDs:Hepatitis B                    735 non-null    float64\n",
            " 24  STDs:HPV                            735 non-null    float64\n",
            " 25  STDs: Number of diagnosis           835 non-null    int64  \n",
            " 26  STDs: Time since first diagnosis    71 non-null     float64\n",
            " 27  STDs: Time since last diagnosis     71 non-null     float64\n",
            " 28  Dx:Cancer                           835 non-null    int64  \n",
            " 29  Dx:CIN                              835 non-null    int64  \n",
            " 30  Dx:HPV                              835 non-null    int64  \n",
            " 31  Dx                                  835 non-null    int64  \n",
            " 32  Hinselmann                          835 non-null    int64  \n",
            " 33  Schiller                            835 non-null    int64  \n",
            " 34  Citology                            835 non-null    int64  \n",
            " 35  Biopsy                              835 non-null    int64  \n",
            "dtypes: float64(26), int64(10)\n",
            "memory usage: 235.0 KB\n",
            "\n",
            "Statistik Deskriptif (untuk kolom numerik setelah konversi awal '?' ke NaN):\n",
            "                                    count       mean       std   min   25%  \\\n",
            "Age                                 835.0  27.023952  8.482986  13.0  21.0   \n",
            "Number of sexual partners           810.0   2.551852  1.676686   1.0   2.0   \n",
            "First sexual intercourse            828.0  17.020531  2.817000  10.0  15.0   \n",
            "Num of pregnancies                  779.0   2.304236  1.455817   0.0   1.0   \n",
            "Smokes                              822.0   0.149635  0.356930   0.0   0.0   \n",
            "Smokes (years)                      822.0   1.253850  4.140727   0.0   0.0   \n",
            "Smokes (packs/year)                 822.0   0.465823  2.256273   0.0   0.0   \n",
            "Hormonal Contraceptives             732.0   0.651639  0.476777   0.0   0.0   \n",
            "Hormonal Contraceptives (years)     732.0   2.302916  3.794180   0.0   0.0   \n",
            "IUD                                 723.0   0.114799  0.319000   0.0   0.0   \n",
            "IUD (years)                         723.0   0.527621  1.965439   0.0   0.0   \n",
            "STDs                                735.0   0.107483  0.309937   0.0   0.0   \n",
            "STDs (number)                       735.0   0.180952  0.568153   0.0   0.0   \n",
            "STDs:condylomatosis                 735.0   0.059864  0.237396   0.0   0.0   \n",
            "STDs:cervical condylomatosis        735.0   0.000000  0.000000   0.0   0.0   \n",
            "STDs:vaginal condylomatosis         735.0   0.005442  0.073620   0.0   0.0   \n",
            "STDs:vulvo-perineal condylomatosis  735.0   0.058503  0.234853   0.0   0.0   \n",
            "STDs:syphilis                       735.0   0.024490  0.154669   0.0   0.0   \n",
            "STDs:pelvic inflammatory disease    735.0   0.001361  0.036886   0.0   0.0   \n",
            "STDs:genital herpes                 735.0   0.001361  0.036886   0.0   0.0   \n",
            "STDs:molluscum contagiosum          735.0   0.001361  0.036886   0.0   0.0   \n",
            "STDs:AIDS                           735.0   0.000000  0.000000   0.0   0.0   \n",
            "STDs:HIV                            735.0   0.024490  0.154669   0.0   0.0   \n",
            "STDs:Hepatitis B                    735.0   0.001361  0.036886   0.0   0.0   \n",
            "STDs:HPV                            735.0   0.002721  0.052129   0.0   0.0   \n",
            "STDs: Number of diagnosis           835.0   0.089820  0.306335   0.0   0.0   \n",
            "STDs: Time since first diagnosis     71.0   6.140845  5.895024   1.0   2.0   \n",
            "STDs: Time since last diagnosis      71.0   5.816901  5.755271   1.0   2.0   \n",
            "Dx:Cancer                           835.0   0.021557  0.145319   0.0   0.0   \n",
            "Dx:CIN                              835.0   0.010778  0.103320   0.0   0.0   \n",
            "Dx:HPV                              835.0   0.021557  0.145319   0.0   0.0   \n",
            "Dx                                  835.0   0.028743  0.167182   0.0   0.0   \n",
            "Hinselmann                          835.0   0.041916  0.200518   0.0   0.0   \n",
            "Schiller                            835.0   0.087425  0.282626   0.0   0.0   \n",
            "Citology                            835.0   0.051497  0.221142   0.0   0.0   \n",
            "Biopsy                              835.0   0.064671  0.246091   0.0   0.0   \n",
            "\n",
            "                                     50%   75%   max  \n",
            "Age                                 26.0  32.0  84.0  \n",
            "Number of sexual partners            2.0   3.0  28.0  \n",
            "First sexual intercourse            17.0  18.0  32.0  \n",
            "Num of pregnancies                   2.0   3.0  11.0  \n",
            "Smokes                               0.0   0.0   1.0  \n",
            "Smokes (years)                       0.0   0.0  37.0  \n",
            "Smokes (packs/year)                  0.0   0.0  37.0  \n",
            "Hormonal Contraceptives              1.0   1.0   1.0  \n",
            "Hormonal Contraceptives (years)      0.5   3.0  30.0  \n",
            "IUD                                  0.0   0.0   1.0  \n",
            "IUD (years)                          0.0   0.0  19.0  \n",
            "STDs                                 0.0   0.0   1.0  \n",
            "STDs (number)                        0.0   0.0   4.0  \n",
            "STDs:condylomatosis                  0.0   0.0   1.0  \n",
            "STDs:cervical condylomatosis         0.0   0.0   0.0  \n",
            "STDs:vaginal condylomatosis          0.0   0.0   1.0  \n",
            "STDs:vulvo-perineal condylomatosis   0.0   0.0   1.0  \n",
            "STDs:syphilis                        0.0   0.0   1.0  \n",
            "STDs:pelvic inflammatory disease     0.0   0.0   1.0  \n",
            "STDs:genital herpes                  0.0   0.0   1.0  \n",
            "STDs:molluscum contagiosum           0.0   0.0   1.0  \n",
            "STDs:AIDS                            0.0   0.0   0.0  \n",
            "STDs:HIV                             0.0   0.0   1.0  \n",
            "STDs:Hepatitis B                     0.0   0.0   1.0  \n",
            "STDs:HPV                             0.0   0.0   1.0  \n",
            "STDs: Number of diagnosis            0.0   0.0   3.0  \n",
            "STDs: Time since first diagnosis     4.0   8.0  22.0  \n",
            "STDs: Time since last diagnosis      3.0   7.5  22.0  \n",
            "Dx:Cancer                            0.0   0.0   1.0  \n",
            "Dx:CIN                               0.0   0.0   1.0  \n",
            "Dx:HPV                               0.0   0.0   1.0  \n",
            "Dx                                   0.0   0.0   1.0  \n",
            "Hinselmann                           0.0   0.0   1.0  \n",
            "Schiller                             0.0   0.0   1.0  \n",
            "Citology                             0.0   0.0   1.0  \n",
            "Biopsy                               0.0   0.0   1.0  \n",
            "\n",
            "Beberapa baris pertama dataset:\n",
            "   Age  Number of sexual partners  First sexual intercourse  \\\n",
            "0   18                        4.0                      15.0   \n",
            "1   15                        1.0                      14.0   \n",
            "2   34                        1.0                       NaN   \n",
            "3   52                        5.0                      16.0   \n",
            "4   46                        3.0                      21.0   \n",
            "\n",
            "   Num of pregnancies  Smokes  Smokes (years)  Smokes (packs/year)  \\\n",
            "0                 1.0     0.0             0.0                  0.0   \n",
            "1                 1.0     0.0             0.0                  0.0   \n",
            "2                 1.0     0.0             0.0                  0.0   \n",
            "3                 4.0     1.0            37.0                 37.0   \n",
            "4                 4.0     0.0             0.0                  0.0   \n",
            "\n",
            "   Hormonal Contraceptives  Hormonal Contraceptives (years)  IUD  IUD (years)  \\\n",
            "0                      0.0                              0.0  0.0          0.0   \n",
            "1                      0.0                              0.0  0.0          0.0   \n",
            "2                      0.0                              0.0  0.0          0.0   \n",
            "3                      1.0                              3.0  0.0          0.0   \n",
            "4                      1.0                             15.0  0.0          0.0   \n",
            "\n",
            "   STDs  STDs (number)  STDs:condylomatosis  STDs:cervical condylomatosis  \\\n",
            "0   0.0            0.0                  0.0                           0.0   \n",
            "1   0.0            0.0                  0.0                           0.0   \n",
            "2   0.0            0.0                  0.0                           0.0   \n",
            "3   0.0            0.0                  0.0                           0.0   \n",
            "4   0.0            0.0                  0.0                           0.0   \n",
            "\n",
            "   STDs:vaginal condylomatosis  STDs:vulvo-perineal condylomatosis  \\\n",
            "0                          0.0                                 0.0   \n",
            "1                          0.0                                 0.0   \n",
            "2                          0.0                                 0.0   \n",
            "3                          0.0                                 0.0   \n",
            "4                          0.0                                 0.0   \n",
            "\n",
            "   STDs:syphilis  STDs:pelvic inflammatory disease  STDs:genital herpes  \\\n",
            "0            0.0                               0.0                  0.0   \n",
            "1            0.0                               0.0                  0.0   \n",
            "2            0.0                               0.0                  0.0   \n",
            "3            0.0                               0.0                  0.0   \n",
            "4            0.0                               0.0                  0.0   \n",
            "\n",
            "   STDs:molluscum contagiosum  STDs:AIDS  STDs:HIV  STDs:Hepatitis B  \\\n",
            "0                         0.0        0.0       0.0               0.0   \n",
            "1                         0.0        0.0       0.0               0.0   \n",
            "2                         0.0        0.0       0.0               0.0   \n",
            "3                         0.0        0.0       0.0               0.0   \n",
            "4                         0.0        0.0       0.0               0.0   \n",
            "\n",
            "   STDs:HPV  STDs: Number of diagnosis  STDs: Time since first diagnosis  \\\n",
            "0       0.0                          0                               NaN   \n",
            "1       0.0                          0                               NaN   \n",
            "2       0.0                          0                               NaN   \n",
            "3       0.0                          0                               NaN   \n",
            "4       0.0                          0                               NaN   \n",
            "\n",
            "   STDs: Time since last diagnosis  Dx:Cancer  Dx:CIN  Dx:HPV  Dx  Hinselmann  \\\n",
            "0                              NaN          0       0       0   0           0   \n",
            "1                              NaN          0       0       0   0           0   \n",
            "2                              NaN          0       0       0   0           0   \n",
            "3                              NaN          1       0       1   0           0   \n",
            "4                              NaN          0       0       0   0           0   \n",
            "\n",
            "   Schiller  Citology  Biopsy  \n",
            "0         0         0       0  \n",
            "1         0         0       0  \n",
            "2         0         0       0  \n",
            "3         0         0       0  \n",
            "4         0         0       0  \n"
          ]
        }
      ],
      "source": [
        "if not df_raw.empty:\n",
        "    print(\"\\nInformasi Dataset Awal:\")\n",
        "    df_raw.info()\n",
        "\n",
        "    # Ganti '?' dengan NaN untuk analisis statistik yang benar\n",
        "    df_desc = df_raw.replace('?', np.nan)\n",
        "\n",
        "    # Konversi kolom yang seharusnya numerik ke tipe numerik sebelum describe\n",
        "    # Ini adalah langkah awal, konversi lebih formal akan dilakukan di Data Preparation\n",
        "    for col in df_desc.columns:\n",
        "        df_desc[col] = pd.to_numeric(df_desc[col], errors='ignore')\n",
        "\n",
        "    print(\"\\nStatistik Deskriptif (untuk kolom numerik setelah konversi awal '?' ke NaN):\")\n",
        "    print(df_desc.select_dtypes(include=np.number).describe().T) #.T untuk transpose agar lebih mudah dibaca\n",
        "\n",
        "    # print(\"\\nStatistik Deskriptif (untuk kolom objek/kategorikal):\")\n",
        "    # print(df_desc.select_dtypes(include='object').describe().T)\n",
        "\n",
        "    print(\"\\nBeberapa baris pertama dataset:\")\n",
        "    print(df_raw.head())\n",
        "else:\n",
        "    print(\"Dataset kosong, tidak dapat menampilkan deskripsi data.\")"
      ]
    },
    {
      "cell_type": "markdown",
      "metadata": {
        "id": "yG59eqAtz3Kp"
      },
      "source": [
        "#### Pengamatan Awal dari Deskripsi Data:\n",
        "*   Banyak kolom memiliki tipe data `object` karena adanya karakter '?' yang digunakan untuk menandai *missing values*. Ini perlu dikonversi ke `np.nan` dan kemudian ke tipe numerik yang sesuai.\n",
        "*   Terdapat perbedaan signifikan dalam `count` antar kolom, yang mengindikasikan adanya *missing values* dalam jumlah yang bervariasi.\n",
        "*   Statistik deskriptif (mean, std, min, max, kuartil) untuk kolom numerik akan memberikan gambaran tentang rentang nilai dan sebaran data. Untuk kolom kategorikal, akan ditampilkan nilai unik, modus (top), dan frekuensi modus (freq).\n",
        "\n",
        "### Explore Data\n",
        "Eksplorasi Data Analitik (EDA) dilakukan untuk mengidentifikasi pola, tren, anomali, dan hubungan antar variabel. Visualisasi adalah alat yang ampuh dalam tahap ini. [1]\n",
        "\n",
        "#### Distribusi Kelas Target (`Biopsy`)\n",
        "Variabel target dalam banyak studi yang menggunakan dataset ini adalah `Biopsy`, yang menunjukkan hasil biopsi (0 = negatif/normal, 1 = positif/abnormal). [6, 4, 7] Biopsi dianggap sebagai *gold standard* untuk diagnosis definitif. [8, 9, 10, 11, 12] Penting untuk memeriksa distribusi kelas ini karena ketidakseimbangan kelas adalah masalah umum dalam dataset medis dan dapat mempengaruhi performa model. [2, 13]"
      ]
    },
    {
      "cell_type": "code",
      "execution_count": null,
      "metadata": {
        "id": "rqXa2roIz3Kp"
      },
      "outputs": [
        {
          "data": {
            "image/png": "[encoded data removed]",
            "text/plain": [
              "<Figure size 700x500 with 1 Axes>"
            ]
          },
          "metadata": {},
          "output_type": "display_data"
        },
        {
          "ename": "ValueError",
          "evalue": "The truth value of a Series is ambiguous. Use a.empty, a.bool(), a.item(), a.any() or a.all().",
          "output_type": "error",
          "traceback": [
            "\u001b[1;31m---------------------------------------------------------------------------\u001b[0m",
            "\u001b[1;31mValueError\u001b[0m                                Traceback (most recent call last)",
            "\u001b[1;32m~\\AppData\\Local\\Temp\\ipykernel_38908\\938557100.py\u001b[0m in \u001b[0;36m?\u001b[1;34m()\u001b[0m\n\u001b[0;32m     11\u001b[0m     \u001b[0mplt\u001b[0m\u001b[1;33m.\u001b[0m\u001b[0mylabel\u001b[0m\u001b[1;33m(\u001b[0m\u001b[1;34m'Jumlah Pasien'\u001b[0m\u001b[1;33m)\u001b[0m\u001b[1;33m\u001b[0m\u001b[1;33m\u001b[0m\u001b[0m\n\u001b[0;32m     12\u001b[0m     \u001b[0mplt\u001b[0m\u001b[1;33m.\u001b[0m\u001b[0mgrid\u001b[0m\u001b[1;33m(\u001b[0m\u001b[0maxis\u001b[0m\u001b[1;33m=\u001b[0m\u001b[1;34m'y'\u001b[0m\u001b[1;33m,\u001b[0m \u001b[0mlinestyle\u001b[0m\u001b[1;33m=\u001b[0m\u001b[1;34m'--'\u001b[0m\u001b[1;33m)\u001b[0m\u001b[1;33m\u001b[0m\u001b[1;33m\u001b[0m\u001b[0m\n\u001b[0;32m     13\u001b[0m     \u001b[0mplt\u001b[0m\u001b[1;33m.\u001b[0m\u001b[0mshow\u001b[0m\u001b[1;33m(\u001b[0m\u001b[1;33m)\u001b[0m\u001b[1;33m\u001b[0m\u001b[1;33m\u001b[0m\u001b[0m\n\u001b[0;32m     14\u001b[0m \u001b[1;33m\u001b[0m\u001b[0m\n\u001b[1;32m---> 15\u001b[1;33m     \u001b[1;32mif\u001b[0m \u001b[1;32mnot\u001b[0m \u001b[0mdf_explore\u001b[0m\u001b[1;33m.\u001b[0m\u001b[0misnull\u001b[0m\u001b[1;33m(\u001b[0m\u001b[1;33m)\u001b[0m\u001b[1;33m.\u001b[0m\u001b[0mall\u001b[0m\u001b[1;33m(\u001b[0m\u001b[1;33m)\u001b[0m\u001b[1;33m:\u001b[0m\u001b[1;33m\u001b[0m\u001b[1;33m\u001b[0m\u001b[0m\n\u001b[0m\u001b[0;32m     16\u001b[0m         \u001b[0mbiopsy_counts\u001b[0m \u001b[1;33m=\u001b[0m \u001b[0mdf_explore\u001b[0m\u001b[1;33m.\u001b[0m\u001b[0mvalue_counts\u001b[0m\u001b[1;33m(\u001b[0m\u001b[1;33m)\u001b[0m\u001b[1;33m\u001b[0m\u001b[1;33m\u001b[0m\u001b[0m\n\u001b[0;32m     17\u001b[0m         \u001b[0mbiopsy_percentage\u001b[0m \u001b[1;33m=\u001b[0m \u001b[0mdf_explore\u001b[0m\u001b[1;33m.\u001b[0m\u001b[0mvalue_counts\u001b[0m\u001b[1;33m(\u001b[0m\u001b[0mnormalize\u001b[0m\u001b[1;33m=\u001b[0m\u001b[1;32mTrue\u001b[0m\u001b[1;33m)\u001b[0m \u001b[1;33m*\u001b[0m \u001b[1;36m100\u001b[0m\u001b[1;33m\u001b[0m\u001b[1;33m\u001b[0m\u001b[0m\n\u001b[0;32m     18\u001b[0m         \u001b[0mprint\u001b[0m\u001b[1;33m(\u001b[0m\u001b[1;34m\"\\nJumlah dan Persentase Distribusi Kelas Target (Biopsy):\"\u001b[0m\u001b[1;33m)\u001b[0m\u001b[1;33m\u001b[0m\u001b[1;33m\u001b[0m\u001b[0m\n",
            "\u001b[1;32md:\\GitHub\\lecture-projects\\Data-Mining\\.venv\\Lib\\site-packages\\pandas\\core\\generic.py\u001b[0m in \u001b[0;36m?\u001b[1;34m(self)\u001b[0m\n\u001b[0;32m   1575\u001b[0m     \u001b[1;33m@\u001b[0m\u001b[0mfinal\u001b[0m\u001b[1;33m\u001b[0m\u001b[1;33m\u001b[0m\u001b[0m\n\u001b[0;32m   1576\u001b[0m     \u001b[1;32mdef\u001b[0m \u001b[0m__nonzero__\u001b[0m\u001b[1;33m(\u001b[0m\u001b[0mself\u001b[0m\u001b[1;33m)\u001b[0m \u001b[1;33m->\u001b[0m \u001b[0mNoReturn\u001b[0m\u001b[1;33m:\u001b[0m\u001b[1;33m\u001b[0m\u001b[1;33m\u001b[0m\u001b[0m\n\u001b[1;32m-> 1577\u001b[1;33m         raise ValueError(\n\u001b[0m\u001b[0;32m   1578\u001b[0m             \u001b[1;33mf\"\u001b[0m\u001b[1;33mThe truth value of a \u001b[0m\u001b[1;33m{\u001b[0m\u001b[0mtype\u001b[0m\u001b[1;33m(\u001b[0m\u001b[0mself\u001b[0m\u001b[1;33m)\u001b[0m\u001b[1;33m.\u001b[0m\u001b[0m__name__\u001b[0m\u001b[1;33m}\u001b[0m\u001b[1;33m is ambiguous. \u001b[0m\u001b[1;33m\"\u001b[0m\u001b[1;33m\u001b[0m\u001b[1;33m\u001b[0m\u001b[0m\n\u001b[0;32m   1579\u001b[0m             \u001b[1;34m\"Use a.empty, a.bool(), a.item(), a.any() or a.all().\"\u001b[0m\u001b[1;33m\u001b[0m\u001b[1;33m\u001b[0m\u001b[0m\n\u001b[0;32m   1580\u001b[0m         \u001b[1;33m)\u001b[0m\u001b[1;33m\u001b[0m\u001b[1;33m\u001b[0m\u001b[0m\n",
            "\u001b[1;31mValueError\u001b[0m: The truth value of a Series is ambiguous. Use a.empty, a.bool(), a.item(), a.any() or a.all()."
          ]
        }
      ],
      "source": [
        "if not df_raw.empty and 'Biopsy' in df_raw.columns:\n",
        "    # Buat salinan untuk eksplorasi agar tidak mengubah df_raw secara langsung di tahap ini\n",
        "    df_explore = df_raw.copy()\n",
        "    df_explore.replace('?', np.nan, inplace=True) # Ganti '?' dengan NaN\n",
        "    df_explore = pd.to_numeric(df_explore, errors='coerce')\n",
        "\n",
        "    plt.figure(figsize=(7, 5))\n",
        "    sns.countplot(x='Biopsy', data=df_explore.dropna(subset=)) # Drop NaN di Biopsy untuk countplot\n",
        "    plt.title('Distribusi Kelas Target (Biopsy)')\n",
        "    plt.xlabel('Hasil Biopsy (0 = Negatif, 1 = Positif)')\n",
        "    plt.ylabel('Jumlah Pasien')\n",
        "    plt.grid(axis='y', linestyle='--')\n",
        "    plt.show()\n",
        "\n",
        "    if not df_explore.isnull().all():\n",
        "        biopsy_counts = df_explore.value_counts()\n",
        "        biopsy_percentage = df_explore.value_counts(normalize=True) * 100\n",
        "        print(\"\\nJumlah dan Persentase Distribusi Kelas Target (Biopsy):\")\n",
        "        print(pd.DataFrame({'Jumlah': biopsy_counts, 'Persentase (%)': biopsy_percentage}))\n",
        "        if len(biopsy_counts) > 1:\n",
        "            ratio = biopsy_counts.max() / biopsy_counts.min()\n",
        "            print(f\"Rasio kelas mayoritas terhadap minoritas: {ratio:.2f}:1\")\n",
        "            if ratio > 5: # Ambang batas umum untuk ketidakseimbangan signifikan\n",
        "                 print(\"Peringatan: Terdeteksi ketidakseimbangan kelas yang signifikan pada variabel target 'Biopsy'.\")\n",
        "    else:\n",
        "        print(\"Kolom 'Biopsy' hanya berisi nilai null setelah konversi, tidak dapat menampilkan distribusi.\")\n",
        "else:\n",
        "    print(\"Dataset kosong atau kolom 'Biopsy' tidak ditemukan dalam df_raw.\")"
      ]
    },
    {
      "cell_type": "markdown",
      "metadata": {
        "id": "l3h-dFrdz3Kp"
      },
      "source": [
        "#### Visualisasi Distribusi Fitur Numerik Penting\n",
        "Histogram atau density plot dapat digunakan untuk melihat distribusi fitur-fitur numerik yang dianggap sebagai faktor risiko penting, seperti `Age`, `Number of sexual partners`, `First sexual intercourse`, `Num of pregnancies`, `Smokes (years)`, `Hormonal Contraceptives (years)`."
      ]
    },
    {
      "cell_type": "code",
      "execution_count": null,
      "metadata": {
        "id": "XZhxoAuVz3Kq"
      },
      "outputs": [],
      "source": [
        "if not df_raw.empty:\n",
        "    df_explore_num = df_raw.copy()\n",
        "    df_explore_num.replace('?', np.nan, inplace=True)\n",
        "\n",
        "    numerical_features_to_plot =\n",
        "\n",
        "    fig, axes = plt.subplots(nrows=(len(numerical_features_to_plot) + 1) // 2, ncols=2, figsize=(15, 5 * ((len(numerical_features_to_plot) + 1) // 2)))\n",
        "    axes = axes.flatten() # Ratakan array axes untuk iterasi yang mudah\n",
        "\n",
        "    for i, col in enumerate(numerical_features_to_plot):\n",
        "        if col in df_explore_num.columns:\n",
        "            df_explore_num[col] = pd.to_numeric(df_explore_num[col], errors='coerce')\n",
        "            if not df_explore_num[col].isnull().all():\n",
        "                sns.histplot(df_explore_num[col].dropna(), kde=True, ax=axes[i], bins=20)\n",
        "                axes[i].set_title(f'Distribusi {col}', fontsize=10)\n",
        "                axes[i].set_xlabel(col, fontsize=8)\n",
        "                axes[i].set_ylabel('Frekuensi', fontsize=8)\n",
        "            else:\n",
        "                axes[i].set_title(f'{col} (semua NaN)', fontsize=10)\n",
        "                axes[i].axis('off') # Sembunyikan plot jika semua NaN\n",
        "        else:\n",
        "            axes[i].set_title(f'{col} (tidak ditemukan)', fontsize=10)\n",
        "            axes[i].axis('off') # Sembunyikan plot jika kolom tidak ada\n",
        "\n",
        "    # Sembunyikan axes yang tidak terpakai jika jumlah fitur ganjil\n",
        "    for j in range(i + 1, len(axes)):\n",
        "        fig.delaxes(axes[j])\n",
        "\n",
        "    plt.tight_layout()\n",
        "    plt.show()\n",
        "else:\n",
        "    print(\"Dataset kosong, tidak dapat melakukan visualisasi distribusi fitur numerik.\")"
      ]
    },
    {
      "cell_type": "markdown",
      "metadata": {
        "id": "Y4hgYoP_z3Kq"
      },
      "source": [
        "#### Matriks Korelasi Antar Fitur Numerik\n",
        "Heatmap dari matriks korelasi dapat membantu mengidentifikasi hubungan linear antar fitur numerik. Ini penting untuk memahami potensi multikolinearitas yang dapat mempengaruhi model seperti Regresi Logistik."
      ]
    },
    {
      "cell_type": "code",
      "execution_count": null,
      "metadata": {
        "id": "bN2EMy9Rz3Kq"
      },
      "outputs": [],
      "source": [
        "if not df_raw.empty:\n",
        "    df_corr_explore = df_raw.copy()\n",
        "    df_corr_explore.replace('?', np.nan, inplace=True)\n",
        "\n",
        "    # Konversi semua kolom yang mungkin numerik ke tipe numerik\n",
        "    for col in df_corr_explore.columns:\n",
        "        df_corr_explore[col] = pd.to_numeric(df_corr_explore[col], errors='ignore')\n",
        "\n",
        "    numerical_df_explore = df_corr_explore.select_dtypes(include=np.number)\n",
        "\n",
        "    if not numerical_df_explore.empty and len(numerical_df_explore.columns) > 1:\n",
        "        plt.figure(figsize=(22, 18)) # Ukuran disesuaikan agar nama kolom terbaca\n",
        "        correlation_matrix = numerical_df_explore.corr()\n",
        "        sns.heatmap(correlation_matrix, annot=True, cmap='coolwarm', fmt=\".2f\", linewidths=.5, annot_kws={\"size\": 8})\n",
        "        plt.title('Matriks Korelasi Fitur Numerik', fontsize=16)\n",
        "        plt.xticks(rotation=45, ha='right', fontsize=9)\n",
        "        plt.yticks(fontsize=9)\n",
        "        plt.tight_layout()\n",
        "        plt.show()\n",
        "    else:\n",
        "        print(\"Tidak cukup kolom numerik yang valid untuk membuat matriks korelasi.\")\n",
        "else:\n",
        "    print(\"Dataset kosong, tidak dapat membuat matriks korelasi.\")"
      ]
    },
    {
      "cell_type": "markdown",
      "metadata": {
        "id": "reMbfLQoz3Kr"
      },
      "source": [
        "### Verify Data Quality\n",
        "Tahap ini fokus pada identifikasi dan kuantifikasi masalah kualitas data, terutama *missing values*. Outlier juga bisa diperiksa, namun penanganannya memerlukan analisis domain yang lebih dalam.\n",
        "\n",
        "#### Identifikasi dan Kuantifikasi Missing Values\n",
        "Karakter '?' sering digunakan untuk menandai *missing values* dalam dataset ini dan perlu diganti dengan `np.nan` untuk analisis yang tepat. [14]"
      ]
    },
    {
      "cell_type": "code",
      "execution_count": null,
      "metadata": {
        "id": "bDBb_TYsz3Kr"
      },
      "outputs": [],
      "source": [
        "if not df_raw.empty:\n",
        "    df_quality_check = df_raw.copy()\n",
        "    df_quality_check.replace('?', np.nan, inplace=True)\n",
        "\n",
        "    missing_values_count = df_quality_check.isnull().sum()\n",
        "    missing_percentage = (df_quality_check.isnull().sum() / len(df_quality_check)) * 100\n",
        "    missing_info_df = pd.DataFrame({\n",
        "        'Nama Kolom': df_quality_check.columns,\n",
        "        'Jumlah Missing': missing_values_count,\n",
        "        'Persentase Missing (%)': missing_percentage\n",
        "    })\n",
        "    missing_info_df = missing_info_df[missing_info_df['Jumlah Missing'] > 0].sort_values(by='Persentase Missing (%)', ascending=False)\n",
        "\n",
        "    print(\"\\nInformasi Kualitas Data - Missing Values:\")\n",
        "    if not missing_info_df.empty:\n",
        "        print(missing_info_df)\n",
        "\n",
        "        # Visualisasi missing values\n",
        "        plt.figure(figsize=(15, 8)) # Ukuran disesuaikan\n",
        "        sns.barplot(x='Persentase Missing (%)', y='Nama Kolom', data=missing_info_df, palette='viridis')\n",
        "        plt.title('Persentase Missing Values per Kolom (yang memiliki missing values)', fontsize=14)\n",
        "        plt.xlabel('Persentase Missing (%)', fontsize=12)\n",
        "        plt.ylabel('Nama Kolom', fontsize=12)\n",
        "        plt.grid(axis='x', linestyle='--')\n",
        "        plt.tight_layout()\n",
        "        plt.show()\n",
        "    else:\n",
        "        print(\"Tidak ada missing values yang terdeteksi dalam dataset (setelah '?' diganti NaN).\")\n",
        "else:\n",
        "    print(\"Dataset kosong, tidak dapat memverifikasi kualitas data.\")"
      ]
    },
    {
      "cell_type": "markdown",
      "metadata": {
        "id": "EtLvdKUiz3Kr"
      },
      "source": [
        "#### Pengamatan Kualitas Data (Missing Values):\n",
        "*   Kolom seperti `STDs: Time since first diagnosis` dan `STDs: Time since last diagnosis` secara konsisten dilaporkan memiliki persentase *missing values* yang sangat tinggi (seringkali >90%). [2, 9, 14] Ini membuat mereka kandidat kuat untuk dihapus.\n",
        "*   Beberapa kolom lain terkait STDs, penggunaan kontrasepsi, dan kebiasaan merokok juga menunjukkan adanya *missing values* dengan persentase yang bervariasi, yang memerlukan strategi imputasi. [2]\n",
        "*   Kolom target `Biopsy` dan fitur diagnostik lainnya (`Hinselmann`, `Schiller`, `Citology`) biasanya memiliki sedikit atau tidak ada *missing values*. Jika ada, baris dengan *missing value* pada target mungkin perlu dihapus.\n",
        "\n",
        "## Data Preparation\n",
        "Tahap ini sangat krusial dan melibatkan pembersihan, transformasi, dan pengurangan data agar siap untuk pemodelan. **Urutan operasi di sini sangat penting untuk menghindari *data leakage*.**python\n",
        "# Buat salinan df_raw untuk tahap persiapan data agar df_raw tetap asli\n",
        "if not df_raw.empty:\n",
        "    df = df_raw.copy()\n",
        "else:\n",
        "    df = pd.DataFrame() # Jika df_raw kosong\n",
        "```\n",
        "\n",
        "### Data Cleaning\n",
        "\n",
        "#### Penggantian Karakter '?' dengan NaN dan Konversi Tipe Data Awal\n",
        "Langkah pertama adalah mengganti placeholder *missing value* ('?') dengan `np.nan` dan mencoba mengkonversi kolom ke tipe data numerik yang sesuai."
      ]
    },
    {
      "cell_type": "code",
      "execution_count": null,
      "metadata": {
        "id": "x-ve_NTZz3Kr"
      },
      "outputs": [],
      "source": [
        "if not df.empty:\n",
        "    df.replace('?', np.nan, inplace=True)\n",
        "    print(\"\\nKarakter '?' telah diganti dengan NaN.\")\n",
        "\n",
        "    # Konversi semua kolom ke numerik, mengabaikan error untuk kolom yang memang non-numerik\n",
        "    # Ini akan membantu dalam imputasi dan scaling nanti\n",
        "    for col in df.columns:\n",
        "        df[col] = pd.to_numeric(df[col], errors='coerce') # errors='coerce' akan mengubah non-convertible menjadi NaN\n",
        "\n",
        "    print(\"\\nTipe data setelah konversi awal ke numerik (errors='coerce'):\")\n",
        "    df.info()\n",
        "else:\n",
        "    print(\"Dataset kosong, tidak dapat melakukan pembersihan data.\")"
      ]
    },
    {
      "cell_type": "markdown",
      "metadata": {
        "id": "sLsGLWOLz3Kr"
      },
      "source": [
        "#### Pemilihan Fitur Awal dan Penghapusan Kolom\n",
        "Berdasarkan tujuan \"deteksi dini\" dan menggunakan `Biopsy` sebagai *gold standard*:\n",
        "1.  **Hapus Kolom Diagnostik Lanjutan:** Kolom `Hinselmann`, `Schiller`, dan `Citology` adalah hasil tes yang biasanya dilakukan *setelah* ada kecurigaan awal atau sebagai bagian dari proses diagnostik lanjutan, bukan pada tahap skrining awal berbasis faktor risiko. Memasukkannya akan menyebabkan *temporal data leakage*. [8, 10]\n",
        "2.  **Hapus Kolom Diagnosis Klinis Selain Biopsy (jika Biopsy adalah target):** Kolom `Dx:Cancer`, `Dx:CIN`, `Dx:HPV`, dan `Dx` adalah diagnosis klinis yang mungkin berkorelasi tinggi dengan `Biopsy` atau merupakan kesimpulan sebelum hasil biopsi definitif. Jika `Biopsy` adalah target, mempertahankan ini bisa menjadi *leakage*. [4, 9, 15, 16] Kolom `Dx` sendiri adalah komposit dari `Dx:Cancer`, `Dx:CIN`, dan `Dx:HPV`. [4]\n",
        "3.  **Hapus Kolom dengan Missing Values Sangat Tinggi:** Kolom `STDs: Time since first diagnosis` dan `STDs: Time since last diagnosis` memiliki >90% *missing values* dan kurang relevan untuk deteksi dini. [2, 9, 14]"
      ]
    },
    {
      "cell_type": "code",
      "execution_count": null,
      "metadata": {
        "id": "lR6WxwrXz3Kr"
      },
      "outputs": [],
      "source": [
        "if not df.empty:\n",
        "    columns_to_drop_leakage_and_dx =\n",
        "    columns_to_drop_high_missing =\n",
        "\n",
        "    # Gabungkan semua kolom yang akan dihapus\n",
        "    all_columns_to_drop =\n",
        "    for col_list in [columns_to_drop_leakage_and_dx, columns_to_drop_high_missing]:\n",
        "        for col_name in col_list:\n",
        "            if col_name in df.columns:\n",
        "                all_columns_to_drop.append(col_name)\n",
        "            # else:\n",
        "                # print(f\"Peringatan: Kolom '{col_name}' untuk dihapus tidak ditemukan dalam dataframe.\")\n",
        "\n",
        "    # Pastikan kolom target 'Biopsy' tidak ikut terhapus jika ada di daftar drop secara tidak sengaja\n",
        "    if 'Biopsy' in all_columns_to_drop:\n",
        "        all_columns_to_drop.remove('Biopsy')\n",
        "\n",
        "    # Hapus duplikat dari daftar kolom yang akan dihapus (jika ada)\n",
        "    all_columns_to_drop = list(set(all_columns_to_drop))\n",
        "\n",
        "    df.drop(columns=all_columns_to_drop, inplace=True, errors='ignore')\n",
        "\n",
        "    print(f\"\\nDataset setelah menghapus kolom untuk mencegah leakage dan kolom dengan missing values tinggi.\")\n",
        "    print(f\"Jumlah kolom tersisa: {df.shape[1]}\")\n",
        "    print(\"Kolom yang tersisa:\", df.columns.tolist())\n",
        "\n",
        "    # Penanganan Missing Values pada Kolom Target ('Biopsy')\n",
        "    # Jika ada missing values di kolom target, baris tersebut tidak dapat digunakan untuk training/testing.\n",
        "    if 'Biopsy' in df.columns:\n",
        "        if df.isnull().any():\n",
        "            num_missing_biopsy = df.isnull().sum()\n",
        "            print(f\"\\nPeringatan: Terdapat {num_missing_biopsy} missing values di kolom target 'Biopsy'.\")\n",
        "            print(\"Baris-baris dengan missing value pada 'Biopsy' akan dihapus.\")\n",
        "            df.dropna(subset=, inplace=True)\n",
        "            print(f\"Jumlah baris setelah menghapus NaN di 'Biopsy': {df.shape}\")\n",
        "        # Pastikan Biopsy adalah integer\n",
        "        df = df.astype(int)\n",
        "    else:\n",
        "        print(\"Peringatan Kritis: Kolom target 'Biopsy' tidak ditemukan setelah penghapusan kolom. Proses tidak dapat dilanjutkan.\")\n",
        "        # Hentikan atau tangani error ini karena target tidak ada\n",
        "else:\n",
        "    print(\"Dataset awal (df) kosong, tidak ada operasi penghapusan kolom yang dilakukan.\")"
      ]
    },
    {
      "cell_type": "markdown",
      "metadata": {
        "id": "9SDkKOyTz3Ks"
      },
      "source": [
        "### Pemisahan Data (Train-Test Split)\n",
        "**Ini adalah langkah pertama yang sangat penting dalam fase persiapan sebelum transformasi data lainnya (imputasi, SMOTE, scaling) untuk mencegah *data leakage*.** Kita akan memisahkan data menjadi set pelatihan (misalnya, 80%) dan set pengujian (misalnya, 20%). Stratifikasi berdasarkan variabel target (`Biopsy`) penting untuk memastikan proporsi kelas yang sama di kedua set, terutama karena adanya ketidakseimbangan kelas."
      ]
    },
    {
      "cell_type": "code",
      "execution_count": null,
      "metadata": {
        "id": "NL_6kQgfz3Ks"
      },
      "outputs": [],
      "source": [
        "X_train, X_test, y_train, y_test = pd.DataFrame(), pd.DataFrame(), pd.Series(dtype='int'), pd.Series(dtype='int') # Inisialisasi\n",
        "\n",
        "if not df.empty and 'Biopsy' in df.columns and not df.isnull().all():\n",
        "    X = df.drop('Biopsy', axis=1)\n",
        "    y = df # y sudah dipastikan integer sebelumnya\n",
        "\n",
        "    # Lakukan pemisahan data\n",
        "    # Menggunakan test_size=0.2 untuk 80% training, 20% testing\n",
        "    # random_state untuk reproduktifitas\n",
        "    # stratify=y untuk menjaga proporsi kelas target di kedua set\n",
        "    X_train, X_test, y_train, y_test = train_test_split(X, y, test_size=0.2, random_state=42, stratify=y)\n",
        "\n",
        "    print(\"\\nDimensi data setelah pemisahan (train-test split):\")\n",
        "    print(f\"X_train: {X_train.shape}, y_train: {y_train.shape}\")\n",
        "    print(f\"X_test: {X_test.shape}, y_test: {y_test.shape}\")\n",
        "\n",
        "    print(\"\\nDistribusi kelas target di y_train (setelah split):\")\n",
        "    print(y_train.value_counts(normalize=True) * 100)\n",
        "    print(\"\\nDistribusi kelas target di y_test (setelah split):\")\n",
        "    print(y_test.value_counts(normalize=True) * 100)\n",
        "else:\n",
        "    print(\"Dataset kosong, kolom 'Biopsy' tidak ada, atau 'Biopsy' hanya berisi NaN. Pemisahan data tidak dapat dilakukan.\")"
      ]
    },
    {
      "cell_type": "markdown",
      "metadata": {
        "id": "LCC78XbDz3Ks"
      },
      "source": [
        "### Menangani Missing Values (Imputasi) pada Fitur\n",
        "Setelah data dipisah, kita akan menangani *missing values* yang tersisa pada fitur-fitur di `X_train` dan `X_test`.\n",
        "*   **Parameter Imputasi (misalnya, median) dihitung HANYA dari `X_train`.**\n",
        "*   Imputer yang sudah di-*fit* kemudian digunakan untuk mentransformasi `X_train` dan `X_test` (menggunakan parameter dari `X_train`).\n",
        "*   Median digunakan untuk fitur numerik karena lebih robust terhadap outlier dibandingkan mean. [17, 13]"
      ]
    },
    {
      "cell_type": "code",
      "execution_count": null,
      "metadata": {
        "id": "hefAhT1jz3Ks"
      },
      "outputs": [],
      "source": [
        "if not X_train.empty:\n",
        "    # Semua kolom fitur yang tersisa diasumsikan numerik setelah konversi awal\n",
        "    # Jika ada kolom kategorikal yang ingin diimputasi dengan modus, perlu penanganan terpisah\n",
        "    numerical_cols_in_X_train = X_train.columns # Semua kolom di X_train adalah fitur\n",
        "\n",
        "    # Buat imputer untuk nilai median\n",
        "    median_imputer = SimpleImputer(strategy='median')\n",
        "\n",
        "    # Fit imputer HANYA pada X_train (data fitur training)\n",
        "    median_imputer.fit(X_train[numerical_cols_in_X_train])\n",
        "\n",
        "    # Transform X_train\n",
        "    X_train_imputed_array = median_imputer.transform(X_train[numerical_cols_in_X_train])\n",
        "    X_train_imputed = pd.DataFrame(X_train_imputed_array, columns=numerical_cols_in_X_train, index=X_train.index)\n",
        "\n",
        "    # Transform X_test menggunakan imputer yang sudah di-fit pada X_train\n",
        "    if not X_test.empty:\n",
        "        X_test_imputed_array = median_imputer.transform(X_test[numerical_cols_in_X_train])\n",
        "        X_test_imputed = pd.DataFrame(X_test_imputed_array, columns=numerical_cols_in_X_train, index=X_test.index)\n",
        "    else:\n",
        "        X_test_imputed = pd.DataFrame(columns=numerical_cols_in_X_train) # Buat df kosong jika X_test kosong\n",
        "\n",
        "    print(\"\\nMissing values di X_train setelah imputasi median:\", X_train_imputed.isnull().sum().sum())\n",
        "    if not X_test_imputed.empty:\n",
        "        print(\"Missing values di X_test setelah imputasi median:\", X_test_imputed.isnull().sum().sum())\n",
        "    else:\n",
        "        print(\"X_test kosong atau tidak ada fitur numerik, tidak ada imputasi yang dilakukan pada X_test.\")\n",
        "else:\n",
        "    print(\"X_train kosong, tidak dapat melakukan imputasi.\")\n",
        "    X_train_imputed = pd.DataFrame()\n",
        "    X_test_imputed = pd.DataFrame()"
      ]
    },
    {
      "cell_type": "markdown",
      "metadata": {
        "id": "y2UY5Jwzz3Ks"
      },
      "source": [
        "### Data Transformation Lanjutan\n",
        "\n",
        "#### Penskalaan Fitur (Feature Scaling)\n",
        "Regresi Logistik sensitif terhadap skala fitur. Naive Bayes (GaussianNB) secara teoritis tidak memerlukannya jika fitur berdistribusi normal, tetapi penskalaan tidak akan merugikan dan memastikan perbandingan yang adil antara kedua model. Kita akan menggunakan `StandardScaler` (Z-score normalization) yang mengubah data sehingga memiliki mean 0 dan standar deviasi 1. [2, 7]\n",
        "*   **Scaler di-*fit* HANYA pada `X_train_imputed`.**\n",
        "*   Scaler yang sudah di-*fit* kemudian digunakan untuk mentransformasi `X_train_imputed` dan `X_test_imputed`."
      ]
    },
    {
      "cell_type": "code",
      "execution_count": null,
      "metadata": {
        "id": "Vc6Lh38sz3Ks"
      },
      "outputs": [],
      "source": [
        "X_train_scaled = pd.DataFrame() # Inisialisasi\n",
        "X_test_scaled = pd.DataFrame()  # Inisialisasi\n",
        "\n",
        "if not X_train_imputed.empty:\n",
        "    scaler = StandardScaler()\n",
        "\n",
        "    # Fit scaler HANYA pada X_train_imputed (data fitur training yang sudah diimputasi)\n",
        "    scaler.fit(X_train_imputed)\n",
        "\n",
        "    # Transform X_train_imputed\n",
        "    X_train_scaled_array = scaler.transform(X_train_imputed)\n",
        "    X_train_scaled = pd.DataFrame(X_train_scaled_array, columns=X_train_imputed.columns, index=X_train_imputed.index)\n",
        "\n",
        "    # Transform X_test_imputed menggunakan scaler yang sudah di-fit pada X_train_imputed\n",
        "    if not X_test_imputed.empty:\n",
        "        X_test_scaled_array = scaler.transform(X_test_imputed)\n",
        "        X_test_scaled = pd.DataFrame(X_test_scaled_array, columns=X_test_imputed.columns, index=X_test_imputed.index)\n",
        "        print(\"\\nBeberapa baris pertama X_train setelah penskalaan (X_train_scaled):\")\n",
        "        print(X_train_scaled.head())\n",
        "    else:\n",
        "        print(\"X_test_imputed kosong, tidak ada penskalaan yang dilakukan pada X_test.\")\n",
        "else:\n",
        "    print(\"X_train_imputed kosong, tidak dapat melakukan penskalaan fitur.\")"
      ]
    },
    {
      "cell_type": "markdown",
      "metadata": {
        "id": "ifKqVa_vz3Ks"
      },
      "source": [
        "#### Penanganan Ketidakseimbangan Kelas (SMOTE)\n",
        "Dataset ini diketahui tidak seimbang, di mana jumlah kasus non-kanker jauh lebih banyak daripada kasus kanker. [2, 13] Untuk mengatasi ini, kita akan menggunakan SMOTE (Synthetic Minority Over-sampling Technique) yang bertujuan untuk menyeimbangkan distribusi kelas dengan membuat sampel sintetis untuk kelas minoritas.\n",
        "*   **SMOTE diterapkan HANYA pada data training yang sudah diproses (`X_train_scaled` dan `y_train`).** Data testing (`X_test_scaled`, `y_test`) harus tetap tidak seimbang untuk mencerminkan kondisi dunia nyata saat evaluasi model."
      ]
    },
    {
      "cell_type": "code",
      "execution_count": null,
      "metadata": {
        "id": "4x20ohNvz3Ks"
      },
      "outputs": [],
      "source": [
        "X_train_resampled = X_train_scaled.copy() # Inisialisasi dengan data sebelum SMOTE\n",
        "y_train_resampled = y_train.copy()\n",
        "\n",
        "if not X_train_scaled.empty and not y_train.empty:\n",
        "    print(\"\\nDistribusi kelas target di y_train SEBELUM SMOTE:\")\n",
        "    print(y_train.value_counts(normalize=True) * 100)\n",
        "\n",
        "    # Cek apakah ada kelas minoritas yang cukup untuk SMOTE\n",
        "    if y_train.value_counts().min() > 1 : # SMOTE butuh lebih dari 1 sampel di kelas minoritas, idealnya lebih\n",
        "        smote = SMOTE(random_state=42, k_neighbors=min(5, y_train.value_counts().min() -1) if y_train.value_counts().min() > 1 else 1)\n",
        "        try:\n",
        "            X_train_resampled, y_train_resampled = smote.fit_resample(X_train_scaled, y_train)\n",
        "\n",
        "            print(\"\\nDimensi data training setelah SMOTE:\")\n",
        "            print(f\"X_train_resampled: {X_train_resampled.shape}, y_train_resampled: {y_train_resampled.shape}\")\n",
        "\n",
        "            print(\"\\nDistribusi kelas target di y_train_resampled SETELAH SMOTE:\")\n",
        "            print(pd.Series(y_train_resampled).value_counts(normalize=True) * 100)\n",
        "        except ValueError as e:\n",
        "            print(f\"Error saat menerapkan SMOTE: {e}. Mungkin jumlah sampel kelas minoritas terlalu kecil.\")\n",
        "            print(\"Melanjutkan tanpa SMOTE pada data training.\")\n",
        "            X_train_resampled = X_train_scaled # Kembali ke data sebelum SMOTE jika error\n",
        "            y_train_resampled = y_train\n",
        "    else:\n",
        "        print(\"Jumlah sampel kelas minoritas di y_train tidak cukup untuk SMOTE. Melanjutkan tanpa SMOTE.\")\n",
        "        X_train_resampled = X_train_scaled\n",
        "        y_train_resampled = y_train\n",
        "else:\n",
        "    print(\"X_train_scaled atau y_train kosong, tidak dapat menerapkan SMOTE.\")"
      ]
    },
    {
      "cell_type": "markdown",
      "metadata": {
        "id": "K1kx3zIFz3Kt"
      },
      "source": [
        "### Data Integration\n",
        "Untuk proyek ini, kita menggunakan satu dataset tunggal, sehingga tahap integrasi data dari berbagai sumber tidak diperlukan secara eksplisit.\n",
        "\n",
        "### Data Reduction\n",
        "Penghapusan kolom dengan *missing values* tinggi dan kolom yang berpotensi menyebabkan *data leakage* telah dilakukan pada tahap *Data Cleaning* dan *Pemilihan Fitur Awal*. Teknik reduksi dimensi lebih lanjut seperti PCA (Principal Component Analysis) bisa dipertimbangkan jika jumlah fitur masih sangat banyak dan ada indikasi multikolinearitas yang tinggi. [5, 13] Namun, untuk perbandingan Naive Bayes dan Regresi Logistik dengan jumlah fitur yang sudah relatif berkurang ini, kita akan melanjutkan tanpa PCA untuk menjaga interpretabilitas fitur asli.\n",
        "\n",
        "## Modeling\n",
        "\n",
        "### Select Modeling Techniques\n",
        "Kita akan menggunakan dua algoritma klasifikasi yang umum dan relatif sederhana namun efektif untuk *baseline*:\n",
        "1.  **Naive Bayes (GaussianNB):** Model probabilistik yang mengasumsikan independensi antar fitur. Karena fitur kita kontinu setelah penskalaan, GaussianNB adalah pilihan yang sesuai. [2]\n",
        "2.  **Regresi Logistik (Logistic Regression):** Model linear yang memprediksi probabilitas kelas target. Koefisiennya dapat diinterpretasikan untuk memahami pengaruh masing-masing fitur terhadap prediksi. [2]\n",
        "\n",
        "### Build Models\n",
        "Model akan dilatih menggunakan data training yang sudah diproses secara lengkap (`X_train_resampled`, `y_train_resampled`).\n",
        "\n",
        "#### Model 1: Gaussian Naive Bayes"
      ]
    },
    {
      "cell_type": "code",
      "execution_count": null,
      "metadata": {
        "id": "7C5v4bGhz3Kt"
      },
      "outputs": [],
      "source": [
        "gnb_model = None # Inisialisasi\n",
        "\n",
        "if not X_train_resampled.empty and not pd.Series(y_train_resampled).empty:\n",
        "    gnb_model = GaussianNB()\n",
        "    gnb_model.fit(X_train_resampled, y_train_resampled)\n",
        "    print(\"Model Gaussian Naive Bayes berhasil dilatih.\")\n",
        "else:\n",
        "    print(\"Data training (X_train_resampled atau y_train_resampled) kosong, model Naive Bayes tidak dapat dilatih.\")"
      ]
    },
    {
      "cell_type": "markdown",
      "metadata": {
        "id": "5JRCRR5az3Kt"
      },
      "source": [
        "#### Model 2: Regresi Logistik"
      ]
    },
    {
      "cell_type": "code",
      "execution_count": null,
      "metadata": {
        "id": "Y47Y8yWfz3Kt"
      },
      "outputs": [],
      "source": [
        "logreg_model = None # Inisialisasi\n",
        "\n",
        "if not X_train_resampled.empty and not pd.Series(y_train_resampled).empty:\n",
        "    # Menggunakan solver 'liblinear' yang baik untuk dataset kecil dan masalah biner.\n",
        "    # 'C' adalah parameter regularisasi invers; nilai lebih kecil berarti regularisasi lebih kuat.\n",
        "    # 'class_weight' bisa diatur ke 'balanced' jika tidak menggunakan SMOTE,\n",
        "    # tapi karena kita sudah menggunakan SMOTE, kita bisa biarkan default atau tune 'C'.\n",
        "    logreg_model = LogisticRegression(random_state=42, solver='liblinear', C=1.0)\n",
        "    logreg_model.fit(X_train_resampled, y_train_resampled)\n",
        "    print(\"Model Regresi Logistik berhasil dilatih.\")\n",
        "else:\n",
        "    print(\"Data training (X_train_resampled atau y_train_resampled) kosong, model Regresi Logistik tidak dapat dilatih.\")"
      ]
    },
    {
      "cell_type": "markdown",
      "metadata": {
        "id": "7SFPWLtrz3Kt"
      },
      "source": [
        "### Tune Models\n",
        "*Hyperparameter tuning* bertujuan untuk menemukan kombinasi parameter model yang memberikan performa terbaik pada data validasi (atau melalui *cross-validation* pada data training).\n",
        "\n",
        "*   **Gaussian Naive Bayes:** Umumnya tidak memiliki banyak hyperparameter yang signifikan untuk di-tune selain `var_smoothing` (parameter untuk stabilitas numerik). Kita akan menggunakan nilai default.\n",
        "*   **Regresi Logistik:** Hyperparameter utama adalah `C` (kekuatan regularisasi) dan terkadang `penalty` (L1 atau L2). Kita bisa menggunakan `GridSearchCV` untuk mencari nilai `C` terbaik.\n",
        "\n",
        "#### Tuning Regresi Logistik (Opsional, Contoh)"
      ]
    },
    {
      "cell_type": "code",
      "execution_count": null,
      "metadata": {
        "id": "62qTl20Ez3Kt"
      },
      "outputs": [],
      "source": [
        "logreg_model_tuned = logreg_model # Default ke model yang tidak dituning\n",
        "\n",
        "if logreg_model and not X_train_resampled.empty and not pd.Series(y_train_resampled).empty:\n",
        "    param_grid_lr = {\n",
        "        'C': [0.001, 0.01, 0.1, 1, 10, 100], # Nilai C yang akan diuji\n",
        "        'penalty': ['l1', 'l2'] # Jenis regularisasi (l1 bisa untuk feature selection implisit)\n",
        "    }\n",
        "    # Menggunakan recall sebagai metrik utama untuk tuning karena pentingnya meminimalkan false negative\n",
        "    grid_search_lr = GridSearchCV(LogisticRegression(random_state=42, solver='liblinear'),\n",
        "                                  param_grid_lr, cv=5, scoring='recall', n_jobs=-1) # cv=5 untuk 5-fold cross-validation\n",
        "\n",
        "    print(\"\\nMelakukan tuning hyperparameter untuk Regresi Logistik...\")\n",
        "    grid_search_lr.fit(X_train_resampled, y_train_resampled)\n",
        "\n",
        "    print(\"Parameter terbaik untuk Regresi Logistik berdasarkan recall:\", grid_search_lr.best_params_)\n",
        "    print(f\"Skor recall terbaik dari cross-validation: {grid_search_lr.best_score_:.4f}\")\n",
        "    logreg_model_tuned = grid_search_lr.best_estimator_ # Gunakan model terbaik hasil tuning\n",
        "else:\n",
        "    print(\"Model Regresi Logistik awal tidak terlatih atau data training kosong, tuning tidak dapat dilakukan.\")"
      ]
    },
    {
      "cell_type": "markdown",
      "metadata": {
        "id": "9WyebYJnz3Kt"
      },
      "source": [
        "### Validate Models\n",
        "Model yang telah dilatih (dan mungkin di-tune) akan dievaluasi performanya menggunakan data testing (`X_test_scaled`, `y_test`) yang belum pernah dilihat oleh model selama proses pelatihan atau tuning. Ini memberikan estimasi yang tidak bias tentang bagaimana model akan berperforma pada data baru.\n",
        "\n",
        "## Evaluation\n",
        "\n",
        "### Evaluate Results\n",
        "Kita akan mengukur performa model menggunakan berbagai metrik evaluasi yang relevan untuk masalah klasifikasi, terutama dalam konteks medis di mana deteksi kasus positif sangat penting. Metrik utama meliputi Akurasi, Presisi, Recall (Sensitivitas), F1-score, dan AUC-ROC. Confusion matrix juga akan ditampilkan untuk analisis detail True Positives (TP), True Negatives (TN), False Positives (FP), dan False Negatives (FN). [2, 9, 14, 18]\n",
        "\n",
        "#### Fungsi Bantuan untuk Evaluasi Model"
      ]
    },
    {
      "cell_type": "code",
      "execution_count": null,
      "metadata": {
        "id": "F32hGbB6z3Kt"
      },
      "outputs": [],
      "source": [
        "def evaluate_classification_model(model, X_test_data, y_test_data, model_name=\"Model\"):\n",
        "    \"\"\"\n",
        "    Fungsi untuk mengevaluasi model klasifikasi dan menampilkan metrik performa.\n",
        "    \"\"\"\n",
        "    if model is None:\n",
        "        print(f\"Tidak dapat mengevaluasi {model_name}, model tidak tersedia (None).\")\n",
        "        return None\n",
        "    if X_test_data.empty or y_test_data.empty:\n",
        "        print(f\"Tidak dapat mengevaluasi {model_name}, data tes (X_test_data atau y_test_data) kosong.\")\n",
        "        return None\n",
        "\n",
        "    try:\n",
        "        y_pred = model.predict(X_test_data)\n",
        "        # Untuk AUC-ROC, kita butuh probabilitas kelas positif\n",
        "        if hasattr(model, \"predict_proba\"):\n",
        "            y_pred_proba = model.predict_proba(X_test_data)[:, 1]\n",
        "        else: # Beberapa model mungkin tidak memiliki predict_proba (jarang untuk klasifikasi standar)\n",
        "            y_pred_proba = y_pred # Gunakan prediksi langsung jika proba tidak ada (AUC mungkin tidak akurat)\n",
        "            print(f\"Peringatan: Model {model_name} tidak memiliki metode predict_proba. AUC-ROC mungkin kurang akurat.\")\n",
        "\n",
        "    except Exception as e:\n",
        "        print(f\"Error saat melakukan prediksi dengan {model_name}: {e}\")\n",
        "        return None\n",
        "\n",
        "    accuracy = accuracy_score(y_test_data, y_pred)\n",
        "    precision = precision_score(y_test_data, y_pred, zero_division=0) # zero_division=0 untuk menghindari warning jika tidak ada TP+FP\n",
        "    recall = recall_score(y_test_data, y_pred, zero_division=0)       # zero_division=0 untuk menghindari warning jika tidak ada TP+FN\n",
        "    f1 = f1_score(y_test_data, y_pred, zero_division=0)               # zero_division=0\n",
        "    try:\n",
        "        roc_auc = roc_auc_score(y_test_data, y_pred_proba)\n",
        "    except ValueError as e_roc: # Jika y_test hanya berisi satu kelas\n",
        "        print(f\"Tidak dapat menghitung AUC-ROC untuk {model_name}: {e_roc}. Mungkin y_test hanya berisi satu kelas.\")\n",
        "        roc_auc = np.nan\n",
        "\n",
        "\n",
        "    print(f\"\\n--- Hasil Evaluasi untuk {model_name} ---\")\n",
        "    print(f\"Accuracy: {accuracy:.4f}\")\n",
        "    print(f\"Precision: {precision:.4f}\")\n",
        "    print(f\"Recall (Sensitivity): {recall:.4f}\")\n",
        "    print(f\"F1-Score: {f1:.4f}\")\n",
        "    print(f\"AUC-ROC: {roc_auc:.4f if not np.isnan(roc_auc) else 'N/A'}\")\n",
        "\n",
        "    print(\"\\nConfusion Matrix:\")\n",
        "    cm = confusion_matrix(y_test_data, y_pred)\n",
        "    print(cm)\n",
        "\n",
        "    print(\"\\nClassification Report:\")\n",
        "    print(classification_report(y_test_data, y_pred, zero_division=0))\n",
        "\n",
        "    # Plot Confusion Matrix\n",
        "    plt.figure(figsize=(6,4))\n",
        "    sns.heatmap(cm, annot=True, fmt='d', cmap='Blues',\n",
        "                xticklabels=['Prediksi Non-Kanker (0)', 'Prediksi Kanker (1)'],\n",
        "                yticklabels=['Aktual Non-Kanker (0)', 'Aktual Kanker (1)'])\n",
        "    plt.xlabel('Prediksi Label')\n",
        "    plt.ylabel('Aktual Label')\n",
        "    plt.title(f'Confusion Matrix - {model_name}')\n",
        "    plt.show()\n",
        "\n",
        "    return {'Model': model_name, 'Accuracy': accuracy, 'Precision': precision, 'Recall': recall, 'F1-Score': f1, 'AUC-ROC': roc_auc}\n",
        "\n",
        "# Daftar untuk menyimpan hasil evaluasi\n",
        "evaluation_results_list =\n",
        "\n",
        "# Evaluasi Model Gaussian Naive Bayes\n",
        "if gnb_model and not X_test_scaled.empty and not y_test.empty:\n",
        "    print(\"\\nEvaluasi Model Gaussian Naive Bayes pada Data Testing...\")\n",
        "    results_gnb = evaluate_classification_model(gnb_model, X_test_scaled, y_test, \"Gaussian Naive Bayes\")\n",
        "    if results_gnb:\n",
        "        evaluation_results_list.append(results_gnb)\n",
        "else:\n",
        "    print(\"Model Naive Bayes atau data tes tidak siap untuk evaluasi.\")\n",
        "\n",
        "# Evaluasi Model Regresi Logistik (Gunakan model yang sudah di-tune jika ada)\n",
        "model_lr_to_evaluate = logreg_model_tuned if 'logreg_model_tuned' in locals() and logreg_model_tuned is not None else logreg_model\n",
        "\n",
        "if model_lr_to_evaluate and not X_test_scaled.empty and not y_test.empty:\n",
        "    print(\"\\nEvaluasi Model Regresi Logistik pada Data Testing...\")\n",
        "    results_logreg = evaluate_classification_model(model_lr_to_evaluate, X_test_scaled, y_test, \"Regresi Logistik (Tuned)\" if model_lr_to_evaluate == logreg_model_tuned else \"Regresi Logistik\")\n",
        "    if results_logreg:\n",
        "        evaluation_results_list.append(results_logreg)\n",
        "else:\n",
        "    print(\"Model Regresi Logistik atau data tes tidak siap untuk evaluasi.\")\n",
        "\n",
        "# Tampilkan tabel perbandingan jika ada hasil\n",
        "if evaluation_results_list:\n",
        "    comparison_df = pd.DataFrame(evaluation_results_list)\n",
        "    comparison_df.set_index('Model', inplace=True)\n",
        "    print(\"\\n--- Perbandingan Performa Model pada Data Testing ---\")\n",
        "    print(comparison_df.to_string(float_format=\"%.4f\")) #.to_string() untuk tampilan yang lebih baik\n",
        "else:\n",
        "    print(\"\\nTidak ada hasil evaluasi model yang dapat dibandingkan.\")"
      ]
    },
    {
      "cell_type": "markdown",
      "metadata": {
        "id": "sqIrSNPtz3Ku"
      },
      "source": [
        "### Review Business Objectives\n",
        "Setelah mendapatkan hasil evaluasi dari kedua model pada data testing, kita perlu meninjau kembali apakah tujuan bisnis dan kriteria sukses yang telah ditetapkan di awal tercapai.\n",
        "\n",
        "*(Bagian ini akan diisi berdasarkan output aktual dari metrik evaluasi)*\n",
        "Misalnya:\n",
        "*   **Recall:** Apakah salah satu model mencapai target recall >80%? Model mana yang memiliki recall tertinggi untuk kelas positif (kanker)?\n",
        "*   **AUC-ROC:** Apakah nilai AUC-ROC mencapai >0.75 untuk kedua model atau salah satunya?\n",
        "*   **Precision vs. Recall Trade-off:** Bagaimana keseimbangan antara precision dan recall? Dalam konteks deteksi dini kanker, recall biasanya lebih diprioritaskan, namun precision yang terlalu rendah juga tidak diinginkan karena meningkatkan jumlah tes lanjutan yang tidak perlu.\n",
        "*   **Perbandingan Model:** Model mana yang secara keseluruhan menunjukkan performa lebih baik sesuai dengan prioritas kita?\n",
        "\n",
        "#### Contoh Interpretasi (berdasarkan hasil hipotetis):\n",
        "*   Jika Naive Bayes memberikan Recall 0.82 dan AUC 0.78, sementara Regresi Logistik memberikan Recall 0.75 dan AUC 0.85.\n",
        "*   Maka, Naive Bayes lebih baik dalam mendeteksi kasus kanker (recall lebih tinggi), meskipun kemampuan diskriminatif keseluruhannya (AUC) mungkin sedikit di bawah Regresi Logistik.\n",
        "*   Keputusan model mana yang \"lebih baik\" akan bergantung pada seberapa besar kita memprioritaskan recall dibandingkan metrik lain.\n",
        "\n",
        "### Identify Limitations\n",
        "Setiap proyek pemodelan memiliki keterbatasan. Penting untuk mengidentifikasinya secara transparan:\n",
        "*   **Ukuran dan Representativitas Dataset:** Dataset yang digunakan, meskipun umum, berasal dari satu rumah sakit di Venezuela. [2] Generalisasi ke populasi lain mungkin terbatas. Ukuran sampel (~800-an) mungkin juga membatasi kemampuan model untuk mempelajari pola yang sangat kompleks.\n",
        "*   **Kualitas Data Asli:** Adanya *missing values* yang signifikan pada beberapa fitur risiko (meskipun sudah diimputasi) dapat memengaruhi kualitas model akhir. Imputasi adalah estimasi, bukan data asli.\n",
        "*   **Keterbatasan Fitur:** Dataset mungkin tidak mencakup semua faktor risiko potensial atau biomarker yang lebih spesifik dan baru untuk kanker serviks.\n",
        "*   **Asumsi Model:** Naive Bayes mengasumsikan independensi fitur yang mungkin tidak sepenuhnya benar. Regresi Logistik mengasumsikan hubungan linear antara log-odds dan fitur (meskipun penskalaan membantu).\n",
        "*   **Efek SMOTE:** SMOTE membantu menyeimbangkan kelas untuk training, tetapi menghasilkan data sintetis. Performa pada data testing yang tidak seimbang adalah ukuran yang lebih realistis, namun model mungkin masih terpengaruh oleh data sintetis yang dilihatnya saat training.\n",
        "*   **Fokus pada Dua Model:** Analisis ini terbatas pada Naive Bayes dan Regresi Logistik. Model lain yang lebih kompleks (misalnya, Random Forest, Gradient Boosting [7], SVM [2]) mungkin memberikan performa yang berbeda.\n",
        "\n",
        "### Decide Next Steps\n",
        "Berdasarkan evaluasi dan identifikasi limitasi, langkah selanjutnya dapat meliputi:\n",
        "*   **Jika Performa Memuaskan:**\n",
        "    *   **Interpretasi Lebih Dalam:** Untuk model Regresi Logistik, analisis koefisien fitur dapat memberikan wawasan tentang faktor risiko mana yang paling berpengaruh.\n",
        "    *   **Validasi Eksternal:** Menguji model pada dataset independen dari populasi atau setting klinis yang berbeda.\n",
        "    *   **Studi Prospektif:** Merancang studi untuk mengevaluasi kegunaan klinis model dalam skenario dunia nyata.\n",
        "    *   **Pengembangan Alat Bantu:** Mempertimbangkan pengembangan prototipe alat bantu skrining sederhana (misalnya, kalkulator risiko) untuk diuji oleh tenaga medis.\n",
        "*   **Jika Performa Belum Memuaskan:**\n",
        "    *   **Rekayasa Fitur (Feature Engineering):** Membuat fitur baru dari yang sudah ada, atau mencari cara untuk mengkuantifikasi interaksi antar fitur.\n",
        "    *   **Eksplorasi Model Lain:** Mencoba algoritma klasifikasi yang lebih canggih.\n",
        "    *   **Pengumpulan Data Tambahan:** Jika memungkinkan, memperbesar dataset atau menambahkan fitur yang lebih relevan.\n",
        "    *   **Strategi Penanganan Data yang Berbeda:** Mengeksplorasi metode imputasi atau penyeimbangan kelas alternatif.\n",
        "    *   **Revisi Kriteria Sukses:** Mungkin kriteria awal terlalu ambisius untuk dataset yang ada, atau fokus perlu disesuaikan.\n",
        "\n",
        "#### Interpretasi Koefisien Regresi Logistik (jika modelnya baik)\n",
        "Jika model Regresi Logistik (yang sudah di-tune) menunjukkan performa yang baik dan dipilih, kita dapat menganalisis koefisiennya."
      ]
    },
    {
      "cell_type": "code",
      "execution_count": null,
      "metadata": {
        "id": "t7GPZ_lCz3Ku"
      },
      "outputs": [],
      "source": [
        "# Pastikan menggunakan model Regresi Logistik yang final (misalnya, yang sudah dituning)\n",
        "final_logreg_model = model_lr_to_evaluate # Menggunakan model yang dievaluasi sebelumnya\n",
        "\n",
        "if final_logreg_model and hasattr(final_logreg_model, 'coef_') and not X_train_scaled.empty :\n",
        "    try:\n",
        "        # Ambil nama fitur dari X_train_scaled (karena model dilatih pada data yang sudah diskalakan)\n",
        "        feature_names = X_train_scaled.columns\n",
        "        coefficients = final_logreg_model.coef_ # Koefisien untuk kelas positif (1)\n",
        "\n",
        "        # Buat DataFrame untuk kemudahan interpretasi\n",
        "        coeff_df = pd.DataFrame({'Fitur': feature_names, 'Koefisien': coefficients})\n",
        "        coeff_df = np.exp(coeff_df['Koefisien']) # Odd ratio = exp(koefisien)\n",
        "        coeff_df = coeff_df.sort_values(by='Koefisien', ascending=False)\n",
        "\n",
        "        print(\"\\n--- Pentingnya Fitur berdasarkan Koefisien Regresi Logistik ---\")\n",
        "        print(coeff_df.to_string())\n",
        "\n",
        "        # Visualisasi Koefisien\n",
        "        plt.figure(figsize=(12, max(8, len(feature_names) * 0.3))) # Sesuaikan tinggi berdasarkan jumlah fitur\n",
        "        sns.barplot(x='Koefisien', y='Fitur', data=coeff_df, palette=\"coolwarm\")\n",
        "        plt.title('Koefisien Fitur dari Model Regresi Logistik', fontsize=14)\n",
        "        plt.xlabel('Nilai Koefisien (Log-Odds)', fontsize=12)\n",
        "        plt.ylabel('Fitur', fontsize=12)\n",
        "        plt.axvline(x=0, color='black', linestyle='--')\n",
        "        plt.grid(axis='x', linestyle=':')\n",
        "        plt.tight_layout()\n",
        "        plt.show()\n",
        "\n",
        "    except Exception as e:\n",
        "        print(f\"Tidak dapat menampilkan feature importance untuk Regresi Logistik: {e}\")\n",
        "else:\n",
        "    print(\"\\nTidak dapat menampilkan feature importance: Model Regresi Logistik tidak terlatih, tidak memiliki atribut koefisien, atau X_train_scaled kosong.\")"
      ]
    },
    {
      "cell_type": "markdown",
      "metadata": {
        "id": "fqaY6PJMz3Ku"
      },
      "source": [
        "#### Interpretasi Koefisien Regresi Logistik:\n",
        "*   **Koefisien Positif (Odd Ratio > 1):** Menunjukkan bahwa peningkatan satu unit pada fitur tersebut (setelah standarisasi) meningkatkan log-odds (dan وبالتالي probabilitas) terjadinya kanker serviks, dengan asumsi fitur lain konstan. Odd Ratio > 1 berarti fitur tersebut adalah faktor risiko.\n",
        "*   **Koefisien Negatif (Odd Ratio < 1):** Menunjukkan bahwa peningkatan satu unit pada fitur tersebut menurunkan log-odds (dan probabilitas) terjadinya kanker serviks. Odd Ratio < 1 berarti fitur tersebut adalah faktor protektif.\n",
        "*   **Besaran Koefisien/Odd Ratio:** Semakin jauh nilai koefisien dari nol (atau Odd Ratio dari 1), semakin kuat pengaruh fitur tersebut terhadap prediksi.\n",
        "\n",
        "*(Analisis spesifik berdasarkan output koefisien aktual akan ditulis di sini. Misalnya, jika 'Age' memiliki koefisien positif yang besar, ini mengindikasikan usia yang lebih tua adalah faktor risiko signifikan. Jika 'IUD (years)' memiliki koefisien negatif, ini mungkin menunjukkan efek protektif dari penggunaan IUD jangka panjang, seperti yang disarankan beberapa penelitian.[1])*\n",
        "\n",
        "## Deployment (Opsional untuk Penelitian Akademik)\n",
        "\n",
        "Meskipun implementasi penuh di lingkungan klinis berada di luar cakupan proyek akademik ini, beberapa rekomendasi dapat diberikan berdasarkan hasil analisis:\n",
        "*   **Jika Model Menjanjikan:** Jika salah satu model (misalnya, Regresi Logistik karena interpretabilitasnya) menunjukkan performa yang baik (terutama recall tinggi dengan precision yang dapat diterima), model tersebut dapat menjadi dasar untuk pengembangan alat bantu skrining risiko awal.\n",
        "*   **Bentuk Alat Bantu:** Ini bisa berupa kalkulator risiko sederhana berbasis web atau terintegrasi dalam sistem rekam medis elektronik, di mana tenaga medis dapat memasukkan data pasien dan mendapatkan estimasi risiko.\n",
        "*   **Pentingnya Konteks Klinis:** Harus ditekankan bahwa model ini adalah **alat bantu keputusan**, bukan pengganti diagnosis klinis definitif oleh profesional medis. Hasil prediksi dari model harus selalu diinterpretasikan dalam konteks klinis pasien secara keseluruhan dan diikuti dengan pemeriksaan diagnostik standar jika diindikasikan.\n",
        "*   **Validasi Lebih Lanjut:** Sebelum implementasi klinis yang sebenarnya, validasi ekstensif pada populasi yang beragam dan studi prospektif untuk menilai dampak klinisnya sangat diperlukan.\n",
        "*   **Panduan Pengguna:** Jika dikembangkan lebih lanjut, panduan yang jelas untuk tenaga medis tentang cara menggunakan model, interpretasi hasilnya, dan keterbatasannya harus disediakan.\n",
        "\n",
        "---\n",
        "*Akhir dari Notebook*"
      ]
    },
    {
      "cell_type": "markdown",
      "metadata": {
        "id": "F9xXm42vz3Ku"
      },
      "source": [
        "<div class=\"md-recitation\">\n",
        "  Sources\n",
        "  <ol>\n",
        "  <li><a href=\"https://github.com/HassanNazeerChaudhry/fakereview\">https://github.com/HassanNazeerChaudhry/fakereview</a></li>\n",
        "  <li><a href=\"https://github.com/mulla-arbas-ahammed/Healthcare-Diabetics-Prediction\">https://github.com/mulla-arbas-ahammed/Healthcare-Diabetics-Prediction</a></li>\n",
        "  <li><a href=\"https://github.com/Durgaprasad9011/Auto-WCEBleedGen-Challenge\">https://github.com/Durgaprasad9011/Auto-WCEBleedGen-Challenge</a></li>\n",
        "  </ol>\n",
        "</div>"
      ]
    }
  ],
  "metadata": {
    "colab": {
      "provenance": []
    },
    "kernelspec": {
      "display_name": ".venv",
      "language": "python",
      "name": "python3"
    },
    "language_info": {
      "codemirror_mode": {
        "name": "ipython",
        "version": 3
      },
      "file_extension": ".py",
      "mimetype": "text/x-python",
      "name": "python",
      "nbconvert_exporter": "python",
      "pygments_lexer": "ipython3",
      "version": "3.12.6"
    }
  },
  "nbformat": 4,
  "nbformat_minor": 0
}
