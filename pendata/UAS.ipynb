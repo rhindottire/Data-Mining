{
 "cells": [
  {
   "cell_type": "markdown",
   "id": "2e97e051",
   "metadata": {},
   "source": [
    "# UAS"
   ]
  },
  {
   "cell_type": "markdown",
   "id": "a04989c2",
   "metadata": {},
   "source": [
    "Assignment Refrence: [umarmuchtar](https://umarmuchtar.github.io/uas_datamining_git/uas.html)"
   ]
  },
  {
   "cell_type": "code",
   "execution_count": null,
   "id": "7a019480",
   "metadata": {},
   "outputs": [],
   "source": [
    "import os, subprocess\n",
    "import pandas as pd"
   ]
  },
  {
   "cell_type": "code",
   "execution_count": null,
   "id": "90052c9e",
   "metadata": {},
   "outputs": [],
   "source": [
    "file_path = os.path.abspath('resource/winequality-red.csv')\n",
    "try:\n",
    "    subprocess.run(['start', '', file_path], shell=True)\n",
    "except Exception as e:\n",
    "    print(\"Something went wrong:\", e)\n",
    "\n",
    "df1 = pd.read_csv('resource/winequality-red.csv', sep=';')\n",
    "df2 = pd.read_csv('resource/winequality-white.csv', sep=';')"
   ]
  },
  {
   "cell_type": "code",
   "execution_count": null,
   "id": "36ddec84",
   "metadata": {},
   "outputs": [],
   "source": [
    "df1.info()"
   ]
  },
  {
   "cell_type": "code",
   "execution_count": null,
   "id": "01341367",
   "metadata": {},
   "outputs": [],
   "source": [
    "df2.info()"
   ]
  },
  {
   "cell_type": "markdown",
   "id": "20f5a784",
   "metadata": {},
   "source": [
    "## Wine Quality"
   ]
  },
  {
   "cell_type": "markdown",
   "id": "ea4993f2",
   "metadata": {},
   "source": [
    "Donated on 10/6/2009\n",
    "\n",
    "Two datasets are included, related to red and white vinho verde wine samples, from the north of Portugal. The goal is to model wine quality based on physicochemical tests (see [Cortez et al., 2009](http://www3.dsi.uminho.pt/pcortez/wine/)).\n",
    "\n",
    "Wine Quality Datasets\n",
    "These datasets are public available for research purposes only. The details are described in\n",
    "[Cortez et al., 2009]: [[©Elsevier]](https://www.sciencedirect.com/science/article/abs/pii/S0167923609001377?via%3Dihub) [[Pre-press (pdf)]](http://www3.dsi.uminho.pt/pcortez/wine5.pdf) [[bib]](http://www3.dsi.uminho.pt/pcortez/dss09-bib.txt). Please include this citation if you plan to use these datasets:\n",
    "P. Cortez, A. Cerdeira, F. Almeida, T. Matos and J. Reis. Modeling wine preferences by data mining from physicochemical properties. In Decision Support Systems, Elsevier, 47(4):547-553, 2009.\n",
    "\n",
    "The data can be used to test (ordinal) regression or classification (in effect, this is a multi-class task, where the clases are ordered) methods. Other research issues are feature selection and outlier detection. The data includes two datasets:\n",
    "\n",
    "winequality-red.csv - red wine preference samples;\n",
    "winequality-white.csv - white wine preference samples;\n",
    "The datasets are available here: [winequality.zip]()\n",
    "Vinho verde is a unique product from the Minho (northwest) region of Portugal. Medium in alcohol, is it particularly appreciated due to its freshness (specially in the summer). More details can be found at: http://www.vinhoverde.pt/en/\n",
    "\n",
    "\n",
    "Return to: [Paulo Cortez Downloads](http://www3.dsi.uminho.pt/pcortez/Downloads.html) [Paulo Cortez Home Pagex](https://pcortez.dsi.uminho.pt/) "
   ]
  },
  {
   "cell_type": "markdown",
   "id": "d1f84ea7",
   "metadata": {},
   "source": [
    "- Dataset Characteristics: Multivariate\n",
    "- Subject Area: Business\n",
    "- Associated Tasks: Classification, Regression\n",
    "- Feature Type: Real\n",
    "- Instance: 4898\n",
    "- Features: 11"
   ]
  },
  {
   "cell_type": "markdown",
   "id": "3a848e49",
   "metadata": {},
   "source": [
    "### Dataset Information"
   ]
  },
  {
   "cell_type": "markdown",
   "id": "8dc1f65d",
   "metadata": {},
   "source": [
    "**Additional Information**  \n",
    "The two datasets are related to red and white variants of the Portuguese \"Vinho Verde\" wine. For more details, consult: http://www.vinhoverde.pt/en/ or the reference [Cortez et al., 2009].  Due to privacy and logistic issues, only physicochemical (inputs) and sensory (the output) variables are available (e.g. there is no data about grape types, wine brand, wine selling price, etc.).\n",
    "\n",
    "These datasets can be viewed as classification or regression tasks.  The classes are ordered and not balanced (e.g. there are many more normal wines than excellent or poor ones). Outlier detection algorithms could be used to detect the few excellent or poor wines. Also, we are not sure if all input variables are relevant. So it could be interesting to test feature selection methods."
   ]
  },
  {
   "cell_type": "markdown",
   "id": "1fecba3b",
   "metadata": {},
   "source": [
    "### Introductory Paper"
   ]
  },
  {
   "cell_type": "markdown",
   "id": "e6f713ec",
   "metadata": {},
   "source": [
    "[Modeling wine preferences by data mining from physicochemical properties](https://www.semanticscholar.org/paper/Modeling-wine-preferences-by-data-mining-from-Cortez-Cerdeira/bf15a0ccc14ac1deb5cea570c870389c16be019c)  \n",
    "By P. Cortez, A. Cerdeira, Fernando Almeida, Telmo Matos, J. Reis. 2009  \n",
    "Published in Decision Support Systems"
   ]
  },
  {
   "cell_type": "markdown",
   "id": "722aa527",
   "metadata": {},
   "source": [
    "### Variable Table"
   ]
  },
  {
   "cell_type": "markdown",
   "id": "31e67ea2",
   "metadata": {},
   "source": [
    "| Variable Name        | Role    | Type        | Decription             | Units | Missing Values |\n",
    "|----------------------|---------|-------------|------------------------|-------|----------------|\n",
    "| fixed_acidity\t       | Feature | Continuous  | ...                    | ...   | No             |\n",
    "| volatile_acidity     | Feature | Continuous  | ...                    | ...   | No             |\n",
    "| citric_acid          | Feature | Continuous  | ...                    | ...   | No             |\n",
    "| residual_sugar       | Feature | Continuous  | ...                    | ...   | No             |\n",
    "| chlorides            | Feature | Continuous  | ...                    | ...   | No             |\n",
    "| free_sulfur_dioxide  | Feature | Continuous  | ...                    | ...   | No             |\n",
    "| total_sulfur_dioxide | Feature | Continuous  | ...                    | ...   | No             |\n",
    "| density              | Feature | Continuous  | ...                    | ...   | No             |\n",
    "| pH                   | Feature | Continuous  | ...                    | ...   | No             |\n",
    "| sulphates            | Feature | Continuous  | ...                    | ...   | No             |\n",
    "| alcohol              | Feature | Continuous  | ...                    | ...   | No             |\n",
    "| `quality`            | Target  | Integer     | score between 0 and 10 | ...   | No             |\n",
    "| **color**            | Other   | Categorical | red or white           | ...   | No             |"
   ]
  },
  {
   "cell_type": "markdown",
   "id": "50913988",
   "metadata": {},
   "source": [
    "### Additional Variable Information"
   ]
  },
  {
   "cell_type": "markdown",
   "id": "2b3a1dc9",
   "metadata": {},
   "source": [
    "For more information, read [Cortez et al., 2009].  \n",
    "* Input variables (based on physicochemical tests):  \n",
    "   - 1 - fixed acidity\n",
    "   - 2 - volatile acidity\n",
    "   - 3 - citric acid\n",
    "   - 4 - residual sugar\n",
    "   - 5 - chlorides\n",
    "   - 6 - free sulfur dioxide\n",
    "   - 7 - total sulfur dioxide\n",
    "   - 8 - density\n",
    "   - 9 - pH\n",
    "   - 10 - sulphates\n",
    "   - 11 - alcohol  \n",
    "* Output variable (based on sensory data): \n",
    "   - 12 - quality (score between 0 and 10)\n",
    "\n",
    "Source: [Wine Quality](https://archive.ics.uci.edu/dataset/186/wine+quality)"
   ]
  },
  {
   "cell_type": "markdown",
   "id": "9bbb249e",
   "metadata": {},
   "source": [
    "### Dataset Files"
   ]
  },
  {
   "cell_type": "markdown",
   "id": "1a231052",
   "metadata": {},
   "source": [
    "| File\t                | Size     |\n",
    "|-----------------------|----------|\n",
    "| winequality-white.csv\t| 258.2 KB |\n",
    "| winequality-red.csv\t  | 82.2 KB  |\n",
    "| winequality.names    \t| 3.2 KB   |"
   ]
  },
  {
   "cell_type": "markdown",
   "id": "1f257d99",
   "metadata": {},
   "source": [
    "### More Information"
   ]
  },
  {
   "cell_type": "markdown",
   "id": "c8659f66",
   "metadata": {},
   "source": [
    "Install the ucimlrepo package:\n",
    "```python\n",
    "pip install ucimlrepo\n",
    "```\n",
    "Import the dataset into your code:\n",
    "```python\n",
    "from ucimlrepo import fetch_ucirepo \n",
    "  \n",
    "# fetch dataset \n",
    "wine_quality = fetch_ucirepo(id=186) \n",
    "  \n",
    "# data (as pandas dataframes) \n",
    "X = wine_quality.data.features \n",
    "y = wine_quality.data.targets \n",
    "  \n",
    "# metadata \n",
    "print(wine_quality.metadata) \n",
    "  \n",
    "# variable information \n",
    "print(wine_quality.variables) \n",
    "```\n",
    "\n",
    "\n",
    "[View Full Documentation](https://github.com/uci-ml-repo/ucimlrepo)  \n",
    "License: This dataset is licensed under a [Creative Commons Attribution 4.0 International](http://creativecommons.org/licenses/by/4.0/legalcode) (CC BY 4.0) license."
   ]
  },
  {
   "cell_type": "markdown",
   "id": "db5c03ec",
   "metadata": {},
   "source": [
    "## Assignment To-Do"
   ]
  },
  {
   "cell_type": "markdown",
   "id": "c38fe37b",
   "metadata": {},
   "source": [
    "## Data Mining Process (`CRISP-DM`)"
   ]
  },
  {
   "cell_type": "markdown",
   "id": "19a4f238",
   "metadata": {},
   "source": [
    "### 1. Business Understanding"
   ]
  },
  {
   "cell_type": "markdown",
   "id": "c5857bcd",
   "metadata": {},
   "source": [
    "#### 1.1. Define the Problem"
   ]
  },
  {
   "cell_type": "markdown",
   "id": "f130a552",
   "metadata": {},
   "source": [
    "#### 1.2. Objectives"
   ]
  },
  {
   "cell_type": "markdown",
   "id": "ecda3f1b",
   "metadata": {},
   "source": [
    "#### 1.3. Identify Stakeholders"
   ]
  },
  {
   "cell_type": "markdown",
   "id": "6408856a",
   "metadata": {},
   "source": [
    "#### 1.4. Success Criteria"
   ]
  },
  {
   "cell_type": "markdown",
   "id": "6b757dd0",
   "metadata": {},
   "source": [
    "### 2. Data Understanding"
   ]
  },
  {
   "cell_type": "markdown",
   "id": "840518ef",
   "metadata": {},
   "source": [
    "#### 2.1 Data Collection"
   ]
  },
  {
   "cell_type": "markdown",
   "id": "a31f0433",
   "metadata": {},
   "source": [
    "#### 2.2. Data Description"
   ]
  },
  {
   "cell_type": "markdown",
   "id": "e943c2e9",
   "metadata": {},
   "source": [
    "#### 2.3. Data Exploration"
   ]
  },
  {
   "cell_type": "markdown",
   "id": "3269e398",
   "metadata": {},
   "source": [
    "#### 2.4. Data Quality"
   ]
  },
  {
   "cell_type": "markdown",
   "id": "fc4dd3ae",
   "metadata": {},
   "source": [
    "### 3. Data Preparation"
   ]
  },
  {
   "cell_type": "markdown",
   "id": "81cb6bc2",
   "metadata": {},
   "source": [
    "#### 3.1 Data Cleaning"
   ]
  },
  {
   "cell_type": "markdown",
   "id": "4203aee9",
   "metadata": {},
   "source": [
    "#### 3.2. Data Transformation"
   ]
  },
  {
   "cell_type": "markdown",
   "id": "40fadf7a",
   "metadata": {},
   "source": [
    "#### 3.3. Data Integration"
   ]
  },
  {
   "cell_type": "markdown",
   "id": "a9f99801",
   "metadata": {},
   "source": [
    "#### 3.4. Data Reduction"
   ]
  },
  {
   "cell_type": "markdown",
   "id": "3e5134ac",
   "metadata": {},
   "source": [
    "### 4. Modeling"
   ]
  },
  {
   "cell_type": "markdown",
   "id": "2149fafd",
   "metadata": {},
   "source": [
    "#### 4.1. Modeling Techniques"
   ]
  },
  {
   "cell_type": "markdown",
   "id": "5dde08e5",
   "metadata": {},
   "source": [
    "#### 4.2. Build Models"
   ]
  },
  {
   "cell_type": "markdown",
   "id": "3d3432a5",
   "metadata": {},
   "source": [
    "#### 4.3. Tune Models"
   ]
  },
  {
   "cell_type": "markdown",
   "id": "bf6814f8",
   "metadata": {},
   "source": [
    "#### 4.4. Validate Models"
   ]
  },
  {
   "cell_type": "markdown",
   "id": "1d5b9c40",
   "metadata": {},
   "source": [
    "### 5. Evaluation"
   ]
  },
  {
   "cell_type": "markdown",
   "id": "25f751e8",
   "metadata": {},
   "source": [
    "#### 5.1. Evaluate Results"
   ]
  },
  {
   "cell_type": "markdown",
   "id": "f3e9d4f4",
   "metadata": {},
   "source": [
    "##### 5.1.1. ROC"
   ]
  },
  {
   "cell_type": "markdown",
   "id": "a1f8de41",
   "metadata": {},
   "source": [
    "##### 5.1.2. AUC "
   ]
  },
  {
   "cell_type": "markdown",
   "id": "d1dbfd03",
   "metadata": {},
   "source": [
    "#### 5.2. Review Business Objectives"
   ]
  },
  {
   "cell_type": "markdown",
   "id": "43cc2f72",
   "metadata": {},
   "source": [
    "#### 5.3. Model Limitations"
   ]
  },
  {
   "cell_type": "markdown",
   "id": "65c3e78b",
   "metadata": {},
   "source": [
    "#### 5.4. Next Steps"
   ]
  },
  {
   "cell_type": "markdown",
   "id": "32088616",
   "metadata": {},
   "source": [
    "### 6. Deployment"
   ]
  },
  {
   "cell_type": "markdown",
   "id": "560bce35",
   "metadata": {},
   "source": [
    "We're working on it ;)"
   ]
  }
 ],
 "metadata": {
  "kernelspec": {
   "display_name": ".venv",
   "language": "python",
   "name": "python3"
  },
  "language_info": {
   "codemirror_mode": {
    "name": "ipython",
    "version": 3
   },
   "file_extension": ".py",
   "mimetype": "text/x-python",
   "name": "python",
   "nbconvert_exporter": "python",
   "pygments_lexer": "ipython3",
   "version": "3.12.6"
  }
 },
 "nbformat": 4,
 "nbformat_minor": 5
}
