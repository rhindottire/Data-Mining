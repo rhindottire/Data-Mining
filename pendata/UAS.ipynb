{
 "cells": [
  {
   "cell_type": "markdown",
   "id": "2e97e051",
   "metadata": {},
   "source": [
    "# UAS"
   ]
  },
  {
   "cell_type": "markdown",
   "id": "a04989c2",
   "metadata": {},
   "source": [
    "Assignment Refrence: [umarmuchtar](https://umarmuchtar.github.io/uas_datamining_git/uas.html)"
   ]
  },
  {
   "cell_type": "code",
   "execution_count": 172,
   "id": "7a019480",
   "metadata": {},
   "outputs": [],
   "source": [
    "import os, subprocess\n",
    "import pandas as pd"
   ]
  },
  {
   "cell_type": "code",
   "execution_count": 173,
   "id": "90052c9e",
   "metadata": {},
   "outputs": [],
   "source": [
    "# file_path = os.path.abspath('resource/winequality-red.csv')\n",
    "# try:\n",
    "#     subprocess.run(['start', '', file_path], shell=True)\n",
    "# except Exception as e:\n",
    "#     print(\"Something went wrong:\", e)\n",
    "\n",
    "df_red = pd.read_csv('resource/winequality-red.csv', sep=';')\n",
    "df_white = pd.read_csv('resource/winequality-white.csv', sep=';')"
   ]
  },
  {
   "cell_type": "code",
   "execution_count": 174,
   "id": "36ddec84",
   "metadata": {},
   "outputs": [
    {
     "name": "stdout",
     "output_type": "stream",
     "text": [
      "<class 'pandas.core.frame.DataFrame'>\n",
      "RangeIndex: 1599 entries, 0 to 1598\n",
      "Data columns (total 12 columns):\n",
      " #   Column                Non-Null Count  Dtype  \n",
      "---  ------                --------------  -----  \n",
      " 0   fixed acidity         1599 non-null   float64\n",
      " 1   volatile acidity      1599 non-null   float64\n",
      " 2   citric acid           1599 non-null   float64\n",
      " 3   residual sugar        1599 non-null   float64\n",
      " 4   chlorides             1599 non-null   float64\n",
      " 5   free sulfur dioxide   1599 non-null   float64\n",
      " 6   total sulfur dioxide  1599 non-null   float64\n",
      " 7   density               1599 non-null   float64\n",
      " 8   pH                    1599 non-null   float64\n",
      " 9   sulphates             1599 non-null   float64\n",
      " 10  alcohol               1599 non-null   float64\n",
      " 11  quality               1599 non-null   int64  \n",
      "dtypes: float64(11), int64(1)\n",
      "memory usage: 150.0 KB\n"
     ]
    }
   ],
   "source": [
    "df_red.info()"
   ]
  },
  {
   "cell_type": "code",
   "execution_count": 175,
   "id": "01341367",
   "metadata": {},
   "outputs": [
    {
     "name": "stdout",
     "output_type": "stream",
     "text": [
      "<class 'pandas.core.frame.DataFrame'>\n",
      "RangeIndex: 4898 entries, 0 to 4897\n",
      "Data columns (total 12 columns):\n",
      " #   Column                Non-Null Count  Dtype  \n",
      "---  ------                --------------  -----  \n",
      " 0   fixed acidity         4898 non-null   float64\n",
      " 1   volatile acidity      4898 non-null   float64\n",
      " 2   citric acid           4898 non-null   float64\n",
      " 3   residual sugar        4898 non-null   float64\n",
      " 4   chlorides             4898 non-null   float64\n",
      " 5   free sulfur dioxide   4898 non-null   float64\n",
      " 6   total sulfur dioxide  4898 non-null   float64\n",
      " 7   density               4898 non-null   float64\n",
      " 8   pH                    4898 non-null   float64\n",
      " 9   sulphates             4898 non-null   float64\n",
      " 10  alcohol               4898 non-null   float64\n",
      " 11  quality               4898 non-null   int64  \n",
      "dtypes: float64(11), int64(1)\n",
      "memory usage: 459.3 KB\n"
     ]
    }
   ],
   "source": [
    "df_white.info()"
   ]
  },
  {
   "cell_type": "markdown",
   "id": "20f5a784",
   "metadata": {},
   "source": [
    "## Wine Quality"
   ]
  },
  {
   "cell_type": "markdown",
   "id": "ea4993f2",
   "metadata": {},
   "source": [
    "Donated on 10/6/2009\n",
    "\n",
    "Two datasets are included, related to red and white vinho verde wine samples, from the north of Portugal. The goal is to model wine quality based on physicochemical tests (see [Cortez et al., 2009](http://www3.dsi.uminho.pt/pcortez/wine/)).\n",
    "\n",
    "Wine Quality Datasets\n",
    "These datasets are public available for research purposes only. The details are described in\n",
    "[Cortez et al., 2009]: [[©Elsevier]](https://www.sciencedirect.com/science/article/abs/pii/S0167923609001377?via%3Dihub) [[Pre-press (pdf)]](http://www3.dsi.uminho.pt/pcortez/wine5.pdf) [[bib]](http://www3.dsi.uminho.pt/pcortez/dss09-bib.txt). Please include this citation if you plan to use these datasets:\n",
    "P. Cortez, A. Cerdeira, F. Almeida, T. Matos and J. Reis. Modeling wine preferences by data mining from physicochemical properties. In Decision Support Systems, Elsevier, 47(4):547-553, 2009.\n",
    "\n",
    "The data can be used to test (ordinal) regression or classification (in effect, this is a multi-class task, where the clases are ordered) methods. Other research issues are feature selection and outlier detection. The data includes two datasets:\n",
    "\n",
    "winequality-red.csv - red wine preference samples;\n",
    "winequality-white.csv - white wine preference samples;\n",
    "The datasets are available here: [winequality.zip]()\n",
    "Vinho verde is a unique product from the Minho (northwest) region of Portugal. Medium in alcohol, is it particularly appreciated due to its freshness (specially in the summer). More details can be found at: http://www.vinhoverde.pt/en/\n",
    "\n",
    "\n",
    "Return to: [Paulo Cortez Downloads](http://www3.dsi.uminho.pt/pcortez/Downloads.html) [Paulo Cortez Home Pagex](https://pcortez.dsi.uminho.pt/) "
   ]
  },
  {
   "cell_type": "markdown",
   "id": "d1f84ea7",
   "metadata": {},
   "source": [
    "- Dataset Characteristics: Multivariate\n",
    "- Subject Area: Business\n",
    "- Associated Tasks: Classification, Regression\n",
    "- Feature Type: Real\n",
    "- Instance: 4898\n",
    "- Features: 11"
   ]
  },
  {
   "cell_type": "markdown",
   "id": "3a848e49",
   "metadata": {},
   "source": [
    "### Dataset Information"
   ]
  },
  {
   "cell_type": "markdown",
   "id": "8dc1f65d",
   "metadata": {},
   "source": [
    "**Additional Information**  \n",
    "The two datasets are related to red and white variants of the Portuguese \"Vinho Verde\" wine. For more details, consult: http://www.vinhoverde.pt/en/ or the reference [Cortez et al., 2009].  Due to privacy and logistic issues, only physicochemical (inputs) and sensory (the output) variables are available (e.g. there is no data about grape types, wine brand, wine selling price, etc.).\n",
    "\n",
    "These datasets can be viewed as `classification` or `regression` tasks.  The classes are ordered and not balanced (e.g. there are many more normal wines than excellent or poor ones). Outlier detection algorithms could be used to detect the few excellent or poor wines. Also, we are not sure if all input variables are relevant. So it could be interesting to test feature selection methods."
   ]
  },
  {
   "cell_type": "markdown",
   "id": "1fecba3b",
   "metadata": {},
   "source": [
    "### Introductory Paper"
   ]
  },
  {
   "cell_type": "markdown",
   "id": "e6f713ec",
   "metadata": {},
   "source": [
    "[Modeling wine preferences by data mining from physicochemical properties](https://www.semanticscholar.org/paper/Modeling-wine-preferences-by-data-mining-from-Cortez-Cerdeira/bf15a0ccc14ac1deb5cea570c870389c16be019c)  \n",
    "By P. Cortez, A. Cerdeira, Fernando Almeida, Telmo Matos, J. Reis. 2009  \n",
    "Published in Decision Support Systems"
   ]
  },
  {
   "cell_type": "markdown",
   "id": "722aa527",
   "metadata": {},
   "source": [
    "### Variable Table"
   ]
  },
  {
   "cell_type": "markdown",
   "id": "31e67ea2",
   "metadata": {},
   "source": [
    "| Variable Name        | Role    | Type        | Decription             | Units | Missing Values |\n",
    "|----------------------|---------|-------------|------------------------|-------|----------------|\n",
    "| fixed_acidity\t       | Feature | Continuous  | ...                    | ...   | No             |\n",
    "| volatile_acidity     | Feature | Continuous  | ...                    | ...   | No             |\n",
    "| citric_acid          | Feature | Continuous  | ...                    | ...   | No             |\n",
    "| residual_sugar       | Feature | Continuous  | ...                    | ...   | No             |\n",
    "| chlorides            | Feature | Continuous  | ...                    | ...   | No             |\n",
    "| free_sulfur_dioxide  | Feature | Continuous  | ...                    | ...   | No             |\n",
    "| total_sulfur_dioxide | Feature | Continuous  | ...                    | ...   | No             |\n",
    "| density              | Feature | Continuous  | ...                    | ...   | No             |\n",
    "| pH                   | Feature | Continuous  | ...                    | ...   | No             |\n",
    "| sulphates            | Feature | Continuous  | ...                    | ...   | No             |\n",
    "| alcohol              | Feature | Continuous  | ...                    | ...   | No             |\n",
    "| `quality`            | Target  | Integer     | score between 0 and 10 | ...   | No             |\n",
    "| **color**            | Other   | Categorical | red or white           | ...   | No             |"
   ]
  },
  {
   "cell_type": "markdown",
   "id": "50913988",
   "metadata": {},
   "source": [
    "### Additional Variable Information"
   ]
  },
  {
   "cell_type": "markdown",
   "id": "2b3a1dc9",
   "metadata": {},
   "source": [
    "For more information, read [Cortez et al., 2009].  \n",
    "* Input variables (based on physicochemical tests):  \n",
    "   - 1 - fixed acidity\n",
    "   - 2 - volatile acidity\n",
    "   - 3 - citric acid\n",
    "   - 4 - residual sugar\n",
    "   - 5 - chlorides\n",
    "   - 6 - free sulfur dioxide\n",
    "   - 7 - total sulfur dioxide\n",
    "   - 8 - density\n",
    "   - 9 - pH\n",
    "   - 10 - sulphates\n",
    "   - 11 - alcohol  \n",
    "* Output variable (based on sensory data): \n",
    "   - 12 - quality (score between 0 and 10)\n",
    "\n",
    "Source: [Wine Quality](https://archive.ics.uci.edu/dataset/186/wine+quality)"
   ]
  },
  {
   "cell_type": "markdown",
   "id": "9bbb249e",
   "metadata": {},
   "source": [
    "### Dataset Files"
   ]
  },
  {
   "cell_type": "markdown",
   "id": "1a231052",
   "metadata": {},
   "source": [
    "| File\t                | Size     |\n",
    "|-----------------------|----------|\n",
    "| winequality-white.csv\t| 258.2 KB |\n",
    "| winequality-red.csv\t  | 82.2 KB  |\n",
    "| winequality.names    \t| 3.2 KB   |"
   ]
  },
  {
   "cell_type": "markdown",
   "id": "1f257d99",
   "metadata": {},
   "source": [
    "### More Information"
   ]
  },
  {
   "cell_type": "markdown",
   "id": "c8659f66",
   "metadata": {},
   "source": [
    "Install the ucimlrepo package:\n",
    "```python\n",
    "pip install ucimlrepo\n",
    "```\n",
    "Import the dataset into your code:\n",
    "```python\n",
    "from ucimlrepo import fetch_ucirepo \n",
    "  \n",
    "# fetch dataset \n",
    "wine_quality = fetch_ucirepo(id=186) \n",
    "  \n",
    "# data (as pandas dataframes) \n",
    "X = wine_quality.data.features \n",
    "y = wine_quality.data.targets \n",
    "  \n",
    "# metadata \n",
    "print(wine_quality.metadata) \n",
    "  \n",
    "# variable information \n",
    "print(wine_quality.variables) \n",
    "```\n",
    "\n",
    "\n",
    "[View Full Documentation](https://github.com/uci-ml-repo/ucimlrepo)  \n",
    "License: This dataset is licensed under a [Creative Commons Attribution 4.0 International](http://creativecommons.org/licenses/by/4.0/legalcode) (CC BY 4.0) license."
   ]
  },
  {
   "cell_type": "markdown",
   "id": "db5c03ec",
   "metadata": {},
   "source": [
    "## Assignment To-Do"
   ]
  },
  {
   "cell_type": "markdown",
   "id": "c38fe37b",
   "metadata": {},
   "source": [
    "## Data Mining Process (`CRISP-DM`)"
   ]
  },
  {
   "cell_type": "markdown",
   "id": "19a4f238",
   "metadata": {},
   "source": [
    "### 1. Business Understanding"
   ]
  },
  {
   "cell_type": "markdown",
   "id": "c5857bcd",
   "metadata": {},
   "source": [
    "#### 1.1. Define the Problem"
   ]
  },
  {
   "cell_type": "markdown",
   "id": "f130a552",
   "metadata": {},
   "source": [
    "#### 1.2. Objectives"
   ]
  },
  {
   "cell_type": "markdown",
   "id": "ecda3f1b",
   "metadata": {},
   "source": [
    "#### 1.3. Identify Stakeholders"
   ]
  },
  {
   "cell_type": "markdown",
   "id": "6408856a",
   "metadata": {},
   "source": [
    "#### 1.4. Success Criteria"
   ]
  },
  {
   "cell_type": "markdown",
   "id": "6b757dd0",
   "metadata": {},
   "source": [
    "### 2. Data Understanding"
   ]
  },
  {
   "cell_type": "code",
   "execution_count": 176,
   "id": "f93623af",
   "metadata": {},
   "outputs": [],
   "source": [
    "import pandas as pd\n",
    "import matplotlib.pyplot as plt\n",
    "import seaborn as sns"
   ]
  },
  {
   "cell_type": "markdown",
   "id": "840518ef",
   "metadata": {},
   "source": [
    "#### 2.1 Data Collection"
   ]
  },
  {
   "cell_type": "code",
   "execution_count": 177,
   "id": "d95b9d69",
   "metadata": {},
   "outputs": [],
   "source": [
    "df_red = pd.read_csv('resource/winequality-red.csv', sep=';')\n",
    "df_white = pd.read_csv('resource/winequality-white.csv', sep=';')"
   ]
  },
  {
   "cell_type": "markdown",
   "id": "a31f0433",
   "metadata": {},
   "source": [
    "#### 2.2. Data Description"
   ]
  },
  {
   "cell_type": "code",
   "execution_count": 178,
   "id": "5107ee05",
   "metadata": {},
   "outputs": [
    {
     "name": "stdout",
     "output_type": "stream",
     "text": [
      "<class 'pandas.core.frame.DataFrame'>\n",
      "RangeIndex: 1599 entries, 0 to 1598\n",
      "Data columns (total 12 columns):\n",
      " #   Column                Non-Null Count  Dtype  \n",
      "---  ------                --------------  -----  \n",
      " 0   fixed acidity         1599 non-null   float64\n",
      " 1   volatile acidity      1599 non-null   float64\n",
      " 2   citric acid           1599 non-null   float64\n",
      " 3   residual sugar        1599 non-null   float64\n",
      " 4   chlorides             1599 non-null   float64\n",
      " 5   free sulfur dioxide   1599 non-null   float64\n",
      " 6   total sulfur dioxide  1599 non-null   float64\n",
      " 7   density               1599 non-null   float64\n",
      " 8   pH                    1599 non-null   float64\n",
      " 9   sulphates             1599 non-null   float64\n",
      " 10  alcohol               1599 non-null   float64\n",
      " 11  quality               1599 non-null   int64  \n",
      "dtypes: float64(11), int64(1)\n",
      "memory usage: 150.0 KB\n"
     ]
    }
   ],
   "source": [
    "info_red = df_red.info()"
   ]
  },
  {
   "cell_type": "code",
   "execution_count": 179,
   "id": "952da1db",
   "metadata": {},
   "outputs": [
    {
     "name": "stdout",
     "output_type": "stream",
     "text": [
      "       fixed acidity  volatile acidity  citric acid  residual sugar  \\\n",
      "count    1599.000000       1599.000000  1599.000000     1599.000000   \n",
      "mean        8.319637          0.527821     0.270976        2.538806   \n",
      "std         1.741096          0.179060     0.194801        1.409928   \n",
      "min         4.600000          0.120000     0.000000        0.900000   \n",
      "25%         7.100000          0.390000     0.090000        1.900000   \n",
      "50%         7.900000          0.520000     0.260000        2.200000   \n",
      "75%         9.200000          0.640000     0.420000        2.600000   \n",
      "max        15.900000          1.580000     1.000000       15.500000   \n",
      "\n",
      "         chlorides  free sulfur dioxide  total sulfur dioxide      density  \\\n",
      "count  1599.000000          1599.000000           1599.000000  1599.000000   \n",
      "mean      0.087467            15.874922             46.467792     0.996747   \n",
      "std       0.047065            10.460157             32.895324     0.001887   \n",
      "min       0.012000             1.000000              6.000000     0.990070   \n",
      "25%       0.070000             7.000000             22.000000     0.995600   \n",
      "50%       0.079000            14.000000             38.000000     0.996750   \n",
      "75%       0.090000            21.000000             62.000000     0.997835   \n",
      "max       0.611000            72.000000            289.000000     1.003690   \n",
      "\n",
      "                pH    sulphates      alcohol      quality  \n",
      "count  1599.000000  1599.000000  1599.000000  1599.000000  \n",
      "mean      3.311113     0.658149    10.422983     5.636023  \n",
      "std       0.154386     0.169507     1.065668     0.807569  \n",
      "min       2.740000     0.330000     8.400000     3.000000  \n",
      "25%       3.210000     0.550000     9.500000     5.000000  \n",
      "50%       3.310000     0.620000    10.200000     6.000000  \n",
      "75%       3.400000     0.730000    11.100000     6.000000  \n",
      "max       4.010000     2.000000    14.900000     8.000000  \n"
     ]
    }
   ],
   "source": [
    "desc_red = df_red.describe()\n",
    "print(desc_red)"
   ]
  },
  {
   "cell_type": "code",
   "execution_count": 180,
   "id": "0b980fac",
   "metadata": {},
   "outputs": [
    {
     "name": "stdout",
     "output_type": "stream",
     "text": [
      "<class 'pandas.core.frame.DataFrame'>\n",
      "RangeIndex: 4898 entries, 0 to 4897\n",
      "Data columns (total 12 columns):\n",
      " #   Column                Non-Null Count  Dtype  \n",
      "---  ------                --------------  -----  \n",
      " 0   fixed acidity         4898 non-null   float64\n",
      " 1   volatile acidity      4898 non-null   float64\n",
      " 2   citric acid           4898 non-null   float64\n",
      " 3   residual sugar        4898 non-null   float64\n",
      " 4   chlorides             4898 non-null   float64\n",
      " 5   free sulfur dioxide   4898 non-null   float64\n",
      " 6   total sulfur dioxide  4898 non-null   float64\n",
      " 7   density               4898 non-null   float64\n",
      " 8   pH                    4898 non-null   float64\n",
      " 9   sulphates             4898 non-null   float64\n",
      " 10  alcohol               4898 non-null   float64\n",
      " 11  quality               4898 non-null   int64  \n",
      "dtypes: float64(11), int64(1)\n",
      "memory usage: 459.3 KB\n"
     ]
    }
   ],
   "source": [
    "info_white = df_white.info()"
   ]
  },
  {
   "cell_type": "code",
   "execution_count": 181,
   "id": "38e8ab74",
   "metadata": {},
   "outputs": [
    {
     "name": "stdout",
     "output_type": "stream",
     "text": [
      "       fixed acidity  volatile acidity  citric acid  residual sugar  \\\n",
      "count    4898.000000       4898.000000  4898.000000     4898.000000   \n",
      "mean        6.854788          0.278241     0.334192        6.391415   \n",
      "std         0.843868          0.100795     0.121020        5.072058   \n",
      "min         3.800000          0.080000     0.000000        0.600000   \n",
      "25%         6.300000          0.210000     0.270000        1.700000   \n",
      "50%         6.800000          0.260000     0.320000        5.200000   \n",
      "75%         7.300000          0.320000     0.390000        9.900000   \n",
      "max        14.200000          1.100000     1.660000       65.800000   \n",
      "\n",
      "         chlorides  free sulfur dioxide  total sulfur dioxide      density  \\\n",
      "count  4898.000000          4898.000000           4898.000000  4898.000000   \n",
      "mean      0.045772            35.308085            138.360657     0.994027   \n",
      "std       0.021848            17.007137             42.498065     0.002991   \n",
      "min       0.009000             2.000000              9.000000     0.987110   \n",
      "25%       0.036000            23.000000            108.000000     0.991723   \n",
      "50%       0.043000            34.000000            134.000000     0.993740   \n",
      "75%       0.050000            46.000000            167.000000     0.996100   \n",
      "max       0.346000           289.000000            440.000000     1.038980   \n",
      "\n",
      "                pH    sulphates      alcohol      quality  \n",
      "count  4898.000000  4898.000000  4898.000000  4898.000000  \n",
      "mean      3.188267     0.489847    10.514267     5.877909  \n",
      "std       0.151001     0.114126     1.230621     0.885639  \n",
      "min       2.720000     0.220000     8.000000     3.000000  \n",
      "25%       3.090000     0.410000     9.500000     5.000000  \n",
      "50%       3.180000     0.470000    10.400000     6.000000  \n",
      "75%       3.280000     0.550000    11.400000     6.000000  \n",
      "max       3.820000     1.080000    14.200000     9.000000  \n"
     ]
    }
   ],
   "source": [
    "desc_white = df_white.describe()\n",
    "print(desc_white)"
   ]
  },
  {
   "cell_type": "markdown",
   "id": "e943c2e9",
   "metadata": {},
   "source": [
    "#### 2.3. Data Exploration"
   ]
  },
  {
   "cell_type": "code",
   "execution_count": 182,
   "id": "bea3f5bd",
   "metadata": {},
   "outputs": [
    {
     "data": {
      "text/plain": [
       "Text(0.5, 1.0, 'White Wine Quality Distribution')"
      ]
     },
     "execution_count": 182,
     "metadata": {},
     "output_type": "execute_result"
    },
    {
     "data": {
      "image/png": "[encoded data removed]",
      "text/plain": [
       "<Figure size 1200x400 with 2 Axes>"
      ]
     },
     "metadata": {},
     "output_type": "display_data"
    }
   ],
   "source": [
    "plt.figure(figsize=(12,4))\n",
    "plt.subplot(1,2,1)\n",
    "sns.countplot(x='quality', data=df_red)\n",
    "plt.title('Red Wine Quality Distribution')\n",
    "\n",
    "plt.subplot(1,2,2)\n",
    "sns.countplot(x='quality', data=df_white)\n",
    "plt.title('White Wine Quality Distribution')"
   ]
  },
  {
   "cell_type": "markdown",
   "id": "3269e398",
   "metadata": {},
   "source": [
    "#### 2.4. Data Quality"
   ]
  },
  {
   "cell_type": "code",
   "execution_count": 183,
   "id": "9edc2721",
   "metadata": {},
   "outputs": [
    {
     "name": "stdout",
     "output_type": "stream",
     "text": [
      "fixed acidity           0\n",
      "volatile acidity        0\n",
      "citric acid             0\n",
      "residual sugar          0\n",
      "chlorides               0\n",
      "free sulfur dioxide     0\n",
      "total sulfur dioxide    0\n",
      "density                 0\n",
      "pH                      0\n",
      "sulphates               0\n",
      "alcohol                 0\n",
      "quality                 0\n",
      "dtype: int64\n"
     ]
    }
   ],
   "source": [
    "missing_red = df_red.isnull().sum()\n",
    "print(missing_red)"
   ]
  },
  {
   "cell_type": "code",
   "execution_count": 184,
   "id": "b9040eaa",
   "metadata": {},
   "outputs": [
    {
     "name": "stdout",
     "output_type": "stream",
     "text": [
      "fixed acidity           0\n",
      "volatile acidity        0\n",
      "citric acid             0\n",
      "residual sugar          0\n",
      "chlorides               0\n",
      "free sulfur dioxide     0\n",
      "total sulfur dioxide    0\n",
      "density                 0\n",
      "pH                      0\n",
      "sulphates               0\n",
      "alcohol                 0\n",
      "quality                 0\n",
      "dtype: int64\n"
     ]
    }
   ],
   "source": [
    "missing_white = df_white.isnull().sum()\n",
    "print(missing_white)"
   ]
  },
  {
   "cell_type": "code",
   "execution_count": 185,
   "id": "35c34ef4",
   "metadata": {},
   "outputs": [
    {
     "name": "stdout",
     "output_type": "stream",
     "text": [
      "0.01999999999999999\n"
     ]
    }
   ],
   "source": [
    "Q1 = df_red['chlorides'].quantile(0.25)\n",
    "Q3 = df_red['chlorides'].quantile(0.75)\n",
    "IQR = Q3 - Q1\n",
    "print(IQR)"
   ]
  },
  {
   "cell_type": "markdown",
   "id": "fc4dd3ae",
   "metadata": {},
   "source": [
    "### 3. Data Preparation"
   ]
  },
  {
   "cell_type": "code",
   "execution_count": 186,
   "id": "114287de",
   "metadata": {},
   "outputs": [],
   "source": [
    "import pandas as pd\n",
    "import numpy as np\n",
    "from sklearn.preprocessing import StandardScaler\n",
    "from sklearn.feature_selection import SelectKBest, f_classif"
   ]
  },
  {
   "cell_type": "markdown",
   "id": "81cb6bc2",
   "metadata": {},
   "source": [
    "#### 3.1 Data Cleaning"
   ]
  },
  {
   "cell_type": "code",
   "execution_count": 187,
   "id": "171d789d",
   "metadata": {},
   "outputs": [],
   "source": [
    "def handle_outliers(df, column):\n",
    "    Q1 = df[column].quantile(0.25)\n",
    "    Q3 = df[column].quantile(0.75)\n",
    "    IQR = Q3 - Q1\n",
    "    lower_bound = Q1 - 1.5 * IQR\n",
    "    upper_bound = Q3 + 1.5 * IQR\n",
    "    df[column] = np.where(df[column] < lower_bound, lower_bound, df[column])\n",
    "    df[column] = np.where(df[column] > upper_bound, upper_bound, df[column])\n",
    "    return df\n",
    "\n",
    "outlier_cols = ['residual sugar', 'chlorides', 'free sulfur dioxide']\n",
    "for col in outlier_cols:\n",
    "    df_red = handle_outliers(df_red, col)\n",
    "    df_white = handle_outliers(df_white, col)"
   ]
  },
  {
   "cell_type": "markdown",
   "id": "4203aee9",
   "metadata": {},
   "source": [
    "#### 3.2. Data Transformation"
   ]
  },
  {
   "cell_type": "code",
   "execution_count": 188,
   "id": "1128bbb2",
   "metadata": {},
   "outputs": [],
   "source": [
    "# Binning target quality menjadi 3 kelas\n",
    "bins = [0, 4, 6, 10]\n",
    "labels = ['low', 'medium', 'high']\n",
    "\n",
    "df_red['quality_class'] = pd.cut(df_red['quality'], bins=bins, labels=labels)\n",
    "df_white['quality_class'] = pd.cut(df_white['quality'], bins=bins, labels=labels)\n",
    "\n",
    "# Feature engineering: buat fitur baru\n",
    "for df in [df_red, df_white]:\n",
    "    df['acidity_ratio'] = df['fixed acidity'] / df['volatile acidity']\n",
    "    df['sulfur_ratio'] = df['free sulfur dioxide'] / df['total sulfur dioxide']\n",
    "    df['alcohol_sugar_interaction'] = df['alcohol'] * df['residual sugar']\n",
    "\n",
    "# Normalisasi fitur numerik\n",
    "scaler = StandardScaler()\n",
    "num_features = ['fixed acidity', 'volatile acidity', 'citric acid', 'residual sugar',\n",
    "                'chlorides', 'free sulfur dioxide', 'total sulfur dioxide', 'density',\n",
    "                'pH', 'sulphates', 'alcohol', 'acidity_ratio', 'sulfur_ratio', \n",
    "                'alcohol_sugar_interaction']\n",
    "\n",
    "df_red[num_features] = scaler.fit_transform(df_red[num_features])\n",
    "df_white[num_features] = scaler.fit_transform(df_white[num_features])"
   ]
  },
  {
   "cell_type": "markdown",
   "id": "40fadf7a",
   "metadata": {},
   "source": [
    "#### 3.3. Data Integration"
   ]
  },
  {
   "cell_type": "code",
   "execution_count": 189,
   "id": "ba3d7f4f",
   "metadata": {},
   "outputs": [],
   "source": [
    "df_red_int = df_red.copy()\n",
    "df_white_int = df_white.copy()\n",
    "\n",
    "df_red_int['wine_type'] = 'red'\n",
    "df_white_int['wine_type'] = 'white'\n",
    "\n",
    "# Gabungkan dataset\n",
    "df_combined = pd.concat([df_red_int, df_white_int])\n",
    "\n",
    "# Encoding variabel kategori\n",
    "df_combined = pd.get_dummies(df_combined, columns=['wine_type'])"
   ]
  },
  {
   "cell_type": "markdown",
   "id": "a9f99801",
   "metadata": {},
   "source": [
    "#### 3.4. Data Reduction"
   ]
  },
  {
   "cell_type": "code",
   "execution_count": 190,
   "id": "57996ec2",
   "metadata": {},
   "outputs": [],
   "source": [
    "# Untuk red wine\n",
    "X_red = df_red.select_dtypes(include=[np.number])\n",
    "y_red = df_red['quality_class']\n",
    "\n",
    "# Untuk white wine\n",
    "X_white = df_white.select_dtypes(include=[np.number])\n",
    "y_white = df_white['quality_class']\n",
    "\n",
    "# Seleksi fitur untuk red wine\n",
    "selector_red = SelectKBest(score_func=f_classif, k=10)\n",
    "X_red_selected = selector_red.fit_transform(X_red, y_red)\n",
    "\n",
    "# Dapatkan nama fitur terpilih\n",
    "selected_features_red = X_red.columns[selector_red.get_support()]\n",
    "df_red_final = pd.DataFrame(X_red_selected, columns=selected_features_red)\n",
    "df_red_final['quality_class'] = y_red.values\n",
    "\n",
    "# Seleksi fitur untuk white wine\n",
    "selector_white = SelectKBest(score_func=f_classif, k=10)\n",
    "X_white_selected = selector_white.fit_transform(X_white, y_white)\n",
    "\n",
    "# Dapatkan nama fitur terpilih\n",
    "selected_features_white = X_white.columns[selector_white.get_support()]\n",
    "df_white_final = pd.DataFrame(X_white_selected, columns=selected_features_white)\n",
    "df_white_final['quality_class'] = y_white.values"
   ]
  },
  {
   "cell_type": "code",
   "execution_count": 191,
   "id": "63653263",
   "metadata": {},
   "outputs": [
    {
     "name": "stdout",
     "output_type": "stream",
     "text": [
      "Red Wine Final Shape: (1599, 11)\n",
      "White Wine Final Shape: (4898, 11)\n",
      "\n",
      "Red Wine Features: ['volatile acidity', 'citric acid', 'chlorides', 'total sulfur dioxide', 'density', 'sulphates', 'alcohol', 'quality', 'acidity_ratio', 'alcohol_sugar_interaction']\n",
      "White Wine Features: ['volatile acidity', 'residual sugar', 'chlorides', 'free sulfur dioxide', 'total sulfur dioxide', 'density', 'alcohol', 'quality', 'sulfur_ratio', 'alcohol_sugar_interaction']\n"
     ]
    }
   ],
   "source": [
    "print(\"Red Wine Final Shape:\", df_red_final.shape)\n",
    "print(\"White Wine Final Shape:\", df_white_final.shape)\n",
    "print(\"\\nRed Wine Features:\", selected_features_red.tolist())\n",
    "print(\"White Wine Features:\", selected_features_white.tolist())"
   ]
  },
  {
   "cell_type": "markdown",
   "id": "3e5134ac",
   "metadata": {},
   "source": [
    "### 4. Modeling"
   ]
  },
  {
   "cell_type": "code",
   "execution_count": 192,
   "id": "abf31c38",
   "metadata": {},
   "outputs": [],
   "source": [
    "import numpy as np\n",
    "import pandas as pd\n",
    "from sklearn.model_selection import train_test_split, GridSearchCV\n",
    "from sklearn.tree import DecisionTreeClassifier\n",
    "from sklearn.naive_bayes import GaussianNB\n",
    "from sklearn.neural_network import MLPClassifier\n",
    "from sklearn.metrics import f1_score, classification_report, confusion_matrix\n",
    "from sklearn.preprocessing import LabelEncoder\n",
    "from sklearn.pipeline import make_pipeline\n",
    "from sklearn.compose import ColumnTransformer"
   ]
  },
  {
   "cell_type": "markdown",
   "id": "2149fafd",
   "metadata": {},
   "source": [
    "#### 4.1. Modeling Techniques"
   ]
  },
  {
   "cell_type": "markdown",
   "id": "15004d94",
   "metadata": {},
   "source": [
    "1. Decision Tree: Model interpretable dengan kemampuan handle non-linear relationship\n",
    "2. Naive Bayes: Model probabilistik sederhana dengan asumsi independensi fitur\n",
    "3. ANN (MLPClassifier): Jaringan saraf tiruan untuk pattern recognition kompleks"
   ]
  },
  {
   "cell_type": "markdown",
   "id": "5dde08e5",
   "metadata": {},
   "source": [
    "#### 4.2. Build Models"
   ]
  },
  {
   "cell_type": "code",
   "execution_count": 193,
   "id": "47198ad6",
   "metadata": {},
   "outputs": [
    {
     "name": "stdout",
     "output_type": "stream",
     "text": [
      "\n",
      "Training models for Red Wine...\n",
      "Training Decision Tree...\n",
      "Training Naive Bayes...\n",
      "Training ANN...\n",
      "\n",
      "Training models for White Wine...\n",
      "Training Decision Tree...\n",
      "Training Naive Bayes...\n",
      "Training ANN...\n"
     ]
    }
   ],
   "source": [
    "# Fungsi untuk memproses dataset dengan lebih aman\n",
    "def prepare_data(df):\n",
    "    # Pisahkan fitur dan target\n",
    "    X = df.drop('quality_class', axis=1)\n",
    "    y = df['quality_class']\n",
    "    \n",
    "    # Encode target labels\n",
    "    le = LabelEncoder()\n",
    "    y_encoded = le.fit_transform(y)\n",
    "    \n",
    "    # Simpan nama fitur\n",
    "    feature_names = list(X.columns)\n",
    "    \n",
    "    # Konversi ke array numpy\n",
    "    X = X.values\n",
    "    \n",
    "    # Split data (80% train, 20% test)\n",
    "    X_train, X_test, y_train, y_test = train_test_split(\n",
    "        X, y_encoded, test_size=0.2, random_state=42, stratify=y_encoded\n",
    "    )\n",
    "    return X_train, X_test, y_train, y_test, le, feature_names\n",
    "\n",
    "# Siapkan data red wine\n",
    "X_red_train, X_red_test, y_red_train, y_red_test, le_red, red_features = prepare_data(df_red_final)\n",
    "\n",
    "# Siapkan data white wine\n",
    "X_white_train, X_white_test, y_white_train, y_white_test, le_white, white_features = prepare_data(df_white_final)\n",
    "\n",
    "# Inisialisasi model dasar\n",
    "models = {\n",
    "    'Decision Tree': DecisionTreeClassifier(random_state=42),\n",
    "    'Naive Bayes': GaussianNB(),\n",
    "    'ANN': MLPClassifier(max_iter=1000, random_state=42, early_stopping=True)\n",
    "}\n",
    "\n",
    "# Fungsi untuk melatih model\n",
    "def train_models(X_train, y_train):\n",
    "    trained_models = {}\n",
    "    for name, model in models.items():\n",
    "        print(f\"Training {name}...\")\n",
    "        model.fit(X_train, y_train)\n",
    "        trained_models[name] = model\n",
    "    return trained_models\n",
    "\n",
    "# Latih model untuk red wine\n",
    "print(\"\\nTraining models for Red Wine...\")\n",
    "red_models = train_models(X_red_train, y_red_train)\n",
    "\n",
    "# Latih model untuk white wine\n",
    "print(\"\\nTraining models for White Wine...\")\n",
    "white_models = train_models(X_white_train, y_white_train)"
   ]
  },
  {
   "cell_type": "markdown",
   "id": "3d3432a5",
   "metadata": {},
   "source": [
    "#### 4.3. Tune Models"
   ]
  },
  {
   "cell_type": "code",
   "execution_count": 194,
   "id": "3427289b",
   "metadata": {},
   "outputs": [
    {
     "name": "stdout",
     "output_type": "stream",
     "text": [
      "\n",
      "Tuning models for Red Wine...\n",
      "Fitting 3 folds for each of 30 candidates, totalling 90 fits\n",
      "Best params: {'criterion': 'gini', 'max_depth': 3, 'min_samples_split': 2}\n",
      "\n",
      "Tuning ANN for Red Wine (ini mungkin memerlukan waktu)...\n",
      "Fitting 3 folds for each of 36 candidates, totalling 108 fits\n",
      "Best params: {'activation': 'tanh', 'alpha': 0.01, 'hidden_layer_sizes': (50, 50), 'learning_rate_init': 0.01}\n",
      "\n",
      "Tuning models for White Wine...\n",
      "Fitting 3 folds for each of 30 candidates, totalling 90 fits\n",
      "Best params: {'criterion': 'gini', 'max_depth': 3, 'min_samples_split': 2}\n",
      "\n",
      "Tuning ANN for White Wine (ini mungkin memerlukan waktu)...\n",
      "Fitting 3 folds for each of 36 candidates, totalling 108 fits\n",
      "Best params: {'activation': 'tanh', 'alpha': 0.0001, 'hidden_layer_sizes': (50, 50), 'learning_rate_init': 0.01}\n"
     ]
    }
   ],
   "source": [
    "# Hyperparameter tuning untuk Decision Tree\n",
    "dt_params = {\n",
    "    'max_depth': [3, 5, 7, 10, None],\n",
    "    'min_samples_split': [2, 5, 10],\n",
    "    'criterion': ['gini', 'entropy']\n",
    "}\n",
    "\n",
    "# Hyperparameter tuning untuk ANN\n",
    "ann_params = {\n",
    "    'hidden_layer_sizes': [(50,), (100,), (50, 50)],\n",
    "    'activation': ['relu', 'tanh'],\n",
    "    'alpha': [0.0001, 0.001, 0.01],\n",
    "    'learning_rate_init': [0.001, 0.01]\n",
    "}\n",
    "\n",
    "# Fungsi untuk tuning model\n",
    "def tune_model(model, params, X_train, y_train):\n",
    "    grid = GridSearchCV(\n",
    "        estimator=model,\n",
    "        param_grid=params,\n",
    "        scoring='f1_weighted',\n",
    "        cv=3,  # Mengurangi cv untuk mempercepat\n",
    "        n_jobs=-1,\n",
    "        verbose=1\n",
    "    )\n",
    "    grid.fit(X_train, y_train)\n",
    "    print(f\"Best params: {grid.best_params_}\")\n",
    "    return grid.best_estimator_\n",
    "\n",
    "# Tuning hanya untuk model yang memerlukan\n",
    "print(\"\\nTuning models for Red Wine...\")\n",
    "red_models['Decision Tree'] = tune_model(\n",
    "    DecisionTreeClassifier(random_state=42),\n",
    "    dt_params,\n",
    "    X_red_train,\n",
    "    y_red_train\n",
    ")\n",
    "\n",
    "# ANN untuk red wine - menggunakan early stopping\n",
    "print(\"\\nTuning ANN for Red Wine (ini mungkin memerlukan waktu)...\")\n",
    "red_models['ANN'] = tune_model(\n",
    "    MLPClassifier(max_iter=1000, random_state=42, early_stopping=True),\n",
    "    ann_params,\n",
    "    X_red_train,\n",
    "    y_red_train\n",
    ")\n",
    "\n",
    "print(\"\\nTuning models for White Wine...\")\n",
    "white_models['Decision Tree'] = tune_model(\n",
    "    DecisionTreeClassifier(random_state=42),\n",
    "    dt_params,\n",
    "    X_white_train,\n",
    "    y_white_train\n",
    ")\n",
    "\n",
    "# ANN untuk white wine - menggunakan early stopping\n",
    "print(\"\\nTuning ANN for White Wine (ini mungkin memerlukan waktu)...\")\n",
    "white_models['ANN'] = tune_model(\n",
    "    MLPClassifier(max_iter=1000, random_state=42, early_stopping=True),\n",
    "    ann_params,\n",
    "    X_white_train,\n",
    "    y_white_train\n",
    ")"
   ]
  },
  {
   "cell_type": "markdown",
   "id": "bf6814f8",
   "metadata": {},
   "source": [
    "#### 4.4. Validate Models"
   ]
  },
  {
   "cell_type": "code",
   "execution_count": 195,
   "id": "a3b2d325",
   "metadata": {},
   "outputs": [
    {
     "name": "stdout",
     "output_type": "stream",
     "text": [
      "\n",
      "Evaluating Red Wine Models...\n",
      "\n",
      "Evaluating Decision Tree for Red Wine\n",
      "\n",
      "==================================================\n",
      "DecisionTreeClassifier Performance\n",
      "F1-score (weighted): 1.0000\n",
      "\n",
      "Classification Report:\n",
      "              precision    recall  f1-score   support\n",
      "\n",
      "        high       1.00      1.00      1.00        43\n",
      "         low       1.00      1.00      1.00        13\n",
      "      medium       1.00      1.00      1.00       264\n",
      "\n",
      "    accuracy                           1.00       320\n",
      "   macro avg       1.00      1.00      1.00       320\n",
      "weighted avg       1.00      1.00      1.00       320\n",
      "\n",
      "\n",
      "Confusion Matrix:\n",
      "[[ 43   0   0]\n",
      " [  0  13   0]\n",
      " [  0   0 264]]\n",
      "\n",
      "Evaluating Naive Bayes for Red Wine\n",
      "\n",
      "==================================================\n",
      "GaussianNB Performance\n",
      "F1-score (weighted): 0.9842\n",
      "\n",
      "Classification Report:\n",
      "              precision    recall  f1-score   support\n",
      "\n",
      "        high       1.00      0.93      0.96        43\n",
      "         low       0.92      0.92      0.92        13\n",
      "      medium       0.99      1.00      0.99       264\n",
      "\n",
      "    accuracy                           0.98       320\n",
      "   macro avg       0.97      0.95      0.96       320\n",
      "weighted avg       0.98      0.98      0.98       320\n",
      "\n",
      "\n",
      "Confusion Matrix:\n",
      "[[ 40   0   3]\n",
      " [  0  12   1]\n",
      " [  0   1 263]]\n",
      "\n",
      "Evaluating ANN for Red Wine\n",
      "\n",
      "==================================================\n",
      "MLPClassifier Performance\n",
      "F1-score (weighted): 0.9900\n",
      "\n",
      "Classification Report:\n",
      "              precision    recall  f1-score   support\n",
      "\n",
      "        high       1.00      1.00      1.00        43\n",
      "         low       1.00      0.77      0.87        13\n",
      "      medium       0.99      1.00      0.99       264\n",
      "\n",
      "    accuracy                           0.99       320\n",
      "   macro avg       1.00      0.92      0.95       320\n",
      "weighted avg       0.99      0.99      0.99       320\n",
      "\n",
      "\n",
      "Confusion Matrix:\n",
      "[[ 43   0   0]\n",
      " [  0  10   3]\n",
      " [  0   0 264]]\n",
      "\n",
      "Evaluating White Wine Models...\n",
      "\n",
      "Evaluating Decision Tree for White Wine\n",
      "\n",
      "==================================================\n",
      "DecisionTreeClassifier Performance\n",
      "F1-score (weighted): 1.0000\n",
      "\n",
      "Classification Report:\n",
      "              precision    recall  f1-score   support\n",
      "\n",
      "        high       1.00      1.00      1.00       212\n",
      "         low       1.00      1.00      1.00        37\n",
      "      medium       1.00      1.00      1.00       731\n",
      "\n",
      "    accuracy                           1.00       980\n",
      "   macro avg       1.00      1.00      1.00       980\n",
      "weighted avg       1.00      1.00      1.00       980\n",
      "\n",
      "\n",
      "Confusion Matrix:\n",
      "[[212   0   0]\n",
      " [  0  37   0]\n",
      " [  0   0 731]]\n",
      "\n",
      "Evaluating Naive Bayes for White Wine\n",
      "\n",
      "==================================================\n",
      "GaussianNB Performance\n",
      "F1-score (weighted): 0.9689\n",
      "\n",
      "Classification Report:\n",
      "              precision    recall  f1-score   support\n",
      "\n",
      "        high       0.99      0.89      0.94       212\n",
      "         low       0.95      0.95      0.95        37\n",
      "      medium       0.97      0.99      0.98       731\n",
      "\n",
      "    accuracy                           0.97       980\n",
      "   macro avg       0.97      0.94      0.95       980\n",
      "weighted avg       0.97      0.97      0.97       980\n",
      "\n",
      "\n",
      "Confusion Matrix:\n",
      "[[188   0  24]\n",
      " [  0  35   2]\n",
      " [  2   2 727]]\n",
      "\n",
      "Evaluating ANN for White Wine\n",
      "\n",
      "==================================================\n",
      "MLPClassifier Performance\n",
      "F1-score (weighted): 0.9939\n",
      "\n",
      "Classification Report:\n",
      "              precision    recall  f1-score   support\n",
      "\n",
      "        high       1.00      0.98      0.99       212\n",
      "         low       1.00      0.97      0.99        37\n",
      "      medium       0.99      1.00      1.00       731\n",
      "\n",
      "    accuracy                           0.99       980\n",
      "   macro avg       1.00      0.98      0.99       980\n",
      "weighted avg       0.99      0.99      0.99       980\n",
      "\n",
      "\n",
      "Confusion Matrix:\n",
      "[[207   0   5]\n",
      " [  0  36   1]\n",
      " [  0   0 731]]\n"
     ]
    }
   ],
   "source": [
    "def evaluate_model(model, X_test, y_test, le):\n",
    "    # Prediksi\n",
    "    y_pred = model.predict(X_test)\n",
    "    \n",
    "    # Decode labels\n",
    "    y_test_decoded = le.inverse_transform(y_test)\n",
    "    y_pred_decoded = le.inverse_transform(y_pred)\n",
    "    \n",
    "    # Hitung metrik\n",
    "    f1 = f1_score(y_test_decoded, y_pred_decoded, average='weighted')\n",
    "    report = classification_report(y_test_decoded, y_pred_decoded)\n",
    "    cm = confusion_matrix(y_test_decoded, y_pred_decoded)\n",
    "    \n",
    "    print(f\"\\n{'='*50}\")\n",
    "    print(f\"{type(model).__name__} Performance\")\n",
    "    print(f\"F1-score (weighted): {f1:.4f}\")\n",
    "    print(\"\\nClassification Report:\")\n",
    "    print(report)\n",
    "    print(\"\\nConfusion Matrix:\")\n",
    "    print(cm)\n",
    "    \n",
    "    return f1\n",
    "\n",
    "# Evaluasi model untuk red wine\n",
    "print(\"\\nEvaluating Red Wine Models...\")\n",
    "red_results = {}\n",
    "for name, model in red_models.items():\n",
    "    print(f\"\\nEvaluating {name} for Red Wine\")\n",
    "    f1 = evaluate_model(model, X_red_test, y_red_test, le_red)\n",
    "    red_results[name] = f1\n",
    "\n",
    "# Evaluasi model untuk white wine\n",
    "print(\"\\nEvaluating White Wine Models...\")\n",
    "white_results = {}\n",
    "for name, model in white_models.items():\n",
    "    print(f\"\\nEvaluating {name} for White Wine\")\n",
    "    f1 = evaluate_model(model, X_white_test, y_white_test, le_white)\n",
    "    white_results[name] = f1"
   ]
  },
  {
   "cell_type": "code",
   "execution_count": 196,
   "id": "8fddc9fa",
   "metadata": {},
   "outputs": [
    {
     "name": "stdout",
     "output_type": "stream",
     "text": [
      "\n",
      "\n",
      "==================================================\n",
      "Final Model Performance Summary\n",
      "==================================================\n",
      "\n",
      "Red Wine Performance:\n",
      "- Decision Tree: F1-score = 1.0000\n",
      "- Naive Bayes: F1-score = 0.9842\n",
      "- ANN: F1-score = 0.9900\n",
      "\n",
      "White Wine Performance:\n",
      "- Decision Tree: F1-score = 1.0000\n",
      "- Naive Bayes: F1-score = 0.9689\n",
      "- ANN: F1-score = 0.9939\n",
      "\n",
      "Saved best model for Red Wine: Decision Tree\n",
      "Saved best model for White Wine: Decision Tree\n"
     ]
    }
   ],
   "source": [
    "print(\"\\n\\n\" + \"=\"*50)\n",
    "print(\"Final Model Performance Summary\")\n",
    "print(\"=\"*50)\n",
    "\n",
    "print(\"\\nRed Wine Performance:\")\n",
    "for model, score in red_results.items():\n",
    "    print(f\"- {model}: F1-score = {score:.4f}\")\n",
    "\n",
    "print(\"\\nWhite Wine Performance:\")\n",
    "for model, score in white_results.items():\n",
    "    print(f\"- {model}: F1-score = {score:.4f}\")\n",
    "\n",
    "# Simpan model terbaik untuk deployment\n",
    "import joblib\n",
    "\n",
    "# Untuk red wine\n",
    "best_red_model = max(red_models, key=red_results.get)\n",
    "joblib.dump((red_models[best_red_model], le_red, red_features), 'best_red_wine_model.pkl')\n",
    "\n",
    "# Untuk white wine\n",
    "best_white_model = max(white_models, key=white_results.get)\n",
    "joblib.dump((white_models[best_white_model], le_white, white_features), 'best_white_wine_model.pkl')\n",
    "\n",
    "print(f\"\\nSaved best model for Red Wine: {best_red_model}\")\n",
    "print(f\"Saved best model for White Wine: {best_white_model}\")"
   ]
  },
  {
   "cell_type": "markdown",
   "id": "1d5b9c40",
   "metadata": {},
   "source": [
    "### 5. Evaluation"
   ]
  },
  {
   "cell_type": "markdown",
   "id": "25f751e8",
   "metadata": {},
   "source": [
    "#### 5.1. Evaluate Results"
   ]
  },
  {
   "cell_type": "markdown",
   "id": "f3e9d4f4",
   "metadata": {},
   "source": [
    "##### 5.1.1. ROC"
   ]
  },
  {
   "cell_type": "markdown",
   "id": "a1f8de41",
   "metadata": {},
   "source": [
    "##### 5.1.2. AUC "
   ]
  },
  {
   "cell_type": "markdown",
   "id": "d1dbfd03",
   "metadata": {},
   "source": [
    "#### 5.2. Review Business Objectives"
   ]
  },
  {
   "cell_type": "markdown",
   "id": "43cc2f72",
   "metadata": {},
   "source": [
    "#### 5.3. Model Limitations"
   ]
  },
  {
   "cell_type": "markdown",
   "id": "65c3e78b",
   "metadata": {},
   "source": [
    "#### 5.4. Next Steps"
   ]
  },
  {
   "cell_type": "markdown",
   "id": "32088616",
   "metadata": {},
   "source": [
    "### 6. Deployment"
   ]
  },
  {
   "cell_type": "markdown",
   "id": "560bce35",
   "metadata": {},
   "source": [
    "We're working on it ;)"
   ]
  }
 ],
 "metadata": {
  "kernelspec": {
   "display_name": ".venv",
   "language": "python",
   "name": "python3"
  },
  "language_info": {
   "codemirror_mode": {
    "name": "ipython",
    "version": 3
   },
   "file_extension": ".py",
   "mimetype": "text/x-python",
   "name": "python",
   "nbconvert_exporter": "python",
   "pygments_lexer": "ipython3",
   "version": "3.12.6"
  }
 },
 "nbformat": 4,
 "nbformat_minor": 5
}
