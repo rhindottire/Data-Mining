{
 "cells": [
  {
   "cell_type": "markdown",
   "id": "07a22edb",
   "metadata": {},
   "source": [
    "# Fuzzy C-Means"
   ]
  },
  {
   "cell_type": "markdown",
   "id": "15c5de00",
   "metadata": {},
   "source": [
    "## Konsep dari Fuzzy C-Means"
   ]
  }
 ],
 "metadata": {
  "language_info": {
   "name": "python"
  }
 },
 "nbformat": 4,
 "nbformat_minor": 5
}
